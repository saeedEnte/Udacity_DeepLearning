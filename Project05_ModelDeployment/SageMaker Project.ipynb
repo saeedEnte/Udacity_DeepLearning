{
 "cells": [
  {
   "cell_type": "markdown",
   "metadata": {},
   "source": [
    "# Creating a Sentiment Analysis Web App\n",
    "## Using PyTorch and SageMaker\n",
    "\n",
    "_Deep Learning Nanodegree Program | Deployment_\n",
    "\n",
    "---\n",
    "\n",
    "Now that we have a basic understanding of how SageMaker works we will try to use it to construct a complete project from end to end. Our goal will be to have a simple web page which a user can use to enter a movie review. The web page will then send the review off to our deployed model which will predict the sentiment of the entered review.\n",
    "\n",
    "## Instructions\n",
    "\n",
    "Some template code has already been provided for you, and you will need to implement additional functionality to successfully complete this notebook. You will not need to modify the included code beyond what is requested. Sections that begin with '**TODO**' in the header indicate that you need to complete or implement some portion within them. Instructions will be provided for each section and the specifics of the implementation are marked in the code block with a `# TODO: ...` comment. Please be sure to read the instructions carefully!\n",
    "\n",
    "In addition to implementing code, there will be questions for you to answer which relate to the task and your implementation. Each section where you will answer a question is preceded by a '**Question:**' header. Carefully read each question and provide your answer below the '**Answer:**' header by editing the Markdown cell.\n",
    "\n",
    "> **Note**: Code and Markdown cells can be executed using the **Shift+Enter** keyboard shortcut. In addition, a cell can be edited by typically clicking it (double-click for Markdown cells) or by pressing **Enter** while it is highlighted.\n",
    "\n",
    "## General Outline\n",
    "\n",
    "Recall the general outline for SageMaker projects using a notebook instance.\n",
    "\n",
    "1. Download or otherwise retrieve the data.\n",
    "2. Process / Prepare the data.\n",
    "3. Upload the processed data to S3.\n",
    "4. Train a chosen model.\n",
    "5. Test the trained model (typically using a batch transform job).\n",
    "6. Deploy the trained model.\n",
    "7. Use the deployed model.\n",
    "\n",
    "For this project, you will be following the steps in the general outline with some modifications. \n",
    "\n",
    "First, you will not be testing the model in its own step. You will still be testing the model, however, you will do it by deploying your model and then using the deployed model by sending the test data to it. One of the reasons for doing this is so that you can make sure that your deployed model is working correctly before moving forward.\n",
    "\n",
    "In addition, you will deploy and use your trained model a second time. In the second iteration you will customize the way that your trained model is deployed by including some of your own code. In addition, your newly deployed model will be used in the sentiment analysis web app."
   ]
  },
  {
   "cell_type": "markdown",
   "metadata": {},
   "source": [
    "## Step 1: Downloading the data\n",
    "\n",
    "As in the XGBoost in SageMaker notebook, we will be using the [IMDb dataset](http://ai.stanford.edu/~amaas/data/sentiment/)\n",
    "\n",
    "> Maas, Andrew L., et al. [Learning Word Vectors for Sentiment Analysis](http://ai.stanford.edu/~amaas/data/sentiment/). In _Proceedings of the 49th Annual Meeting of the Association for Computational Linguistics: Human Language Technologies_. Association for Computational Linguistics, 2011."
   ]
  },
  {
   "cell_type": "code",
   "execution_count": 1,
   "metadata": {},
   "outputs": [
    {
     "name": "stdout",
     "output_type": "stream",
     "text": [
      "--2019-05-04 10:44:06--  http://ai.stanford.edu/~amaas/data/sentiment/aclImdb_v1.tar.gz\n",
      "Resolving ai.stanford.edu (ai.stanford.edu)... 171.64.68.10\n",
      "Connecting to ai.stanford.edu (ai.stanford.edu)|171.64.68.10|:80... connected.\n",
      "HTTP request sent, awaiting response... 200 OK\n",
      "Length: 84125825 (80M) [application/x-gzip]\n",
      "Saving to: ‘../data/aclImdb_v1.tar.gz’\n",
      "\n",
      "../data/aclImdb_v1. 100%[===================>]  80.23M  10.3MB/s    in 9.7s    \n",
      "\n",
      "2019-05-04 10:44:17 (8.28 MB/s) - ‘../data/aclImdb_v1.tar.gz’ saved [84125825/84125825]\n",
      "\n"
     ]
    }
   ],
   "source": [
    "%mkdir ../data\n",
    "!wget -O ../data/aclImdb_v1.tar.gz http://ai.stanford.edu/~amaas/data/sentiment/aclImdb_v1.tar.gz\n",
    "!tar -zxf ../data/aclImdb_v1.tar.gz -C ../data"
   ]
  },
  {
   "cell_type": "markdown",
   "metadata": {},
   "source": [
    "## Step 2: Preparing and Processing the data\n",
    "\n",
    "Also, as in the XGBoost notebook, we will be doing some initial data processing. The first few steps are the same as in the XGBoost example. To begin with, we will read in each of the reviews and combine them into a single input structure. Then, we will split the dataset into a training set and a testing set."
   ]
  },
  {
   "cell_type": "code",
   "execution_count": 2,
   "metadata": {},
   "outputs": [],
   "source": [
    "import os\n",
    "import glob\n",
    "\n",
    "def read_imdb_data(data_dir='../data/aclImdb'):\n",
    "    data = {}\n",
    "    labels = {}\n",
    "    \n",
    "    for data_type in ['train', 'test']:\n",
    "        data[data_type] = {}\n",
    "        labels[data_type] = {}\n",
    "        \n",
    "        for sentiment in ['pos', 'neg']:\n",
    "            data[data_type][sentiment] = []\n",
    "            labels[data_type][sentiment] = []\n",
    "            \n",
    "            path = os.path.join(data_dir, data_type, sentiment, '*.txt')\n",
    "            files = glob.glob(path)\n",
    "            \n",
    "            for f in files:\n",
    "                with open(f) as review:\n",
    "                    data[data_type][sentiment].append(review.read())\n",
    "                    # Here we represent a positive review by '1' and a negative review by '0'\n",
    "                    labels[data_type][sentiment].append(1 if sentiment == 'pos' else 0)\n",
    "                    \n",
    "            assert len(data[data_type][sentiment]) == len(labels[data_type][sentiment]), \\\n",
    "                    \"{}/{} data size does not match labels size\".format(data_type, sentiment)\n",
    "                \n",
    "    return data, labels"
   ]
  },
  {
   "cell_type": "code",
   "execution_count": 3,
   "metadata": {},
   "outputs": [
    {
     "name": "stdout",
     "output_type": "stream",
     "text": [
      "IMDB reviews: train = 12500 pos / 12500 neg, test = 12500 pos / 12500 neg\n"
     ]
    }
   ],
   "source": [
    "data, labels = read_imdb_data()\n",
    "print(\"IMDB reviews: train = {} pos / {} neg, test = {} pos / {} neg\".format(\n",
    "            len(data['train']['pos']), len(data['train']['neg']),\n",
    "            len(data['test']['pos']), len(data['test']['neg'])))"
   ]
  },
  {
   "cell_type": "markdown",
   "metadata": {},
   "source": [
    "Now that we've read the raw training and testing data from the downloaded dataset, we will combine the positive and negative reviews and shuffle the resulting records."
   ]
  },
  {
   "cell_type": "code",
   "execution_count": 4,
   "metadata": {},
   "outputs": [],
   "source": [
    "from sklearn.utils import shuffle\n",
    "\n",
    "def prepare_imdb_data(data, labels):\n",
    "    \"\"\"Prepare training and test sets from IMDb movie reviews.\"\"\"\n",
    "    \n",
    "    #Combine positive and negative reviews and labels\n",
    "    data_train = data['train']['pos'] + data['train']['neg']\n",
    "    data_test = data['test']['pos'] + data['test']['neg']\n",
    "    labels_train = labels['train']['pos'] + labels['train']['neg']\n",
    "    labels_test = labels['test']['pos'] + labels['test']['neg']\n",
    "    \n",
    "    #Shuffle reviews and corresponding labels within training and test sets\n",
    "    data_train, labels_train = shuffle(data_train, labels_train)\n",
    "    data_test, labels_test = shuffle(data_test, labels_test)\n",
    "    \n",
    "    # Return a unified training data, test data, training labels, test labets\n",
    "    return data_train, data_test, labels_train, labels_test"
   ]
  },
  {
   "cell_type": "code",
   "execution_count": 5,
   "metadata": {},
   "outputs": [
    {
     "name": "stdout",
     "output_type": "stream",
     "text": [
      "IMDb reviews (combined): train = 25000, test = 25000\n"
     ]
    }
   ],
   "source": [
    "train_X, test_X, train_y, test_y = prepare_imdb_data(data, labels)\n",
    "print(\"IMDb reviews (combined): train = {}, test = {}\".format(len(train_X), len(test_X)))"
   ]
  },
  {
   "cell_type": "markdown",
   "metadata": {},
   "source": [
    "Now that we have our training and testing sets unified and prepared, we should do a quick check and see an example of the data our model will be trained on. This is generally a good idea as it allows you to see how each of the further processing steps affects the reviews and it also ensures that the data has been loaded correctly."
   ]
  },
  {
   "cell_type": "code",
   "execution_count": 6,
   "metadata": {},
   "outputs": [
    {
     "name": "stdout",
     "output_type": "stream",
     "text": [
      "This movie is one of the worst comedy movies i have ever seen. I hate these Napoleon Dynamite rip-offs. Just face it people the dumb humor has been mastered already. Make something new for once. All these new comedies are just horrible. And coming out of SNL Andy Samberg is not ready for a lead role yet. I hope he can bounce back from this awful movie. And Will Arnetts character is just plain bad. Hey Will, did you read the script. The plot is truly the worst ever written. Now you tell me if this is weird. (this is the movie) Rod Kimble's step dad Frank is dying and the family needs $50,000 to pay for the heart surgery so Rod is planning this huge jump to raise money for Frank. Only so that Rod can beat Frank in a fight and prove his manliness. Yes thats the movie, you tell me, would u spend $7.00 to see that piece of crap!<br /><br />3/10 just horrible<br /><br />-adam\n",
      "0\n"
     ]
    }
   ],
   "source": [
    "print(train_X[100])\n",
    "print(train_y[100])"
   ]
  },
  {
   "cell_type": "markdown",
   "metadata": {},
   "source": [
    "The first step in processing the reviews is to make sure that any html tags that appear should be removed. In addition we wish to tokenize our input, that way words such as *entertained* and *entertaining* are considered the same with regard to sentiment analysis."
   ]
  },
  {
   "cell_type": "code",
   "execution_count": 7,
   "metadata": {},
   "outputs": [],
   "source": [
    "import nltk\n",
    "from nltk.corpus import stopwords\n",
    "from nltk.stem.porter import *\n",
    "\n",
    "import re\n",
    "from bs4 import BeautifulSoup\n",
    "\n",
    "def review_to_words(review):\n",
    "    nltk.download(\"stopwords\", quiet=True)\n",
    "    stemmer = PorterStemmer()\n",
    "    \n",
    "    text = BeautifulSoup(review, \"html.parser\").get_text() # Remove HTML tags\n",
    "    text = re.sub(r\"[^a-zA-Z0-9]\", \" \", text.lower()) # Convert to lower case\n",
    "    words = text.split() # Split string into words\n",
    "    words = [w for w in words if w not in stopwords.words(\"english\")] # Remove stopwords\n",
    "    words = [PorterStemmer().stem(w) for w in words] # stem\n",
    "    \n",
    "    return words"
   ]
  },
  {
   "cell_type": "markdown",
   "metadata": {},
   "source": [
    "The `review_to_words` method defined above uses `BeautifulSoup` to remove any html tags that appear and uses the `nltk` package to tokenize the reviews. As a check to ensure we know how everything is working, try applying `review_to_words` to one of the reviews in the training set."
   ]
  },
  {
   "cell_type": "code",
   "execution_count": 8,
   "metadata": {},
   "outputs": [
    {
     "name": "stdout",
     "output_type": "stream",
     "text": [
      "['watch', 'first', 'seri', 'avidli', 'wonder', 'whether', 'go', 'back', 'lengthi', 'break', 'howev', 'tune', 'episod', 'one', 'seri', '2', 'hook', 'realli', 'excel', 'telli', 'ground', 'break', 'stuff', 'like', 'mission', 'imposs', 'back', '1960', 'charact', 'well', 'round', 'expand', 'seri', 'goe', 'chang', 'adapt', 'readili', 'other', 'new', 'surround', 'cleverli', 'remain', 'strictli', 'charact', 'yet', 'possibl', 'sympathi', 'someon', 'thought', 'could', 'ever', 'feel', 'sorri', 'someth', 'realli', 'crush', 'happen', 'hope', 'mani', 'year', 'lost', 'look', 'forward', 'actual', 'mind', 'much', 'never', 'get', 'answer', 'mysteri']\n"
     ]
    }
   ],
   "source": [
    "# TODO: Apply review_to_words to a review (train_X[100] or any other review)\n",
    "word_train = review_to_words(train_X[50])\n",
    "print(word_train)"
   ]
  },
  {
   "cell_type": "markdown",
   "metadata": {},
   "source": [
    "**Question:** Above we mentioned that `review_to_words` method removes html formatting and allows us to tokenize the words found in a review, for example, converting *entertained* and *entertaining* into *entertain* so that they are treated as though they are the same word. What else, if anything, does this method do to the input?"
   ]
  },
  {
   "cell_type": "markdown",
   "metadata": {},
   "source": [
    "**Answer:**\n",
    "\n",
    "Removing the \"Stop words\" is another thing that the funciton does so that we make a focus just on the words which hold meaning by themselves. Chaniging the characters into the lower case has been happened also."
   ]
  },
  {
   "cell_type": "markdown",
   "metadata": {},
   "source": [
    "The method below applies the `review_to_words` method to each of the reviews in the training and testing datasets. In addition it caches the results. This is because performing this processing step can take a long time. This way if you are unable to complete the notebook in the current session, you can come back without needing to process the data a second time."
   ]
  },
  {
   "cell_type": "code",
   "execution_count": 9,
   "metadata": {},
   "outputs": [],
   "source": [
    "import pickle\n",
    "\n",
    "cache_dir = os.path.join(\"../cache\", \"sentiment_analysis\")  # where to store cache files\n",
    "os.makedirs(cache_dir, exist_ok=True)  # ensure cache directory exists\n",
    "\n",
    "def preprocess_data(data_train, data_test, labels_train, labels_test,\n",
    "                    cache_dir=cache_dir, cache_file=\"preprocessed_data.pkl\"):\n",
    "    \"\"\"Convert each review to words; read from cache if available.\"\"\"\n",
    "\n",
    "    # If cache_file is not None, try to read from it first\n",
    "    cache_data = None\n",
    "    if cache_file is not None:\n",
    "        try:\n",
    "            with open(os.path.join(cache_dir, cache_file), \"rb\") as f:\n",
    "                cache_data = pickle.load(f)\n",
    "            print(\"Read preprocessed data from cache file:\", cache_file)\n",
    "        except:\n",
    "            pass  # unable to read from cache, but that's okay\n",
    "    \n",
    "    # If cache is missing, then do the heavy lifting\n",
    "    if cache_data is None:\n",
    "        # Preprocess training and test data to obtain words for each review\n",
    "        #words_train = list(map(review_to_words, data_train))\n",
    "        #words_test = list(map(review_to_words, data_test))\n",
    "        words_train = [review_to_words(review) for review in data_train]\n",
    "        words_test = [review_to_words(review) for review in data_test]\n",
    "        \n",
    "        # Write to cache file for future runs\n",
    "        if cache_file is not None:\n",
    "            cache_data = dict(words_train=words_train, words_test=words_test,\n",
    "                              labels_train=labels_train, labels_test=labels_test)\n",
    "            with open(os.path.join(cache_dir, cache_file), \"wb\") as f:\n",
    "                pickle.dump(cache_data, f)\n",
    "            print(\"Wrote preprocessed data to cache file:\", cache_file)\n",
    "    else:\n",
    "        # Unpack data loaded from cache file\n",
    "        words_train, words_test, labels_train, labels_test = (cache_data['words_train'],\n",
    "                cache_data['words_test'], cache_data['labels_train'], cache_data['labels_test'])\n",
    "    \n",
    "    return words_train, words_test, labels_train, labels_test"
   ]
  },
  {
   "cell_type": "code",
   "execution_count": 10,
   "metadata": {},
   "outputs": [
    {
     "name": "stdout",
     "output_type": "stream",
     "text": [
      "Wrote preprocessed data to cache file: preprocessed_data.pkl\n"
     ]
    }
   ],
   "source": [
    "# Preprocess data\n",
    "train_X, test_X, train_y, test_y = preprocess_data(train_X, test_X, train_y, test_y)"
   ]
  },
  {
   "cell_type": "markdown",
   "metadata": {},
   "source": [
    "## Transform the data\n",
    "\n",
    "In the XGBoost notebook we transformed the data from its word representation to a bag-of-words feature representation. For the model we are going to construct in this notebook we will construct a feature representation which is very similar. To start, we will represent each word as an integer. Of course, some of the words that appear in the reviews occur very infrequently and so likely don't contain much information for the purposes of sentiment analysis. The way we will deal with this problem is that we will fix the size of our working vocabulary and we will only include the words that appear most frequently. We will then combine all of the infrequent words into a single category and, in our case, we will label it as `1`.\n",
    "\n",
    "Since we will be using a recurrent neural network, it will be convenient if the length of each review is the same. To do this, we will fix a size for our reviews and then pad short reviews with the category 'no word' (which we will label `0`) and truncate long reviews."
   ]
  },
  {
   "cell_type": "markdown",
   "metadata": {},
   "source": [
    "### (TODO) Create a word dictionary\n",
    "\n",
    "To begin with, we need to construct a way to map words that appear in the reviews to integers. Here we fix the size of our vocabulary (including the 'no word' and 'infrequent' categories) to be `5000` but you may wish to change this to see how it affects the model.\n",
    "\n",
    "> **TODO:** Complete the implementation for the `build_dict()` method below. Note that even though the vocab_size is set to `5000`, we only want to construct a mapping for the most frequently appearing `4998` words. This is because we want to reserve the special labels `0` for 'no word' and `1` for 'infrequent word'."
   ]
  },
  {
   "cell_type": "code",
   "execution_count": 11,
   "metadata": {},
   "outputs": [],
   "source": [
    "import numpy as np\n",
    "from sklearn.feature_extraction.text import CountVectorizer\n",
    "from sklearn.externals import joblib\n",
    "from collections import Counter\n",
    "import itertools\n",
    "\n",
    "def build_dict(data, vocab_size = 5000):\n",
    "    \"\"\"Construct and return a dictionary mapping each of the most frequently appearing words to a unique integer.\"\"\"\n",
    "    \n",
    "    # TODO: Determine how often each word appears in `data`. Note that `data` is a list of sentences and that a\n",
    "    #       sentence is a list of words.\n",
    "#     vectorizer = CountVectorizer(max_features=vocab_size,\n",
    "#                 preprocessor=lambda x: x, tokenizer=lambda x: x) \n",
    "#     features_data = vectorizer.fit_transform(data).toarray()\n",
    "\n",
    "    \n",
    "    \n",
    "    word_count = Counter(itertools.chain.from_iterable(data)) # A dict storing the words that appear in the reviews along with how often they occur\n",
    "    \n",
    "    # TODO: Sort the words found in `data` so that sorted_words[0] is the most frequently appearing word and\n",
    "    #       sorted_words[-1] is the least frequently appearing word.\n",
    "    \n",
    "    sorted_words = sorted(word_count, key=word_count.get, reverse=True)\n",
    "    #     print(sorted_words)\n",
    "    \n",
    "    word_dict = {} # This is what we are building, a dictionary that translates words into integers\n",
    "    for idx, word in enumerate(sorted_words[:vocab_size - 2]): # The -2 is so that we save room for the 'no word'\n",
    "        word_dict[word] = idx + 2                              # 'infrequent' labels\n",
    "        \n",
    "    return word_dict"
   ]
  },
  {
   "cell_type": "code",
   "execution_count": 12,
   "metadata": {},
   "outputs": [
    {
     "name": "stdout",
     "output_type": "stream",
     "text": [
      "['firstli', 'good', 'thing', 'film', 'clich', 'slasher', 'stuff', 'combin', 'teen', 'movi', 'advertis', 'movi', 'seen', 'larg', 'emphasi', 'fact', 'denis', 'richard', 'poor', 'actress', 'good', 'look', 'peopl', 'tri', 'make', 'anyth', 'movi', 'look', 'give', 'everyon', 'perhap', 'part', 'charact', 'like', 'said', 'act', 'still', 'write', 'fine', 'know', 'throughout', 'movi', 'almost', 'predict', 'happen', 'irrit', 'way', 'think', 'book', 'base', 'probabl', 'good', 'judg', 'plot', 'line', 'next', 'time', 'read', 'book', 'find', 'rather', 'watch']\n",
      "{'movi': 2, 'film': 3, 'one': 4, 'like': 5, 'time': 6, 'good': 7, 'make': 8, 'charact': 9, 'get': 10, 'see': 11, 'watch': 12, 'stori': 13, 'even': 14, 'would': 15, 'realli': 16, 'well': 17, 'scene': 18, 'look': 19, 'show': 20, 'much': 21, 'end': 22, 'peopl': 23, 'bad': 24, 'go': 25, 'great': 26, 'also': 27, 'first': 28, 'love': 29, 'think': 30, 'way': 31, 'act': 32, 'play': 33, 'made': 34, 'thing': 35, 'could': 36, 'know': 37, 'say': 38, 'seem': 39, 'work': 40, 'plot': 41, 'two': 42, 'actor': 43, 'year': 44, 'come': 45, 'mani': 46, 'seen': 47, 'take': 48, 'life': 49, 'want': 50, 'never': 51, 'littl': 52, 'best': 53, 'tri': 54, 'man': 55, 'ever': 56, 'give': 57, 'better': 58, 'still': 59, 'perform': 60, 'find': 61, 'feel': 62, 'part': 63, 'back': 64, 'use': 65, 'someth': 66, 'director': 67, 'actual': 68, 'interest': 69, 'lot': 70, 'real': 71, 'old': 72, 'cast': 73, 'though': 74, 'live': 75, 'star': 76, 'enjoy': 77, 'guy': 78, 'anoth': 79, 'new': 80, 'role': 81, 'noth': 82, '10': 83, 'funni': 84, 'music': 85, 'point': 86, 'start': 87, 'set': 88, 'girl': 89, 'origin': 90, 'day': 91, 'world': 92, 'everi': 93, 'believ': 94, 'turn': 95, 'quit': 96, 'direct': 97, 'us': 98, 'thought': 99, 'fact': 100, 'minut': 101, 'horror': 102, 'kill': 103, 'action': 104, 'comedi': 105, 'pretti': 106, 'young': 107, 'wonder': 108, 'happen': 109, 'around': 110, 'got': 111, 'effect': 112, 'right': 113, 'long': 114, 'howev': 115, 'big': 116, 'line': 117, 'famili': 118, 'enough': 119, 'seri': 120, 'may': 121, 'need': 122, 'fan': 123, 'bit': 124, 'script': 125, 'beauti': 126, 'person': 127, 'becom': 128, 'without': 129, 'must': 130, 'alway': 131, 'friend': 132, 'tell': 133, 'reason': 134, 'saw': 135, 'last': 136, 'final': 137, 'kid': 138, 'almost': 139, 'put': 140, 'least': 141, 'sure': 142, 'done': 143, 'whole': 144, 'place': 145, 'complet': 146, 'kind': 147, 'differ': 148, 'expect': 149, 'shot': 150, 'far': 151, 'mean': 152, 'anyth': 153, 'book': 154, 'laugh': 155, 'might': 156, 'name': 157, 'sinc': 158, 'begin': 159, '2': 160, 'probabl': 161, 'woman': 162, 'help': 163, 'entertain': 164, 'let': 165, 'screen': 166, 'call': 167, 'tv': 168, 'moment': 169, 'away': 170, 'read': 171, 'yet': 172, 'rather': 173, 'worst': 174, 'run': 175, 'fun': 176, 'lead': 177, 'hard': 178, 'audienc': 179, 'idea': 180, 'anyon': 181, 'episod': 182, 'american': 183, 'found': 184, 'appear': 185, 'bore': 186, 'especi': 187, 'although': 188, 'hope': 189, 'keep': 190, 'cours': 191, 'anim': 192, 'job': 193, 'goe': 194, 'move': 195, 'sens': 196, 'dvd': 197, 'version': 198, 'war': 199, 'money': 200, 'someon': 201, 'mind': 202, 'mayb': 203, 'problem': 204, 'true': 205, 'hous': 206, 'everyth': 207, 'nice': 208, 'second': 209, 'rate': 210, 'three': 211, 'night': 212, 'follow': 213, 'face': 214, 'recommend': 215, 'product': 216, 'main': 217, 'worth': 218, 'leav': 219, 'human': 220, 'special': 221, 'excel': 222, 'togeth': 223, 'wast': 224, 'everyon': 225, 'sound': 226, 'john': 227, 'hand': 228, '1': 229, 'father': 230, 'later': 231, 'eye': 232, 'said': 233, 'view': 234, 'instead': 235, 'review': 236, 'boy': 237, 'high': 238, 'hour': 239, 'miss': 240, 'talk': 241, 'classic': 242, 'wife': 243, 'understand': 244, 'left': 245, 'care': 246, 'black': 247, 'death': 248, 'open': 249, 'murder': 250, 'write': 251, 'half': 252, 'head': 253, 'rememb': 254, 'chang': 255, 'viewer': 256, 'fight': 257, 'gener': 258, 'surpris': 259, 'includ': 260, 'short': 261, 'die': 262, 'fall': 263, 'less': 264, 'els': 265, 'entir': 266, 'piec': 267, 'involv': 268, 'pictur': 269, 'simpli': 270, 'power': 271, 'home': 272, 'top': 273, 'total': 274, 'usual': 275, 'budget': 276, 'attempt': 277, 'suppos': 278, 'releas': 279, 'hollywood': 280, 'terribl': 281, 'song': 282, 'men': 283, 'possibl': 284, 'featur': 285, 'portray': 286, 'disappoint': 287, 'poor': 288, '3': 289, 'coupl': 290, 'camera': 291, 'stupid': 292, 'dead': 293, 'wrong': 294, 'produc': 295, 'low': 296, 'either': 297, 'video': 298, 'aw': 299, 'definit': 300, 'except': 301, 'rest': 302, 'given': 303, 'absolut': 304, 'women': 305, 'lack': 306, 'word': 307, 'writer': 308, 'titl': 309, 'talent': 310, 'decid': 311, 'full': 312, 'perfect': 313, 'along': 314, 'style': 315, 'close': 316, 'truli': 317, 'school': 318, 'emot': 319, 'save': 320, 'age': 321, 'sex': 322, 'next': 323, 'bring': 324, 'mr': 325, 'case': 326, 'killer': 327, 'heart': 328, 'comment': 329, 'sort': 330, 'creat': 331, 'perhap': 332, 'came': 333, 'brother': 334, 'sever': 335, 'joke': 336, 'art': 337, 'dialogu': 338, 'game': 339, 'small': 340, 'base': 341, 'flick': 342, 'written': 343, 'sequenc': 344, 'meet': 345, 'earli': 346, 'often': 347, 'other': 348, 'mother': 349, 'develop': 350, 'humor': 351, 'actress': 352, 'consid': 353, 'dark': 354, 'guess': 355, 'amaz': 356, 'unfortun': 357, 'lost': 358, 'light': 359, 'exampl': 360, 'cinema': 361, 'drama': 362, 'white': 363, 'ye': 364, 'experi': 365, 'imagin': 366, 'mention': 367, 'stop': 368, 'natur': 369, 'forc': 370, 'manag': 371, 'felt': 372, 'present': 373, 'cut': 374, 'children': 375, 'fail': 376, 'son': 377, 'car': 378, 'support': 379, 'qualiti': 380, 'ask': 381, 'hit': 382, 'side': 383, 'voic': 384, 'extrem': 385, 'impress': 386, 'evil': 387, 'wors': 388, 'stand': 389, 'went': 390, 'certainli': 391, 'basic': 392, 'oh': 393, 'overal': 394, 'favorit': 395, 'horribl': 396, 'mysteri': 397, 'number': 398, 'type': 399, 'danc': 400, 'wait': 401, 'hero': 402, '5': 403, 'alreadi': 404, 'learn': 405, 'matter': 406, '4': 407, 'michael': 408, 'genr': 409, 'fine': 410, 'despit': 411, 'throughout': 412, 'walk': 413, 'success': 414, 'histori': 415, 'question': 416, 'zombi': 417, 'town': 418, 'realiz': 419, 'relationship': 420, 'past': 421, 'child': 422, 'daughter': 423, 'late': 424, 'b': 425, 'wish': 426, 'hate': 427, 'credit': 428, 'event': 429, 'theme': 430, 'touch': 431, 'citi': 432, 'today': 433, 'sometim': 434, 'behind': 435, 'god': 436, 'twist': 437, 'sit': 438, 'deal': 439, 'stay': 440, 'annoy': 441, 'abl': 442, 'rent': 443, 'pleas': 444, 'edit': 445, 'blood': 446, 'deserv': 447, 'anyway': 448, 'comic': 449, 'appar': 450, 'soon': 451, 'gave': 452, 'etc': 453, 'level': 454, 'slow': 455, 'chanc': 456, 'score': 457, 'bodi': 458, 'brilliant': 459, 'incred': 460, 'figur': 461, 'situat': 462, 'major': 463, 'self': 464, 'stuff': 465, 'decent': 466, 'element': 467, 'dream': 468, 'return': 469, 'obvious': 470, 'continu': 471, 'order': 472, 'pace': 473, 'ridicul': 474, 'happi': 475, 'highli': 476, 'add': 477, 'group': 478, 'thank': 479, 'ladi': 480, 'novel': 481, 'speak': 482, 'pain': 483, 'career': 484, 'shoot': 485, 'strang': 486, 'heard': 487, 'sad': 488, 'polic': 489, 'husband': 490, 'import': 491, 'break': 492, 'took': 493, 'strong': 494, 'cannot': 495, 'predict': 496, 'robert': 497, 'violenc': 498, 'hilari': 499, 'recent': 500, 'countri': 501, 'known': 502, 'particularli': 503, 'pick': 504, 'documentari': 505, 'season': 506, 'critic': 507, 'jame': 508, 'compar': 509, 'alon': 510, 'obviou': 511, 'told': 512, 'state': 513, 'visual': 514, 'rock': 515, 'exist': 516, 'theater': 517, 'offer': 518, 'opinion': 519, 'gore': 520, 'hold': 521, 'crap': 522, 'result': 523, 'room': 524, 'hear': 525, 'realiti': 526, 'clich': 527, 'effort': 528, 'thriller': 529, 'caus': 530, 'explain': 531, 'sequel': 532, 'serious': 533, 'king': 534, 'local': 535, 'ago': 536, 'none': 537, 'hell': 538, 'note': 539, 'allow': 540, 'sister': 541, 'david': 542, 'simpl': 543, 'femal': 544, 'deliv': 545, 'ok': 546, 'class': 547, 'convinc': 548, 'check': 549, 'suspens': 550, 'win': 551, 'buy': 552, 'oscar': 553, 'huge': 554, 'valu': 555, 'sexual': 556, 'cool': 557, 'scari': 558, 'excit': 559, 'similar': 560, 'provid': 561, 'apart': 562, 'exactli': 563, 'avoid': 564, 'shown': 565, 'seriou': 566, 'english': 567, 'taken': 568, 'whose': 569, 'cinematographi': 570, 'shock': 571, 'polit': 572, 'spoiler': 573, 'offic': 574, 'across': 575, 'middl': 576, 'street': 577, 'pass': 578, 'messag': 579, 'charm': 580, 'somewhat': 581, 'silli': 582, 'modern': 583, 'confus': 584, 'filmmak': 585, 'form': 586, 'tale': 587, 'singl': 588, 'jack': 589, 'mostli': 590, 'william': 591, 'carri': 592, 'attent': 593, 'sing': 594, 'subject': 595, 'five': 596, 'prove': 597, 'richard': 598, 'team': 599, 'stage': 600, 'unlik': 601, 'cop': 602, 'georg': 603, 'monster': 604, 'televis': 605, 'earth': 606, 'cover': 607, 'villain': 608, 'pay': 609, 'marri': 610, 'toward': 611, 'build': 612, 'parent': 613, 'pull': 614, 'due': 615, 'respect': 616, 'fill': 617, 'four': 618, 'dialog': 619, 'remind': 620, 'futur': 621, 'typic': 622, 'weak': 623, '7': 624, 'cheap': 625, 'intellig': 626, 'atmospher': 627, 'british': 628, '80': 629, 'clearli': 630, 'dog': 631, 'paul': 632, 'non': 633, '8': 634, 'fast': 635, 'knew': 636, 'artist': 637, 'crime': 638, 'easili': 639, 'escap': 640, 'adult': 641, 'doubt': 642, 'detail': 643, 'date': 644, 'fire': 645, 'member': 646, 'romant': 647, 'drive': 648, 'gun': 649, 'straight': 650, 'beyond': 651, 'fit': 652, 'attack': 653, 'imag': 654, 'upon': 655, 'posit': 656, 'whether': 657, 'fantast': 658, 'peter': 659, 'appreci': 660, 'aspect': 661, 'captur': 662, 'ten': 663, 'plan': 664, 'discov': 665, 'remain': 666, 'period': 667, 'near': 668, 'air': 669, 'realist': 670, 'mark': 671, 'red': 672, 'dull': 673, 'adapt': 674, 'within': 675, 'lose': 676, 'spend': 677, 'color': 678, 'materi': 679, 'chase': 680, 'mari': 681, 'storylin': 682, 'forget': 683, 'bunch': 684, 'clear': 685, 'lee': 686, 'victim': 687, 'nearli': 688, 'box': 689, 'york': 690, 'match': 691, 'inspir': 692, 'finish': 693, 'mess': 694, 'standard': 695, 'easi': 696, 'truth': 697, 'busi': 698, 'suffer': 699, 'space': 700, 'bill': 701, 'dramat': 702, 'western': 703, 'e': 704, 'list': 705, 'battl': 706, 'notic': 707, 'de': 708, 'french': 709, 'ad': 710, '9': 711, 'tom': 712, 'larg': 713, 'among': 714, 'eventu': 715, 'train': 716, 'accept': 717, 'agre': 718, 'soundtrack': 719, 'spirit': 720, 'third': 721, 'teenag': 722, 'adventur': 723, 'soldier': 724, 'famou': 725, 'sorri': 726, 'suggest': 727, 'drug': 728, 'cri': 729, 'babi': 730, 'normal': 731, 'troubl': 732, 'ultim': 733, 'contain': 734, 'certain': 735, 'cultur': 736, 'romanc': 737, 'rare': 738, 'lame': 739, 'somehow': 740, 'mix': 741, 'disney': 742, 'gone': 743, 'cartoon': 744, 'student': 745, 'reveal': 746, 'fear': 747, 'suck': 748, 'kept': 749, 'attract': 750, 'appeal': 751, 'premis': 752, 'design': 753, 'greatest': 754, 'secret': 755, 'shame': 756, 'throw': 757, 'scare': 758, 'copi': 759, 'wit': 760, 'admit': 761, 'america': 762, 'relat': 763, 'brought': 764, 'particular': 765, 'screenplay': 766, 'whatev': 767, 'pure': 768, '70': 769, 'harri': 770, 'averag': 771, 'master': 772, 'describ': 773, 'treat': 774, 'male': 775, '20': 776, 'fantasi': 777, 'issu': 778, 'warn': 779, 'inde': 780, 'background': 781, 'forward': 782, 'free': 783, 'project': 784, 'memor': 785, 'japanes': 786, 'poorli': 787, 'award': 788, 'locat': 789, 'potenti': 790, 'amus': 791, 'struggl': 792, 'magic': 793, 'weird': 794, 'societi': 795, 'okay': 796, 'doctor': 797, 'imdb': 798, 'accent': 799, 'water': 800, 'hot': 801, 'express': 802, '30': 803, 'alien': 804, 'dr': 805, 'odd': 806, 'choic': 807, 'crazi': 808, 'fiction': 809, 'studio': 810, 'control': 811, 'becam': 812, 'masterpiec': 813, 'fli': 814, 'difficult': 815, 'joe': 816, 'scream': 817, 'costum': 818, 'lover': 819, 'refer': 820, 'uniqu': 821, 'remak': 822, 'girlfriend': 823, 'vampir': 824, 'prison': 825, 'execut': 826, 'wear': 827, 'jump': 828, 'unless': 829, 'wood': 830, 'creepi': 831, 'cheesi': 832, 'superb': 833, 'otherwis': 834, 'parti': 835, 'roll': 836, 'ghost': 837, 'mad': 838, 'public': 839, 'depict': 840, 'badli': 841, 'week': 842, 'earlier': 843, 'jane': 844, 'moral': 845, 'dumb': 846, 'fi': 847, 'flaw': 848, 'grow': 849, 'deep': 850, 'sci': 851, 'cat': 852, 'maker': 853, 'older': 854, 'footag': 855, 'connect': 856, 'plenti': 857, 'bother': 858, 'outsid': 859, 'stick': 860, 'gay': 861, 'catch': 862, 'plu': 863, 'co': 864, 'popular': 865, 'equal': 866, 'social': 867, 'quickli': 868, 'disturb': 869, 'perfectli': 870, 'dress': 871, 'era': 872, '90': 873, 'mistak': 874, 'lie': 875, 'ride': 876, 'previou': 877, 'combin': 878, 'concept': 879, 'band': 880, 'rich': 881, 'answer': 882, 'surviv': 883, 'front': 884, 'sweet': 885, 'christma': 886, 'insid': 887, 'eat': 888, 'bare': 889, 'concern': 890, 'listen': 891, 'beat': 892, 'ben': 893, 'c': 894, 'term': 895, 'serv': 896, 'meant': 897, 'german': 898, 'la': 899, 'stereotyp': 900, 'hardli': 901, 'law': 902, 'innoc': 903, 'desper': 904, 'memori': 905, 'promis': 906, 'cute': 907, 'intent': 908, 'variou': 909, 'inform': 910, 'steal': 911, 'brain': 912, 'post': 913, 'tone': 914, 'island': 915, 'amount': 916, 'compani': 917, 'track': 918, 'nuditi': 919, 'claim': 920, 'store': 921, 'hair': 922, 'flat': 923, '50': 924, 'land': 925, 'univers': 926, 'danger': 927, 'scott': 928, 'fairli': 929, 'kick': 930, 'player': 931, 'step': 932, 'plain': 933, 'crew': 934, 'toni': 935, 'share': 936, 'centuri': 937, 'tast': 938, 'engag': 939, 'achiev': 940, 'travel': 941, 'cold': 942, 'suit': 943, 'record': 944, 'rip': 945, 'sadli': 946, 'manner': 947, 'wrote': 948, 'tension': 949, 'spot': 950, 'fascin': 951, 'intens': 952, 'familiar': 953, 'burn': 954, 'depth': 955, 'remark': 956, 'destroy': 957, 'histor': 958, 'sleep': 959, 'purpos': 960, 'languag': 961, 'ruin': 962, 'ignor': 963, 'delight': 964, 'unbeliev': 965, 'italian': 966, 'collect': 967, 'soul': 968, 'abil': 969, 'clever': 970, 'detect': 971, 'violent': 972, 'rape': 973, 'reach': 974, 'door': 975, 'trash': 976, 'scienc': 977, 'liter': 978, 'caught': 979, 'commun': 980, 'reveng': 981, 'creatur': 982, 'trip': 983, 'approach': 984, 'fashion': 985, 'intrigu': 986, 'introduc': 987, 'skill': 988, 'paint': 989, 'channel': 990, 'complex': 991, 'camp': 992, 'christian': 993, 'hole': 994, 'extra': 995, 'ann': 996, 'mental': 997, 'limit': 998, 'immedi': 999, '6': 1000, 'slightli': 1001, 'million': 1002, 'comput': 1003, 'mere': 1004, 'slasher': 1005, 'conclus': 1006, 'suddenli': 1007, 'imposs': 1008, 'teen': 1009, 'neither': 1010, 'crimin': 1011, 'physic': 1012, 'nation': 1013, 'spent': 1014, 'respons': 1015, 'planet': 1016, 'fake': 1017, 'receiv': 1018, 'blue': 1019, 'sick': 1020, 'bizarr': 1021, 'embarrass': 1022, 'indian': 1023, '15': 1024, 'ring': 1025, 'drop': 1026, 'pop': 1027, 'drag': 1028, 'haunt': 1029, 'suspect': 1030, 'pointless': 1031, 'edg': 1032, 'search': 1033, 'handl': 1034, 'common': 1035, 'biggest': 1036, 'arriv': 1037, 'hurt': 1038, 'faith': 1039, 'technic': 1040, 'angel': 1041, 'genuin': 1042, 'dad': 1043, 'solid': 1044, 'f': 1045, 'awesom': 1046, 'colleg': 1047, 'van': 1048, 'focu': 1049, 'former': 1050, 'count': 1051, 'tear': 1052, 'heavi': 1053, 'rais': 1054, 'wall': 1055, 'visit': 1056, 'younger': 1057, 'laughabl': 1058, 'excus': 1059, 'sign': 1060, 'fair': 1061, 'cult': 1062, 'key': 1063, 'motion': 1064, 'tough': 1065, 'desir': 1066, 'super': 1067, 'stun': 1068, 'addit': 1069, 'exploit': 1070, 'cloth': 1071, 'smith': 1072, 'tortur': 1073, 'race': 1074, 'davi': 1075, 'cross': 1076, 'author': 1077, 'jim': 1078, 'focus': 1079, 'compel': 1080, 'minor': 1081, 'consist': 1082, 'chemistri': 1083, 'pathet': 1084, 'commit': 1085, 'park': 1086, 'frank': 1087, 'tradit': 1088, 'obsess': 1089, 'grade': 1090, '60': 1091, 'asid': 1092, 'brutal': 1093, 'steve': 1094, 'somewher': 1095, 'grant': 1096, 'rule': 1097, 'depress': 1098, 'explor': 1099, 'u': 1100, 'opportun': 1101, 'honest': 1102, 'besid': 1103, 'anti': 1104, 'dub': 1105, 'intend': 1106, 'trailer': 1107, 'bar': 1108, 'longer': 1109, 'regard': 1110, 'west': 1111, 'scientist': 1112, 'judg': 1113, 'decad': 1114, 'silent': 1115, 'armi': 1116, 'creativ': 1117, 'wild': 1118, 'south': 1119, 'g': 1120, 'stewart': 1121, 'draw': 1122, 'road': 1123, 'govern': 1124, 'boss': 1125, 'ex': 1126, 'practic': 1127, 'gang': 1128, 'festiv': 1129, 'club': 1130, 'motiv': 1131, 'surprisingli': 1132, 'green': 1133, 'london': 1134, 'page': 1135, 'redeem': 1136, 'aliv': 1137, 'machin': 1138, 'idiot': 1139, 'display': 1140, 'militari': 1141, 'thrill': 1142, 'repeat': 1143, 'folk': 1144, '100': 1145, 'nobodi': 1146, 'yeah': 1147, '40': 1148, 'journey': 1149, 'garbag': 1150, 'ground': 1151, 'smile': 1152, 'tire': 1153, 'mood': 1154, 'bought': 1155, 'sam': 1156, 'stone': 1157, 'cost': 1158, 'mouth': 1159, 'noir': 1160, 'terrif': 1161, 'agent': 1162, 'utterli': 1163, 'requir': 1164, 'honestli': 1165, 'area': 1166, 'sexi': 1167, 'report': 1168, 'geniu': 1169, 'glad': 1170, 'enter': 1171, 'investig': 1172, 'humour': 1173, 'serial': 1174, 'occasion': 1175, 'passion': 1176, 'narr': 1177, 'climax': 1178, 'marriag': 1179, 'industri': 1180, 'studi': 1181, 'nowher': 1182, 'charli': 1183, 'demon': 1184, 'ship': 1185, 'center': 1186, 'hors': 1187, 'bear': 1188, 'loos': 1189, 'hang': 1190, 'wow': 1191, 'graphic': 1192, 'giant': 1193, 'admir': 1194, 'send': 1195, 'loud': 1196, 'damn': 1197, 'rel': 1198, 'subtl': 1199, 'profession': 1200, 'nake': 1201, 'blow': 1202, 'bottom': 1203, 'insult': 1204, 'batman': 1205, 'boyfriend': 1206, 'doubl': 1207, 'r': 1208, 'kelli': 1209, 'initi': 1210, 'frame': 1211, 'gem': 1212, 'opera': 1213, 'church': 1214, 'affect': 1215, 'drawn': 1216, 'cinemat': 1217, 'challeng': 1218, 'fulli': 1219, 'seek': 1220, 'nightmar': 1221, 'evid': 1222, 'l': 1223, 'j': 1224, 'arm': 1225, 'conflict': 1226, 'essenti': 1227, 'henri': 1228, 'christoph': 1229, 'wind': 1230, 'grace': 1231, 'narrat': 1232, 'witch': 1233, 'assum': 1234, 'push': 1235, 'hunt': 1236, 'chri': 1237, 'wise': 1238, 'repres': 1239, 'nomin': 1240, 'month': 1241, 'hide': 1242, 'sceneri': 1243, 'avail': 1244, 'affair': 1245, 'thu': 1246, 'bond': 1247, 'smart': 1248, 'justic': 1249, 'outstand': 1250, 'flashback': 1251, 'interview': 1252, 'constantli': 1253, 'satisfi': 1254, 'presenc': 1255, 'bed': 1256, 'central': 1257, 'iron': 1258, 'sell': 1259, 'content': 1260, 'everybodi': 1261, 'gag': 1262, 'hotel': 1263, 'slowli': 1264, 'hire': 1265, 'system': 1266, 'hey': 1267, 'charl': 1268, 'adam': 1269, 'thrown': 1270, 'individu': 1271, 'jone': 1272, 'mediocr': 1273, 'allen': 1274, 'ray': 1275, 'lesson': 1276, 'billi': 1277, 'cameo': 1278, 'photographi': 1279, 'fellow': 1280, 'pari': 1281, 'strike': 1282, 'brief': 1283, 'rise': 1284, 'independ': 1285, 'absurd': 1286, 'neg': 1287, 'impact': 1288, 'phone': 1289, 'model': 1290, 'ill': 1291, 'born': 1292, 'angl': 1293, 'fresh': 1294, 'spoil': 1295, 'abus': 1296, 'likabl': 1297, 'discuss': 1298, 'hill': 1299, 'sight': 1300, 'ahead': 1301, 'photograph': 1302, 'sent': 1303, 'occur': 1304, 'logic': 1305, 'blame': 1306, 'shine': 1307, 'bruce': 1308, 'mainli': 1309, 'commerci': 1310, 'skip': 1311, 'forev': 1312, 'surround': 1313, 'held': 1314, 'teacher': 1315, 'segment': 1316, 'zero': 1317, 'blond': 1318, 'trap': 1319, 'satir': 1320, 'summer': 1321, 'resembl': 1322, 'ball': 1323, 'queen': 1324, 'six': 1325, 'fool': 1326, 'tragedi': 1327, 'twice': 1328, 'sub': 1329, 'reaction': 1330, 'pack': 1331, 'bomb': 1332, 'hospit': 1333, 'will': 1334, 'protagonist': 1335, 'mile': 1336, 'sport': 1337, 'drink': 1338, 'trust': 1339, 'vote': 1340, 'jerri': 1341, 'mom': 1342, 'encount': 1343, 'plane': 1344, 'al': 1345, 'program': 1346, 'current': 1347, 'station': 1348, 'choos': 1349, 'martin': 1350, 'celebr': 1351, 'join': 1352, 'lord': 1353, 'tragic': 1354, 'favourit': 1355, 'field': 1356, 'round': 1357, 'robot': 1358, 'jean': 1359, 'vision': 1360, 'tie': 1361, 'arthur': 1362, 'fortun': 1363, 'roger': 1364, 'random': 1365, 'psycholog': 1366, 'intern': 1367, 'dread': 1368, 'improv': 1369, 'prefer': 1370, 'nonsens': 1371, 'epic': 1372, 'formula': 1373, 'legend': 1374, 'pleasur': 1375, 'highlight': 1376, '11': 1377, 'tape': 1378, 'dollar': 1379, 'wide': 1380, 'thin': 1381, 'fox': 1382, 'object': 1383, 'gorgeou': 1384, 'porn': 1385, 'buddi': 1386, 'influenc': 1387, 'ugli': 1388, 'prepar': 1389, 'nasti': 1390, 'ii': 1391, 'supposedli': 1392, 'progress': 1393, 'warm': 1394, 'reflect': 1395, 'youth': 1396, 'worthi': 1397, 'unusu': 1398, 'length': 1399, 'latter': 1400, 'crash': 1401, 'superior': 1402, 'childhood': 1403, 'seven': 1404, 'shop': 1405, 'theatr': 1406, 'remot': 1407, 'pilot': 1408, 'paid': 1409, 'disgust': 1410, 'funniest': 1411, 'castl': 1412, 'fell': 1413, 'convers': 1414, 'trick': 1415, 'disast': 1416, 'gangster': 1417, 'establish': 1418, 'rob': 1419, 'suicid': 1420, 'ident': 1421, 'mine': 1422, 'heaven': 1423, 'disappear': 1424, 'mask': 1425, 'forgotten': 1426, 'tend': 1427, 'heroin': 1428, 'singer': 1429, 'decis': 1430, 'partner': 1431, 'brian': 1432, 'recogn': 1433, 'desert': 1434, 'alan': 1435, 'stuck': 1436, 'p': 1437, 'sky': 1438, 'ms': 1439, 'thoroughli': 1440, 'accur': 1441, 'replac': 1442, 'market': 1443, 'seemingli': 1444, 'uncl': 1445, 'danni': 1446, 'eddi': 1447, 'clue': 1448, 'andi': 1449, 'commentari': 1450, 'devil': 1451, 'jackson': 1452, 'therefor': 1453, 'refus': 1454, 'that': 1455, 'pair': 1456, 'unit': 1457, 'accid': 1458, 'ed': 1459, 'fault': 1460, 'fate': 1461, 'river': 1462, 'afraid': 1463, 'tune': 1464, 'stephen': 1465, 'russian': 1466, 'clean': 1467, 'hidden': 1468, 'irrit': 1469, 'test': 1470, 'convey': 1471, 'quick': 1472, 'captain': 1473, 'readi': 1474, 'instanc': 1475, 'european': 1476, 'insan': 1477, 'daniel': 1478, 'frustrat': 1479, 'rescu': 1480, '1950': 1481, 'chines': 1482, 'wed': 1483, 'food': 1484, 'lock': 1485, 'dirti': 1486, 'angri': 1487, 'joy': 1488, 'price': 1489, 'steven': 1490, 'cage': 1491, 'bland': 1492, 'rang': 1493, 'anymor': 1494, 'wooden': 1495, 'rush': 1496, 'news': 1497, 'n': 1498, 'jason': 1499, 'worri': 1500, 'led': 1501, '12': 1502, 'martial': 1503, 'twenti': 1504, 'board': 1505, 'cgi': 1506, 'symbol': 1507, 'transform': 1508, 'hunter': 1509, 'onto': 1510, 'piti': 1511, 'invent': 1512, 'sentiment': 1513, 'johnni': 1514, 'x': 1515, 'process': 1516, 'attitud': 1517, 'explan': 1518, 'awar': 1519, 'owner': 1520, 'aim': 1521, 'energi': 1522, 'favor': 1523, 'floor': 1524, 'necessari': 1525, 'target': 1526, 'opposit': 1527, 'religi': 1528, 'chick': 1529, 'blind': 1530, 'insight': 1531, 'window': 1532, 'movement': 1533, 'deepli': 1534, 'mountain': 1535, 'comparison': 1536, 'possess': 1537, 'research': 1538, 'whatsoev': 1539, 'grand': 1540, 'comed': 1541, 'rain': 1542, 'began': 1543, 'mid': 1544, 'bank': 1545, 'shadow': 1546, 'parodi': 1547, 'princ': 1548, 'weapon': 1549, 'pre': 1550, 'credibl': 1551, 'friendship': 1552, 'taylor': 1553, 'teach': 1554, 'dougla': 1555, 'flesh': 1556, 'protect': 1557, 'hint': 1558, 'bloodi': 1559, 'terror': 1560, 'marvel': 1561, 'load': 1562, 'accord': 1563, 'watchabl': 1564, 'leader': 1565, 'anybodi': 1566, 'superman': 1567, 'drunk': 1568, 'brown': 1569, 'freddi': 1570, 'appropri': 1571, 'seat': 1572, 'tim': 1573, 'jeff': 1574, 'hitler': 1575, 'charg': 1576, 'knock': 1577, 'villag': 1578, 'unknown': 1579, 'keaton': 1580, 'media': 1581, 'enemi': 1582, 'england': 1583, 'unnecessari': 1584, 'empti': 1585, 'strength': 1586, 'wave': 1587, 'utter': 1588, 'dare': 1589, 'craft': 1590, 'perspect': 1591, 'buck': 1592, 'correct': 1593, 'contrast': 1594, 'kiss': 1595, 'nativ': 1596, 'ford': 1597, 'anywher': 1598, 'distract': 1599, 'soap': 1600, 'knowledg': 1601, 'magnific': 1602, 'nazi': 1603, 'chill': 1604, 'speed': 1605, 'breath': 1606, 'ice': 1607, 'fred': 1608, 'mission': 1609, '1980': 1610, 'moon': 1611, 'jr': 1612, 'crowd': 1613, 'joan': 1614, 'frighten': 1615, 'kate': 1616, '000': 1617, 'soft': 1618, 'hundr': 1619, 'nick': 1620, 'dan': 1621, 'dick': 1622, 'radio': 1623, 'somebodi': 1624, 'dozen': 1625, 'simon': 1626, 'andrew': 1627, 'thousand': 1628, 'loss': 1629, 'shakespear': 1630, 'academi': 1631, 'quot': 1632, 'sum': 1633, 'root': 1634, 'vehicl': 1635, 'account': 1636, 'convent': 1637, '1970': 1638, 'leg': 1639, 'behavior': 1640, 'gold': 1641, 'regular': 1642, 'demand': 1643, 'pretenti': 1644, 'worker': 1645, 'compet': 1646, 'explos': 1647, 'lynch': 1648, 'notabl': 1649, 'stretch': 1650, 'interpret': 1651, 'candi': 1652, 'privat': 1653, 'japan': 1654, 'constant': 1655, 'debut': 1656, 'tarzan': 1657, 'revolv': 1658, 'translat': 1659, 'sea': 1660, 'prais': 1661, 'spi': 1662, 'threaten': 1663, 'technolog': 1664, 'quiet': 1665, 'jesu': 1666, 'ass': 1667, 'franc': 1668, 'failur': 1669, 'sat': 1670, 'met': 1671, 'aid': 1672, 'higher': 1673, 'kevin': 1674, 'punch': 1675, 'toy': 1676, 'abandon': 1677, 'vh': 1678, 'interact': 1679, 'mike': 1680, 'confront': 1681, 'bet': 1682, 'separ': 1683, 'command': 1684, 'recal': 1685, 'techniqu': 1686, 'gotten': 1687, 'belong': 1688, 'stunt': 1689, 'servic': 1690, 'site': 1691, 'foot': 1692, 'freak': 1693, 'cabl': 1694, 'bug': 1695, 'bright': 1696, 'african': 1697, 'capabl': 1698, 'jimmi': 1699, 'fu': 1700, 'presid': 1701, 'succeed': 1702, 'clark': 1703, 'stock': 1704, 'fat': 1705, 'boat': 1706, 'spanish': 1707, 'gene': 1708, 'structur': 1709, 'kidnap': 1710, 'paper': 1711, 'whilst': 1712, 'belief': 1713, 'factor': 1714, 'tree': 1715, 'educ': 1716, 'realism': 1717, 'realis': 1718, 'complic': 1719, 'attend': 1720, 'bob': 1721, 'witti': 1722, 'assist': 1723, 'broken': 1724, 'santa': 1725, 'finest': 1726, 'smoke': 1727, 'depart': 1728, 'determin': 1729, 'observ': 1730, 'up': 1731, 'v': 1732, 'fame': 1733, 'lewi': 1734, 'hat': 1735, 'domin': 1736, 'routin': 1737, 'rubbish': 1738, 'oper': 1739, 'kinda': 1740, 'advanc': 1741, 'hook': 1742, 'foreign': 1743, 'lone': 1744, 'morgan': 1745, 'safe': 1746, 'rank': 1747, 'numer': 1748, 'civil': 1749, 'vs': 1750, 'rose': 1751, 'shape': 1752, 'shallow': 1753, 'werewolf': 1754, 'washington': 1755, 'morn': 1756, 'gari': 1757, 'ordinari': 1758, 'kong': 1759, 'accomplish': 1760, 'winner': 1761, 'whenev': 1762, 'grab': 1763, 'peac': 1764, 'virtual': 1765, 'luck': 1766, 'h': 1767, 'offens': 1768, 'bigger': 1769, 'activ': 1770, 'welcom': 1771, 'contriv': 1772, 'complain': 1773, 'patient': 1774, 'unfunni': 1775, 'trek': 1776, 'con': 1777, 'pretend': 1778, 'dimension': 1779, 'flash': 1780, 'dri': 1781, 'wake': 1782, 'lesbian': 1783, 'cain': 1784, 'code': 1785, 'eric': 1786, 'statu': 1787, 'manipul': 1788, 'corrupt': 1789, 'albert': 1790, 'dancer': 1791, 'guard': 1792, 'sourc': 1793, 'gain': 1794, 'speech': 1795, 'signific': 1796, 'awkward': 1797, 'context': 1798, 'psycho': 1799, 'anthoni': 1800, 'corni': 1801, '13': 1802, 'sean': 1803, 'clip': 1804, 'religion': 1805, 'advic': 1806, 'curiou': 1807, 'reli': 1808, 'priest': 1809, 'w': 1810, 'theatric': 1811, 'flow': 1812, 'addict': 1813, 'specif': 1814, 'howard': 1815, 'skin': 1816, 'secur': 1817, 'asian': 1818, 'jennif': 1819, 'luke': 1820, 'core': 1821, 'comfort': 1822, 'organ': 1823, 'promot': 1824, 'golden': 1825, 'cash': 1826, 'lucki': 1827, 'cheat': 1828, 'lower': 1829, 'dislik': 1830, 'associ': 1831, 'frequent': 1832, 'spell': 1833, 'wing': 1834, 'devic': 1835, 'balanc': 1836, 'frankli': 1837, 'contribut': 1838, 'degre': 1839, 'regret': 1840, 'print': 1841, 'forgiv': 1842, 'sake': 1843, 'lake': 1844, 'mass': 1845, 'thoma': 1846, 'betti': 1847, 'crack': 1848, 'unexpect': 1849, 'gordon': 1850, 'depend': 1851, 'unfold': 1852, 'amateur': 1853, 'invit': 1854, 'categori': 1855, 'grown': 1856, 'construct': 1857, 'grew': 1858, 'walter': 1859, 'intellectu': 1860, 'condit': 1861, 'honor': 1862, 'matur': 1863, 'anna': 1864, 'mirror': 1865, 'sole': 1866, 'veteran': 1867, 'sudden': 1868, 'spectacular': 1869, 'robin': 1870, 'meanwhil': 1871, 'demonstr': 1872, 'grip': 1873, 'experienc': 1874, 'overli': 1875, 'card': 1876, 'liner': 1877, 'freedom': 1878, 'gift': 1879, 'colour': 1880, 'brilliantli': 1881, 'oliv': 1882, 'unabl': 1883, 'circumst': 1884, 'sheriff': 1885, 'subtitl': 1886, 'drew': 1887, 'crappi': 1888, 'section': 1889, 'theori': 1890, 'path': 1891, 'laughter': 1892, 'altern': 1893, 'pile': 1894, 'cook': 1895, 'sheer': 1896, 'matt': 1897, 'parker': 1898, 'accident': 1899, 'hall': 1900, 'treatment': 1901, 'relief': 1902, 'defin': 1903, 'lawyer': 1904, 'wander': 1905, 'sinatra': 1906, 'captiv': 1907, 'hank': 1908, 'dragon': 1909, 'moor': 1910, 'gratuit': 1911, 'halloween': 1912, 'cowboy': 1913, 'barbara': 1914, 'wound': 1915, 'k': 1916, 'unintent': 1917, 'broadway': 1918, 'kung': 1919, 'wayn': 1920, 'jacki': 1921, 'statement': 1922, 'surreal': 1923, 'winter': 1924, 'spoof': 1925, 'canadian': 1926, 'cheer': 1927, 'compos': 1928, 'treasur': 1929, 'fare': 1930, 'gonna': 1931, 'fish': 1932, 'victor': 1933, 'emerg': 1934, 'sensit': 1935, 'unrealist': 1936, 'woodi': 1937, 'neighbor': 1938, 'ran': 1939, 'sympathet': 1940, 'driven': 1941, 'glass': 1942, 'authent': 1943, 'expos': 1944, 'menac': 1945, 'overlook': 1946, 'topic': 1947, 'ancient': 1948, 'gross': 1949, 'chief': 1950, 'michel': 1951, 'handsom': 1952, 'contemporari': 1953, 'pleasant': 1954, 'russel': 1955, 'stranger': 1956, 'feet': 1957, 'nevertheless': 1958, 'built': 1959, 'comedian': 1960, 'cinderella': 1961, 'network': 1962, 'miser': 1963, 'underr': 1964, 'consider': 1965, 'gori': 1966, 'letter': 1967, 'blockbust': 1968, 'endless': 1969, 'earn': 1970, 'solv': 1971, 'switch': 1972, 'brook': 1973, 'convict': 1974, 'joseph': 1975, 'virgin': 1976, 'bullet': 1977, 'edward': 1978, 'victoria': 1979, 'cynic': 1980, 'scenario': 1981, 'chosen': 1982, 'scale': 1983, '0': 1984, 'alex': 1985, 'sword': 1986, 'curs': 1987, 'com': 1988, 'gut': 1989, 'outrag': 1990, 'substanc': 1991, 'proper': 1992, 'uk': 1993, 'juli': 1994, 'monkey': 1995, 'driver': 1996, 'screenwrit': 1997, 'wrap': 1998, 'indic': 1999, 'bird': 2000, 'court': 2001, 'par': 2002, 'remov': 2003, 'advertis': 2004, 'naiv': 2005, 'roy': 2006, 'nanci': 2007, 'loser': 2008, 'consequ': 2009, 'grave': 2010, 'rental': 2011, 'inevit': 2012, 'bridg': 2013, 'fatal': 2014, 'brave': 2015, 'invis': 2016, 'germani': 2017, 'slap': 2018, 'le': 2019, 'loui': 2020, 'ador': 2021, 'footbal': 2022, 'provok': 2023, 'anger': 2024, 'anderson': 2025, 'chan': 2026, 'alcohol': 2027, 'willi': 2028, 'stumbl': 2029, 'professor': 2030, 'ryan': 2031, 'patrick': 2032, '1930': 2033, 'bat': 2034, 'sharp': 2035, 'australian': 2036, 'assassin': 2037, 'strongli': 2038, 'trilog': 2039, 'deni': 2040, 'refresh': 2041, 'liber': 2042, 'amateurish': 2043, 'saturday': 2044, 'lousi': 2045, 'cell': 2046, 'eight': 2047, 'heck': 2048, 'ape': 2049, 'sin': 2050, 'resid': 2051, 'justifi': 2052, 'vagu': 2053, 'san': 2054, 'defeat': 2055, 'reput': 2056, 'terrifi': 2057, 'mini': 2058, 'indi': 2059, 'sympathi': 2060, 'creator': 2061, 'task': 2062, 'prevent': 2063, 'tediou': 2064, 'tabl': 2065, 'expert': 2066, 'endur': 2067, 'basebal': 2068, 'rival': 2069, 'employ': 2070, 'offend': 2071, 'trial': 2072, 'imit': 2073, 'che': 2074, 'beach': 2075, 'fairi': 2076, 'europ': 2077, 'weekend': 2078, 'dig': 2079, 'max': 2080, 'pitch': 2081, 'complaint': 2082, 'risk': 2083, 'murphi': 2084, 'format': 2085, 'purchas': 2086, 'bite': 2087, 'tini': 2088, 'reminisc': 2089, 'harsh': 2090, 'hype': 2091, 'titan': 2092, 'glimps': 2093, 'nois': 2094, 'powel': 2095, 'prime': 2096, 'strip': 2097, 'north': 2098, '14': 2099, 'asleep': 2100, 'fals': 2101, 'till': 2102, 'revel': 2103, 'texa': 2104, 'descript': 2105, 'destruct': 2106, 'africa': 2107, 'arrest': 2108, 'excess': 2109, 'sitcom': 2110, 'uninterest': 2111, 'surfac': 2112, 'inner': 2113, 'spin': 2114, 'semi': 2115, 'controversi': 2116, 'massiv': 2117, 'twin': 2118, 'makeup': 2119, 'maintain': 2120, 'argu': 2121, 'hitchcock': 2122, 'dinosaur': 2123, 'melodrama': 2124, 'ludicr': 2125, 'insist': 2126, 'ideal': 2127, 'expens': 2128, 'stare': 2129, 'kim': 2130, 'reject': 2131, 'forest': 2132, 'ga': 2133, 'ala': 2134, 'atroci': 2135, 'supernatur': 2136, 'host': 2137, 'erot': 2138, 'subplot': 2139, 'nail': 2140, 'press': 2141, 'columbo': 2142, 'dude': 2143, 'cant': 2144, 'presum': 2145, 'notch': 2146, 'identifi': 2147, 'crude': 2148, 'closer': 2149, 'method': 2150, 'guest': 2151, 'plagu': 2152, 'forgett': 2153, 'character': 2154, 'princess': 2155, 'ear': 2156, 'landscap': 2157, 'border': 2158, 'lion': 2159, 'foster': 2160, 'beast': 2161, 'aunt': 2162, 'accus': 2163, 'previous': 2164, 'storytel': 2165, 'jungl': 2166, 'urban': 2167, 'birth': 2168, 'bound': 2169, 'pacino': 2170, 'damag': 2171, 'doll': 2172, 'guid': 2173, 'chose': 2174, 'emma': 2175, 'jess': 2176, 'nude': 2177, 'thirti': 2178, 'propaganda': 2179, 'pet': 2180, 'whoever': 2181, 'warrior': 2182, 'mainstream': 2183, '25': 2184, 'mate': 2185, 'upset': 2186, 'cooper': 2187, 'poster': 2188, 'deadli': 2189, 'size': 2190, 'latest': 2191, 'merit': 2192, 'gritti': 2193, 'exact': 2194, 'friday': 2195, 'sun': 2196, 'wilson': 2197, 'citizen': 2198, 'ton': 2199, 'blend': 2200, 'settl': 2201, 'rough': 2202, 'buff': 2203, 'contact': 2204, 'popul': 2205, 'warner': 2206, 'corps': 2207, '1990': 2208, 'contest': 2209, 'alic': 2210, 'select': 2211, 'bu': 2212, 'pitt': 2213, 'environ': 2214, 'rat': 2215, 'widow': 2216, 'overcom': 2217, 'mgm': 2218, 'metal': 2219, 'lift': 2220, 'link': 2221, 'ted': 2222, 'guilti': 2223, 'particip': 2224, 'revolut': 2225, 'corner': 2226, 'moron': 2227, '1960': 2228, 'prostitut': 2229, 'exagger': 2230, 'accompani': 2231, 'johnson': 2232, 'afternoon': 2233, 'corpor': 2234, 'matrix': 2235, 'clair': 2236, 'sincer': 2237, 'hood': 2238, 'leagu': 2239, 'multipl': 2240, 'doom': 2241, 'instal': 2242, 'friendli': 2243, 'holm': 2244, 'junk': 2245, 'campi': 2246, 'hip': 2247, 'examin': 2248, 'grim': 2249, 'defend': 2250, 'string': 2251, 'aka': 2252, 'advis': 2253, 'lugosi': 2254, 'irish': 2255, 'blah': 2256, 'sunday': 2257, 'rachel': 2258, 'tight': 2259, 'shake': 2260, 'confid': 2261, 'pro': 2262, 'shut': 2263, 'varieti': 2264, 'icon': 2265, 'jaw': 2266, 'attach': 2267, 'goal': 2268, 'medic': 2269, 'denni': 2270, 'directli': 2271, 'sullivan': 2272, 'mexican': 2273, 'legendari': 2274, 'truck': 2275, 'terrorist': 2276, 'duke': 2277, 'courag': 2278, 'vietnam': 2279, 'dean': 2280, 'sarah': 2281, 'sentenc': 2282, 'breast': 2283, 'prior': 2284, 'bourn': 2285, 'split': 2286, 'behav': 2287, 'proceed': 2288, 'yell': 2289, 'hong': 2290, 'entri': 2291, 'un': 2292, 'nose': 2293, 'donald': 2294, 'buri': 2295, 'stolen': 2296, 'gather': 2297, 'crush': 2298, 'everywher': 2299, 'borrow': 2300, 'confess': 2301, 'forth': 2302, 'swim': 2303, 'concentr': 2304, 'jerk': 2305, 'unconvinc': 2306, 'lifetim': 2307, 'turkey': 2308, 'lip': 2309, 'california': 2310, 'pan': 2311, 'spite': 2312, 'julia': 2313, 'deliveri': 2314, 'proud': 2315, 'offici': 2316, 'reward': 2317, 'quest': 2318, 'downright': 2319, 'china': 2320, 'flight': 2321, 'freeman': 2322, 'hoffman': 2323, 'jail': 2324, 'notori': 2325, 'betray': 2326, 'worthwhil': 2327, 'fade': 2328, 'encourag': 2329, 'sir': 2330, 'inept': 2331, 'fabul': 2332, 'sink': 2333, 'lazi': 2334, 'jon': 2335, 'imageri': 2336, 'survivor': 2337, 'lisa': 2338, 'teeth': 2339, 'bell': 2340, 'shower': 2341, 'cousin': 2342, 'relev': 2343, 'susan': 2344, 'retard': 2345, 'storm': 2346, 'bag': 2347, 'branagh': 2348, 'facial': 2349, 'hugh': 2350, 'summari': 2351, 'alright': 2352, 'mexico': 2353, 'tremend': 2354, 'bride': 2355, 'stab': 2356, 'finger': 2357, 'trade': 2358, 'toler': 2359, 'quirki': 2360, 'shark': 2361, 'pose': 2362, 'hyster': 2363, 'ha': 2364, 'bitter': 2365, 'blown': 2366, 'von': 2367, 'cruel': 2368, 'address': 2369, 'christ': 2370, 'scheme': 2371, 'larri': 2372, 'afterward': 2373, 'bone': 2374, 'ron': 2375, 'ned': 2376, 'snake': 2377, 'screw': 2378, 'swear': 2379, 'feed': 2380, 'pursu': 2381, 'beg': 2382, 'distinct': 2383, 'tour': 2384, 'traci': 2385, 'thumb': 2386, 'photo': 2387, 'raw': 2388, 'obscur': 2389, 'occas': 2390, 'mechan': 2391, 'chair': 2392, 'stomach': 2393, 'chain': 2394, 'render': 2395, 'resist': 2396, 'cabin': 2397, 'heavili': 2398, 'argument': 2399, 'holiday': 2400, 'hardi': 2401, 'gruesom': 2402, 'necessarili': 2403, 'southern': 2404, 'sidney': 2405, 'understood': 2406, 'satan': 2407, 'racist': 2408, 'india': 2409, 'indulg': 2410, 'philip': 2411, 'outfit': 2412, 'tongu': 2413, 'pregnant': 2414, 'belov': 2415, 'obnoxi': 2416, 'lay': 2417, 'stalk': 2418, 'fourth': 2419, 'midnight': 2420, 'forgot': 2421, 'integr': 2422, 'inhabit': 2423, 'magazin': 2424, 'restor': 2425, 'carol': 2426, 'garden': 2427, 'slapstick': 2428, 'ticket': 2429, 'deeper': 2430, '17': 2431, 'shoe': 2432, 'incid': 2433, 'brad': 2434, 'devot': 2435, 'lincoln': 2436, 'divorc': 2437, 'sandler': 2438, 'disbelief': 2439, 'anticip': 2440, 'guarante': 2441, 'lili': 2442, 'maria': 2443, 'underground': 2444, 'benefit': 2445, 'elizabeth': 2446, 'amazingli': 2447, 'slave': 2448, 'explod': 2449, 'cring': 2450, 'capit': 2451, 'mildli': 2452, 'princip': 2453, 'bbc': 2454, 'greater': 2455, 'creation': 2456, 'lesli': 2457, 'extraordinari': 2458, 'funnier': 2459, 'halfway': 2460, 'introduct': 2461, 'overwhelm': 2462, 'punish': 2463, 'advantag': 2464, 'extent': 2465, 'tap': 2466, 'wreck': 2467, 'transfer': 2468, 'enhanc': 2469, 'text': 2470, 'east': 2471, 'error': 2472, 'jessica': 2473, 'horrif': 2474, 'plant': 2475, 'preview': 2476, 'lo': 2477, 'dynam': 2478, 'lane': 2479, 'deliber': 2480, 'appli': 2481, 'sophist': 2482, 'vincent': 2483, 'basi': 2484, 'miller': 2485, 'ensu': 2486, 'miscast': 2487, '2000': 2488, 'homosexu': 2489, 'vacat': 2490, 'measur': 2491, 'via': 2492, 'elev': 2493, 'steel': 2494, 'uncomfort': 2495, 'reed': 2496, 'extend': 2497, 'sleazi': 2498, 'mansion': 2499, 'bollywood': 2500, 'spoken': 2501, 'breathtak': 2502, 'fix': 2503, 'alter': 2504, 'daili': 2505, 'cathol': 2506, 'blair': 2507, 'stanley': 2508, 'beer': 2509, 'assign': 2510, 'savag': 2511, 'hippi': 2512, 'conceiv': 2513, 'mous': 2514, 'dentist': 2515, 'overact': 2516, 'melt': 2517, 'goofi': 2518, 'inspector': 2519, 'burt': 2520, 'properli': 2521, 'oppos': 2522, 'subsequ': 2523, 'everyday': 2524, 'succe': 2525, 'nowaday': 2526, 'sacrific': 2527, 'carpent': 2528, 'neck': 2529, 'laura': 2530, 'massacr': 2531, 'circl': 2532, 'block': 2533, 'lesser': 2534, 'access': 2535, 'fallen': 2536, 'seagal': 2537, 'pool': 2538, 'portrait': 2539, 'grey': 2540, 'mob': 2541, 'fay': 2542, 'christi': 2543, 'concert': 2544, 'sinist': 2545, 'jake': 2546, 'usa': 2547, 'competit': 2548, 'isol': 2549, 'chees': 2550, 'jewish': 2551, 'react': 2552, 'relax': 2553, 'stink': 2554, 'spiritu': 2555, 'chop': 2556, '2006': 2557, 'immens': 2558, 'lyric': 2559, 'creep': 2560, 'ironi': 2561, 'nonetheless': 2562, 'suitabl': 2563, 'nine': 2564, 'appal': 2565, 'sold': 2566, 'retir': 2567, 'nut': 2568, 'adopt': 2569, 'user': 2570, 'needless': 2571, 'rage': 2572, 'reduc': 2573, 'franchis': 2574, 'spring': 2575, 'shirt': 2576, 'showcas': 2577, 'navi': 2578, 'luci': 2579, 'bath': 2580, 'nurs': 2581, 'zone': 2582, 'asham': 2583, 'bulli': 2584, 'digit': 2585, 'per': 2586, 'jay': 2587, 'uninspir': 2588, 'stanwyck': 2589, 'broadcast': 2590, 'illustr': 2591, 'amongst': 2592, 'oddli': 2593, '1940': 2594, 'laid': 2595, 'sutherland': 2596, 'upper': 2597, '2001': 2598, 'fulfil': 2599, 'disguis': 2600, 'aspir': 2601, 'baker': 2602, 'throat': 2603, 'brando': 2604, 'stylish': 2605, 'endear': 2606, 'pound': 2607, 'impli': 2608, 'nobl': 2609, '18': 2610, 'wanna': 2611, 'pride': 2612, 'wwii': 2613, 'em': 2614, 'neighborhood': 2615, 'thief': 2616, 'cinematograph': 2617, 'coher': 2618, 'shift': 2619, 'albeit': 2620, 'shoulder': 2621, 'bo': 2622, 'distribut': 2623, 'dinner': 2624, 'prop': 2625, '16': 2626, 'tens': 2627, 'diseas': 2628, 'dawn': 2629, 'bett': 2630, 'rochest': 2631, 'wash': 2632, 'rebel': 2633, 'poignant': 2634, 'surf': 2635, 'silenc': 2636, 'contract': 2637, 'knife': 2638, 'function': 2639, 'forti': 2640, 'matthau': 2641, 'snow': 2642, 'shout': 2643, 'internet': 2644, 'duti': 2645, 'height': 2646, 'henc': 2647, 'chuck': 2648, 'heat': 2649, 'cancel': 2650, 'reunion': 2651, 'instinct': 2652, 'horrend': 2653, 'eeri': 2654, 'silver': 2655, 'derek': 2656, 'proof': 2657, 'mindless': 2658, 'elvira': 2659, 'cannib': 2660, 'widmark': 2661, 'absorb': 2662, 'musician': 2663, 'neat': 2664, 'elvi': 2665, 'greatli': 2666, 'premier': 2667, 'etern': 2668, 'repetit': 2669, 'alik': 2670, 'spielberg': 2671, 'pie': 2672, 'torn': 2673, 'glori': 2674, 'innov': 2675, 'mill': 2676, 'incoher': 2677, 'announc': 2678, 'britain': 2679, 'horrifi': 2680, 'lovabl': 2681, 'redempt': 2682, 'blank': 2683, 'homag': 2684, 'trite': 2685, 'precis': 2686, 'racism': 2687, 'infam': 2688, 'crisi': 2689, 'burton': 2690, 'wealthi': 2691, 'fbi': 2692, 'bang': 2693, 'nelson': 2694, 'diamond': 2695, 'itali': 2696, 'helen': 2697, 'dedic': 2698, 'happili': 2699, 'parallel': 2700, 'resolut': 2701, 'flop': 2702, 'ensembl': 2703, 'hammer': 2704, 'wilder': 2705, 'chaplin': 2706, 'pat': 2707, 'streisand': 2708, 'st': 2709, 'factori': 2710, 'conclud': 2711, 'mar': 2712, 'triumph': 2713, 'cube': 2714, 'oil': 2715, 'carter': 2716, 'plastic': 2717, 'disagre': 2718, 'broke': 2719, 'fighter': 2720, 'climb': 2721, 'rocket': 2722, 'chuckl': 2723, 'own': 2724, 'row': 2725, 'bush': 2726, 'vega': 2727, 'march': 2728, 'weight': 2729, 'dane': 2730, 'enorm': 2731, 'kurt': 2732, 'luca': 2733, 'dump': 2734, 'meaning': 2735, 'boot': 2736, 'sensibl': 2737, 'mst3k': 2738, 'wherea': 2739, 'unforgett': 2740, 'lust': 2741, 'thug': 2742, 'spare': 2743, 'adequ': 2744, 'dear': 2745, 'fifti': 2746, 'arnold': 2747, 'caricatur': 2748, 'engin': 2749, 'butt': 2750, 'brand': 2751, 'bobbi': 2752, 'rap': 2753, 'stress': 2754, 'threat': 2755, 'difficulti': 2756, 'karloff': 2757, 'swing': 2758, 'polish': 2759, 'barri': 2760, 'fest': 2761, 'elabor': 2762, 'journalist': 2763, 'hamlet': 2764, 'arrog': 2765, 'ralph': 2766, 'ego': 2767, 'secretari': 2768, 'homeless': 2769, 'flynn': 2770, 'puppet': 2771, 'float': 2772, 'simpson': 2773, 'induc': 2774, 'arrang': 2775, 'unbear': 2776, 'conspiraci': 2777, 'resort': 2778, 'spike': 2779, 'grate': 2780, 'tool': 2781, 'fanci': 2782, 'guilt': 2783, 'basement': 2784, 'choreograph': 2785, 'tribut': 2786, 'pig': 2787, 'phillip': 2788, 'boll': 2789, 'exercis': 2790, 'muppet': 2791, 'cruis': 2792, 'slip': 2793, 'korean': 2794, 'medium': 2795, 'editor': 2796, 'babe': 2797, 'file': 2798, 'stan': 2799, 'ward': 2800, 'document': 2801, 'toilet': 2802, 'puzzl': 2803, 'item': 2804, '24': 2805, 'scarecrow': 2806, 'fianc': 2807, 'ham': 2808, 'layer': 2809, 'tower': 2810, 'librari': 2811, 'transit': 2812, 'inexplic': 2813, 'larger': 2814, 'assur': 2815, 'territori': 2816, 'slaughter': 2817, 'persona': 2818, 'superfici': 2819, 'spark': 2820, 'glover': 2821, 'orient': 2822, 'catherin': 2823, 'portion': 2824, 'doc': 2825, 'philosoph': 2826, 'denzel': 2827, 'minim': 2828, 'owe': 2829, 'wolf': 2830, 'boredom': 2831, 'walken': 2832, 'sneak': 2833, 'shi': 2834, 'financi': 2835, 'pg': 2836, 'curti': 2837, 'ban': 2838, 'jet': 2839, 'dorothi': 2840, 'jeremi': 2841, 'ambigu': 2842, 'eleph': 2843, 'multi': 2844, 'hudson': 2845, 'metaphor': 2846, 'backdrop': 2847, 'cusack': 2848, 'profound': 2849, 'whale': 2850, 'union': 2851, 'ultra': 2852, 'hack': 2853, 'viru': 2854, 'gadget': 2855, 'elsewher': 2856, 'implaus': 2857, 'notion': 2858, 'stiff': 2859, 'birthday': 2860, '2005': 2861, 'rave': 2862, 'distanc': 2863, 'disc': 2864, 'hawk': 2865, 'poison': 2866, 'bibl': 2867, 'eastwood': 2868, 'lloyd': 2869, 'slight': 2870, 'newspap': 2871, 'deriv': 2872, 'reader': 2873, 'squar': 2874, 'afford': 2875, 'pad': 2876, 'eva': 2877, 'superhero': 2878, '1st': 2879, 'urg': 2880, 'canada': 2881, 'cure': 2882, 'sadist': 2883, 'drown': 2884, 'health': 2885, 'spread': 2886, 'skit': 2887, 'restaur': 2888, 'huh': 2889, 'essenc': 2890, 'heston': 2891, 'charisma': 2892, 'button': 2893, 'montag': 2894, 'peak': 2895, 'maniac': 2896, 'fetch': 2897, 'lab': 2898, 'invest': 2899, 'estat': 2900, 'gradual': 2901, 'companion': 2902, 'godfath': 2903, 'dealt': 2904, 'muslim': 2905, 'scoobi': 2906, 'tea': 2907, 'servant': 2908, 'kane': 2909, 'alli': 2910, 'subtleti': 2911, 'miik': 2912, 'countless': 2913, 'gothic': 2914, 'ritter': 2915, 'cup': 2916, 'heroic': 2917, 'charismat': 2918, 'briefli': 2919, 'elect': 2920, 'electr': 2921, 'iii': 2922, 'salli': 2923, 'grandmoth': 2924, 'tender': 2925, 'reel': 2926, 'ingredi': 2927, 'cole': 2928, 'admittedli': 2929, 'neil': 2930, 'toss': 2931, 'nuanc': 2932, 'wannab': 2933, 'resourc': 2934, 'bud': 2935, 'label': 2936, 'stood': 2937, 'gate': 2938, 'pit': 2939, 'shall': 2940, 'reev': 2941, 'mafia': 2942, 'kubrick': 2943, 'poverti': 2944, 'dawson': 2945, 'pauli': 2946, 'mild': 2947, 'punk': 2948, 'stronger': 2949, 'carrey': 2950, 'cox': 2951, 'smooth': 2952, 'ian': 2953, 'terri': 2954, 'tag': 2955, 'updat': 2956, 'cardboard': 2957, 'easier': 2958, 'bakshi': 2959, 'useless': 2960, 'assault': 2961, 'burst': 2962, 'smash': 2963, 'outcom': 2964, 'fond': 2965, 'astair': 2966, 'vulner': 2967, 'sketch': 2968, 'divers': 2969, 'vari': 2970, 'qualifi': 2971, 'increasingli': 2972, 'resolv': 2973, 'coincid': 2974, 'fist': 2975, '2002': 2976, 'melodramat': 2977, 'exchang': 2978, 'samurai': 2979, 'rex': 2980, 'tame': 2981, 'be': 2982, 'scratch': 2983, 'reynold': 2984, 'insert': 2985, 'brillianc': 2986, 'templ': 2987, 'conveni': 2988, 'suspend': 2989, 'luckili': 2990, 'blast': 2991, 'gotta': 2992, 'meat': 2993, 'walker': 2994, 'strictli': 2995, 'farm': 2996, 'hamilton': 2997, 'coach': 2998, 'pin': 2999, 'seventi': 3000, 'jami': 3001, 'fisher': 3002, 'nuclear': 3003, 'soprano': 3004, 'matthew': 3005, 'ambiti': 3006, 'closet': 3007, 'struck': 3008, 'empir': 3009, 'discoveri': 3010, 'eccentr': 3011, 'revers': 3012, 'monk': 3013, 'instantli': 3014, 'kudo': 3015, 'convolut': 3016, 'grasp': 3017, 'worthless': 3018, 'timeless': 3019, 'joey': 3020, 'recreat': 3021, 'brosnan': 3022, 'spooki': 3023, 'clock': 3024, 'cave': 3025, 'ninja': 3026, 'butcher': 3027, 'importantli': 3028, 'gray': 3029, 'declar': 3030, 'miracl': 3031, 'eighti': 3032, 'sidekick': 3033, 'mitchel': 3034, 'partli': 3035, 'norman': 3036, 'pal': 3037, 'clown': 3038, 'evok': 3039, 'seller': 3040, 'inconsist': 3041, 'sloppi': 3042, 'wipe': 3043, 'fifteen': 3044, 'selfish': 3045, 'cliff': 3046, 'communist': 3047, 'bleak': 3048, 'debat': 3049, 'destin': 3050, 'cheek': 3051, 'psychiatrist': 3052, 'farc': 3053, 'ho': 3054, 'aforement': 3055, 'websit': 3056, 'chew': 3057, 'flawless': 3058, 'australia': 3059, 'piano': 3060, 'superbl': 3061, 'lifestyl': 3062, 'seed': 3063, '45': 3064, 'enthusiast': 3065, 'stoog': 3066, 'wick': 3067, 'pressur': 3068, 'soviet': 3069, 'kitchen': 3070, 'akshay': 3071, 'slice': 3072, 'abc': 3073, 'splatter': 3074, 'incompet': 3075, 'directori': 3076, 'regardless': 3077, 'bash': 3078, 'wrestl': 3079, 'drivel': 3080, 'emili': 3081, 'anni': 3082, 'dash': 3083, 'dire': 3084, 'glow': 3085, 'jar': 3086, 'blob': 3087, 'recov': 3088, 'chapter': 3089, 'pleasantli': 3090, 'artifici': 3091, 'helicopt': 3092, 'distant': 3093, 'duo': 3094, 'dave': 3095, 'curios': 3096, 'beaten': 3097, 'mann': 3098, 'prize': 3099, 'flower': 3100, 'increas': 3101, 'seduc': 3102, 'cameron': 3103, 'boil': 3104, 'cia': 3105, 'cagney': 3106, 'lou': 3107, 'ken': 3108, 'doo': 3109, 'suppli': 3110, 'judi': 3111, 'turner': 3112, 'psychot': 3113, 'panic': 3114, 'favour': 3115, 'hop': 3116, 'glenn': 3117, 'combat': 3118, 'drunken': 3119, 'goldberg': 3120, 'craig': 3121, 'francisco': 3122, 'eleg': 3123, 'splendid': 3124, 'laurel': 3125, 'perri': 3126, 'ellen': 3127, 'web': 3128, 'craven': 3129, 'ranger': 3130, 'ruth': 3131, 'plausibl': 3132, 'graduat': 3133, 'gentl': 3134, '20th': 3135, 'philosophi': 3136, 'alexand': 3137, 'min': 3138, 'wizard': 3139, 'greek': 3140, 'shortli': 3141, 'fx': 3142, 'rid': 3143, 'hatr': 3144, 'slightest': 3145, 'flip': 3146, 'modesti': 3147, 'falk': 3148, 'gandhi': 3149, 'tall': 3150, 'futurist': 3151, 'harm': 3152, 'knight': 3153, 'ocean': 3154, 'fund': 3155, 'preciou': 3156, 'holi': 3157, 'unpleas': 3158, 'legal': 3159, 'jealou': 3160, 'lend': 3161, 'dracula': 3162, 'manhattan': 3163, 'we': 3164, 'felix': 3165, 'reviv': 3166, 'bless': 3167, 'forbidden': 3168, 'giallo': 3169, 'tank': 3170, 'ami': 3171, 'digniti': 3172, 'explicit': 3173, 'thread': 3174, 'scientif': 3175, 'overdon': 3176, 'childish': 3177, 'mock': 3178, 'nod': 3179, 'elderli': 3180, 'awe': 3181, 'awaken': 3182, 'thick': 3183, 'torment': 3184, 'repeatedli': 3185, 'pirat': 3186, 'margaret': 3187, '2004': 3188, 'mel': 3189, 'eve': 3190, 'broad': 3191, 'fever': 3192, 'yesterday': 3193, 'unwatch': 3194, 'nerv': 3195, '99': 3196, 'verhoeven': 3197, 'politician': 3198, 'uniform': 3199, 'eas': 3200, 'launch': 3201, 'timothi': 3202, 'rivet': 3203, 'roman': 3204, 'custom': 3205, 'royal': 3206, 'absenc': 3207, 'griffith': 3208, 'ambit': 3209, 'automat': 3210, 'acclaim': 3211, 'lean': 3212, 'kay': 3213, 'bin': 3214, 'stiller': 3215, 'ah': 3216, 'romero': 3217, 'publish': 3218, 'darker': 3219, 'transport': 3220, 'gabriel': 3221, 'phrase': 3222, 'pierc': 3223, 'foul': 3224, 'termin': 3225, 'sunshin': 3226, 'purpl': 3227, 'tomato': 3228, 'pulp': 3229, 'bathroom': 3230, 'warren': 3231, 'antic': 3232, 'homicid': 3233, 'stinker': 3234, 'crook': 3235, 'wallac': 3236, 'sixti': 3237, 'marin': 3238, 'kenneth': 3239, 'packag': 3240, 'q': 3241, 'horrid': 3242, 'li': 3243, 'juvenil': 3244, 'prom': 3245, 'album': 3246, 'coloni': 3247, 'evolv': 3248, 'pray': 3249, 'karen': 3250, '2003': 3251, 'ought': 3252, 'choreographi': 3253, 'eyr': 3254, 'awak': 3255, 'contrari': 3256, 'revolutionari': 3257, 'viciou': 3258, 'brazil': 3259, 'hollow': 3260, 'saint': 3261, 'rambo': 3262, 'donna': 3263, 'blade': 3264, 'stole': 3265, 'conserv': 3266, 'boast': 3267, 'mummi': 3268, 'dose': 3269, 'overr': 3270, 'nerd': 3271, 'candid': 3272, 'kapoor': 3273, 'defi': 3274, 'ramon': 3275, 'twelv': 3276, 'ireland': 3277, 'option': 3278, 'beatti': 3279, 'mildr': 3280, 'funer': 3281, 'trio': 3282, 'kirk': 3283, 'natali': 3284, 'flame': 3285, 'detract': 3286, 'collabor': 3287, 'astonish': 3288, 'jazz': 3289, 'global': 3290, 'confirm': 3291, 'altman': 3292, 'protest': 3293, 'fulci': 3294, 'bull': 3295, 'tommi': 3296, 'whip': 3297, 'racial': 3298, 'spit': 3299, 'delici': 3300, 'shade': 3301, 'yellow': 3302, 'mystic': 3303, 'nicholson': 3304, 'enterpris': 3305, 'audio': 3306, 'leap': 3307, 'destini': 3308, 'blake': 3309, 'bottl': 3310, 'bedroom': 3311, 'vivid': 3312, 'reunit': 3313, 'fonda': 3314, 'merci': 3315, 'popcorn': 3316, 'visibl': 3317, 'enchant': 3318, 'adolesc': 3319, 'todd': 3320, 'altogeth': 3321, 'inherit': 3322, 'neo': 3323, 'meaningless': 3324, 'harder': 3325, 'staff': 3326, 'threw': 3327, 'swedish': 3328, 'pseudo': 3329, 'respond': 3330, 'moodi': 3331, 'fanat': 3332, 'reserv': 3333, 'await': 3334, 'suspici': 3335, 'jew': 3336, 'wire': 3337, 'madonna': 3338, 'atlanti': 3339, 'synopsi': 3340, 'tip': 3341, 'lemmon': 3342, 'bust': 3343, 'kennedi': 3344, 'befriend': 3345, 'crocodil': 3346, 'uneven': 3347, 'edi': 3348, 'ruthless': 3349, 'exhibit': 3350, 'decor': 3351, 'roommat': 3352, 'lawrenc': 3353, 'leonard': 3354, 'voight': 3355, 'ventur': 3356, 'holli': 3357, 'centr': 3358, 'abysm': 3359, 'clint': 3360, 'incident': 3361, 'clumsi': 3362, 'audit': 3363, 'bargain': 3364, '2007': 3365, 'chao': 3366, 'dimens': 3367, 'voyag': 3368, 'rural': 3369, 'bold': 3370, 'bradi': 3371, 'garner': 3372, 'carl': 3373, 'unsettl': 3374, 'palma': 3375, 'nearbi': 3376, 'imperson': 3377, 'neglect': 3378, 'cd': 3379, 'daddi': 3380, 'trail': 3381, 'echo': 3382, 'humili': 3383, 'ant': 3384, 'lit': 3385, 'acknowledg': 3386, 'hart': 3387, 'immigr': 3388, 'wealth': 3389, 'mall': 3390, 'poetic': 3391, 'elimin': 3392, 'versu': 3393, 'tiger': 3394, 'troop': 3395, 'cuba': 3396, '2nd': 3397, 'timon': 3398, 'characterist': 3399, 'cari': 3400, 'repuls': 3401, 'saga': 3402, 'solo': 3403, 'prejudic': 3404, 'homer': 3405, 'paus': 3406, 'jeffrey': 3407, 'marshal': 3408, 'domest': 3409, 'infect': 3410, 'mickey': 3411, 'collaps': 3412, 'celluloid': 3413, 'pun': 3414, 'mistaken': 3415, 'equip': 3416, 'inappropri': 3417, 'promin': 3418, 'hbo': 3419, 'milk': 3420, 'cake': 3421, 'coffe': 3422, 'apolog': 3423, 'ginger': 3424, 'chest': 3425, 'undoubtedli': 3426, 'interrupt': 3427, 'pant': 3428, 'olivi': 3429, 'sore': 3430, 'coat': 3431, 'gear': 3432, '1996': 3433, 'assembl': 3434, 'inan': 3435, 'harvey': 3436, 'tribe': 3437, 'leon': 3438, 'consum': 3439, 'instant': 3440, 'maggi': 3441, 'institut': 3442, 'aveng': 3443, 'devast': 3444, 'exot': 3445, 'furthermor': 3446, 'vulgar': 3447, 'colonel': 3448, 'retain': 3449, 'trace': 3450, 'embrac': 3451, 'airplan': 3452, 'pot': 3453, 'brooklyn': 3454, 'colleagu': 3455, 'solut': 3456, 'humbl': 3457, 'jenni': 3458, 'primari': 3459, 'highest': 3460, 'pen': 3461, 'florida': 3462, 'polanski': 3463, 'poke': 3464, 'descend': 3465, 'outer': 3466, 'principl': 3467, 'sale': 3468, 'bowl': 3469, 'strain': 3470, 'ya': 3471, 'dutch': 3472, 'illog': 3473, '1999': 3474, 'dian': 3475, 'linda': 3476, 'rick': 3477, 'smaller': 3478, 'seduct': 3479, 'gender': 3480, 'disabl': 3481, 'cope': 3482, '3rd': 3483, 'wive': 3484, 'godzilla': 3485, 'bubbl': 3486, 'primarili': 3487, 'yard': 3488, 'secondli': 3489, 'lol': 3490, 'vast': 3491, 'scope': 3492, 'cue': 3493, 'predecessor': 3494, 'dud': 3495, 'blatant': 3496, 'devoid': 3497, 'beneath': 3498, 'rabbit': 3499, 'gloriou': 3500, 'dive': 3501, 'mixtur': 3502, 'glamor': 3503, 'hal': 3504, 'inferior': 3505, 'gundam': 3506, 'invas': 3507, 'simplist': 3508, 'z': 3509, 'et': 3510, 'shirley': 3511, 'casual': 3512, 'arab': 3513, 'aggress': 3514, 'april': 3515, 'disjoint': 3516, 'breed': 3517, 'shelf': 3518, 'hideou': 3519, 'senseless': 3520, 'alfr': 3521, 'talki': 3522, 'streep': 3523, 'alert': 3524, 'trademark': 3525, 'domino': 3526, 'museum': 3527, 'pearl': 3528, 'countrysid': 3529, 'myer': 3530, 'garbo': 3531, 'grinch': 3532, 'hopeless': 3533, 'stack': 3534, 'vanish': 3535, 'slide': 3536, 'sh': 3537, 'robinson': 3538, 'obtain': 3539, 'rendit': 3540, 'boom': 3541, 'unhappi': 3542, 'stir': 3543, 'experiment': 3544, 'oz': 3545, 'stellar': 3546, 'mail': 3547, 'acid': 3548, 'mayor': 3549, 'illeg': 3550, 'defens': 3551, 'loyal': 3552, 'robberi': 3553, 'uwe': 3554, 'disgrac': 3555, 'hardcor': 3556, 'applaud': 3557, 'khan': 3558, 'maci': 3559, 'emphasi': 3560, 'dismiss': 3561, 'incomprehens': 3562, 'blew': 3563, 'psychic': 3564, 'wont': 3565, 'rifl': 3566, 'fri': 3567, 'craze': 3568, 'tenant': 3569, 'recruit': 3570, 'amanda': 3571, 'span': 3572, 'topless': 3573, 'berlin': 3574, 'scroog': 3575, 'tempt': 3576, 'soccer': 3577, 'counter': 3578, 'diana': 3579, 'spider': 3580, 'grandfath': 3581, 'declin': 3582, 'dicken': 3583, 'hartley': 3584, 'sympath': 3585, 'resurrect': 3586, 'sibl': 3587, 'bitch': 3588, 'niro': 3589, 'parad': 3590, 'revolt': 3591, 'ethnic': 3592, 'shaw': 3593, 'woo': 3594, 'trashi': 3595, 'riot': 3596, 'intim': 3597, 'ration': 3598, 'wet': 3599, 'shed': 3600, 'porno': 3601, 'goer': 3602, 'faster': 3603, 'lumet': 3604, 'justin': 3605, 'eager': 3606, 'steam': 3607, 'region': 3608, '00': 3609, 'honesti': 3610, 'wheel': 3611, 'feminist': 3612, 'commend': 3613, 'worm': 3614, 'unreal': 3615, 'slick': 3616, 'biographi': 3617, 'dealer': 3618, 'jonathan': 3619, 'enlighten': 3620, 'mario': 3621, 'farmer': 3622, 'immort': 3623, 'ensur': 3624, 'weakest': 3625, 'patriot': 3626, 'partial': 3627, 'gap': 3628, 'hesit': 3629, 'hopper': 3630, 'choru': 3631, 'wendi': 3632, 'ballet': 3633, 'lena': 3634, 'nephew': 3635, 'rider': 3636, 'andr': 3637, 'psychopath': 3638, 'owen': 3639, 'composit': 3640, 'sappi': 3641, 'morri': 3642, 'skull': 3643, 'prequel': 3644, 'util': 3645, 'hung': 3646, 'victori': 3647, 'safeti': 3648, 'franco': 3649, 'wore': 3650, 'properti': 3651, 'similarli': 3652, 'kingdom': 3653, 'charlott': 3654, 'nostalg': 3655, 'macarthur': 3656, 'snap': 3657, 'repress': 3658, 'confin': 3659, 'blunt': 3660, 'mutant': 3661, 'leo': 3662, 'vice': 3663, 'sandra': 3664, 'heartbreak': 3665, 'drain': 3666, '1972': 3667, 'cg': 3668, 'emperor': 3669, 'strand': 3670, 'compens': 3671, 'repli': 3672, 'despair': 3673, 'snl': 3674, 'rambl': 3675, 'exit': 3676, 'dalton': 3677, 'deed': 3678, 'acquir': 3679, 'pattern': 3680, 'del': 3681, 'dust': 3682, 'bumbl': 3683, 'latin': 3684, 'bergman': 3685, 'tad': 3686, 'bow': 3687, 'rope': 3688, 'thru': 3689, 'whoopi': 3690, 'hyde': 3691, 'compass': 3692, 'bonu': 3693, 'campbel': 3694, 'recycl': 3695, 'nervou': 3696, 'valuabl': 3697, 'rocki': 3698, 'tail': 3699, 'miseri': 3700, 'farrel': 3701, 'kyle': 3702, 'drum': 3703, 'montana': 3704, 'speci': 3705, 'radic': 3706, 'oppress': 3707, 'gal': 3708, 'airport': 3709, 'bleed': 3710, 'pour': 3711, 'olli': 3712, '35': 3713, 'wacki': 3714, 'slug': 3715, 'romp': 3716, 'carradin': 3717, 'martian': 3718, 'percept': 3719, 'contempl': 3720, 'rapist': 3721, 'downhil': 3722, 'mistress': 3723, 'roth': 3724, 'orson': 3725, 'chess': 3726, 'tonight': 3727, 'da': 3728, 'rotten': 3729, 'gimmick': 3730, 'paltrow': 3731, 'belt': 3732, 'champion': 3733, 'taught': 3734, 'shelley': 3735, 'pursuit': 3736, 'melodi': 3737, 'slash': 3738, 'heal': 3739, 'arc': 3740, 'pervers': 3741, 'tackl': 3742, 'preach': 3743, 'dazzl': 3744, 'stilt': 3745, 'pervert': 3746, 'unpredict': 3747, '1983': 3748, 'tooth': 3749, 'attorney': 3750, 'edgar': 3751, 'arguabl': 3752, 'banal': 3753, 'mislead': 3754, 'programm': 3755, 'mesmer': 3756, 'virginia': 3757, 'passeng': 3758, 'cleverli': 3759, 'gambl': 3760, 'uplift': 3761, 'sensat': 3762, 'maid': 3763, 'poem': 3764, 'franki': 3765, 'vocal': 3766, 'vengeanc': 3767, 'bela': 3768, 'orang': 3769, 'chicken': 3770, 'rubi': 3771, 'tiresom': 3772, 'graham': 3773, 'marti': 3774, 'closest': 3775, 'duval': 3776, 'conneri': 3777, 'plight': 3778, 'dixon': 3779, 'employe': 3780, 'raymond': 3781, 'secretli': 3782, 'climact': 3783, 'calm': 3784, 'extens': 3785, 'pokemon': 3786, 'sirk': 3787, 'tube': 3788, 'iran': 3789, 'abraham': 3790, 'quarter': 3791, 'monologu': 3792, 'swallow': 3793, 'whine': 3794, 'paranoia': 3795, 'volum': 3796, '1968': 3797, 'crystal': 3798, 'scottish': 3799, 'outing': 3800, 'yawn': 3801, 'suffic': 3802, 'profan': 3803, 'amitabh': 3804, 'mute': 3805, 'clone': 3806, 'convincingli': 3807, 'habit': 3808, 'bay': 3809, 'numb': 3810, 'lundgren': 3811, 'engross': 3812, 'inject': 3813, 'gerard': 3814, 'giggl': 3815, 'richardson': 3816, 'dispos': 3817, 'chicago': 3818, 'spock': 3819, 'franci': 3820, 'earl': 3821, 'fed': 3822, 'austen': 3823, 'underst': 3824, 'plod': 3825, 'poetri': 3826, 'expand': 3827, 'bend': 3828, 'lowest': 3829, 'trend': 3830, 'grotesqu': 3831, 'abort': 3832, 'linger': 3833, 'surpass': 3834, 'profess': 3835, 'nichola': 3836, 'frankenstein': 3837, 'taxi': 3838, 'backward': 3839, 'septemb': 3840, 'ethan': 3841, 'junior': 3842, 'im': 3843, 'meander': 3844, 'econom': 3845, 'catchi': 3846, 'stallon': 3847, 'household': 3848, 'instrument': 3849, 'simplic': 3850, 'spoke': 3851, 'myth': 3852, 'nostalgia': 3853, 'rant': 3854, 'eugen': 3855, 'mundan': 3856, 'compliment': 3857, 'greedi': 3858, 'waitress': 3859, 'hum': 3860, 'literatur': 3861, 'rubber': 3862, 'muddl': 3863, 'tourist': 3864, 'cannon': 3865, 'lure': 3866, 'dysfunct': 3867, 'descent': 3868, 'sue': 3869, 'der': 3870, 'firstli': 3871, 'flee': 3872, 'phantom': 3873, 'insur': 3874, 'map': 3875, 'occupi': 3876, 'duck': 3877, 'equival': 3878, 'crucial': 3879, 'dement': 3880, 'hello': 3881, 'irrelev': 3882, 'alongsid': 3883, 'damon': 3884, 'dictat': 3885, 'mankind': 3886, 'molli': 3887, 'louis': 3888, 'june': 3889, 'recognit': 3890, 'omen': 3891, 'mortal': 3892, 'recognis': 3893, 'phoni': 3894, 'coast': 3895, 'deaf': 3896, 'carel': 3897, 'cent': 3898, 'bacal': 3899, 'sissi': 3900, 'lang': 3901, 'randi': 3902, 'eaten': 3903, 'furi': 3904, 'stale': 3905, 'onlin': 3906, 'freez': 3907, 'twilight': 3908, 'reign': 3909, 'loyalti': 3910, 'lengthi': 3911, 'drake': 3912, 'rude': 3913, 'likewis': 3914, 'ashley': 3915, 'bump': 3916, 'daisi': 3917, 'dreari': 3918, 'damm': 3919, 'distinguish': 3920, '1973': 3921, 'labor': 3922, 'heel': 3923, 'bike': 3924, 'newli': 3925, 'biko': 3926, 'wisdom': 3927, 'blackmail': 3928, 'antwon': 3929, 'grayson': 3930, 'rooney': 3931, 'buffalo': 3932, 'cyborg': 3933, 'ridden': 3934, 'chronicl': 3935, 'incorpor': 3936, 'baddi': 3937, 'unorigin': 3938, 'attribut': 3939, 'barrymor': 3940, 'exposur': 3941, 'proce': 3942, 'interior': 3943, 'keith': 3944, 'basketbal': 3945, 'startl': 3946, 'emphas': 3947, 'nineti': 3948, 'boxer': 3949, 'worn': 3950, 'approv': 3951, 'vein': 3952, 'pink': 3953, 'inher': 3954, 'sailor': 3955, 'prey': 3956, 'provoc': 3957, 'butler': 3958, 'analysi': 3959, 'tunnel': 3960, 'belushi': 3961, 'mighti': 3962, 'fleet': 3963, 'indiffer': 3964, 'drift': 3965, 'simmon': 3966, 'degrad': 3967, 'barrel': 3968, 'substitut': 3969, 'er': 3970, 'unrel': 3971, 'predat': 3972, 'carla': 3973, 'othello': 3974, 'bunni': 3975, 'julian': 3976, 'underli': 3977, 'nicol': 3978, 'condemn': 3979, 'meyer': 3980, 'improvis': 3981, 'millionair': 3982, 'stalker': 3983, 'undeni': 3984, 'mormon': 3985, 'hypnot': 3986, 'walsh': 3987, 'robbin': 3988, 'elm': 3989, 'meg': 3990, 'vital': 3991, 'palac': 3992, 'unawar': 3993, 'disord': 3994, 'exquisit': 3995, 'watson': 3996, 'alarm': 3997, 'firm': 3998, 'nyc': 3999, 'novak': 4000, 'dolph': 4001, 'reid': 4002, 'lampoon': 4003, 'enthusiasm': 4004, 'warmth': 4005, 'alison': 4006, 'greed': 4007, 'shove': 4008, 'agenda': 4009, 'rukh': 4010, 'hay': 4011, 'edgi': 4012, 'mtv': 4013, '3d': 4014, 'priceless': 4015, 'roof': 4016, 'marion': 4017, 'errol': 4018, 'testament': 4019, 'championship': 4020, 'coup': 4021, 'peril': 4022, 'orlean': 4023, 'spain': 4024, 'showdown': 4025, 'sergeant': 4026, 'campaign': 4027, 'nun': 4028, 'glanc': 4029, 'distort': 4030, 'eastern': 4031, 'randomli': 4032, 'profit': 4033, 'minimum': 4034, 'peck': 4035, 'valentin': 4036, 'gestur': 4037, 'thompson': 4038, 'angela': 4039, 'pamela': 4040, 'israel': 4041, 'simultan': 4042, 'iraq': 4043, 'crown': 4044, 'petti': 4045, '13th': 4046, '1933': 4047, 'drip': 4048, 'preserv': 4049, 'unleash': 4050, 'cassidi': 4051, 'beatl': 4052, 'ponder': 4053, 'zizek': 4054, 'session': 4055, 'what': 4056, 'reson': 4057, 'han': 4058, 'cooki': 4059, 'scotland': 4060, 'cream': 4061, 'represent': 4062, 'bro': 4063, 'travesti': 4064, 'miyazaki': 4065, '1984': 4066, 'valley': 4067, 'calib': 4068, 'din': 4069, 'crow': 4070, 'realm': 4071, 'mon': 4072, 'restrain': 4073, 'regist': 4074, 'empathi': 4075, 'unimagin': 4076, 'stake': 4077, 'rout': 4078, 'exposit': 4079, 'crawl': 4080, 'fido': 4081, 'wig': 4082, 'shootout': 4083, 'gentleman': 4084, 'quinn': 4085, 'sabrina': 4086, 'perpetu': 4087, 'brenda': 4088, 'climat': 4089, 'kurosawa': 4090, 'buster': 4091, 'stroke': 4092, 'contradict': 4093, 'jan': 4094, 'delic': 4095, 'distress': 4096, 'ross': 4097, 'absent': 4098, 'pretens': 4099, 'traumat': 4100, 'cloud': 4101, 'monoton': 4102, 'perceiv': 4103, 'sammi': 4104, 'crawford': 4105, 'warrant': 4106, 'stargat': 4107, 'compromis': 4108, 'unseen': 4109, 'censor': 4110, 'shoddi': 4111, 'greg': 4112, 'unsatisfi': 4113, '1987': 4114, 'abomin': 4115, 'darren': 4116, 'shaki': 4117, 'tacki': 4118, 'femm': 4119, 'dana': 4120, 'baldwin': 4121, 'painter': 4122, 'pole': 4123, 'businessman': 4124, 'sucker': 4125, 'josh': 4126, 'soderbergh': 4127, 'wax': 4128, 'meryl': 4129, 'geek': 4130, '1997': 4131, 'demis': 4132, 'passabl': 4133, 'derang': 4134, 'fuller': 4135, 'spacey': 4136, 'mclaglen': 4137, 'ustinov': 4138, 'primit': 4139, 'fenc': 4140, 'uncov': 4141, 'kumar': 4142, 'reluct': 4143, 'deceas': 4144, 'verbal': 4145, 'correctli': 4146, 'wholli': 4147, 'polici': 4148, 'fog': 4149, 'sid': 4150, 'judgment': 4151, 'dee': 4152, 'unravel': 4153, 'seal': 4154, 'clash': 4155, 'deniro': 4156, 'exclus': 4157, 'accuraci': 4158, 'tech': 4159, 'tarantino': 4160, 'valid': 4161, 'austin': 4162, 'expedit': 4163, 'norm': 4164, 'click': 4165, 'anchor': 4166, 'nathan': 4167, '1993': 4168, 'jewel': 4169, 'antonioni': 4170, 'furiou': 4171, 'seldom': 4172, 'enforc': 4173, 'conduct': 4174, 'bake': 4175, '1995': 4176, 'behold': 4177, 'fabric': 4178, 'pocket': 4179, 'unfair': 4180, 'joel': 4181, 'wretch': 4182, 'sheet': 4183, 'trait': 4184, 'sustain': 4185, 'sand': 4186, 'clerk': 4187, '2008': 4188, 'murray': 4189, 'slam': 4190, 'dreck': 4191, 'logan': 4192, 'fart': 4193, 'wang': 4194, 'tax': 4195, 'nicola': 4196, 'mode': 4197, 'roller': 4198, 'fought': 4199, 'shanghai': 4200, 'sunni': 4201, 'hallucin': 4202, '3000': 4203, 'crippl': 4204, 'malon': 4205, 'alec': 4206, 'temper': 4207, 'ritual': 4208, 'patienc': 4209, 'vanc': 4210, 'debt': 4211, 'darn': 4212, '1971': 4213, 'grief': 4214, 'bridget': 4215, 'schedul': 4216, 'critiqu': 4217, 'isabel': 4218, 'despis': 4219, 'runner': 4220, 'soup': 4221, 'preston': 4222, 'technicolor': 4223, 'preposter': 4224, 'canyon': 4225, 'squad': 4226, 'guitar': 4227, 'tactic': 4228, 'clau': 4229, 'bias': 4230, 'legaci': 4231, 'divid': 4232, 'shell': 4233, 'rita': 4234, 'stark': 4235, 'pete': 4236, 'outlin': 4237, 'robber': 4238, 'stuart': 4239, 'phil': 4240, 'conscious': 4241, 'helpless': 4242, 'penni': 4243, 'exhaust': 4244, 'fundament': 4245, 'sweep': 4246, 'scriptwrit': 4247, 'unexpectedli': 4248, 'palanc': 4249, 'newman': 4250, 'jacket': 4251, 'flair': 4252, 'liberti': 4253, 'rehash': 4254, 'implic': 4255, 'cigarett': 4256, 'sugar': 4257, 'delv': 4258, 'alley': 4259, 'agenc': 4260, 'marc': 4261, 'gregori': 4262, 'sentinel': 4263, 'restrict': 4264, 'rear': 4265, 'inabl': 4266, 'invad': 4267, 'drove': 4268, 'connor': 4269, 'bloom': 4270, 'lacklust': 4271, 'vomit': 4272, 'russia': 4273, 'alicia': 4274, 'jodi': 4275, 'sniper': 4276, 'culmin': 4277, 'kansa': 4278, 'passag': 4279, 'propos': 4280, 'boyl': 4281, 'consciou': 4282, 'downey': 4283, 'feat': 4284, 'bacon': 4285, 'cap': 4286, 'mccoy': 4287, 'tendenc': 4288, 'improb': 4289, 'tripe': 4290, 'wrench': 4291, 'delet': 4292, 'aesthet': 4293, 'asylum': 4294, 'horn': 4295, 'chainsaw': 4296, 'rod': 4297, 'pale': 4298, '1936': 4299, 'karl': 4300, 'arrow': 4301, 'lush': 4302, 'ladder': 4303, 'rampag': 4304, 'awhil': 4305, 'rehears': 4306, 'foxx': 4307, '22': 4308, 'yeti': 4309, 'sharon': 4310, 'kolchak': 4311, 'vet': 4312, 'behaviour': 4313, '1988': 4314, 'shortcom': 4315, 'paradis': 4316, 'sung': 4317, 'coaster': 4318, 'rhythm': 4319, 'globe': 4320, '1920': 4321, 'loneli': 4322, 'lurk': 4323, 'visitor': 4324, 'wildli': 4325, 'amazon': 4326, 'tasteless': 4327, 'hungri': 4328, 'filler': 4329, '1978': 4330, 'underneath': 4331, 'hackney': 4332, 'basing': 4333, 'suspicion': 4334, 'thunderbird': 4335, 'elit': 4336, 'wagner': 4337, 'financ': 4338, 'spice': 4339, 'tomorrow': 4340, 'fright': 4341, '19th': 4342, 'weav': 4343, 'el': 4344, 'stream': 4345, 'minu': 4346, 'paramount': 4347, 'suffici': 4348, 'conscienc': 4349, 'newcom': 4350, 'prank': 4351, 'rumor': 4352, 'hulk': 4353, 'scoop': 4354, 'aristocrat': 4355, 'curli': 4356, 'minist': 4357, 'dirt': 4358, 'bread': 4359, 'grudg': 4360, 'penn': 4361, '1939': 4362, '1989': 4363, 'ingeni': 4364, 'hopkin': 4365, 'springer': 4366, 'leigh': 4367, '75': 4368, 'quietli': 4369, 'inmat': 4370, 'lectur': 4371, 'smell': 4372, 'counterpart': 4373, 'ram': 4374, 'couch': 4375, 'impos': 4376, 'straightforward': 4377, 'paxton': 4378, 'wwe': 4379, 'beverli': 4380, 'worship': 4381, 'en': 4382, 'teas': 4383, 'rub': 4384, 'heist': 4385, 'atroc': 4386, 'naughti': 4387, 'cancer': 4388, 'immers': 4389, 'secondari': 4390, 'chamberlain': 4391, 'tierney': 4392, 'iv': 4393, 'posey': 4394, 'choppi': 4395, 'standout': 4396, 'brit': 4397, 'recogniz': 4398, 'entranc': 4399, 'abrupt': 4400, 'literari': 4401, 'chavez': 4402, 'ace': 4403, 'convert': 4404, 'missil': 4405, 'injuri': 4406, 'quaid': 4407, 'cattl': 4408, 'laurenc': 4409, 'lindsay': 4410, 'skeptic': 4411, 'transcend': 4412, 'variat': 4413, 'misguid': 4414, 'heartfelt': 4415, 'morbid': 4416, 'nemesi': 4417, 'sublim': 4418, 'attenborough': 4419, 'enthral': 4420, 'geni': 4421, 'bernard': 4422, 'moreov': 4423, 'sassi': 4424, 'entitl': 4425, 'duel': 4426, 'net': 4427, 'clan': 4428, 'yearn': 4429, 'policeman': 4430, '1986': 4431, 'watcher': 4432, 'nolan': 4433, 'esther': 4434, 'ratso': 4435, 'spiral': 4436, 'egg': 4437, 'dont': 4438, 'brood': 4439, 'characteris': 4440, 'unexplain': 4441, 'moder': 4442, 'puppi': 4443, 'bye': 4444, 'vader': 4445, 'mytholog': 4446, 'grin': 4447, 'setup': 4448, 'bean': 4449, 'steadi': 4450, 'out': 4451, 'artsi': 4452, 'cruelti': 4453, 'graini': 4454, 'obstacl': 4455, 'tyler': 4456, 'youngest': 4457, 'diari': 4458, 'kitti': 4459, 'poe': 4460, 'uncut': 4461, 'hopelessli': 4462, 'enabl': 4463, 'reliabl': 4464, '1979': 4465, 'buzz': 4466, 'hk': 4467, 'rosemari': 4468, 'kidman': 4469, 'carlito': 4470, 'facil': 4471, 'acquaint': 4472, 'bewar': 4473, 'weather': 4474, 'disastr': 4475, 'hain': 4476, 'bounc': 4477, 'narrow': 4478, 'heap': 4479, 'exterior': 4480, 'niec': 4481, 'christin': 4482, 'hammi': 4483, 'underworld': 4484, 'oblig': 4485, 'despic': 4486, 'sweat': 4487, 'decept': 4488, 'athlet': 4489, 'baffl': 4490, 'clueless': 4491, '1969': 4492, 'kline': 4493, 'martha': 4494, 'patricia': 4495, 'gillian': 4496, 'preming': 4497, 'spontan': 4498, 'effici': 4499, 'brendan': 4500, 'bronson': 4501, 'gina': 4502, 'fuel': 4503, 'injur': 4504, 'enlist': 4505, 'mermaid': 4506, '19': 4507, 'analyz': 4508, 'harmless': 4509, 'outlaw': 4510, '73': 4511, 'taboo': 4512, 'virtu': 4513, 'shatter': 4514, 'housewif': 4515, 'dilemma': 4516, 'angst': 4517, 'astound': 4518, 'scar': 4519, 'fontain': 4520, 'circu': 4521, 'renaiss': 4522, 'tick': 4523, 'trigger': 4524, 'uh': 4525, 'insipid': 4526, 'biker': 4527, 'loath': 4528, 'hepburn': 4529, 'mayhem': 4530, 'headach': 4531, 'dandi': 4532, 'viewpoint': 4533, 'suprem': 4534, 'preachi': 4535, 'loi': 4536, 'sooner': 4537, 'rome': 4538, 'goof': 4539, 'sleepwalk': 4540, 'candl': 4541, 'lester': 4542, 'bent': 4543, 'whore': 4544, 'boston': 4545, 'sox': 4546, 'spade': 4547, 'surgeri': 4548, 'salt': 4549, 'hostag': 4550, 'idol': 4551, 'immatur': 4552, 'dismal': 4553, 'claustrophob': 4554, 'intric': 4555, 'ebert': 4556, 'glorifi': 4557, 'camcord': 4558, 'slimi': 4559, 'redund': 4560, 'stimul': 4561, 'filth': 4562, 'overlong': 4563, 'oldest': 4564, 'hokey': 4565, 'contempt': 4566, 'fluff': 4567, 'amor': 4568, 'gere': 4569, 'foolish': 4570, 'hooker': 4571, 'guin': 4572, 'steer': 4573, 'tripl': 4574, 'phenomenon': 4575, 'dish': 4576, 'stair': 4577, 'zoom': 4578, 'macho': 4579, 'scorses': 4580, 'cassavet': 4581, 'ariel': 4582, 'corbett': 4583, 'mount': 4584, 'faint': 4585, 'shield': 4586, 'astronaut': 4587, 'mutual': 4588, 'antagonist': 4589, 'harold': 4590, 'spree': 4591, 'schlock': 4592, 'spinal': 4593, 'flag': 4594, 'cohen': 4595, 'flirt': 4596, 'transplant': 4597, 'rhyme': 4598, 'gasp': 4599, 'zane': 4600, 'conquer': 4601, '1981': 4602, 'cow': 4603, 'perman': 4604, '1976': 4605, 'joker': 4606, 'nolt': 4607, 'muscl': 4608, 'keen': 4609, 'trivia': 4610, 'corman': 4611, 'beard': 4612, 'strongest': 4613, 'frantic': 4614, 'obligatori': 4615, 'gabl': 4616, 'widescreen': 4617, 'down': 4618, 'flashi': 4619, 'cush': 4620, 'remad': 4621, 'shred': 4622, 'dwarf': 4623, 'alvin': 4624, 'proport': 4625, 'preced': 4626, 'margin': 4627, 'fascist': 4628, 'assert': 4629, 'radiat': 4630, 'naschi': 4631, 'messi': 4632, 'mol': 4633, 'instruct': 4634, '28': 4635, 'departur': 4636, 'wield': 4637, 'resum': 4638, 'off': 4639, 'someday': 4640, 'claud': 4641, 'barn': 4642, 'raj': 4643, 'divin': 4644, 'boob': 4645, 'inflict': 4646, '1945': 4647, 'hara': 4648, 'sensual': 4649, 'deer': 4650, 'bachelor': 4651, 'scandal': 4652, 'triangl': 4653, 'strive': 4654, 'vaniti': 4655, 'discern': 4656, '95': 4657, 'interestingli': 4658, 'info': 4659, 'ritchi': 4660, 'brush': 4661, 'carey': 4662, 'mobil': 4663, 'www': 4664, 'archiv': 4665, 'fishburn': 4666, 'flock': 4667, 'persuad': 4668, 'neurot': 4669, 'danish': 4670, 'repris': 4671, 'bitten': 4672, 'aborigin': 4673, 'hug': 4674, 'hilar': 4675, 'bate': 4676, 'cliffhang': 4677, 'miracul': 4678, 'casino': 4679, 'pixar': 4680, 'artwork': 4681, 'kathryn': 4682, 'banter': 4683, 'vibrant': 4684, 'clad': 4685, 'axe': 4686, 'rot': 4687, 'cycl': 4688, 'recit': 4689, 'carlo': 4690, 'fragil': 4691, 'undermin': 4692, 'heartwarm': 4693, 'prophet': 4694, 'helm': 4695, 'submit': 4696, 'dylan': 4697, 'traffic': 4698, 'cher': 4699, 'jade': 4700, 'biblic': 4701, 'cb': 4702, 'ish': 4703, 'frontier': 4704, 'colin': 4705, 'mobster': 4706, 'melissa': 4707, 'pacif': 4708, 'wendigo': 4709, 'neill': 4710, 'dim': 4711, 'hapless': 4712, 'proclaim': 4713, 'senior': 4714, 'dame': 4715, 'pickford': 4716, 'earnest': 4717, 'luka': 4718, 'parson': 4719, 'timberlak': 4720, 'loretta': 4721, 'harrison': 4722, 'anton': 4723, 'europa': 4724, 'vanessa': 4725, 'electron': 4726, 'breakfast': 4727, 'orphan': 4728, 'foil': 4729, 'jo': 4730, 'redneck': 4731, 'aris': 4732, 'winchest': 4733, 'rooki': 4734, 'mason': 4735, 'akin': 4736, 'lucil': 4737, 'token': 4738, 'venom': 4739, 'flavor': 4740, 'articl': 4741, 'nope': 4742, 'feast': 4743, 'toronto': 4744, 'mathieu': 4745, 'estrang': 4746, 'sicken': 4747, 'bondag': 4748, 'razor': 4749, 'marlon': 4750, 'holocaust': 4751, 'uma': 4752, 'northern': 4753, 'cerebr': 4754, 'antholog': 4755, 'static': 4756, 'vile': 4757, 'isra': 4758, 'milo': 4759, 'shepherd': 4760, 'misfortun': 4761, 'blatantli': 4762, 'http': 4763, 'legitim': 4764, 'pc': 4765, 'bikini': 4766, 'alexandr': 4767, 'eli': 4768, 'lui': 4769, 'jordan': 4770, 'wardrob': 4771, 'illus': 4772, 'choke': 4773, 'seedi': 4774, 'trier': 4775, 'highway': 4776, 'oppon': 4777, 'knightley': 4778, 'leather': 4779, 'swept': 4780, 'clinic': 4781, 'smack': 4782, 'cartoonish': 4783, 'ideolog': 4784, 'styliz': 4785, 'huston': 4786, 'boyer': 4787, 'howl': 4788, 'fifth': 4789, 'affleck': 4790, 'gunga': 4791, 'magician': 4792, 'glare': 4793, 'wrestler': 4794, 'charlton': 4795, 'outdat': 4796, 'psych': 4797, 'nightclub': 4798, 'feminin': 4799, 'linear': 4800, 'turd': 4801, 'shorter': 4802, 'audrey': 4803, 'disregard': 4804, 'comprehend': 4805, 'frog': 4806, 'retriev': 4807, 'ceremoni': 4808, 'dudley': 4809, 'gilbert': 4810, 'abund': 4811, 'deem': 4812, 'peer': 4813, 'tack': 4814, 'cemeteri': 4815, 'durat': 4816, 'conrad': 4817, '1991': 4818, 'evolut': 4819, '4th': 4820, 'btw': 4821, 'bastard': 4822, 'spawn': 4823, 'corn': 4824, 'compris': 4825, 'energet': 4826, 'client': 4827, 'collector': 4828, 'snatch': 4829, 'cuban': 4830, 'senat': 4831, 'breakdown': 4832, 'boo': 4833, 'whack': 4834, 'plate': 4835, 'bogu': 4836, 'potter': 4837, 'newer': 4838, 'lighter': 4839, 'chip': 4840, 'salman': 4841, 'tara': 4842, 'spine': 4843, 'toe': 4844, 'phenomen': 4845, 'mitch': 4846, 'lavish': 4847, 'lifeless': 4848, 'deliver': 4849, 'summar': 4850, 'moe': 4851, '1994': 4852, 'monument': 4853, 'greet': 4854, 'sleaz': 4855, 'braveheart': 4856, 'goldsworthi': 4857, 'uniformli': 4858, 'einstein': 4859, 'nina': 4860, 'replay': 4861, 'mcqueen': 4862, 'judd': 4863, 'trauma': 4864, 'jedi': 4865, '1977': 4866, 'signal': 4867, 'creek': 4868, '1974': 4869, 'outright': 4870, 'gilliam': 4871, 'spectacl': 4872, 'sorrow': 4873, 'undertak': 4874, 'embark': 4875, 'ie': 4876, 'appl': 4877, 'fluid': 4878, 'constitut': 4879, 'cecil': 4880, 'wtf': 4881, 'undead': 4882, 'lex': 4883, 'randolph': 4884, 'occup': 4885, 'armstrong': 4886, 'bulk': 4887, 'jule': 4888, 'eleven': 4889, 'pronounc': 4890, 'ol': 4891, 'alleg': 4892, 'luxuri': 4893, 'bori': 4894, 'clara': 4895, 'firmli': 4896, 'healthi': 4897, 'jare': 4898, 'capot': 4899, 'historian': 4900, 'jam': 4901, 'kazan': 4902, 'belli': 4903, 'inaccuraci': 4904, 'neatli': 4905, 'kent': 4906, 'evelyn': 4907, 'liu': 4908, 'fruit': 4909, 'sidewalk': 4910, 'spray': 4911, 'id': 4912, 'kiddi': 4913, 'bait': 4914, 'blur': 4915, 'vain': 4916, '1985': 4917, 'comb': 4918, 'roar': 4919, 'miniseri': 4920, 'poker': 4921, 'porter': 4922, 'abound': 4923, 'groan': 4924, 'pepper': 4925, 'inaccur': 4926, 'rosario': 4927, 'congratul': 4928, 'miami': 4929, 'comprehens': 4930, 'sacrif': 4931, 'knee': 4932, 'paula': 4933, 'curtain': 4934, 'conan': 4935, 'goldblum': 4936, 'unattract': 4937, 'relentless': 4938, 'carmen': 4939, 'galaxi': 4940, 'pioneer': 4941, 'mum': 4942, 'decapit': 4943, 'unsuspect': 4944, 'subtli': 4945, 'truman': 4946, 'vignett': 4947, 'aussi': 4948, 'palm': 4949, 'walt': 4950, 'lauren': 4951, 'cape': 4952, 'lanc': 4953, 'ash': 4954, 'meal': 4955, 'inclus': 4956, 'basket': 4957, 'tokyo': 4958, 'antonio': 4959, 'genet': 4960, 'bsg': 4961, 'propheci': 4962, 'forgiven': 4963, 'sparkl': 4964, 'spill': 4965, 'verg': 4966, 'optimist': 4967, 'mice': 4968, 'drone': 4969, 'reincarn': 4970, 'asset': 4971, 'ingrid': 4972, 'detach': 4973, 'modest': 4974, 'epitom': 4975, 'incorrect': 4976, 'vastli': 4977, 'dubiou': 4978, 'casper': 4979, 'playboy': 4980, 'monti': 4981, 'bravo': 4982, 'weaker': 4983, '21st': 4984, 'substanti': 4985, 'macabr': 4986, 'scariest': 4987, 'rapidli': 4988, 'growth': 4989, 'hostil': 4990, 'orchestr': 4991, 'sophi': 4992, 'handicap': 4993, 'motorcycl': 4994, 'assort': 4995, 'hackman': 4996, 'weari': 4997, 'turtl': 4998, 'omin': 4999}\n"
     ]
    }
   ],
   "source": [
    "print(train_X[1])\n",
    "word_dict = build_dict(train_X)\n",
    "print(word_dict)"
   ]
  },
  {
   "cell_type": "markdown",
   "metadata": {},
   "source": [
    "**Question:** What are the five most frequently appearing (tokenized) words in the training set? Does it makes sense that these words appear frequently in the training set?"
   ]
  },
  {
   "cell_type": "markdown",
   "metadata": {},
   "source": [
    "**Answer:**"
   ]
  },
  {
   "cell_type": "code",
   "execution_count": 13,
   "metadata": {},
   "outputs": [
    {
     "name": "stdout",
     "output_type": "stream",
     "text": [
      "['movi', 'film', 'one', 'like', 'time']\n"
     ]
    }
   ],
   "source": [
    "# TODO: Use this space to determine the five most frequently appearing words in the training set.\n",
    "from itertools import islice\n",
    "\n",
    "most_frequent_words = list(islice(word_dict, 5))\n",
    "print(most_frequent_words)"
   ]
  },
  {
   "cell_type": "markdown",
   "metadata": {},
   "source": [
    "### Save `word_dict`\n",
    "\n",
    "Later on when we construct an endpoint which processes a submitted review we will need to make use of the `word_dict` which we have created. As such, we will save it to a file now for future use."
   ]
  },
  {
   "cell_type": "code",
   "execution_count": 14,
   "metadata": {},
   "outputs": [],
   "source": [
    "data_dir = '../data/pytorch' # The folder we will use for storing data\n",
    "if not os.path.exists(data_dir): # Make sure that the folder exists\n",
    "    os.makedirs(data_dir)"
   ]
  },
  {
   "cell_type": "code",
   "execution_count": 15,
   "metadata": {},
   "outputs": [],
   "source": [
    "with open(os.path.join(data_dir, 'word_dict.pkl'), \"wb\") as f:\n",
    "    pickle.dump(word_dict, f)"
   ]
  },
  {
   "cell_type": "markdown",
   "metadata": {},
   "source": [
    "### Transform the reviews\n",
    "\n",
    "Now that we have our word dictionary which allows us to transform the words appearing in the reviews into integers, it is time to make use of it and convert our reviews to their integer sequence representation, making sure to pad or truncate to a fixed length, which in our case is `500`."
   ]
  },
  {
   "cell_type": "code",
   "execution_count": 16,
   "metadata": {},
   "outputs": [],
   "source": [
    "def convert_and_pad(word_dict, sentence, pad=500):\n",
    "    NOWORD = 0 # We will use 0 to represent the 'no word' category\n",
    "    INFREQ = 1 # and we use 1 to represent the infrequent words, i.e., words not appearing in word_dict\n",
    "    \n",
    "    working_sentence = [NOWORD] * pad\n",
    "    \n",
    "    for word_index, word in enumerate(sentence[:pad]):\n",
    "        if word in word_dict:\n",
    "            working_sentence[word_index] = word_dict[word]\n",
    "        else:\n",
    "            working_sentence[word_index] = INFREQ\n",
    "            \n",
    "    return working_sentence, min(len(sentence), pad)\n",
    "\n",
    "def convert_and_pad_data(word_dict, data, pad=500):\n",
    "    result = []\n",
    "    lengths = []\n",
    "    \n",
    "    for sentence in data:\n",
    "        converted, leng = convert_and_pad(word_dict, sentence, pad)\n",
    "        result.append(converted)\n",
    "        lengths.append(leng)\n",
    "        \n",
    "    return np.array(result), np.array(lengths)"
   ]
  },
  {
   "cell_type": "code",
   "execution_count": 17,
   "metadata": {},
   "outputs": [],
   "source": [
    "train_X, train_X_len = convert_and_pad_data(word_dict, train_X)\n",
    "test_X, test_X_len = convert_and_pad_data(word_dict, test_X)"
   ]
  },
  {
   "cell_type": "markdown",
   "metadata": {},
   "source": [
    "As a quick check to make sure that things are working as intended, check to see what one of the reviews in the training set looks like after having been processeed. Does this look reasonable? What is the length of a review in the training set?"
   ]
  },
  {
   "cell_type": "code",
   "execution_count": 18,
   "metadata": {},
   "outputs": [
    {
     "data": {
      "text/plain": [
       "array([   2,    4,  174,  105,    2,   56,   47,  427,    1,    1,  945,\n",
       "       4639,  214,   23,  846,  351,  772,  404,    8,   66,   80,   80,\n",
       "        105,  396,   45, 3674, 1449,    1, 1474,  177,   81,  172,  189,\n",
       "       4477,   64,  299,    2,    1,    9,  933,   24, 1267,  171,  125,\n",
       "         41,  317,  174,   56,  343,  133,  794,    2, 4297,    1,  932,\n",
       "       1043, 1087,  262,  118,  122,  924, 1617,  609,  328, 4548, 4297,\n",
       "        664,  554,  828, 1054,  200, 1087, 4297,  892, 1087,  257,  597,\n",
       "          1,  364, 1455,    2,  133,   15, 1100,  677,  624, 3609,   11,\n",
       "        267,  522,  289,   83,  396, 1269,    0,    0,    0,    0,    0,\n",
       "          0,    0,    0,    0,    0,    0,    0,    0,    0,    0,    0,\n",
       "          0,    0,    0,    0,    0,    0,    0,    0,    0,    0,    0,\n",
       "          0,    0,    0,    0,    0,    0,    0,    0,    0,    0,    0,\n",
       "          0,    0,    0,    0,    0,    0,    0,    0,    0,    0,    0,\n",
       "          0,    0,    0,    0,    0,    0,    0,    0,    0,    0,    0,\n",
       "          0,    0,    0,    0,    0,    0,    0,    0,    0,    0,    0,\n",
       "          0,    0,    0,    0,    0,    0,    0,    0,    0,    0,    0,\n",
       "          0,    0,    0,    0,    0,    0,    0,    0,    0,    0,    0,\n",
       "          0,    0,    0,    0,    0,    0,    0,    0,    0,    0,    0,\n",
       "          0,    0,    0,    0,    0,    0,    0,    0,    0,    0,    0,\n",
       "          0,    0,    0,    0,    0,    0,    0,    0,    0,    0,    0,\n",
       "          0,    0,    0,    0,    0,    0,    0,    0,    0,    0,    0,\n",
       "          0,    0,    0,    0,    0,    0,    0,    0,    0,    0,    0,\n",
       "          0,    0,    0,    0,    0,    0,    0,    0,    0,    0,    0,\n",
       "          0,    0,    0,    0,    0,    0,    0,    0,    0,    0,    0,\n",
       "          0,    0,    0,    0,    0,    0,    0,    0,    0,    0,    0,\n",
       "          0,    0,    0,    0,    0,    0,    0,    0,    0,    0,    0,\n",
       "          0,    0,    0,    0,    0,    0,    0,    0,    0,    0,    0,\n",
       "          0,    0,    0,    0,    0,    0,    0,    0,    0,    0,    0,\n",
       "          0,    0,    0,    0,    0,    0,    0,    0,    0,    0,    0,\n",
       "          0,    0,    0,    0,    0,    0,    0,    0,    0,    0,    0,\n",
       "          0,    0,    0,    0,    0,    0,    0,    0,    0,    0,    0,\n",
       "          0,    0,    0,    0,    0,    0,    0,    0,    0,    0,    0,\n",
       "          0,    0,    0,    0,    0,    0,    0,    0,    0,    0,    0,\n",
       "          0,    0,    0,    0,    0,    0,    0,    0,    0,    0,    0,\n",
       "          0,    0,    0,    0,    0,    0,    0,    0,    0,    0,    0,\n",
       "          0,    0,    0,    0,    0,    0,    0,    0,    0,    0,    0,\n",
       "          0,    0,    0,    0,    0,    0,    0,    0,    0,    0,    0,\n",
       "          0,    0,    0,    0,    0,    0,    0,    0,    0,    0,    0,\n",
       "          0,    0,    0,    0,    0,    0,    0,    0,    0,    0,    0,\n",
       "          0,    0,    0,    0,    0,    0,    0,    0,    0,    0,    0,\n",
       "          0,    0,    0,    0,    0,    0,    0,    0,    0,    0,    0,\n",
       "          0,    0,    0,    0,    0,    0,    0,    0,    0,    0,    0,\n",
       "          0,    0,    0,    0,    0,    0,    0,    0,    0,    0,    0,\n",
       "          0,    0,    0,    0,    0,    0,    0,    0,    0,    0,    0,\n",
       "          0,    0,    0,    0,    0,    0,    0,    0,    0,    0,    0,\n",
       "          0,    0,    0,    0,    0])"
      ]
     },
     "execution_count": 18,
     "metadata": {},
     "output_type": "execute_result"
    }
   ],
   "source": [
    "# Use this cell to examine one of the processed reviews to make sure everything is working as intended.\n",
    "train_X[100]"
   ]
  },
  {
   "cell_type": "code",
   "execution_count": 19,
   "metadata": {},
   "outputs": [
    {
     "name": "stdout",
     "output_type": "stream",
     "text": [
      "292\n",
      "126\n",
      "74\n",
      "79\n",
      "296\n",
      "23\n",
      "89\n",
      "258\n",
      "258\n",
      "76\n",
      "94\n",
      "116\n",
      "36\n",
      "45\n",
      "126\n",
      "168\n",
      "119\n",
      "149\n",
      "68\n",
      "75\n",
      "79\n",
      "132\n",
      "179\n",
      "50\n",
      "32\n"
     ]
    }
   ],
   "source": [
    "rand_inds = np.random.randint(2500, size=25)\n",
    "\n",
    "for i in range(len(rand_inds)):\n",
    "    inx = rand_inds[i]\n",
    "    print(np.count_nonzero(train_X[inx]))"
   ]
  },
  {
   "cell_type": "markdown",
   "metadata": {},
   "source": [
    "**Question:** In the cells above we use the `preprocess_data` and `convert_and_pad_data` methods to process both the training and testing set. Why or why not might this be a problem?"
   ]
  },
  {
   "cell_type": "markdown",
   "metadata": {},
   "source": [
    "**Answer:**\n",
    "\n",
    "For representing any scentence we have selected 5000 to be the size of our vocabulary (The dimension of the representation.) We do not know to what extend this number is reasonable or not. Maybe there are some infrequent words that hold information whose nuber of getting repeated is less than 5000. In other hand, maybe 5000 is too much. This will make the processing of the data harder as the dimension increases. The other thing is that we truncate each scentence to hold just first 500 integers. Maybe this number is not necessarily a good number (after the inspectation that I had for 25 random numbers, I have understood that the length of each review rarely exceed 300 words and are usually less than 200.) This long number of zeros may be problematic for our model."
   ]
  },
  {
   "cell_type": "markdown",
   "metadata": {},
   "source": [
    "## Step 3: Upload the data to S3\n",
    "\n",
    "As in the XGBoost notebook, we will need to upload the training dataset to S3 in order for our training code to access it. For now we will save it locally and we will upload to S3 later on.\n",
    "\n",
    "### Save the processed training dataset locally\n",
    "\n",
    "It is important to note the format of the data that we are saving as we will need to know it when we write the training code. In our case, each row of the dataset has the form `label`, `length`, `review[500]` where `review[500]` is a sequence of `500` integers representing the words in the review."
   ]
  },
  {
   "cell_type": "code",
   "execution_count": 20,
   "metadata": {},
   "outputs": [],
   "source": [
    "import pandas as pd\n",
    "    \n",
    "pd.concat([pd.DataFrame(train_y), pd.DataFrame(train_X_len), pd.DataFrame(train_X)], axis=1) \\\n",
    "        .to_csv(os.path.join(data_dir, 'train.csv'), header=False, index=False)"
   ]
  },
  {
   "cell_type": "markdown",
   "metadata": {},
   "source": [
    "### Uploading the training data\n",
    "\n",
    "\n",
    "Next, we need to upload the training data to the SageMaker default S3 bucket so that we can provide access to it while training our model."
   ]
  },
  {
   "cell_type": "code",
   "execution_count": 21,
   "metadata": {},
   "outputs": [],
   "source": [
    "import sagemaker\n",
    "\n",
    "sagemaker_session = sagemaker.Session()\n",
    "\n",
    "bucket = sagemaker_session.default_bucket()\n",
    "prefix = 'sagemaker/sentiment_rnn'\n",
    "\n",
    "role = sagemaker.get_execution_role()"
   ]
  },
  {
   "cell_type": "code",
   "execution_count": 22,
   "metadata": {},
   "outputs": [],
   "source": [
    "input_data = sagemaker_session.upload_data(path=data_dir, bucket=bucket, key_prefix=prefix)"
   ]
  },
  {
   "cell_type": "markdown",
   "metadata": {},
   "source": [
    "**NOTE:** The cell above uploads the entire contents of our data directory. This includes the `word_dict.pkl` file. This is fortunate as we will need this later on when we create an endpoint that accepts an arbitrary review. For now, we will just take note of the fact that it resides in the data directory (and so also in the S3 training bucket) and that we will need to make sure it gets saved in the model directory."
   ]
  },
  {
   "cell_type": "markdown",
   "metadata": {},
   "source": [
    "## Step 4: Build and Train the PyTorch Model\n",
    "\n",
    "In the XGBoost notebook we discussed what a model is in the SageMaker framework. In particular, a model comprises three objects\n",
    "\n",
    " - Model Artifacts,\n",
    " - Training Code, and\n",
    " - Inference Code,\n",
    " \n",
    "each of which interact with one another. In the XGBoost example we used training and inference code that was provided by Amazon. Here we will still be using containers provided by Amazon with the added benefit of being able to include our own custom code.\n",
    "\n",
    "We will start by implementing our own neural network in PyTorch along with a training script. For the purposes of this project we have provided the necessary model object in the `model.py` file, inside of the `train` folder. You can see the provided implementation by running the cell below."
   ]
  },
  {
   "cell_type": "code",
   "execution_count": 23,
   "metadata": {},
   "outputs": [
    {
     "name": "stdout",
     "output_type": "stream",
     "text": [
      "\u001b[34mimport\u001b[39;49;00m \u001b[04m\u001b[36mtorch.nn\u001b[39;49;00m \u001b[34mas\u001b[39;49;00m \u001b[04m\u001b[36mnn\u001b[39;49;00m\r\n",
      "\r\n",
      "\u001b[34mclass\u001b[39;49;00m \u001b[04m\u001b[32mLSTMClassifier\u001b[39;49;00m(nn.Module):\r\n",
      "    \u001b[33m\"\"\"\u001b[39;49;00m\r\n",
      "\u001b[33m    This is the simple RNN model we will be using to perform Sentiment Analysis.\u001b[39;49;00m\r\n",
      "\u001b[33m    \"\"\"\u001b[39;49;00m\r\n",
      "\r\n",
      "    \u001b[34mdef\u001b[39;49;00m \u001b[32m__init__\u001b[39;49;00m(\u001b[36mself\u001b[39;49;00m, embedding_dim, hidden_dim, vocab_size):\r\n",
      "        \u001b[33m\"\"\"\u001b[39;49;00m\r\n",
      "\u001b[33m        Initialize the model by settingg up the various layers.\u001b[39;49;00m\r\n",
      "\u001b[33m        \"\"\"\u001b[39;49;00m\r\n",
      "        \u001b[36msuper\u001b[39;49;00m(LSTMClassifier, \u001b[36mself\u001b[39;49;00m).\u001b[32m__init__\u001b[39;49;00m()\r\n",
      "\r\n",
      "        \u001b[36mself\u001b[39;49;00m.embedding = nn.Embedding(vocab_size, embedding_dim, padding_idx=\u001b[34m0\u001b[39;49;00m)\r\n",
      "        \u001b[36mself\u001b[39;49;00m.lstm = nn.LSTM(embedding_dim, hidden_dim)\r\n",
      "        \u001b[36mself\u001b[39;49;00m.dense = nn.Linear(in_features=hidden_dim, out_features=\u001b[34m1\u001b[39;49;00m)\r\n",
      "        \u001b[36mself\u001b[39;49;00m.sig = nn.Sigmoid()\r\n",
      "        \r\n",
      "        \u001b[36mself\u001b[39;49;00m.word_dict = \u001b[36mNone\u001b[39;49;00m\r\n",
      "\r\n",
      "    \u001b[34mdef\u001b[39;49;00m \u001b[32mforward\u001b[39;49;00m(\u001b[36mself\u001b[39;49;00m, x):\r\n",
      "        \u001b[33m\"\"\"\u001b[39;49;00m\r\n",
      "\u001b[33m        Perform a forward pass of our model on some input.\u001b[39;49;00m\r\n",
      "\u001b[33m        \"\"\"\u001b[39;49;00m\r\n",
      "        x = x.t()\r\n",
      "        lengths = x[\u001b[34m0\u001b[39;49;00m,:]\r\n",
      "        reviews = x[\u001b[34m1\u001b[39;49;00m:,:]\r\n",
      "        embeds = \u001b[36mself\u001b[39;49;00m.embedding(reviews)\r\n",
      "        lstm_out, _ = \u001b[36mself\u001b[39;49;00m.lstm(embeds)\r\n",
      "        out = \u001b[36mself\u001b[39;49;00m.dense(lstm_out)\r\n",
      "        out = out[lengths - \u001b[34m1\u001b[39;49;00m, \u001b[36mrange\u001b[39;49;00m(\u001b[36mlen\u001b[39;49;00m(lengths))]\r\n",
      "        \u001b[34mreturn\u001b[39;49;00m \u001b[36mself\u001b[39;49;00m.sig(out.squeeze())\r\n"
     ]
    }
   ],
   "source": [
    "!pygmentize train/model.py"
   ]
  },
  {
   "cell_type": "markdown",
   "metadata": {},
   "source": [
    "The important takeaway from the implementation provided is that there are three parameters that we may wish to tweak to improve the performance of our model. These are the embedding dimension, the hidden dimension and the size of the vocabulary. We will likely want to make these parameters configurable in the training script so that if we wish to modify them we do not need to modify the script itself. We will see how to do this later on. To start we will write some of the training code in the notebook so that we can more easily diagnose any issues that arise.\n",
    "\n",
    "First we will load a small portion of the training data set to use as a sample. It would be very time consuming to try and train the model completely in the notebook as we do not have access to a gpu and the compute instance that we are using is not particularly powerful. However, we can work on a small bit of the data to get a feel for how our training script is behaving."
   ]
  },
  {
   "cell_type": "code",
   "execution_count": 24,
   "metadata": {},
   "outputs": [],
   "source": [
    "import torch\n",
    "import torch.utils.data\n",
    "\n",
    "# Read in only the first 250 rows\n",
    "train_sample = pd.read_csv(os.path.join(data_dir, 'train.csv'), header=None, names=None, nrows=250)\n",
    "\n",
    "# Turn the input pandas dataframe into tensors\n",
    "train_sample_y = torch.from_numpy(train_sample[[0]].values).float().squeeze()\n",
    "train_sample_X = torch.from_numpy(train_sample.drop([0], axis=1).values).long()\n",
    "\n",
    "# Build the dataset\n",
    "train_sample_ds = torch.utils.data.TensorDataset(train_sample_X, train_sample_y)\n",
    "# Build the dataloader\n",
    "train_sample_dl = torch.utils.data.DataLoader(train_sample_ds, batch_size=50)"
   ]
  },
  {
   "cell_type": "markdown",
   "metadata": {},
   "source": [
    "### (TODO) Writing the training method\n",
    "\n",
    "Next we need to write the training code itself. This should be very similar to training methods that you have written before to train PyTorch models. We will leave any difficult aspects such as model saving / loading and parameter loading until a little later."
   ]
  },
  {
   "cell_type": "code",
   "execution_count": 25,
   "metadata": {},
   "outputs": [],
   "source": [
    "def train(model, train_loader, epochs, optimizer, loss_fn, device):\n",
    "    for epoch in range(1, epochs + 1):\n",
    "        model.train()\n",
    "        total_loss = 0\n",
    "        for batch in train_loader:         \n",
    "            batch_X, batch_y = batch\n",
    "            \n",
    "            batch_X = batch_X.to(device)\n",
    "            batch_y = batch_y.to(device)\n",
    "            \n",
    "            # TODO: Complete this train method to train the model provided.\n",
    "            model.zero_grad()\n",
    "            output = model.forward(batch_X)\n",
    "            \n",
    "            loss = loss_fn(output.squeeze(), batch_y.float())\n",
    "            loss.backward()\n",
    "            \n",
    "            optimizer.step()\n",
    "            \n",
    "            total_loss += loss.data.item()\n",
    "        print(\"Epoch: {}, BCELoss: {}\".format(epoch, total_loss / len(train_loader)))"
   ]
  },
  {
   "cell_type": "markdown",
   "metadata": {},
   "source": [
    "Supposing we have the training method above, we will test that it is working by writing a bit of code in the notebook that executes our training method on the small sample training set that we loaded earlier. The reason for doing this in the notebook is so that we have an opportunity to fix any errors that arise early when they are easier to diagnose."
   ]
  },
  {
   "cell_type": "code",
   "execution_count": 26,
   "metadata": {},
   "outputs": [
    {
     "name": "stdout",
     "output_type": "stream",
     "text": [
      "Epoch: 1, BCELoss: 0.6921590685844421\n",
      "Epoch: 2, BCELoss: 0.6825273633003235\n",
      "Epoch: 3, BCELoss: 0.6743209958076477\n",
      "Epoch: 4, BCELoss: 0.6649499535560608\n",
      "Epoch: 5, BCELoss: 0.6531896591186523\n"
     ]
    }
   ],
   "source": [
    "import torch.optim as optim\n",
    "from train.model import LSTMClassifier\n",
    "\n",
    "device = torch.device(\"cuda\" if torch.cuda.is_available() else \"cpu\")\n",
    "model = LSTMClassifier(32, 100, 5000).to(device)\n",
    "optimizer = optim.Adam(model.parameters())\n",
    "loss_fn = torch.nn.BCELoss()\n",
    "\n",
    "train(model, train_sample_dl, 5, optimizer, loss_fn, device)"
   ]
  },
  {
   "cell_type": "markdown",
   "metadata": {},
   "source": [
    "In order to construct a PyTorch model using SageMaker we must provide SageMaker with a training script. We may optionally include a directory which will be copied to the container and from which our training code will be run. When the training container is executed it will check the uploaded directory (if there is one) for a `requirements.txt` file and install any required Python libraries, after which the training script will be run."
   ]
  },
  {
   "cell_type": "markdown",
   "metadata": {},
   "source": [
    "### (TODO) Training the model\n",
    "\n",
    "When a PyTorch model is constructed in SageMaker, an entry point must be specified. This is the Python file which will be executed when the model is trained. Inside of the `train` directory is a file called `train.py` which has been provided and which contains most of the necessary code to train our model. The only thing that is missing is the implementation of the `train()` method which you wrote earlier in this notebook.\n",
    "\n",
    "**TODO**: Copy the `train()` method written above and paste it into the `train/train.py` file where required.\n",
    "\n",
    "The way that SageMaker passes hyperparameters to the training script is by way of arguments. These arguments can then be parsed and used in the training script. To see how this is done take a look at the provided `train/train.py` file."
   ]
  },
  {
   "cell_type": "code",
   "execution_count": 27,
   "metadata": {},
   "outputs": [],
   "source": [
    "from sagemaker.pytorch import PyTorch\n",
    "\n",
    "estimator = PyTorch(entry_point=\"train.py\",\n",
    "                    source_dir=\"train\",\n",
    "                    role=role,\n",
    "                    framework_version='0.4.0',\n",
    "                    train_instance_count=1,\n",
    "                    train_instance_type='ml.p2.xlarge',\n",
    "                    hyperparameters={\n",
    "                        'epochs': 10,\n",
    "                        'hidden_dim': 200,\n",
    "                    })"
   ]
  },
  {
   "cell_type": "code",
   "execution_count": 28,
   "metadata": {},
   "outputs": [
    {
     "name": "stdout",
     "output_type": "stream",
     "text": [
      "2019-05-04 11:17:26 Starting - Starting the training job...\n",
      "2019-05-04 11:17:35 Starting - Launching requested ML instances......\n",
      "2019-05-04 11:18:40 Starting - Preparing the instances for training......\n",
      "2019-05-04 11:19:47 Downloading - Downloading input data...\n",
      "2019-05-04 11:20:14 Training - Downloading the training image...\n",
      "2019-05-04 11:20:50 Training - Training image download completed. Training in progress..\n",
      "\u001b[31mbash: cannot set terminal process group (-1): Inappropriate ioctl for device\u001b[0m\n",
      "\u001b[31mbash: no job control in this shell\u001b[0m\n",
      "\u001b[31m2019-05-04 11:20:51,565 sagemaker-containers INFO     Imported framework sagemaker_pytorch_container.training\u001b[0m\n",
      "\u001b[31m2019-05-04 11:20:51,593 sagemaker_pytorch_container.training INFO     Block until all host DNS lookups succeed.\u001b[0m\n",
      "\u001b[31m2019-05-04 11:20:51,598 sagemaker_pytorch_container.training INFO     Invoking user training script.\u001b[0m\n",
      "\u001b[31m2019-05-04 11:20:51,858 sagemaker-containers INFO     Module train does not provide a setup.py. \u001b[0m\n",
      "\u001b[31mGenerating setup.py\u001b[0m\n",
      "\u001b[31m2019-05-04 11:20:51,858 sagemaker-containers INFO     Generating setup.cfg\u001b[0m\n",
      "\u001b[31m2019-05-04 11:20:51,858 sagemaker-containers INFO     Generating MANIFEST.in\u001b[0m\n",
      "\u001b[31m2019-05-04 11:20:51,859 sagemaker-containers INFO     Installing module with the following command:\u001b[0m\n",
      "\u001b[31m/usr/bin/python -m pip install -U . -r requirements.txt\u001b[0m\n",
      "\u001b[31mProcessing /opt/ml/code\u001b[0m\n",
      "\u001b[31mCollecting pandas (from -r requirements.txt (line 1))\n",
      "  Downloading https://files.pythonhosted.org/packages/74/24/0cdbf8907e1e3bc5a8da03345c23cbed7044330bb8f73bb12e711a640a00/pandas-0.24.2-cp35-cp35m-manylinux1_x86_64.whl (10.0MB)\u001b[0m\n",
      "\u001b[31mCollecting numpy (from -r requirements.txt (line 2))\n",
      "  Downloading https://files.pythonhosted.org/packages/f6/f3/cc6c6745347c1e997cc3e58390584a250b8e22b6dfc45414a7d69a3df016/numpy-1.16.3-cp35-cp35m-manylinux1_x86_64.whl (17.2MB)\u001b[0m\n",
      "\u001b[31mCollecting nltk (from -r requirements.txt (line 3))\n",
      "  Downloading https://files.pythonhosted.org/packages/73/56/90178929712ce427ebad179f8dc46c8deef4e89d4c853092bee1efd57d05/nltk-3.4.1.zip (3.1MB)\u001b[0m\n",
      "\u001b[31mCollecting beautifulsoup4 (from -r requirements.txt (line 4))\n",
      "  Downloading https://files.pythonhosted.org/packages/1d/5d/3260694a59df0ec52f8b4883f5d23b130bc237602a1411fa670eae12351e/beautifulsoup4-4.7.1-py3-none-any.whl (94kB)\u001b[0m\n",
      "\u001b[31mCollecting html5lib (from -r requirements.txt (line 5))\n",
      "  Downloading https://files.pythonhosted.org/packages/a5/62/bbd2be0e7943ec8504b517e62bab011b4946e1258842bc159e5dfde15b96/html5lib-1.0.1-py2.py3-none-any.whl (117kB)\u001b[0m\n",
      "\u001b[31mRequirement already satisfied, skipping upgrade: python-dateutil>=2.5.0 in /usr/local/lib/python3.5/dist-packages (from pandas->-r requirements.txt (line 1)) (2.7.5)\u001b[0m\n",
      "\u001b[31mCollecting pytz>=2011k (from pandas->-r requirements.txt (line 1))\n",
      "  Downloading https://files.pythonhosted.org/packages/3d/73/fe30c2daaaa0713420d0382b16fbb761409f532c56bdcc514bf7b6262bb6/pytz-2019.1-py2.py3-none-any.whl (510kB)\u001b[0m\n",
      "\u001b[31mRequirement already satisfied, skipping upgrade: six in /usr/local/lib/python3.5/dist-packages (from nltk->-r requirements.txt (line 3)) (1.11.0)\u001b[0m\n",
      "\u001b[31mCollecting soupsieve>=1.2 (from beautifulsoup4->-r requirements.txt (line 4))\n",
      "  Downloading https://files.pythonhosted.org/packages/b9/a5/7ea40d0f8676bde6e464a6435a48bc5db09b1a8f4f06d41dd997b8f3c616/soupsieve-1.9.1-py2.py3-none-any.whl\u001b[0m\n",
      "\u001b[31mCollecting webencodings (from html5lib->-r requirements.txt (line 5))\n",
      "  Downloading https://files.pythonhosted.org/packages/f4/24/2a3e3df732393fed8b3ebf2ec078f05546de641fe1b667ee316ec1dcf3b7/webencodings-0.5.1-py2.py3-none-any.whl\u001b[0m\n",
      "\u001b[31mBuilding wheels for collected packages: nltk, train\n",
      "  Running setup.py bdist_wheel for nltk: started\u001b[0m\n",
      "\u001b[31m  Running setup.py bdist_wheel for nltk: finished with status 'done'\n",
      "  Stored in directory: /root/.cache/pip/wheels/97/8a/10/d646015f33c525688e91986c4544c68019b19a473cb33d3b55\n",
      "  Running setup.py bdist_wheel for train: started\n",
      "  Running setup.py bdist_wheel for train: finished with status 'done'\n",
      "  Stored in directory: /tmp/pip-ephem-wheel-cache-o6k4c4ku/wheels/35/24/16/37574d11bf9bde50616c67372a334f94fa8356bc7164af8ca3\u001b[0m\n",
      "\u001b[31mSuccessfully built nltk train\u001b[0m\n",
      "\u001b[31mInstalling collected packages: numpy, pytz, pandas, nltk, soupsieve, beautifulsoup4, webencodings, html5lib, train\n",
      "  Found existing installation: numpy 1.15.4\u001b[0m\n",
      "\u001b[31m    Uninstalling numpy-1.15.4:\n",
      "      Successfully uninstalled numpy-1.15.4\u001b[0m\n",
      "\u001b[31mSuccessfully installed beautifulsoup4-4.7.1 html5lib-1.0.1 nltk-3.4.1 numpy-1.16.3 pandas-0.24.2 pytz-2019.1 soupsieve-1.9.1 train-1.0.0 webencodings-0.5.1\u001b[0m\n",
      "\u001b[31mYou are using pip version 18.1, however version 19.1 is available.\u001b[0m\n",
      "\u001b[31mYou should consider upgrading via the 'pip install --upgrade pip' command.\u001b[0m\n",
      "\u001b[31m2019-05-04 11:21:03,518 sagemaker-containers INFO     Invoking user script\n",
      "\u001b[0m\n",
      "\u001b[31mTraining Env:\n",
      "\u001b[0m\n",
      "\u001b[31m{\n",
      "    \"network_interface_name\": \"ethwe\",\n",
      "    \"channel_input_dirs\": {\n",
      "        \"training\": \"/opt/ml/input/data/training\"\n",
      "    },\n",
      "    \"log_level\": 20,\n",
      "    \"input_dir\": \"/opt/ml/input\",\n",
      "    \"input_config_dir\": \"/opt/ml/input/config\",\n",
      "    \"input_data_config\": {\n",
      "        \"training\": {\n",
      "            \"TrainingInputMode\": \"File\",\n",
      "            \"S3DistributionType\": \"FullyReplicated\",\n",
      "            \"RecordWrapperType\": \"None\"\n",
      "        }\n",
      "    },\n",
      "    \"output_data_dir\": \"/opt/ml/output/data\",\n",
      "    \"current_host\": \"algo-1\",\n",
      "    \"module_name\": \"train\",\n",
      "    \"module_dir\": \"s3://sagemaker-eu-central-1-184522327765/sagemaker-pytorch-2019-05-04-11-17-26-012/source/sourcedir.tar.gz\",\n",
      "    \"num_cpus\": 4,\n",
      "    \"additional_framework_parameters\": {},\n",
      "    \"resource_config\": {\n",
      "        \"current_host\": \"algo-1\",\n",
      "        \"hosts\": [\n",
      "            \"algo-1\"\n",
      "        ],\n",
      "        \"network_interface_name\": \"ethwe\"\n",
      "    },\n",
      "    \"model_dir\": \"/opt/ml/model\",\n",
      "    \"framework_module\": \"sagemaker_pytorch_container.training:main\",\n",
      "    \"num_gpus\": 1,\n",
      "    \"output_dir\": \"/opt/ml/output\",\n",
      "    \"hosts\": [\n",
      "        \"algo-1\"\n",
      "    ],\n",
      "    \"hyperparameters\": {\n",
      "        \"epochs\": 10,\n",
      "        \"hidden_dim\": 200\n",
      "    },\n",
      "    \"user_entry_point\": \"train.py\",\n",
      "    \"job_name\": \"sagemaker-pytorch-2019-05-04-11-17-26-012\",\n",
      "    \"output_intermediate_dir\": \"/opt/ml/output/intermediate\"\u001b[0m\n",
      "\u001b[31m}\n",
      "\u001b[0m\n",
      "\u001b[31mEnvironment variables:\n",
      "\u001b[0m\n",
      "\u001b[31mSM_NUM_CPUS=4\u001b[0m\n",
      "\u001b[31mSM_HP_EPOCHS=10\u001b[0m\n",
      "\u001b[31mSM_MODEL_DIR=/opt/ml/model\u001b[0m\n",
      "\u001b[31mSM_OUTPUT_INTERMEDIATE_DIR=/opt/ml/output/intermediate\u001b[0m\n",
      "\u001b[31mSM_CURRENT_HOST=algo-1\u001b[0m\n",
      "\u001b[31mSM_LOG_LEVEL=20\u001b[0m\n",
      "\u001b[31mSM_CHANNELS=[\"training\"]\u001b[0m\n",
      "\u001b[31mSM_INPUT_CONFIG_DIR=/opt/ml/input/config\u001b[0m\n",
      "\u001b[31mSM_INPUT_DIR=/opt/ml/input\u001b[0m\n",
      "\u001b[31mSM_MODULE_DIR=s3://sagemaker-eu-central-1-184522327765/sagemaker-pytorch-2019-05-04-11-17-26-012/source/sourcedir.tar.gz\u001b[0m\n",
      "\u001b[31mSM_HP_HIDDEN_DIM=200\u001b[0m\n",
      "\u001b[31mSM_MODULE_NAME=train\u001b[0m\n",
      "\u001b[31mSM_NUM_GPUS=1\u001b[0m\n",
      "\u001b[31mSM_RESOURCE_CONFIG={\"current_host\":\"algo-1\",\"hosts\":[\"algo-1\"],\"network_interface_name\":\"ethwe\"}\u001b[0m\n",
      "\u001b[31mSM_NETWORK_INTERFACE_NAME=ethwe\u001b[0m\n",
      "\u001b[31mSM_OUTPUT_DIR=/opt/ml/output\u001b[0m\n",
      "\u001b[31mSM_USER_ARGS=[\"--epochs\",\"10\",\"--hidden_dim\",\"200\"]\u001b[0m\n",
      "\u001b[31mSM_INPUT_DATA_CONFIG={\"training\":{\"RecordWrapperType\":\"None\",\"S3DistributionType\":\"FullyReplicated\",\"TrainingInputMode\":\"File\"}}\u001b[0m\n",
      "\u001b[31mSM_USER_ENTRY_POINT=train.py\u001b[0m\n",
      "\u001b[31mSM_CHANNEL_TRAINING=/opt/ml/input/data/training\u001b[0m\n",
      "\u001b[31mSM_HPS={\"epochs\":10,\"hidden_dim\":200}\u001b[0m\n",
      "\u001b[31mSM_TRAINING_ENV={\"additional_framework_parameters\":{},\"channel_input_dirs\":{\"training\":\"/opt/ml/input/data/training\"},\"current_host\":\"algo-1\",\"framework_module\":\"sagemaker_pytorch_container.training:main\",\"hosts\":[\"algo-1\"],\"hyperparameters\":{\"epochs\":10,\"hidden_dim\":200},\"input_config_dir\":\"/opt/ml/input/config\",\"input_data_config\":{\"training\":{\"RecordWrapperType\":\"None\",\"S3DistributionType\":\"FullyReplicated\",\"TrainingInputMode\":\"File\"}},\"input_dir\":\"/opt/ml/input\",\"job_name\":\"sagemaker-pytorch-2019-05-04-11-17-26-012\",\"log_level\":20,\"model_dir\":\"/opt/ml/model\",\"module_dir\":\"s3://sagemaker-eu-central-1-184522327765/sagemaker-pytorch-2019-05-04-11-17-26-012/source/sourcedir.tar.gz\",\"module_name\":\"train\",\"network_interface_name\":\"ethwe\",\"num_cpus\":4,\"num_gpus\":1,\"output_data_dir\":\"/opt/ml/output/data\",\"output_dir\":\"/opt/ml/output\",\"output_intermediate_dir\":\"/opt/ml/output/intermediate\",\"resource_config\":{\"current_host\":\"algo-1\",\"hosts\":[\"algo-1\"],\"network_interface_name\":\"ethwe\"},\"user_entry_point\":\"train.py\"}\u001b[0m\n",
      "\u001b[31mPYTHONPATH=/usr/local/bin:/usr/lib/python35.zip:/usr/lib/python3.5:/usr/lib/python3.5/plat-x86_64-linux-gnu:/usr/lib/python3.5/lib-dynload:/usr/local/lib/python3.5/dist-packages:/usr/lib/python3/dist-packages\u001b[0m\n",
      "\u001b[31mSM_FRAMEWORK_MODULE=sagemaker_pytorch_container.training:main\u001b[0m\n",
      "\u001b[31mSM_FRAMEWORK_PARAMS={}\u001b[0m\n",
      "\u001b[31mSM_OUTPUT_DATA_DIR=/opt/ml/output/data\u001b[0m\n",
      "\u001b[31mSM_HOSTS=[\"algo-1\"]\n",
      "\u001b[0m\n",
      "\u001b[31mInvoking script with the following command:\n",
      "\u001b[0m\n",
      "\u001b[31m/usr/bin/python -m train --epochs 10 --hidden_dim 200\n",
      "\n",
      "\u001b[0m\n",
      "\u001b[31mUsing device cuda.\u001b[0m\n",
      "\u001b[31mGet train data loader.\u001b[0m\n",
      "\u001b[31mModel loaded with embedding_dim 32, hidden_dim 200, vocab_size 5000.\u001b[0m\n",
      "\u001b[31mEpoch: 1, BCELoss: 0.6744157598943127\u001b[0m\n",
      "\u001b[31mEpoch: 2, BCELoss: 0.6404032658557502\u001b[0m\n",
      "\u001b[31mEpoch: 3, BCELoss: 0.5559880161771968\u001b[0m\n",
      "\u001b[31mEpoch: 4, BCELoss: 0.5378867570234804\u001b[0m\n",
      "\u001b[31mEpoch: 5, BCELoss: 0.5658047022868176\u001b[0m\n",
      "\u001b[31mEpoch: 6, BCELoss: 0.43339724260933543\u001b[0m\n",
      "\u001b[31mEpoch: 7, BCELoss: 0.3866089716249583\u001b[0m\n",
      "\u001b[31mEpoch: 8, BCELoss: 0.3572318152505524\u001b[0m\n",
      "\u001b[31mEpoch: 9, BCELoss: 0.32332391033367236\u001b[0m\n",
      "\u001b[31mEpoch: 10, BCELoss: 0.2983229528276288\u001b[0m\n",
      "\u001b[31m2019-05-04 11:23:58,627 sagemaker-containers INFO     Reporting training SUCCESS\u001b[0m\n",
      "\n",
      "2019-05-04 11:24:09 Uploading - Uploading generated training model\n",
      "2019-05-04 11:24:09 Completed - Training job completed\n",
      "Billable seconds: 262\n"
     ]
    }
   ],
   "source": [
    "estimator.fit({'training': input_data})"
   ]
  },
  {
   "cell_type": "markdown",
   "metadata": {},
   "source": [
    "## Step 5: Testing the model\n",
    "\n",
    "As mentioned at the top of this notebook, we will be testing this model by first deploying it and then sending the testing data to the deployed endpoint. We will do this so that we can make sure that the deployed model is working correctly.\n",
    "\n",
    "## Step 6: Deploy the model for testing\n",
    "\n",
    "Now that we have trained our model, we would like to test it to see how it performs. Currently our model takes input of the form `review_length, review[500]` where `review[500]` is a sequence of `500` integers which describe the words present in the review, encoded using `word_dict`. Fortunately for us, SageMaker provides built-in inference code for models with simple inputs such as this.\n",
    "\n",
    "There is one thing that we need to provide, however, and that is a function which loads the saved model. This function must be called `model_fn()` and takes as its only parameter a path to the directory where the model artifacts are stored. This function must also be present in the python file which we specified as the entry point. In our case the model loading function has been provided and so no changes need to be made.\n",
    "\n",
    "**NOTE**: When the built-in inference code is run it must import the `model_fn()` method from the `train.py` file. This is why the training code is wrapped in a main guard ( ie, `if __name__ == '__main__':` )\n",
    "\n",
    "Since we don't need to change anything in the code that was uploaded during training, we can simply deploy the current model as-is.\n",
    "\n",
    "**NOTE:** When deploying a model you are asking SageMaker to launch an compute instance that will wait for data to be sent to it. As a result, this compute instance will continue to run until *you* shut it down. This is important to know since the cost of a deployed endpoint depends on how long it has been running for.\n",
    "\n",
    "In other words **If you are no longer using a deployed endpoint, shut it down!**\n",
    "\n",
    "**TODO:** Deploy the trained model."
   ]
  },
  {
   "cell_type": "code",
   "execution_count": 29,
   "metadata": {},
   "outputs": [
    {
     "name": "stdout",
     "output_type": "stream",
     "text": [
      "---------------------------------------------------------------------------!"
     ]
    }
   ],
   "source": [
    "# TODO: Deploy the trained model\n",
    "predictor = estimator.deploy(initial_instance_count=1, instance_type='ml.m4.xlarge')"
   ]
  },
  {
   "cell_type": "markdown",
   "metadata": {},
   "source": [
    "## Step 7 - Use the model for testing\n",
    "\n",
    "Once deployed, we can read in the test data and send it off to our deployed model to get some results. Once we collect all of the results we can determine how accurate our model is."
   ]
  },
  {
   "cell_type": "code",
   "execution_count": 30,
   "metadata": {},
   "outputs": [],
   "source": [
    "test_X = pd.concat([pd.DataFrame(test_X_len), pd.DataFrame(test_X)], axis=1)"
   ]
  },
  {
   "cell_type": "code",
   "execution_count": 31,
   "metadata": {},
   "outputs": [],
   "source": [
    "# We split the data into chunks and send each chunk seperately, accumulating the results.\n",
    "\n",
    "def predict(data, rows=512):\n",
    "    split_array = np.array_split(data, int(data.shape[0] / float(rows) + 1))\n",
    "    predictions = np.array([])\n",
    "    for array in split_array:\n",
    "        predictions = np.append(predictions, predictor.predict(array))\n",
    "    \n",
    "    return predictions"
   ]
  },
  {
   "cell_type": "code",
   "execution_count": 32,
   "metadata": {},
   "outputs": [],
   "source": [
    "predictions = predict(test_X.values)\n",
    "predictions = [round(num) for num in predictions]"
   ]
  },
  {
   "cell_type": "code",
   "execution_count": 33,
   "metadata": {},
   "outputs": [
    {
     "data": {
      "text/plain": [
       "0.8526"
      ]
     },
     "execution_count": 33,
     "metadata": {},
     "output_type": "execute_result"
    }
   ],
   "source": [
    "from sklearn.metrics import accuracy_score\n",
    "accuracy_score(test_y, predictions)"
   ]
  },
  {
   "cell_type": "markdown",
   "metadata": {},
   "source": [
    "**Question:** How does this model compare to the XGBoost model you created earlier? Why might these two models perform differently on this dataset? Which do *you* think is better for sentiment analysis?"
   ]
  },
  {
   "cell_type": "markdown",
   "metadata": {},
   "source": [
    "**Answer:**"
   ]
  },
  {
   "cell_type": "markdown",
   "metadata": {},
   "source": [
    "### (TODO) More testing\n",
    "\n",
    "We now have a trained model which has been deployed and which we can send processed reviews to and which returns the predicted sentiment. However, ultimately we would like to be able to send our model an unprocessed review. That is, we would like to send the review itself as a string. For example, suppose we wish to send the following review to our model."
   ]
  },
  {
   "cell_type": "code",
   "execution_count": 34,
   "metadata": {},
   "outputs": [],
   "source": [
    "test_review = 'The simplest pleasures in life are the best, and this film is one of them. Combining a rather basic storyline of love and adventure this movie transcends the usual weekend fair with wit and unmitigated charm.'"
   ]
  },
  {
   "cell_type": "markdown",
   "metadata": {},
   "source": [
    "The question we now need to answer is, how do we send this review to our model?\n",
    "\n",
    "Recall in the first section of this notebook we did a bunch of data processing to the IMDb dataset. In particular, we did two specific things to the provided reviews.\n",
    " - Removed any html tags and stemmed the input\n",
    " - Encoded the review as a sequence of integers using `word_dict`\n",
    " \n",
    "In order process the review we will need to repeat these two steps.\n",
    "\n",
    "**TODO**: Using the `review_to_words` and `convert_and_pad` methods from section one, convert `test_review` into a numpy array `test_data` suitable to send to our model. Remember that our model expects input of the form `review_length, review[500]`."
   ]
  },
  {
   "cell_type": "code",
   "execution_count": 35,
   "metadata": {},
   "outputs": [
    {
     "name": "stdout",
     "output_type": "stream",
     "text": [
      "   0    0     1    2    3    4    5    6    7    8   ...   490  491  492  493  \\\n",
      "0   20    1  1375   49   53    3    4  878  173  392 ...     0    0    0    0   \n",
      "\n",
      "   494  495  496  497  498  499  \n",
      "0    0    0    0    0    0    0  \n",
      "\n",
      "[1 rows x 501 columns]\n"
     ]
    }
   ],
   "source": [
    "# TODO: Convert test_review into a form usable by the model and save the results in test_data\n",
    "in_test_words = review_to_words(test_review)\n",
    "test_data_X, test_data_len = convert_and_pad(word_dict, in_test_words)\n",
    "a = pd.DataFrame(test_data_X).transpose()\n",
    "test_data = pd.concat([pd.DataFrame([test_data_len]), a], axis=1)\n",
    "print(test_data)"
   ]
  },
  {
   "cell_type": "markdown",
   "metadata": {},
   "source": [
    "Now that we have processed the review, we can send the resulting array to our model to predict the sentiment of the review."
   ]
  },
  {
   "cell_type": "code",
   "execution_count": 36,
   "metadata": {},
   "outputs": [
    {
     "data": {
      "text/plain": [
       "array(0.72369355, dtype=float32)"
      ]
     },
     "execution_count": 36,
     "metadata": {},
     "output_type": "execute_result"
    }
   ],
   "source": [
    "predictor.predict(test_data.values)"
   ]
  },
  {
   "cell_type": "markdown",
   "metadata": {},
   "source": [
    "Since the return value of our model is close to `1`, we can be certain that the review we submitted is positive."
   ]
  },
  {
   "cell_type": "markdown",
   "metadata": {},
   "source": [
    "### Delete the endpoint\n",
    "\n",
    "Of course, just like in the XGBoost notebook, once we've deployed an endpoint it continues to run until we tell it to shut down. Since we are done using our endpoint for now, we can delete it."
   ]
  },
  {
   "cell_type": "code",
   "execution_count": 37,
   "metadata": {},
   "outputs": [],
   "source": [
    "estimator.delete_endpoint()"
   ]
  },
  {
   "cell_type": "markdown",
   "metadata": {},
   "source": [
    "## Step 6 (again) - Deploy the model for the web app\n",
    "\n",
    "Now that we know that our model is working, it's time to create some custom inference code so that we can send the model a review which has not been processed and have it determine the sentiment of the review.\n",
    "\n",
    "As we saw above, by default the estimator which we created, when deployed, will use the entry script and directory which we provided when creating the model. However, since we now wish to accept a string as input and our model expects a processed review, we need to write some custom inference code.\n",
    "\n",
    "We will store the code that we write in the `serve` directory. Provided in this directory is the `model.py` file that we used to construct our model, a `utils.py` file which contains the `review_to_words` and `convert_and_pad` pre-processing functions which we used during the initial data processing, and `predict.py`, the file which will contain our custom inference code. Note also that `requirements.txt` is present which will tell SageMaker what Python libraries are required by our custom inference code.\n",
    "\n",
    "When deploying a PyTorch model in SageMaker, you are expected to provide four functions which the SageMaker inference container will use.\n",
    " - `model_fn`: This function is the same function that we used in the training script and it tells SageMaker how to load our model.\n",
    " - `input_fn`: This function receives the raw serialized input that has been sent to the model's endpoint and its job is to de-serialize and make the input available for the inference code.\n",
    " - `output_fn`: This function takes the output of the inference code and its job is to serialize this output and return it to the caller of the model's endpoint.\n",
    " - `predict_fn`: The heart of the inference script, this is where the actual prediction is done and is the function which you will need to complete.\n",
    "\n",
    "For the simple website that we are constructing during this project, the `input_fn` and `output_fn` methods are relatively straightforward. We only require being able to accept a string as input and we expect to return a single value as output. You might imagine though that in a more complex application the input or output may be image data or some other binary data which would require some effort to serialize.\n",
    "\n",
    "### (TODO) Writing inference code\n",
    "\n",
    "Before writing our custom inference code, we will begin by taking a look at the code which has been provided."
   ]
  },
  {
   "cell_type": "code",
   "execution_count": 38,
   "metadata": {},
   "outputs": [
    {
     "name": "stdout",
     "output_type": "stream",
     "text": [
      "\u001b[34mimport\u001b[39;49;00m \u001b[04m\u001b[36margparse\u001b[39;49;00m\r\n",
      "\u001b[34mimport\u001b[39;49;00m \u001b[04m\u001b[36mjson\u001b[39;49;00m\r\n",
      "\u001b[34mimport\u001b[39;49;00m \u001b[04m\u001b[36mos\u001b[39;49;00m\r\n",
      "\u001b[34mimport\u001b[39;49;00m \u001b[04m\u001b[36mpickle\u001b[39;49;00m\r\n",
      "\u001b[34mimport\u001b[39;49;00m \u001b[04m\u001b[36msys\u001b[39;49;00m\r\n",
      "\u001b[34mimport\u001b[39;49;00m \u001b[04m\u001b[36msagemaker_containers\u001b[39;49;00m\r\n",
      "\u001b[34mimport\u001b[39;49;00m \u001b[04m\u001b[36mpandas\u001b[39;49;00m \u001b[34mas\u001b[39;49;00m \u001b[04m\u001b[36mpd\u001b[39;49;00m\r\n",
      "\u001b[34mimport\u001b[39;49;00m \u001b[04m\u001b[36mnumpy\u001b[39;49;00m \u001b[34mas\u001b[39;49;00m \u001b[04m\u001b[36mnp\u001b[39;49;00m\r\n",
      "\u001b[34mimport\u001b[39;49;00m \u001b[04m\u001b[36mtorch\u001b[39;49;00m\r\n",
      "\u001b[34mimport\u001b[39;49;00m \u001b[04m\u001b[36mtorch.nn\u001b[39;49;00m \u001b[34mas\u001b[39;49;00m \u001b[04m\u001b[36mnn\u001b[39;49;00m\r\n",
      "\u001b[34mimport\u001b[39;49;00m \u001b[04m\u001b[36mtorch.optim\u001b[39;49;00m \u001b[34mas\u001b[39;49;00m \u001b[04m\u001b[36moptim\u001b[39;49;00m\r\n",
      "\u001b[34mimport\u001b[39;49;00m \u001b[04m\u001b[36mtorch.utils.data\u001b[39;49;00m\r\n",
      "\r\n",
      "\u001b[34mfrom\u001b[39;49;00m \u001b[04m\u001b[36mmodel\u001b[39;49;00m \u001b[34mimport\u001b[39;49;00m LSTMClassifier\r\n",
      "\r\n",
      "\u001b[34mfrom\u001b[39;49;00m \u001b[04m\u001b[36mutils\u001b[39;49;00m \u001b[34mimport\u001b[39;49;00m review_to_words, convert_and_pad\r\n",
      "\r\n",
      "\u001b[34mdef\u001b[39;49;00m \u001b[32mmodel_fn\u001b[39;49;00m(model_dir):\r\n",
      "    \u001b[33m\"\"\"Load the PyTorch model from the `model_dir` directory.\"\"\"\u001b[39;49;00m\r\n",
      "    \u001b[34mprint\u001b[39;49;00m(\u001b[33m\"\u001b[39;49;00m\u001b[33mLoading model.\u001b[39;49;00m\u001b[33m\"\u001b[39;49;00m)\r\n",
      "\r\n",
      "    \u001b[37m# First, load the parameters used to create the model.\u001b[39;49;00m\r\n",
      "    model_info = {}\r\n",
      "    model_info_path = os.path.join(model_dir, \u001b[33m'\u001b[39;49;00m\u001b[33mmodel_info.pth\u001b[39;49;00m\u001b[33m'\u001b[39;49;00m)\r\n",
      "    \u001b[34mwith\u001b[39;49;00m \u001b[36mopen\u001b[39;49;00m(model_info_path, \u001b[33m'\u001b[39;49;00m\u001b[33mrb\u001b[39;49;00m\u001b[33m'\u001b[39;49;00m) \u001b[34mas\u001b[39;49;00m f:\r\n",
      "        model_info = torch.load(f)\r\n",
      "\r\n",
      "    \u001b[34mprint\u001b[39;49;00m(\u001b[33m\"\u001b[39;49;00m\u001b[33mmodel_info: {}\u001b[39;49;00m\u001b[33m\"\u001b[39;49;00m.format(model_info))\r\n",
      "\r\n",
      "    \u001b[37m# Determine the device and construct the model.\u001b[39;49;00m\r\n",
      "    device = torch.device(\u001b[33m\"\u001b[39;49;00m\u001b[33mcuda\u001b[39;49;00m\u001b[33m\"\u001b[39;49;00m \u001b[34mif\u001b[39;49;00m torch.cuda.is_available() \u001b[34melse\u001b[39;49;00m \u001b[33m\"\u001b[39;49;00m\u001b[33mcpu\u001b[39;49;00m\u001b[33m\"\u001b[39;49;00m)\r\n",
      "    model = LSTMClassifier(model_info[\u001b[33m'\u001b[39;49;00m\u001b[33membedding_dim\u001b[39;49;00m\u001b[33m'\u001b[39;49;00m], model_info[\u001b[33m'\u001b[39;49;00m\u001b[33mhidden_dim\u001b[39;49;00m\u001b[33m'\u001b[39;49;00m], model_info[\u001b[33m'\u001b[39;49;00m\u001b[33mvocab_size\u001b[39;49;00m\u001b[33m'\u001b[39;49;00m])\r\n",
      "\r\n",
      "    \u001b[37m# Load the store model parameters.\u001b[39;49;00m\r\n",
      "    model_path = os.path.join(model_dir, \u001b[33m'\u001b[39;49;00m\u001b[33mmodel.pth\u001b[39;49;00m\u001b[33m'\u001b[39;49;00m)\r\n",
      "    \u001b[34mwith\u001b[39;49;00m \u001b[36mopen\u001b[39;49;00m(model_path, \u001b[33m'\u001b[39;49;00m\u001b[33mrb\u001b[39;49;00m\u001b[33m'\u001b[39;49;00m) \u001b[34mas\u001b[39;49;00m f:\r\n",
      "        model.load_state_dict(torch.load(f))\r\n",
      "\r\n",
      "    \u001b[37m# Load the saved word_dict.\u001b[39;49;00m\r\n",
      "    word_dict_path = os.path.join(model_dir, \u001b[33m'\u001b[39;49;00m\u001b[33mword_dict.pkl\u001b[39;49;00m\u001b[33m'\u001b[39;49;00m)\r\n",
      "    \u001b[34mwith\u001b[39;49;00m \u001b[36mopen\u001b[39;49;00m(word_dict_path, \u001b[33m'\u001b[39;49;00m\u001b[33mrb\u001b[39;49;00m\u001b[33m'\u001b[39;49;00m) \u001b[34mas\u001b[39;49;00m f:\r\n",
      "        model.word_dict = pickle.load(f)\r\n",
      "\r\n",
      "    model.to(device).eval()\r\n",
      "\r\n",
      "    \u001b[34mprint\u001b[39;49;00m(\u001b[33m\"\u001b[39;49;00m\u001b[33mDone loading model.\u001b[39;49;00m\u001b[33m\"\u001b[39;49;00m)\r\n",
      "    \u001b[34mreturn\u001b[39;49;00m model\r\n",
      "\r\n",
      "\u001b[34mdef\u001b[39;49;00m \u001b[32minput_fn\u001b[39;49;00m(serialized_input_data, content_type):\r\n",
      "    \u001b[34mprint\u001b[39;49;00m(\u001b[33m'\u001b[39;49;00m\u001b[33mDeserializing the input data.\u001b[39;49;00m\u001b[33m'\u001b[39;49;00m)\r\n",
      "    \u001b[34mif\u001b[39;49;00m content_type == \u001b[33m'\u001b[39;49;00m\u001b[33mtext/plain\u001b[39;49;00m\u001b[33m'\u001b[39;49;00m:\r\n",
      "        data = serialized_input_data.decode(\u001b[33m'\u001b[39;49;00m\u001b[33mutf-8\u001b[39;49;00m\u001b[33m'\u001b[39;49;00m)\r\n",
      "        \u001b[34mreturn\u001b[39;49;00m data\r\n",
      "    \u001b[34mraise\u001b[39;49;00m \u001b[36mException\u001b[39;49;00m(\u001b[33m'\u001b[39;49;00m\u001b[33mRequested unsupported ContentType in content_type: \u001b[39;49;00m\u001b[33m'\u001b[39;49;00m + content_type)\r\n",
      "\r\n",
      "\u001b[34mdef\u001b[39;49;00m \u001b[32moutput_fn\u001b[39;49;00m(prediction_output, accept):\r\n",
      "    \u001b[34mprint\u001b[39;49;00m(\u001b[33m'\u001b[39;49;00m\u001b[33mSerializing the generated output.\u001b[39;49;00m\u001b[33m'\u001b[39;49;00m)\r\n",
      "    \u001b[34mreturn\u001b[39;49;00m \u001b[36mstr\u001b[39;49;00m(prediction_output)\r\n",
      "\r\n",
      "\u001b[34mdef\u001b[39;49;00m \u001b[32mpredict_fn\u001b[39;49;00m(input_data, model):\r\n",
      "    \u001b[34mprint\u001b[39;49;00m(\u001b[33m'\u001b[39;49;00m\u001b[33mInferring sentiment of input data.\u001b[39;49;00m\u001b[33m'\u001b[39;49;00m)\r\n",
      "\r\n",
      "    device = torch.device(\u001b[33m\"\u001b[39;49;00m\u001b[33mcuda\u001b[39;49;00m\u001b[33m\"\u001b[39;49;00m \u001b[34mif\u001b[39;49;00m torch.cuda.is_available() \u001b[34melse\u001b[39;49;00m \u001b[33m\"\u001b[39;49;00m\u001b[33mcpu\u001b[39;49;00m\u001b[33m\"\u001b[39;49;00m)\r\n",
      "    \r\n",
      "    \u001b[34mif\u001b[39;49;00m model.word_dict \u001b[35mis\u001b[39;49;00m \u001b[36mNone\u001b[39;49;00m:\r\n",
      "        \u001b[34mraise\u001b[39;49;00m \u001b[36mException\u001b[39;49;00m(\u001b[33m'\u001b[39;49;00m\u001b[33mModel has not been loaded properly, no word_dict.\u001b[39;49;00m\u001b[33m'\u001b[39;49;00m)\r\n",
      "    \r\n",
      "    \u001b[37m# TODO: Process input_data so that it is ready to be sent to our model.\u001b[39;49;00m\r\n",
      "    \u001b[37m#       You should produce two variables:\u001b[39;49;00m\r\n",
      "    \u001b[37m#         data_X   - A sequence of length 500 which represents the converted review\u001b[39;49;00m\r\n",
      "    \u001b[37m#         data_len - The length of the review\u001b[39;49;00m\r\n",
      "    \r\n",
      "\r\n",
      "    \u001b[37m#     data_X = None\u001b[39;49;00m\r\n",
      "    \u001b[37m#     data_len = None\u001b[39;49;00m\r\n",
      "    input_words = review_to_words(input_data)\r\n",
      "    data_X, data_len = convert_and_pad_data(word_dict, input_words)\r\n",
      "    \u001b[34mprint\u001b[39;49;00m(\u001b[33m\"\u001b[39;49;00m\u001b[33mThe length of the input data is: \u001b[39;49;00m\u001b[33m\"\u001b[39;49;00m+\u001b[36mstr\u001b[39;49;00m(data_len))\r\n",
      "    \r\n",
      "    \u001b[37m# Using data_X and data_len we construct an appropriate input tensor. Remember\u001b[39;49;00m\r\n",
      "    \u001b[37m# that our model expects input data of the form 'len, review[500]'.\u001b[39;49;00m\r\n",
      "    data_pack = np.hstack((data_len, data_X))\r\n",
      "    data_pack = data_pack.reshape(\u001b[34m1\u001b[39;49;00m, -\u001b[34m1\u001b[39;49;00m)\r\n",
      "    \r\n",
      "    data = torch.from_numpy(data_pack)\r\n",
      "    data = data.to(device)\r\n",
      "\r\n",
      "    \u001b[37m# Make sure to put the model into evaluation mode\u001b[39;49;00m\r\n",
      "    model.eval()\r\n",
      "\r\n",
      "    \u001b[37m# TODO: Compute the result of applying the model to the input data. The variable `result` should\u001b[39;49;00m\r\n",
      "    \u001b[37m#       be a numpy array which contains a single integer which is either 1 or 0\u001b[39;49;00m\r\n",
      "\r\n",
      "    \u001b[37m#     result = None\u001b[39;49;00m\r\n",
      "    \u001b[34mwith\u001b[39;49;00m torch.no_grad():\r\n",
      "        output = model.forward(data)\r\n",
      "\r\n",
      "    result = np.round(output.numpy())\r\n",
      "\r\n",
      "    \u001b[34mreturn\u001b[39;49;00m result\r\n"
     ]
    }
   ],
   "source": [
    "!pygmentize serve/predict.py"
   ]
  },
  {
   "cell_type": "markdown",
   "metadata": {},
   "source": [
    "As mentioned earlier, the `model_fn` method is the same as the one provided in the training code and the `input_fn` and `output_fn` methods are very simple and your task will be to complete the `predict_fn` method. Make sure that you save the completed file as `predict.py` in the `serve` directory.\n",
    "\n",
    "**TODO**: Complete the `predict_fn()` method in the `serve/predict.py` file."
   ]
  },
  {
   "cell_type": "markdown",
   "metadata": {},
   "source": [
    "### Deploying the model\n",
    "\n",
    "Now that the custom inference code has been written, we will create and deploy our model. To begin with, we need to construct a new PyTorchModel object which points to the model artifacts created during training and also points to the inference code that we wish to use. Then we can call the deploy method to launch the deployment container.\n",
    "\n",
    "**NOTE**: The default behaviour for a deployed PyTorch model is to assume that any input passed to the predictor is a `numpy` array. In our case we want to send a string so we need to construct a simple wrapper around the `RealTimePredictor` class to accomodate simple strings. In a more complicated situation you may want to provide a serialization object, for example if you wanted to sent image data."
   ]
  },
  {
   "cell_type": "code",
   "execution_count": 39,
   "metadata": {},
   "outputs": [
    {
     "name": "stdout",
     "output_type": "stream",
     "text": [
      "------------------------------------------------------------------------------------------!"
     ]
    }
   ],
   "source": [
    "from sagemaker.predictor import RealTimePredictor\n",
    "from sagemaker.pytorch import PyTorchModel\n",
    "\n",
    "class StringPredictor(RealTimePredictor):\n",
    "    def __init__(self, endpoint_name, sagemaker_session):\n",
    "        super(StringPredictor, self).__init__(endpoint_name, sagemaker_session, content_type='text/plain')\n",
    "\n",
    "model = PyTorchModel(model_data=estimator.model_data,\n",
    "                     role = role,\n",
    "                     framework_version='0.4.0',\n",
    "                     entry_point='predict.py',\n",
    "                     source_dir='serve',\n",
    "                     predictor_cls=StringPredictor)\n",
    "predictor = model.deploy(initial_instance_count=1, instance_type='ml.m4.xlarge')"
   ]
  },
  {
   "cell_type": "markdown",
   "metadata": {},
   "source": [
    "### Testing the model\n",
    "\n",
    "Now that we have deployed our model with the custom inference code, we should test to see if everything is working. Here we test our model by loading the first `250` positive and negative reviews and send them to the endpoint, then collect the results. The reason for only sending some of the data is that the amount of time it takes for our model to process the input and then perform inference is quite long and so testing the entire data set would be prohibitive."
   ]
  },
  {
   "cell_type": "code",
   "execution_count": 40,
   "metadata": {},
   "outputs": [],
   "source": [
    "import glob\n",
    "\n",
    "def test_reviews(data_dir='../data/aclImdb', stop=250):\n",
    "    \n",
    "    results = []\n",
    "    ground = []\n",
    "    \n",
    "    # We make sure to test both positive and negative reviews    \n",
    "    for sentiment in ['pos', 'neg']:\n",
    "        \n",
    "        path = os.path.join(data_dir, 'test', sentiment, '*.txt')\n",
    "        files = glob.glob(path)\n",
    "        \n",
    "        files_read = 0\n",
    "        \n",
    "        print('Starting ', sentiment, ' files')\n",
    "        \n",
    "        # Iterate through the files and send them to the predictor\n",
    "        for f in files:\n",
    "            with open(f) as review:\n",
    "                # First, we store the ground truth (was the review positive or negative)\n",
    "                if sentiment == 'pos':\n",
    "                    ground.append(1)\n",
    "                else:\n",
    "                    ground.append(0)\n",
    "                # Read in the review and convert to 'utf-8' for transmission via HTTP\n",
    "                review_input = review.read().encode('utf-8')\n",
    "                # Send the review to the predictor and store the results\n",
    "                results.append(int(predictor.predict(review_input)))\n",
    "                \n",
    "            # Sending reviews to our endpoint one at a time takes a while so we\n",
    "            # only send a small number of reviews\n",
    "            files_read += 1\n",
    "            if files_read == stop:\n",
    "                break\n",
    "            \n",
    "    return ground, results"
   ]
  },
  {
   "cell_type": "code",
   "execution_count": 42,
   "metadata": {},
   "outputs": [
    {
     "name": "stdout",
     "output_type": "stream",
     "text": [
      "Starting  pos  files\n"
     ]
    },
    {
     "ename": "ModelError",
     "evalue": "An error occurred (ModelError) when calling the InvokeEndpoint operation: Received server error (500) from model with message \"<!DOCTYPE HTML PUBLIC \"-//W3C//DTD HTML 3.2 Final//EN\">\n<title>500 Internal Server Error</title>\n<h1>Internal Server Error</h1>\n<p>The server encountered an internal error and was unable to complete your request.  Either the server is overloaded or there is an error in the application.</p>\n\". See https://eu-central-1.console.aws.amazon.com/cloudwatch/home?region=eu-central-1#logEventViewer:group=/aws/sagemaker/Endpoints/sagemaker-pytorch-2019-05-04-11-36-07-151 in account 184522327765 for more information.",
     "output_type": "error",
     "traceback": [
      "\u001b[0;31m---------------------------------------------------------------------------\u001b[0m",
      "\u001b[0;31mModelError\u001b[0m                                Traceback (most recent call last)",
      "\u001b[0;32m<ipython-input-42-27d1fd4b7c7b>\u001b[0m in \u001b[0;36m<module>\u001b[0;34m()\u001b[0m\n\u001b[0;32m----> 1\u001b[0;31m \u001b[0mground\u001b[0m\u001b[0;34m,\u001b[0m \u001b[0mresults\u001b[0m \u001b[0;34m=\u001b[0m \u001b[0mtest_reviews\u001b[0m\u001b[0;34m(\u001b[0m\u001b[0;34m)\u001b[0m\u001b[0;34m\u001b[0m\u001b[0m\n\u001b[0m",
      "\u001b[0;32m<ipython-input-40-4c56d4ff716b>\u001b[0m in \u001b[0;36mtest_reviews\u001b[0;34m(data_dir, stop)\u001b[0m\n\u001b[1;32m     27\u001b[0m                 \u001b[0mreview_input\u001b[0m \u001b[0;34m=\u001b[0m \u001b[0mreview\u001b[0m\u001b[0;34m.\u001b[0m\u001b[0mread\u001b[0m\u001b[0;34m(\u001b[0m\u001b[0;34m)\u001b[0m\u001b[0;34m.\u001b[0m\u001b[0mencode\u001b[0m\u001b[0;34m(\u001b[0m\u001b[0;34m'utf-8'\u001b[0m\u001b[0;34m)\u001b[0m\u001b[0;34m\u001b[0m\u001b[0m\n\u001b[1;32m     28\u001b[0m                 \u001b[0;31m# Send the review to the predictor and store the results\u001b[0m\u001b[0;34m\u001b[0m\u001b[0;34m\u001b[0m\u001b[0m\n\u001b[0;32m---> 29\u001b[0;31m                 \u001b[0mresults\u001b[0m\u001b[0;34m.\u001b[0m\u001b[0mappend\u001b[0m\u001b[0;34m(\u001b[0m\u001b[0mint\u001b[0m\u001b[0;34m(\u001b[0m\u001b[0mpredictor\u001b[0m\u001b[0;34m.\u001b[0m\u001b[0mpredict\u001b[0m\u001b[0;34m(\u001b[0m\u001b[0mreview_input\u001b[0m\u001b[0;34m)\u001b[0m\u001b[0;34m)\u001b[0m\u001b[0;34m)\u001b[0m\u001b[0;34m\u001b[0m\u001b[0m\n\u001b[0m\u001b[1;32m     30\u001b[0m \u001b[0;34m\u001b[0m\u001b[0m\n\u001b[1;32m     31\u001b[0m             \u001b[0;31m# Sending reviews to our endpoint one at a time takes a while so we\u001b[0m\u001b[0;34m\u001b[0m\u001b[0;34m\u001b[0m\u001b[0m\n",
      "\u001b[0;32m~/anaconda3/envs/pytorch_p36/lib/python3.6/site-packages/sagemaker/predictor.py\u001b[0m in \u001b[0;36mpredict\u001b[0;34m(self, data, initial_args)\u001b[0m\n\u001b[1;32m     78\u001b[0m \u001b[0;34m\u001b[0m\u001b[0m\n\u001b[1;32m     79\u001b[0m         \u001b[0mrequest_args\u001b[0m \u001b[0;34m=\u001b[0m \u001b[0mself\u001b[0m\u001b[0;34m.\u001b[0m\u001b[0m_create_request_args\u001b[0m\u001b[0;34m(\u001b[0m\u001b[0mdata\u001b[0m\u001b[0;34m,\u001b[0m \u001b[0minitial_args\u001b[0m\u001b[0;34m)\u001b[0m\u001b[0;34m\u001b[0m\u001b[0m\n\u001b[0;32m---> 80\u001b[0;31m         \u001b[0mresponse\u001b[0m \u001b[0;34m=\u001b[0m \u001b[0mself\u001b[0m\u001b[0;34m.\u001b[0m\u001b[0msagemaker_session\u001b[0m\u001b[0;34m.\u001b[0m\u001b[0msagemaker_runtime_client\u001b[0m\u001b[0;34m.\u001b[0m\u001b[0minvoke_endpoint\u001b[0m\u001b[0;34m(\u001b[0m\u001b[0;34m**\u001b[0m\u001b[0mrequest_args\u001b[0m\u001b[0;34m)\u001b[0m\u001b[0;34m\u001b[0m\u001b[0m\n\u001b[0m\u001b[1;32m     81\u001b[0m         \u001b[0;32mreturn\u001b[0m \u001b[0mself\u001b[0m\u001b[0;34m.\u001b[0m\u001b[0m_handle_response\u001b[0m\u001b[0;34m(\u001b[0m\u001b[0mresponse\u001b[0m\u001b[0;34m)\u001b[0m\u001b[0;34m\u001b[0m\u001b[0m\n\u001b[1;32m     82\u001b[0m \u001b[0;34m\u001b[0m\u001b[0m\n",
      "\u001b[0;32m~/anaconda3/envs/pytorch_p36/lib/python3.6/site-packages/botocore/client.py\u001b[0m in \u001b[0;36m_api_call\u001b[0;34m(self, *args, **kwargs)\u001b[0m\n\u001b[1;32m    355\u001b[0m                     \"%s() only accepts keyword arguments.\" % py_operation_name)\n\u001b[1;32m    356\u001b[0m             \u001b[0;31m# The \"self\" in this scope is referring to the BaseClient.\u001b[0m\u001b[0;34m\u001b[0m\u001b[0;34m\u001b[0m\u001b[0m\n\u001b[0;32m--> 357\u001b[0;31m             \u001b[0;32mreturn\u001b[0m \u001b[0mself\u001b[0m\u001b[0;34m.\u001b[0m\u001b[0m_make_api_call\u001b[0m\u001b[0;34m(\u001b[0m\u001b[0moperation_name\u001b[0m\u001b[0;34m,\u001b[0m \u001b[0mkwargs\u001b[0m\u001b[0;34m)\u001b[0m\u001b[0;34m\u001b[0m\u001b[0m\n\u001b[0m\u001b[1;32m    358\u001b[0m \u001b[0;34m\u001b[0m\u001b[0m\n\u001b[1;32m    359\u001b[0m         \u001b[0m_api_call\u001b[0m\u001b[0;34m.\u001b[0m\u001b[0m__name__\u001b[0m \u001b[0;34m=\u001b[0m \u001b[0mstr\u001b[0m\u001b[0;34m(\u001b[0m\u001b[0mpy_operation_name\u001b[0m\u001b[0;34m)\u001b[0m\u001b[0;34m\u001b[0m\u001b[0m\n",
      "\u001b[0;32m~/anaconda3/envs/pytorch_p36/lib/python3.6/site-packages/botocore/client.py\u001b[0m in \u001b[0;36m_make_api_call\u001b[0;34m(self, operation_name, api_params)\u001b[0m\n\u001b[1;32m    659\u001b[0m             \u001b[0merror_code\u001b[0m \u001b[0;34m=\u001b[0m \u001b[0mparsed_response\u001b[0m\u001b[0;34m.\u001b[0m\u001b[0mget\u001b[0m\u001b[0;34m(\u001b[0m\u001b[0;34m\"Error\"\u001b[0m\u001b[0;34m,\u001b[0m \u001b[0;34m{\u001b[0m\u001b[0;34m}\u001b[0m\u001b[0;34m)\u001b[0m\u001b[0;34m.\u001b[0m\u001b[0mget\u001b[0m\u001b[0;34m(\u001b[0m\u001b[0;34m\"Code\"\u001b[0m\u001b[0;34m)\u001b[0m\u001b[0;34m\u001b[0m\u001b[0m\n\u001b[1;32m    660\u001b[0m             \u001b[0merror_class\u001b[0m \u001b[0;34m=\u001b[0m \u001b[0mself\u001b[0m\u001b[0;34m.\u001b[0m\u001b[0mexceptions\u001b[0m\u001b[0;34m.\u001b[0m\u001b[0mfrom_code\u001b[0m\u001b[0;34m(\u001b[0m\u001b[0merror_code\u001b[0m\u001b[0;34m)\u001b[0m\u001b[0;34m\u001b[0m\u001b[0m\n\u001b[0;32m--> 661\u001b[0;31m             \u001b[0;32mraise\u001b[0m \u001b[0merror_class\u001b[0m\u001b[0;34m(\u001b[0m\u001b[0mparsed_response\u001b[0m\u001b[0;34m,\u001b[0m \u001b[0moperation_name\u001b[0m\u001b[0;34m)\u001b[0m\u001b[0;34m\u001b[0m\u001b[0m\n\u001b[0m\u001b[1;32m    662\u001b[0m         \u001b[0;32melse\u001b[0m\u001b[0;34m:\u001b[0m\u001b[0;34m\u001b[0m\u001b[0m\n\u001b[1;32m    663\u001b[0m             \u001b[0;32mreturn\u001b[0m \u001b[0mparsed_response\u001b[0m\u001b[0;34m\u001b[0m\u001b[0m\n",
      "\u001b[0;31mModelError\u001b[0m: An error occurred (ModelError) when calling the InvokeEndpoint operation: Received server error (500) from model with message \"<!DOCTYPE HTML PUBLIC \"-//W3C//DTD HTML 3.2 Final//EN\">\n<title>500 Internal Server Error</title>\n<h1>Internal Server Error</h1>\n<p>The server encountered an internal error and was unable to complete your request.  Either the server is overloaded or there is an error in the application.</p>\n\". See https://eu-central-1.console.aws.amazon.com/cloudwatch/home?region=eu-central-1#logEventViewer:group=/aws/sagemaker/Endpoints/sagemaker-pytorch-2019-05-04-11-36-07-151 in account 184522327765 for more information."
     ]
    }
   ],
   "source": [
    "ground, results = test_reviews()"
   ]
  },
  {
   "cell_type": "code",
   "execution_count": 42,
   "metadata": {},
   "outputs": [
    {
     "ename": "NameError",
     "evalue": "name 'ground' is not defined",
     "output_type": "error",
     "traceback": [
      "\u001b[0;31m---------------------------------------------------------------------------\u001b[0m",
      "\u001b[0;31mNameError\u001b[0m                                 Traceback (most recent call last)",
      "\u001b[0;32m<ipython-input-42-f3e6875633e1>\u001b[0m in \u001b[0;36m<module>\u001b[0;34m()\u001b[0m\n\u001b[1;32m      1\u001b[0m \u001b[0;32mfrom\u001b[0m \u001b[0msklearn\u001b[0m\u001b[0;34m.\u001b[0m\u001b[0mmetrics\u001b[0m \u001b[0;32mimport\u001b[0m \u001b[0maccuracy_score\u001b[0m\u001b[0;34m\u001b[0m\u001b[0m\n\u001b[0;32m----> 2\u001b[0;31m \u001b[0maccuracy_score\u001b[0m\u001b[0;34m(\u001b[0m\u001b[0mground\u001b[0m\u001b[0;34m,\u001b[0m \u001b[0mresults\u001b[0m\u001b[0;34m)\u001b[0m\u001b[0;34m\u001b[0m\u001b[0m\n\u001b[0m",
      "\u001b[0;31mNameError\u001b[0m: name 'ground' is not defined"
     ]
    }
   ],
   "source": [
    "from sklearn.metrics import accuracy_score\n",
    "accuracy_score(ground, results)"
   ]
  },
  {
   "cell_type": "markdown",
   "metadata": {},
   "source": [
    "As an additional test, we can try sending the `test_review` that we looked at earlier."
   ]
  },
  {
   "cell_type": "code",
   "execution_count": null,
   "metadata": {},
   "outputs": [],
   "source": [
    "predictor.predict(test_review)"
   ]
  },
  {
   "cell_type": "markdown",
   "metadata": {},
   "source": [
    "Now that we know our endpoint is working as expected, we can set up the web page that will interact with it. If you don't have time to finish the project now, make sure to skip down to the end of this notebook and shut down your endpoint. You can deploy it again when you come back."
   ]
  },
  {
   "cell_type": "markdown",
   "metadata": {},
   "source": [
    "## Step 7 (again): Use the model for the web app\n",
    "\n",
    "> **TODO:** This entire section and the next contain tasks for you to complete, mostly using the AWS console.\n",
    "\n",
    "So far we have been accessing our model endpoint by constructing a predictor object which uses the endpoint and then just using the predictor object to perform inference. What if we wanted to create a web app which accessed our model? The way things are set up currently makes that not possible since in order to access a SageMaker endpoint the app would first have to authenticate with AWS using an IAM role which included access to SageMaker endpoints. However, there is an easier way! We just need to use some additional AWS services.\n",
    "\n",
    "<img src=\"Web App Diagram.svg\">\n",
    "\n",
    "The diagram above gives an overview of how the various services will work together. On the far right is the model which we trained above and which is deployed using SageMaker. On the far left is our web app that collects a user's movie review, sends it off and expects a positive or negative sentiment in return.\n",
    "\n",
    "In the middle is where some of the magic happens. We will construct a Lambda function, which you can think of as a straightforward Python function that can be executed whenever a specified event occurs. We will give this function permission to send and recieve data from a SageMaker endpoint.\n",
    "\n",
    "Lastly, the method we will use to execute the Lambda function is a new endpoint that we will create using API Gateway. This endpoint will be a url that listens for data to be sent to it. Once it gets some data it will pass that data on to the Lambda function and then return whatever the Lambda function returns. Essentially it will act as an interface that lets our web app communicate with the Lambda function.\n",
    "\n",
    "### Setting up a Lambda function\n",
    "\n",
    "The first thing we are going to do is set up a Lambda function. This Lambda function will be executed whenever our public API has data sent to it. When it is executed it will receive the data, perform any sort of processing that is required, send the data (the review) to the SageMaker endpoint we've created and then return the result.\n",
    "\n",
    "#### Part A: Create an IAM Role for the Lambda function\n",
    "\n",
    "Since we want the Lambda function to call a SageMaker endpoint, we need to make sure that it has permission to do so. To do this, we will construct a role that we can later give the Lambda function.\n",
    "\n",
    "Using the AWS Console, navigate to the **IAM** page and click on **Roles**. Then, click on **Create role**. Make sure that the **AWS service** is the type of trusted entity selected and choose **Lambda** as the service that will use this role, then click **Next: Permissions**.\n",
    "\n",
    "In the search box type `sagemaker` and select the check box next to the **AmazonSageMakerFullAccess** policy. Then, click on **Next: Review**.\n",
    "\n",
    "Lastly, give this role a name. Make sure you use a name that you will remember later on, for example `LambdaSageMakerRole`. Then, click on **Create role**.\n",
    "\n",
    "#### Part B: Create a Lambda function\n",
    "\n",
    "Now it is time to actually create the Lambda function.\n",
    "\n",
    "Using the AWS Console, navigate to the AWS Lambda page and click on **Create a function**. When you get to the next page, make sure that **Author from scratch** is selected. Now, name your Lambda function, using a name that you will remember later on, for example `sentiment_analysis_func`. Make sure that the **Python 3.6** runtime is selected and then choose the role that you created in the previous part. Then, click on **Create Function**.\n",
    "\n",
    "On the next page you will see some information about the Lambda function you've just created. If you scroll down you should see an editor in which you can write the code that will be executed when your Lambda function is triggered. In our example, we will use the code below. \n",
    "\n",
    "```python\n",
    "# We need to use the low-level library to interact with SageMaker since the SageMaker API\n",
    "# is not available natively through Lambda.\n",
    "import boto3\n",
    "\n",
    "def lambda_handler(event, context):\n",
    "\n",
    "    # The SageMaker runtime is what allows us to invoke the endpoint that we've created.\n",
    "    runtime = boto3.Session().client('sagemaker-runtime')\n",
    "\n",
    "    # Now we use the SageMaker runtime to invoke our endpoint, sending the review we were given\n",
    "    response = runtime.invoke_endpoint(EndpointName = '**ENDPOINT NAME HERE**',    # The name of the endpoint we created\n",
    "                                       ContentType = 'text/plain',                 # The data format that is expected\n",
    "                                       Body = event['body'])                       # The actual review\n",
    "\n",
    "    # The response is an HTTP response whose body contains the result of our inference\n",
    "    result = response['Body'].read().decode('utf-8')\n",
    "\n",
    "    return {\n",
    "        'statusCode' : 200,\n",
    "        'headers' : { 'Content-Type' : 'text/plain', 'Access-Control-Allow-Origin' : '*' },\n",
    "        'body' : result\n",
    "    }\n",
    "```\n",
    "\n",
    "Once you have copy and pasted the code above into the Lambda code editor, replace the `**ENDPOINT NAME HERE**` portion with the name of the endpoint that we deployed earlier. You can determine the name of the endpoint using the code cell below."
   ]
  },
  {
   "cell_type": "code",
   "execution_count": 123,
   "metadata": {},
   "outputs": [
    {
     "data": {
      "text/plain": [
       "'sagemaker-pytorch-2019-05-01-23-21-04-818'"
      ]
     },
     "execution_count": 123,
     "metadata": {},
     "output_type": "execute_result"
    }
   ],
   "source": [
    "predictor.endpoint"
   ]
  },
  {
   "cell_type": "markdown",
   "metadata": {},
   "source": [
    "Once you have added the endpoint name to the Lambda function, click on **Save**. Your Lambda function is now up and running. Next we need to create a way for our web app to execute the Lambda function.\n",
    "\n",
    "### Setting up API Gateway\n",
    "\n",
    "Now that our Lambda function is set up, it is time to create a new API using API Gateway that will trigger the Lambda function we have just created.\n",
    "\n",
    "Using AWS Console, navigate to **Amazon API Gateway** and then click on **Get started**.\n",
    "\n",
    "On the next page, make sure that **New API** is selected and give the new api a name, for example, `sentiment_analysis_api`. Then, click on **Create API**.\n",
    "\n",
    "Now we have created an API, however it doesn't currently do anything. What we want it to do is to trigger the Lambda function that we created earlier.\n",
    "\n",
    "Select the **Actions** dropdown menu and click **Create Method**. A new blank method will be created, select its dropdown menu and select **POST**, then click on the check mark beside it.\n",
    "\n",
    "For the integration point, make sure that **Lambda Function** is selected and click on the **Use Lambda Proxy integration**. This option makes sure that the data that is sent to the API is then sent directly to the Lambda function with no processing. It also means that the return value must be a proper response object as it will also not be processed by API Gateway.\n",
    "\n",
    "Type the name of the Lambda function you created earlier into the **Lambda Function** text entry box and then click on **Save**. Click on **OK** in the pop-up box that then appears, giving permission to API Gateway to invoke the Lambda function you created.\n",
    "\n",
    "The last step in creating the API Gateway is to select the **Actions** dropdown and click on **Deploy API**. You will need to create a new Deployment stage and name it anything you like, for example `prod`.\n",
    "\n",
    "You have now successfully set up a public API to access your SageMaker model. Make sure to copy or write down the URL provided to invoke your newly created public API as this will be needed in the next step. This URL can be found at the top of the page, highlighted in blue next to the text **Invoke URL**."
   ]
  },
  {
   "cell_type": "markdown",
   "metadata": {},
   "source": [
    "## Step 4: Deploying our web app\n",
    "\n",
    "Now that we have a publicly available API, we can start using it in a web app. For our purposes, we have provided a simple static html file which can make use of the public api you created earlier.\n",
    "\n",
    "In the `website` folder there should be a file called `index.html`. Download the file to your computer and open that file up in a text editor of your choice. There should be a line which contains **\\*\\*REPLACE WITH PUBLIC API URL\\*\\***. Replace this string with the url that you wrote down in the last step and then save the file.\n",
    "\n",
    "Now, if you open `index.html` on your local computer, your browser will behave as a local web server and you can use the provided site to interact with your SageMaker model.\n",
    "\n",
    "If you'd like to go further, you can host this html file anywhere you'd like, for example using github or hosting a static site on Amazon's S3. Once you have done this you can share the link with anyone you'd like and have them play with it too!\n",
    "\n",
    "> **Important Note** In order for the web app to communicate with the SageMaker endpoint, the endpoint has to actually be deployed and running. This means that you are paying for it. Make sure that the endpoint is running when you want to use the web app but that you shut it down when you don't need it, otherwise you will end up with a surprisingly large AWS bill.\n",
    "\n",
    "**TODO:** Make sure that you include the edited `index.html` file in your project submission."
   ]
  },
  {
   "cell_type": "markdown",
   "metadata": {},
   "source": [
    "Now that your web app is working, trying playing around with it and see how well it works.\n",
    "\n",
    "**Question**: Give an example of a review that you entered into your web app. What was the predicted sentiment of your example review?"
   ]
  },
  {
   "cell_type": "markdown",
   "metadata": {},
   "source": [
    "**Answer:**"
   ]
  },
  {
   "cell_type": "markdown",
   "metadata": {},
   "source": [
    "### Delete the endpoint\n",
    "\n",
    "Remember to always shut down your endpoint if you are no longer using it. You are charged for the length of time that the endpoint is running so if you forget and leave it on you could end up with an unexpectedly large bill."
   ]
  },
  {
   "cell_type": "code",
   "execution_count": 124,
   "metadata": {},
   "outputs": [
    {
     "name": "stderr",
     "output_type": "stream",
     "text": [
      "INFO:sagemaker:Deleting endpoint configuration with name: sagemaker-pytorch-2019-05-01-23-21-04-818\n",
      "INFO:sagemaker:Deleting endpoint with name: sagemaker-pytorch-2019-05-01-23-21-04-818\n"
     ]
    }
   ],
   "source": [
    "predictor.delete_endpoint()"
   ]
  },
  {
   "cell_type": "code",
   "execution_count": null,
   "metadata": {},
   "outputs": [],
   "source": []
  }
 ],
 "metadata": {
  "kernelspec": {
   "display_name": "conda_pytorch_p36",
   "language": "python",
   "name": "conda_pytorch_p36"
  },
  "language_info": {
   "codemirror_mode": {
    "name": "ipython",
    "version": 3
   },
   "file_extension": ".py",
   "mimetype": "text/x-python",
   "name": "python",
   "nbconvert_exporter": "python",
   "pygments_lexer": "ipython3",
   "version": "3.6.5"
  }
 },
 "nbformat": 4,
 "nbformat_minor": 2
}
