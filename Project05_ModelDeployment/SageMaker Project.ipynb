{
 "cells": [
  {
   "cell_type": "markdown",
   "metadata": {},
   "source": [
    "# Creating a Sentiment Analysis Web App\n",
    "## Using PyTorch and SageMaker\n",
    "\n",
    "_Deep Learning Nanodegree Program | Deployment_\n",
    "\n",
    "---\n",
    "\n",
    "Now that we have a basic understanding of how SageMaker works we will try to use it to construct a complete project from end to end. Our goal will be to have a simple web page which a user can use to enter a movie review. The web page will then send the review off to our deployed model which will predict the sentiment of the entered review.\n",
    "\n",
    "## Instructions\n",
    "\n",
    "Some template code has already been provided for you, and you will need to implement additional functionality to successfully complete this notebook. You will not need to modify the included code beyond what is requested. Sections that begin with '**TODO**' in the header indicate that you need to complete or implement some portion within them. Instructions will be provided for each section and the specifics of the implementation are marked in the code block with a `# TODO: ...` comment. Please be sure to read the instructions carefully!\n",
    "\n",
    "In addition to implementing code, there will be questions for you to answer which relate to the task and your implementation. Each section where you will answer a question is preceded by a '**Question:**' header. Carefully read each question and provide your answer below the '**Answer:**' header by editing the Markdown cell.\n",
    "\n",
    "> **Note**: Code and Markdown cells can be executed using the **Shift+Enter** keyboard shortcut. In addition, a cell can be edited by typically clicking it (double-click for Markdown cells) or by pressing **Enter** while it is highlighted.\n",
    "\n",
    "## General Outline\n",
    "\n",
    "Recall the general outline for SageMaker projects using a notebook instance.\n",
    "\n",
    "1. Download or otherwise retrieve the data.\n",
    "2. Process / Prepare the data.\n",
    "3. Upload the processed data to S3.\n",
    "4. Train a chosen model.\n",
    "5. Test the trained model (typically using a batch transform job).\n",
    "6. Deploy the trained model.\n",
    "7. Use the deployed model.\n",
    "\n",
    "For this project, you will be following the steps in the general outline with some modifications. \n",
    "\n",
    "First, you will not be testing the model in its own step. You will still be testing the model, however, you will do it by deploying your model and then using the deployed model by sending the test data to it. One of the reasons for doing this is so that you can make sure that your deployed model is working correctly before moving forward.\n",
    "\n",
    "In addition, you will deploy and use your trained model a second time. In the second iteration you will customize the way that your trained model is deployed by including some of your own code. In addition, your newly deployed model will be used in the sentiment analysis web app."
   ]
  },
  {
   "cell_type": "markdown",
   "metadata": {},
   "source": [
    "## Step 1: Downloading the data\n",
    "\n",
    "As in the XGBoost in SageMaker notebook, we will be using the [IMDb dataset](http://ai.stanford.edu/~amaas/data/sentiment/)\n",
    "\n",
    "> Maas, Andrew L., et al. [Learning Word Vectors for Sentiment Analysis](http://ai.stanford.edu/~amaas/data/sentiment/). In _Proceedings of the 49th Annual Meeting of the Association for Computational Linguistics: Human Language Technologies_. Association for Computational Linguistics, 2011."
   ]
  },
  {
   "cell_type": "code",
   "execution_count": 1,
   "metadata": {},
   "outputs": [
    {
     "name": "stdout",
     "output_type": "stream",
     "text": [
      "--2019-04-23 19:22:47--  http://ai.stanford.edu/~amaas/data/sentiment/aclImdb_v1.tar.gz\n",
      "Resolving ai.stanford.edu (ai.stanford.edu)... 171.64.68.10\n",
      "Connecting to ai.stanford.edu (ai.stanford.edu)|171.64.68.10|:80... connected.\n",
      "HTTP request sent, awaiting response... 200 OK\n",
      "Length: 84125825 (80M) [application/x-gzip]\n",
      "Saving to: ‘../data/aclImdb_v1.tar.gz’\n",
      "\n",
      "../data/aclImdb_v1. 100%[===================>]  80.23M  9.41MB/s    in 9.7s    \n",
      "\n",
      "2019-04-23 19:22:57 (8.26 MB/s) - ‘../data/aclImdb_v1.tar.gz’ saved [84125825/84125825]\n",
      "\n"
     ]
    }
   ],
   "source": [
    "%mkdir ../data\n",
    "!wget -O ../data/aclImdb_v1.tar.gz http://ai.stanford.edu/~amaas/data/sentiment/aclImdb_v1.tar.gz\n",
    "!tar -zxf ../data/aclImdb_v1.tar.gz -C ../data"
   ]
  },
  {
   "cell_type": "markdown",
   "metadata": {},
   "source": [
    "## Step 2: Preparing and Processing the data\n",
    "\n",
    "Also, as in the XGBoost notebook, we will be doing some initial data processing. The first few steps are the same as in the XGBoost example. To begin with, we will read in each of the reviews and combine them into a single input structure. Then, we will split the dataset into a training set and a testing set."
   ]
  },
  {
   "cell_type": "code",
   "execution_count": 1,
   "metadata": {},
   "outputs": [],
   "source": [
    "import os\n",
    "import glob\n",
    "\n",
    "def read_imdb_data(data_dir='../data/aclImdb'):\n",
    "    data = {}\n",
    "    labels = {}\n",
    "    \n",
    "    for data_type in ['train', 'test']:\n",
    "        data[data_type] = {}\n",
    "        labels[data_type] = {}\n",
    "        \n",
    "        for sentiment in ['pos', 'neg']:\n",
    "            data[data_type][sentiment] = []\n",
    "            labels[data_type][sentiment] = []\n",
    "            \n",
    "            path = os.path.join(data_dir, data_type, sentiment, '*.txt')\n",
    "            files = glob.glob(path)\n",
    "            \n",
    "            for f in files:\n",
    "                with open(f) as review:\n",
    "                    data[data_type][sentiment].append(review.read())\n",
    "                    # Here we represent a positive review by '1' and a negative review by '0'\n",
    "                    labels[data_type][sentiment].append(1 if sentiment == 'pos' else 0)\n",
    "                    \n",
    "            assert len(data[data_type][sentiment]) == len(labels[data_type][sentiment]), \\\n",
    "                    \"{}/{} data size does not match labels size\".format(data_type, sentiment)\n",
    "                \n",
    "    return data, labels"
   ]
  },
  {
   "cell_type": "code",
   "execution_count": 2,
   "metadata": {},
   "outputs": [
    {
     "name": "stdout",
     "output_type": "stream",
     "text": [
      "IMDB reviews: train = 12500 pos / 12500 neg, test = 12500 pos / 12500 neg\n"
     ]
    }
   ],
   "source": [
    "data, labels = read_imdb_data()\n",
    "print(\"IMDB reviews: train = {} pos / {} neg, test = {} pos / {} neg\".format(\n",
    "            len(data['train']['pos']), len(data['train']['neg']),\n",
    "            len(data['test']['pos']), len(data['test']['neg'])))"
   ]
  },
  {
   "cell_type": "markdown",
   "metadata": {},
   "source": [
    "Now that we've read the raw training and testing data from the downloaded dataset, we will combine the positive and negative reviews and shuffle the resulting records."
   ]
  },
  {
   "cell_type": "code",
   "execution_count": 3,
   "metadata": {},
   "outputs": [],
   "source": [
    "from sklearn.utils import shuffle\n",
    "\n",
    "def prepare_imdb_data(data, labels):\n",
    "    \"\"\"Prepare training and test sets from IMDb movie reviews.\"\"\"\n",
    "    \n",
    "    #Combine positive and negative reviews and labels\n",
    "    data_train = data['train']['pos'] + data['train']['neg']\n",
    "    data_test = data['test']['pos'] + data['test']['neg']\n",
    "    labels_train = labels['train']['pos'] + labels['train']['neg']\n",
    "    labels_test = labels['test']['pos'] + labels['test']['neg']\n",
    "    \n",
    "    #Shuffle reviews and corresponding labels within training and test sets\n",
    "    data_train, labels_train = shuffle(data_train, labels_train)\n",
    "    data_test, labels_test = shuffle(data_test, labels_test)\n",
    "    \n",
    "    # Return a unified training data, test data, training labels, test labets\n",
    "    return data_train, data_test, labels_train, labels_test"
   ]
  },
  {
   "cell_type": "code",
   "execution_count": 4,
   "metadata": {},
   "outputs": [
    {
     "name": "stdout",
     "output_type": "stream",
     "text": [
      "IMDb reviews (combined): train = 25000, test = 25000\n"
     ]
    }
   ],
   "source": [
    "train_X, test_X, train_y, test_y = prepare_imdb_data(data, labels)\n",
    "print(\"IMDb reviews (combined): train = {}, test = {}\".format(len(train_X), len(test_X)))"
   ]
  },
  {
   "cell_type": "markdown",
   "metadata": {},
   "source": [
    "Now that we have our training and testing sets unified and prepared, we should do a quick check and see an example of the data our model will be trained on. This is generally a good idea as it allows you to see how each of the further processing steps affects the reviews and it also ensures that the data has been loaded correctly."
   ]
  },
  {
   "cell_type": "code",
   "execution_count": 6,
   "metadata": {},
   "outputs": [
    {
     "name": "stdout",
     "output_type": "stream",
     "text": [
      "Here we have a movie which fails in pretty much every way it is possible for a movie to fail. Terrible script, lousy acting, amateurish directing, laughable special effects...it's just an utterly awful movie. Not to mention the fact that when you get to the end you'll realize the whole thing doesn't make a lick of sense. After spending the whole movie wondering what in the world is going on here when things are finally explained you realize the story has been built on a foundation which is ludicrously impossible. In one of those hideous \"villain explains the whole movie\" sequences we are told that our villain has done something which quite simply can't be done and which makes absolutely no sense whatsoever. Oh, and after that we see that there also appears to be some kind of jell-o monster involved. I'm sure Drew Barrymore would very much like to pretend this movie never happened. If for some ungodly reason you are ever tempted to sit down and watch this movie may I suggest instead taking that time to bang your head against a wall for 104 minutes. That would prove to be a much more pleasurable experience than sitting through this garbage.\n",
      "0\n"
     ]
    }
   ],
   "source": [
    "print(train_X[100])\n",
    "print(train_y[100])"
   ]
  },
  {
   "cell_type": "markdown",
   "metadata": {},
   "source": [
    "The first step in processing the reviews is to make sure that any html tags that appear should be removed. In addition we wish to tokenize our input, that way words such as *entertained* and *entertaining* are considered the same with regard to sentiment analysis."
   ]
  },
  {
   "cell_type": "code",
   "execution_count": 5,
   "metadata": {},
   "outputs": [],
   "source": [
    "import nltk\n",
    "from nltk.corpus import stopwords\n",
    "from nltk.stem.porter import *\n",
    "\n",
    "import re\n",
    "from bs4 import BeautifulSoup\n",
    "\n",
    "def review_to_words(review):\n",
    "    nltk.download(\"stopwords\", quiet=True)\n",
    "    stemmer = PorterStemmer()\n",
    "    \n",
    "    text = BeautifulSoup(review, \"html.parser\").get_text() # Remove HTML tags\n",
    "    text = re.sub(r\"[^a-zA-Z0-9]\", \" \", text.lower()) # Convert to lower case\n",
    "    words = text.split() # Split string into words\n",
    "    words = [w for w in words if w not in stopwords.words(\"english\")] # Remove stopwords\n",
    "    words = [PorterStemmer().stem(w) for w in words] # stem\n",
    "    \n",
    "    return words"
   ]
  },
  {
   "cell_type": "markdown",
   "metadata": {},
   "source": [
    "The `review_to_words` method defined above uses `BeautifulSoup` to remove any html tags that appear and uses the `nltk` package to tokenize the reviews. As a check to ensure we know how everything is working, try applying `review_to_words` to one of the reviews in the training set."
   ]
  },
  {
   "cell_type": "code",
   "execution_count": 8,
   "metadata": {},
   "outputs": [
    {
     "name": "stdout",
     "output_type": "stream",
     "text": [
      "['director', 'f', 'w', 'murnau', 'wise', 'stuck', 'silent', 'film', 'medium', 'knew', 'well', 'cover', 'stori', 'nativ', 'island', 'life', 'south', 'sea', 'documentari', 'style', 'work', 'well', 'first', 'half', 'movi', 'landscap', 'beauti', 'daili', 'life', 'activ', 'island', 'interest', 'watch', 'film', 'lose', 'momentum', 'though', 'begin', 'concentr', 'narr', 'stori', 'two', 'doom', 'lover', 'storylin', 'never', 'get', 'interest', 'despit', 'handl', 'well', 'murnau', 'academi', 'award', 'best', 'cinematographi', 'although', 'award', 'probabl', 'best', 'sceneri', 'realli', 'credit', 'dp', 'get', 'shoot', 'beauti', 'locat']\n"
     ]
    }
   ],
   "source": [
    "# TODO: Apply review_to_words to a review (train_X[100] or any other review)\n",
    "word_train = review_to_words(train_X[50])\n",
    "print(word_train)"
   ]
  },
  {
   "cell_type": "markdown",
   "metadata": {},
   "source": [
    "**Question:** Above we mentioned that `review_to_words` method removes html formatting and allows us to tokenize the words found in a review, for example, converting *entertained* and *entertaining* into *entertain* so that they are treated as though they are the same word. What else, if anything, does this method do to the input?"
   ]
  },
  {
   "cell_type": "markdown",
   "metadata": {},
   "source": [
    "**Answer:**\n",
    "\n",
    "Removing the \"Stop words\" is another thing that the funciton does so that we make a focus just on the words which hold meaning by themselves. Chaniging the characters into the lower case has been happened also."
   ]
  },
  {
   "cell_type": "markdown",
   "metadata": {},
   "source": [
    "The method below applies the `review_to_words` method to each of the reviews in the training and testing datasets. In addition it caches the results. This is because performing this processing step can take a long time. This way if you are unable to complete the notebook in the current session, you can come back without needing to process the data a second time."
   ]
  },
  {
   "cell_type": "code",
   "execution_count": 9,
   "metadata": {},
   "outputs": [],
   "source": [
    "import pickle\n",
    "\n",
    "cache_dir = os.path.join(\"../cache\", \"sentiment_analysis\")  # where to store cache files\n",
    "os.makedirs(cache_dir, exist_ok=True)  # ensure cache directory exists\n",
    "\n",
    "def preprocess_data(data_train, data_test, labels_train, labels_test,\n",
    "                    cache_dir=cache_dir, cache_file=\"preprocessed_data.pkl\"):\n",
    "    \"\"\"Convert each review to words; read from cache if available.\"\"\"\n",
    "\n",
    "    # If cache_file is not None, try to read from it first\n",
    "    cache_data = None\n",
    "    if cache_file is not None:\n",
    "        try:\n",
    "            with open(os.path.join(cache_dir, cache_file), \"rb\") as f:\n",
    "                cache_data = pickle.load(f)\n",
    "            print(\"Read preprocessed data from cache file:\", cache_file)\n",
    "        except:\n",
    "            pass  # unable to read from cache, but that's okay\n",
    "    \n",
    "    # If cache is missing, then do the heavy lifting\n",
    "    if cache_data is None:\n",
    "        # Preprocess training and test data to obtain words for each review\n",
    "        #words_train = list(map(review_to_words, data_train))\n",
    "        #words_test = list(map(review_to_words, data_test))\n",
    "        words_train = [review_to_words(review) for review in data_train]\n",
    "        words_test = [review_to_words(review) for review in data_test]\n",
    "        \n",
    "        # Write to cache file for future runs\n",
    "        if cache_file is not None:\n",
    "            cache_data = dict(words_train=words_train, words_test=words_test,\n",
    "                              labels_train=labels_train, labels_test=labels_test)\n",
    "            with open(os.path.join(cache_dir, cache_file), \"wb\") as f:\n",
    "                pickle.dump(cache_data, f)\n",
    "            print(\"Wrote preprocessed data to cache file:\", cache_file)\n",
    "    else:\n",
    "        # Unpack data loaded from cache file\n",
    "        words_train, words_test, labels_train, labels_test = (cache_data['words_train'],\n",
    "                cache_data['words_test'], cache_data['labels_train'], cache_data['labels_test'])\n",
    "    \n",
    "    return words_train, words_test, labels_train, labels_test"
   ]
  },
  {
   "cell_type": "code",
   "execution_count": 10,
   "metadata": {},
   "outputs": [
    {
     "name": "stdout",
     "output_type": "stream",
     "text": [
      "Read preprocessed data from cache file: preprocessed_data.pkl\n"
     ]
    }
   ],
   "source": [
    "# Preprocess data\n",
    "train_X, test_X, train_y, test_y = preprocess_data(train_X, test_X, train_y, test_y)"
   ]
  },
  {
   "cell_type": "markdown",
   "metadata": {},
   "source": [
    "## Transform the data\n",
    "\n",
    "In the XGBoost notebook we transformed the data from its word representation to a bag-of-words feature representation. For the model we are going to construct in this notebook we will construct a feature representation which is very similar. To start, we will represent each word as an integer. Of course, some of the words that appear in the reviews occur very infrequently and so likely don't contain much information for the purposes of sentiment analysis. The way we will deal with this problem is that we will fix the size of our working vocabulary and we will only include the words that appear most frequently. We will then combine all of the infrequent words into a single category and, in our case, we will label it as `1`.\n",
    "\n",
    "Since we will be using a recurrent neural network, it will be convenient if the length of each review is the same. To do this, we will fix a size for our reviews and then pad short reviews with the category 'no word' (which we will label `0`) and truncate long reviews."
   ]
  },
  {
   "cell_type": "markdown",
   "metadata": {},
   "source": [
    "### (TODO) Create a word dictionary\n",
    "\n",
    "To begin with, we need to construct a way to map words that appear in the reviews to integers. Here we fix the size of our vocabulary (including the 'no word' and 'infrequent' categories) to be `5000` but you may wish to change this to see how it affects the model.\n",
    "\n",
    "> **TODO:** Complete the implementation for the `build_dict()` method below. Note that even though the vocab_size is set to `5000`, we only want to construct a mapping for the most frequently appearing `4998` words. This is because we want to reserve the special labels `0` for 'no word' and `1` for 'infrequent word'."
   ]
  },
  {
   "cell_type": "code",
   "execution_count": 11,
   "metadata": {},
   "outputs": [],
   "source": [
    "import numpy as np\n",
    "from sklearn.feature_extraction.text import CountVectorizer\n",
    "from sklearn.externals import joblib\n",
    "from collections import Counter\n",
    "import itertools\n",
    "\n",
    "def build_dict(data, vocab_size = 5000):\n",
    "    \"\"\"Construct and return a dictionary mapping each of the most frequently appearing words to a unique integer.\"\"\"\n",
    "    \n",
    "    # TODO: Determine how often each word appears in `data`. Note that `data` is a list of sentences and that a\n",
    "    #       sentence is a list of words.\n",
    "#     vectorizer = CountVectorizer(max_features=vocab_size,\n",
    "#                 preprocessor=lambda x: x, tokenizer=lambda x: x) \n",
    "#     features_data = vectorizer.fit_transform(data).toarray()\n",
    "\n",
    "    \n",
    "    \n",
    "    word_count = Counter(itertools.chain.from_iterable(data)) # A dict storing the words that appear in the reviews along with how often they occur\n",
    "    \n",
    "    # TODO: Sort the words found in `data` so that sorted_words[0] is the most frequently appearing word and\n",
    "    #       sorted_words[-1] is the least frequently appearing word.\n",
    "    \n",
    "    sorted_words = sorted(word_count, key=word_count.get, reverse=True)\n",
    "    #     print(sorted_words)\n",
    "    \n",
    "    word_dict = {} # This is what we are building, a dictionary that translates words into integers\n",
    "    for idx, word in enumerate(sorted_words[:vocab_size - 2]): # The -2 is so that we save room for the 'no word'\n",
    "        word_dict[word] = idx + 2                              # 'infrequent' labels\n",
    "        \n",
    "    return word_dict"
   ]
  },
  {
   "cell_type": "code",
   "execution_count": 13,
   "metadata": {},
   "outputs": [
    {
     "name": "stdout",
     "output_type": "stream",
     "text": [
      "['overal', 'would', 'say', 'like', 'movi', 'fight', 'scene', 'realli', 'good', 'especi', 'fight', 'leung', 'ka', 'yan', 'one', 'point', 'realli', 'bother', 'fact', 'use', 'asian', 'play', 'black', 'man', 'mean', 'realli', 'talk', 'bad', 'tast', 'fight', 'scene', 'see', 'one', 'fighter', 'floor', 'laugh', 'otherwis', 'sammo', 'copi', 'bruce', 'lee', 'fight', 'move', 'perfectli', '5', '10', 'star']\n",
      "{'movi': 2, 'film': 3, 'one': 4, 'like': 5, 'time': 6, 'good': 7, 'make': 8, 'charact': 9, 'get': 10, 'see': 11, 'watch': 12, 'stori': 13, 'even': 14, 'would': 15, 'realli': 16, 'well': 17, 'scene': 18, 'look': 19, 'show': 20, 'much': 21, 'end': 22, 'peopl': 23, 'bad': 24, 'go': 25, 'great': 26, 'also': 27, 'first': 28, 'love': 29, 'think': 30, 'way': 31, 'act': 32, 'play': 33, 'made': 34, 'thing': 35, 'could': 36, 'know': 37, 'say': 38, 'seem': 39, 'work': 40, 'plot': 41, 'two': 42, 'actor': 43, 'year': 44, 'come': 45, 'mani': 46, 'seen': 47, 'take': 48, 'want': 49, 'life': 50, 'never': 51, 'littl': 52, 'best': 53, 'tri': 54, 'man': 55, 'ever': 56, 'give': 57, 'better': 58, 'still': 59, 'perform': 60, 'find': 61, 'feel': 62, 'part': 63, 'back': 64, 'use': 65, 'someth': 66, 'director': 67, 'actual': 68, 'interest': 69, 'lot': 70, 'real': 71, 'old': 72, 'cast': 73, 'though': 74, 'live': 75, 'star': 76, 'enjoy': 77, 'guy': 78, 'anoth': 79, 'new': 80, 'role': 81, 'noth': 82, '10': 83, 'funni': 84, 'music': 85, 'point': 86, 'start': 87, 'set': 88, 'girl': 89, 'origin': 90, 'day': 91, 'world': 92, 'everi': 93, 'believ': 94, 'turn': 95, 'quit': 96, 'direct': 97, 'us': 98, 'thought': 99, 'fact': 100, 'minut': 101, 'horror': 102, 'kill': 103, 'action': 104, 'comedi': 105, 'pretti': 106, 'young': 107, 'wonder': 108, 'happen': 109, 'around': 110, 'got': 111, 'effect': 112, 'right': 113, 'long': 114, 'howev': 115, 'big': 116, 'line': 117, 'famili': 118, 'enough': 119, 'seri': 120, 'may': 121, 'need': 122, 'fan': 123, 'bit': 124, 'script': 125, 'beauti': 126, 'person': 127, 'becom': 128, 'without': 129, 'must': 130, 'alway': 131, 'friend': 132, 'tell': 133, 'reason': 134, 'saw': 135, 'last': 136, 'final': 137, 'kid': 138, 'almost': 139, 'put': 140, 'least': 141, 'sure': 142, 'done': 143, 'whole': 144, 'place': 145, 'complet': 146, 'kind': 147, 'expect': 148, 'differ': 149, 'shot': 150, 'far': 151, 'mean': 152, 'anyth': 153, 'book': 154, 'laugh': 155, 'might': 156, 'name': 157, 'sinc': 158, 'begin': 159, '2': 160, 'probabl': 161, 'woman': 162, 'help': 163, 'entertain': 164, 'let': 165, 'screen': 166, 'call': 167, 'tv': 168, 'moment': 169, 'away': 170, 'read': 171, 'yet': 172, 'rather': 173, 'worst': 174, 'run': 175, 'fun': 176, 'lead': 177, 'hard': 178, 'audienc': 179, 'idea': 180, 'anyon': 181, 'episod': 182, 'american': 183, 'found': 184, 'appear': 185, 'bore': 186, 'especi': 187, 'although': 188, 'hope': 189, 'cours': 190, 'keep': 191, 'anim': 192, 'job': 193, 'goe': 194, 'move': 195, 'sens': 196, 'version': 197, 'dvd': 198, 'war': 199, 'money': 200, 'someon': 201, 'mind': 202, 'mayb': 203, 'problem': 204, 'true': 205, 'hous': 206, 'everyth': 207, 'nice': 208, 'second': 209, 'rate': 210, 'three': 211, 'night': 212, 'follow': 213, 'face': 214, 'recommend': 215, 'main': 216, 'product': 217, 'worth': 218, 'leav': 219, 'human': 220, 'special': 221, 'excel': 222, 'togeth': 223, 'wast': 224, 'sound': 225, 'everyon': 226, 'john': 227, 'hand': 228, '1': 229, 'father': 230, 'later': 231, 'eye': 232, 'said': 233, 'view': 234, 'instead': 235, 'review': 236, 'boy': 237, 'high': 238, 'hour': 239, 'miss': 240, 'talk': 241, 'classic': 242, 'wife': 243, 'understand': 244, 'left': 245, 'care': 246, 'black': 247, 'death': 248, 'open': 249, 'murder': 250, 'write': 251, 'half': 252, 'head': 253, 'rememb': 254, 'chang': 255, 'viewer': 256, 'fight': 257, 'gener': 258, 'surpris': 259, 'includ': 260, 'short': 261, 'die': 262, 'fall': 263, 'less': 264, 'els': 265, 'entir': 266, 'piec': 267, 'involv': 268, 'pictur': 269, 'simpli': 270, 'home': 271, 'power': 272, 'top': 273, 'total': 274, 'usual': 275, 'budget': 276, 'attempt': 277, 'suppos': 278, 'releas': 279, 'hollywood': 280, 'terribl': 281, 'song': 282, 'men': 283, 'possibl': 284, 'featur': 285, 'portray': 286, 'disappoint': 287, 'poor': 288, '3': 289, 'coupl': 290, 'stupid': 291, 'camera': 292, 'dead': 293, 'wrong': 294, 'low': 295, 'produc': 296, 'video': 297, 'either': 298, 'aw': 299, 'definit': 300, 'except': 301, 'rest': 302, 'given': 303, 'absolut': 304, 'women': 305, 'lack': 306, 'word': 307, 'writer': 308, 'titl': 309, 'talent': 310, 'decid': 311, 'full': 312, 'perfect': 313, 'along': 314, 'style': 315, 'close': 316, 'truli': 317, 'school': 318, 'save': 319, 'emot': 320, 'age': 321, 'sex': 322, 'next': 323, 'bring': 324, 'mr': 325, 'case': 326, 'killer': 327, 'heart': 328, 'comment': 329, 'sort': 330, 'creat': 331, 'perhap': 332, 'came': 333, 'brother': 334, 'sever': 335, 'joke': 336, 'art': 337, 'dialogu': 338, 'game': 339, 'small': 340, 'base': 341, 'flick': 342, 'written': 343, 'sequenc': 344, 'meet': 345, 'earli': 346, 'often': 347, 'other': 348, 'mother': 349, 'develop': 350, 'humor': 351, 'actress': 352, 'consid': 353, 'dark': 354, 'guess': 355, 'amaz': 356, 'unfortun': 357, 'lost': 358, 'light': 359, 'exampl': 360, 'cinema': 361, 'drama': 362, 'ye': 363, 'white': 364, 'experi': 365, 'imagin': 366, 'mention': 367, 'stop': 368, 'natur': 369, 'forc': 370, 'manag': 371, 'felt': 372, 'present': 373, 'cut': 374, 'children': 375, 'fail': 376, 'son': 377, 'car': 378, 'support': 379, 'qualiti': 380, 'ask': 381, 'hit': 382, 'side': 383, 'voic': 384, 'extrem': 385, 'impress': 386, 'wors': 387, 'evil': 388, 'went': 389, 'stand': 390, 'certainli': 391, 'basic': 392, 'oh': 393, 'overal': 394, 'favorit': 395, 'horribl': 396, 'mysteri': 397, 'number': 398, 'type': 399, 'danc': 400, 'wait': 401, 'hero': 402, '5': 403, 'alreadi': 404, 'learn': 405, 'matter': 406, '4': 407, 'michael': 408, 'genr': 409, 'fine': 410, 'despit': 411, 'throughout': 412, 'walk': 413, 'success': 414, 'histori': 415, 'question': 416, 'zombi': 417, 'town': 418, 'relationship': 419, 'realiz': 420, 'past': 421, 'child': 422, 'daughter': 423, 'late': 424, 'b': 425, 'wish': 426, 'credit': 427, 'hate': 428, 'event': 429, 'theme': 430, 'touch': 431, 'citi': 432, 'today': 433, 'sometim': 434, 'behind': 435, 'god': 436, 'twist': 437, 'sit': 438, 'stay': 439, 'annoy': 440, 'deal': 441, 'abl': 442, 'rent': 443, 'pleas': 444, 'edit': 445, 'blood': 446, 'deserv': 447, 'comic': 448, 'anyway': 449, 'appar': 450, 'soon': 451, 'gave': 452, 'etc': 453, 'level': 454, 'slow': 455, 'chanc': 456, 'score': 457, 'bodi': 458, 'brilliant': 459, 'incred': 460, 'figur': 461, 'situat': 462, 'self': 463, 'major': 464, 'stuff': 465, 'decent': 466, 'element': 467, 'dream': 468, 'return': 469, 'obvious': 470, 'order': 471, 'continu': 472, 'pace': 473, 'ridicul': 474, 'happi': 475, 'add': 476, 'highli': 477, 'group': 478, 'thank': 479, 'ladi': 480, 'novel': 481, 'pain': 482, 'speak': 483, 'career': 484, 'shoot': 485, 'strang': 486, 'heard': 487, 'sad': 488, 'husband': 489, 'polic': 490, 'import': 491, 'break': 492, 'took': 493, 'cannot': 494, 'strong': 495, 'robert': 496, 'predict': 497, 'violenc': 498, 'hilari': 499, 'recent': 500, 'countri': 501, 'known': 502, 'particularli': 503, 'pick': 504, 'documentari': 505, 'season': 506, 'critic': 507, 'jame': 508, 'compar': 509, 'obviou': 510, 'alon': 511, 'told': 512, 'state': 513, 'visual': 514, 'rock': 515, 'exist': 516, 'offer': 517, 'theater': 518, 'opinion': 519, 'gore': 520, 'hold': 521, 'crap': 522, 'result': 523, 'hear': 524, 'room': 525, 'realiti': 526, 'effort': 527, 'clich': 528, 'thriller': 529, 'caus': 530, 'explain': 531, 'sequel': 532, 'serious': 533, 'king': 534, 'local': 535, 'ago': 536, 'hell': 537, 'none': 538, 'note': 539, 'allow': 540, 'david': 541, 'sister': 542, 'simpl': 543, 'femal': 544, 'deliv': 545, 'ok': 546, 'convinc': 547, 'class': 548, 'check': 549, 'suspens': 550, 'win': 551, 'buy': 552, 'oscar': 553, 'huge': 554, 'valu': 555, 'sexual': 556, 'cool': 557, 'scari': 558, 'similar': 559, 'excit': 560, 'apart': 561, 'exactli': 562, 'provid': 563, 'avoid': 564, 'shown': 565, 'seriou': 566, 'english': 567, 'whose': 568, 'taken': 569, 'cinematographi': 570, 'shock': 571, 'polit': 572, 'spoiler': 573, 'offic': 574, 'across': 575, 'middl': 576, 'pass': 577, 'street': 578, 'messag': 579, 'silli': 580, 'charm': 581, 'somewhat': 582, 'modern': 583, 'confus': 584, 'filmmak': 585, 'form': 586, 'tale': 587, 'singl': 588, 'jack': 589, 'mostli': 590, 'attent': 591, 'carri': 592, 'william': 593, 'sing': 594, 'five': 595, 'subject': 596, 'richard': 597, 'prove': 598, 'team': 599, 'stage': 600, 'unlik': 601, 'cop': 602, 'georg': 603, 'monster': 604, 'televis': 605, 'earth': 606, 'cover': 607, 'villain': 608, 'pay': 609, 'marri': 610, 'toward': 611, 'build': 612, 'pull': 613, 'parent': 614, 'due': 615, 'fill': 616, 'respect': 617, 'dialog': 618, 'four': 619, 'remind': 620, 'futur': 621, 'typic': 622, 'weak': 623, '7': 624, 'cheap': 625, 'intellig': 626, 'atmospher': 627, 'british': 628, 'clearli': 629, '80': 630, 'non': 631, 'paul': 632, 'dog': 633, '8': 634, 'artist': 635, 'fast': 636, 'knew': 637, 'crime': 638, 'easili': 639, 'escap': 640, 'doubt': 641, 'adult': 642, 'detail': 643, 'date': 644, 'romant': 645, 'fire': 646, 'member': 647, 'drive': 648, 'gun': 649, 'straight': 650, 'fit': 651, 'beyond': 652, 'attack': 653, 'imag': 654, 'upon': 655, 'posit': 656, 'whether': 657, 'fantast': 658, 'peter': 659, 'aspect': 660, 'captur': 661, 'appreci': 662, 'ten': 663, 'plan': 664, 'discov': 665, 'remain': 666, 'period': 667, 'near': 668, 'realist': 669, 'air': 670, 'mark': 671, 'red': 672, 'dull': 673, 'adapt': 674, 'within': 675, 'spend': 676, 'lose': 677, 'materi': 678, 'color': 679, 'chase': 680, 'mari': 681, 'storylin': 682, 'forget': 683, 'bunch': 684, 'clear': 685, 'lee': 686, 'victim': 687, 'nearli': 688, 'box': 689, 'york': 690, 'inspir': 691, 'match': 692, 'mess': 693, 'finish': 694, 'standard': 695, 'easi': 696, 'truth': 697, 'busi': 698, 'suffer': 699, 'space': 700, 'bill': 701, 'dramat': 702, 'western': 703, 'e': 704, 'list': 705, 'battl': 706, 'notic': 707, 'de': 708, 'french': 709, 'ad': 710, '9': 711, 'tom': 712, 'larg': 713, 'among': 714, 'eventu': 715, 'accept': 716, 'train': 717, 'agre': 718, 'soundtrack': 719, 'spirit': 720, 'third': 721, 'teenag': 722, 'adventur': 723, 'soldier': 724, 'famou': 725, 'sorri': 726, 'suggest': 727, 'drug': 728, 'normal': 729, 'cri': 730, 'babi': 731, 'ultim': 732, 'troubl': 733, 'contain': 734, 'certain': 735, 'cultur': 736, 'romanc': 737, 'rare': 738, 'lame': 739, 'somehow': 740, 'disney': 741, 'mix': 742, 'gone': 743, 'cartoon': 744, 'student': 745, 'reveal': 746, 'fear': 747, 'suck': 748, 'kept': 749, 'attract': 750, 'appeal': 751, 'premis': 752, 'design': 753, 'secret': 754, 'greatest': 755, 'shame': 756, 'throw': 757, 'copi': 758, 'scare': 759, 'wit': 760, 'america': 761, 'admit': 762, 'relat': 763, 'particular': 764, 'brought': 765, 'screenplay': 766, 'whatev': 767, 'pure': 768, '70': 769, 'averag': 770, 'harri': 771, 'master': 772, 'describ': 773, 'treat': 774, 'male': 775, '20': 776, 'fantasi': 777, 'issu': 778, 'warn': 779, 'inde': 780, 'forward': 781, 'background': 782, 'free': 783, 'project': 784, 'memor': 785, 'japanes': 786, 'poorli': 787, 'award': 788, 'locat': 789, 'amus': 790, 'potenti': 791, 'struggl': 792, 'weird': 793, 'magic': 794, 'societi': 795, 'okay': 796, 'accent': 797, 'doctor': 798, 'imdb': 799, 'hot': 800, 'water': 801, 'alien': 802, '30': 803, 'express': 804, 'dr': 805, 'odd': 806, 'crazi': 807, 'choic': 808, 'fiction': 809, 'studio': 810, 'becam': 811, 'control': 812, 'masterpiec': 813, 'fli': 814, 'difficult': 815, 'joe': 816, 'scream': 817, 'costum': 818, 'lover': 819, 'uniqu': 820, 'refer': 821, 'remak': 822, 'vampir': 823, 'girlfriend': 824, 'prison': 825, 'execut': 826, 'wear': 827, 'jump': 828, 'wood': 829, 'unless': 830, 'creepi': 831, 'cheesi': 832, 'superb': 833, 'otherwis': 834, 'parti': 835, 'roll': 836, 'ghost': 837, 'public': 838, 'mad': 839, 'depict': 840, 'earlier': 841, 'week': 842, 'badli': 843, 'jane': 844, 'moral': 845, 'fi': 846, 'dumb': 847, 'grow': 848, 'flaw': 849, 'sci': 850, 'deep': 851, 'maker': 852, 'cat': 853, 'footag': 854, 'older': 855, 'connect': 856, 'bother': 857, 'plenti': 858, 'outsid': 859, 'stick': 860, 'gay': 861, 'catch': 862, 'co': 863, 'plu': 864, 'popular': 865, 'equal': 866, 'social': 867, 'disturb': 868, 'quickli': 869, 'perfectli': 870, 'dress': 871, 'era': 872, '90': 873, 'mistak': 874, 'lie': 875, 'ride': 876, 'previou': 877, 'combin': 878, 'concept': 879, 'band': 880, 'answer': 881, 'rich': 882, 'surviv': 883, 'front': 884, 'christma': 885, 'sweet': 886, 'insid': 887, 'eat': 888, 'concern': 889, 'bare': 890, 'beat': 891, 'listen': 892, 'ben': 893, 'c': 894, 'term': 895, 'serv': 896, 'meant': 897, 'la': 898, 'german': 899, 'hardli': 900, 'stereotyp': 901, 'law': 902, 'innoc': 903, 'desper': 904, 'promis': 905, 'memori': 906, 'intent': 907, 'cute': 908, 'inform': 909, 'steal': 910, 'variou': 911, 'brain': 912, 'post': 913, 'tone': 914, 'island': 915, 'amount': 916, 'nuditi': 917, 'track': 918, 'compani': 919, 'store': 920, 'claim': 921, '50': 922, 'flat': 923, 'hair': 924, 'land': 925, 'univers': 926, 'kick': 927, 'fairli': 928, 'scott': 929, 'danger': 930, 'player': 931, 'step': 932, 'crew': 933, 'plain': 934, 'toni': 935, 'share': 936, 'tast': 937, 'centuri': 938, 'engag': 939, 'achiev': 940, 'travel': 941, 'cold': 942, 'rip': 943, 'suit': 944, 'record': 945, 'sadli': 946, 'manner': 947, 'spot': 948, 'wrote': 949, 'tension': 950, 'fascin': 951, 'intens': 952, 'familiar': 953, 'remark': 954, 'burn': 955, 'depth': 956, 'destroy': 957, 'histor': 958, 'sleep': 959, 'purpos': 960, 'languag': 961, 'ignor': 962, 'ruin': 963, 'delight': 964, 'unbeliev': 965, 'italian': 966, 'abil': 967, 'collect': 968, 'soul': 969, 'clever': 970, 'detect': 971, 'violent': 972, 'rape': 973, 'reach': 974, 'door': 975, 'scienc': 976, 'liter': 977, 'trash': 978, 'caught': 979, 'reveng': 980, 'commun': 981, 'creatur': 982, 'trip': 983, 'approach': 984, 'fashion': 985, 'intrigu': 986, 'introduc': 987, 'paint': 988, 'skill': 989, 'complex': 990, 'channel': 991, 'camp': 992, 'christian': 993, 'extra': 994, 'hole': 995, 'ann': 996, 'immedi': 997, 'limit': 998, 'mental': 999, '6': 1000, 'comput': 1001, 'mere': 1002, 'million': 1003, 'slightli': 1004, 'conclus': 1005, 'slasher': 1006, 'imposs': 1007, 'suddenli': 1008, 'teen': 1009, 'neither': 1010, 'crimin': 1011, 'spent': 1012, 'physic': 1013, 'nation': 1014, 'respons': 1015, 'planet': 1016, 'receiv': 1017, 'fake': 1018, 'blue': 1019, 'sick': 1020, 'bizarr': 1021, 'embarrass': 1022, 'indian': 1023, '15': 1024, 'ring': 1025, 'drop': 1026, 'pop': 1027, 'drag': 1028, 'haunt': 1029, 'suspect': 1030, 'pointless': 1031, 'edg': 1032, 'search': 1033, 'handl': 1034, 'common': 1035, 'biggest': 1036, 'hurt': 1037, 'faith': 1038, 'arriv': 1039, 'technic': 1040, 'angel': 1041, 'genuin': 1042, 'dad': 1043, 'f': 1044, 'solid': 1045, 'awesom': 1046, 'van': 1047, 'former': 1048, 'colleg': 1049, 'focu': 1050, 'count': 1051, 'tear': 1052, 'heavi': 1053, 'rais': 1054, 'wall': 1055, 'laughabl': 1056, 'visit': 1057, 'younger': 1058, 'sign': 1059, 'excus': 1060, 'fair': 1061, 'cult': 1062, 'tough': 1063, 'motion': 1064, 'key': 1065, 'super': 1066, 'desir': 1067, 'addit': 1068, 'stun': 1069, 'cloth': 1070, 'exploit': 1071, 'smith': 1072, 'tortur': 1073, 'davi': 1074, 'race': 1075, 'cross': 1076, 'author': 1077, 'jim': 1078, 'consist': 1079, 'compel': 1080, 'focus': 1081, 'minor': 1082, 'chemistri': 1083, 'pathet': 1084, 'commit': 1085, 'park': 1086, 'tradit': 1087, 'obsess': 1088, 'frank': 1089, 'grade': 1090, 'asid': 1091, '60': 1092, 'brutal': 1093, 'steve': 1094, 'somewher': 1095, 'opportun': 1096, 'rule': 1097, 'grant': 1098, 'depress': 1099, 'explor': 1100, 'u': 1101, 'besid': 1102, 'honest': 1103, 'dub': 1104, 'anti': 1105, 'trailer': 1106, 'intend': 1107, 'bar': 1108, 'scientist': 1109, 'west': 1110, 'longer': 1111, 'regard': 1112, 'judg': 1113, 'decad': 1114, 'silent': 1115, 'creativ': 1116, 'armi': 1117, 'wild': 1118, 'south': 1119, 'g': 1120, 'stewart': 1121, 'draw': 1122, 'road': 1123, 'govern': 1124, 'ex': 1125, 'boss': 1126, 'practic': 1127, 'festiv': 1128, 'surprisingli': 1129, 'motiv': 1130, 'gang': 1131, 'club': 1132, 'page': 1133, 'green': 1134, 'redeem': 1135, 'london': 1136, 'idiot': 1137, 'display': 1138, 'aliv': 1139, 'militari': 1140, 'machin': 1141, 'repeat': 1142, 'thrill': 1143, 'nobodi': 1144, '100': 1145, 'yeah': 1146, 'folk': 1147, '40': 1148, 'garbag': 1149, 'journey': 1150, 'tire': 1151, 'ground': 1152, 'smile': 1153, 'mood': 1154, 'bought': 1155, 'sam': 1156, 'stone': 1157, 'cost': 1158, 'mouth': 1159, 'noir': 1160, 'agent': 1161, 'terrif': 1162, 'requir': 1163, 'utterli': 1164, 'sexi': 1165, 'honestli': 1166, 'area': 1167, 'report': 1168, 'geniu': 1169, 'enter': 1170, 'investig': 1171, 'glad': 1172, 'humour': 1173, 'serial': 1174, 'narr': 1175, 'passion': 1176, 'occasion': 1177, 'climax': 1178, 'marriag': 1179, 'studi': 1180, 'industri': 1181, 'charli': 1182, 'nowher': 1183, 'ship': 1184, 'demon': 1185, 'center': 1186, 'loos': 1187, 'hors': 1188, 'bear': 1189, 'wow': 1190, 'hang': 1191, 'graphic': 1192, 'admir': 1193, 'giant': 1194, 'send': 1195, 'loud': 1196, 'damn': 1197, 'profession': 1198, 'subtl': 1199, 'rel': 1200, 'nake': 1201, 'blow': 1202, 'bottom': 1203, 'insult': 1204, 'batman': 1205, 'doubl': 1206, 'r': 1207, 'kelli': 1208, 'boyfriend': 1209, 'initi': 1210, 'frame': 1211, 'gem': 1212, 'opera': 1213, 'challeng': 1214, 'affect': 1215, 'drawn': 1216, 'church': 1217, 'cinemat': 1218, 'seek': 1219, 'nightmar': 1220, 'fulli': 1221, 'evid': 1222, 'l': 1223, 'j': 1224, 'essenti': 1225, 'arm': 1226, 'conflict': 1227, 'grace': 1228, 'henri': 1229, 'wind': 1230, 'christoph': 1231, 'narrat': 1232, 'witch': 1233, 'assum': 1234, 'push': 1235, 'hunt': 1236, 'wise': 1237, 'chri': 1238, 'nomin': 1239, 'month': 1240, 'repres': 1241, 'hide': 1242, 'affair': 1243, 'avail': 1244, 'sceneri': 1245, 'bond': 1246, 'smart': 1247, 'justic': 1248, 'thu': 1249, 'flashback': 1250, 'outstand': 1251, 'interview': 1252, 'constantli': 1253, 'satisfi': 1254, 'presenc': 1255, 'bed': 1256, 'central': 1257, 'content': 1258, 'iron': 1259, 'sell': 1260, 'gag': 1261, 'everybodi': 1262, 'slowli': 1263, 'hotel': 1264, 'hire': 1265, 'system': 1266, 'adam': 1267, 'thrown': 1268, 'individu': 1269, 'charl': 1270, 'hey': 1271, 'jone': 1272, 'mediocr': 1273, 'allen': 1274, 'lesson': 1275, 'ray': 1276, 'billi': 1277, 'cameo': 1278, 'photographi': 1279, 'pari': 1280, 'fellow': 1281, 'strike': 1282, 'absurd': 1283, 'independ': 1284, 'brief': 1285, 'rise': 1286, 'neg': 1287, 'phone': 1288, 'impact': 1289, 'model': 1290, 'ill': 1291, 'born': 1292, 'fresh': 1293, 'angl': 1294, 'spoil': 1295, 'likabl': 1296, 'abus': 1297, 'hill': 1298, 'discuss': 1299, 'ahead': 1300, 'sight': 1301, 'sent': 1302, 'photograph': 1303, 'blame': 1304, 'occur': 1305, 'shine': 1306, 'logic': 1307, 'bruce': 1308, 'mainli': 1309, 'commerci': 1310, 'forev': 1311, 'skip': 1312, 'surround': 1313, 'teacher': 1314, 'held': 1315, 'segment': 1316, 'blond': 1317, 'zero': 1318, 'summer': 1319, 'trap': 1320, 'satir': 1321, 'resembl': 1322, 'ball': 1323, 'fool': 1324, 'six': 1325, 'queen': 1326, 'sub': 1327, 'tragedi': 1328, 'twice': 1329, 'pack': 1330, 'reaction': 1331, 'bomb': 1332, 'hospit': 1333, 'protagonist': 1334, 'will': 1335, 'sport': 1336, 'mile': 1337, 'mom': 1338, 'drink': 1339, 'vote': 1340, 'jerri': 1341, 'trust': 1342, 'encount': 1343, 'plane': 1344, 'current': 1345, 'program': 1346, 'al': 1347, 'station': 1348, 'martin': 1349, 'choos': 1350, 'celebr': 1351, 'join': 1352, 'tragic': 1353, 'lord': 1354, 'favourit': 1355, 'round': 1356, 'field': 1357, 'robot': 1358, 'vision': 1359, 'jean': 1360, 'arthur': 1361, 'tie': 1362, 'roger': 1363, 'fortun': 1364, 'random': 1365, 'psycholog': 1366, 'dread': 1367, 'intern': 1368, 'improv': 1369, 'epic': 1370, 'prefer': 1371, 'nonsens': 1372, 'pleasur': 1373, 'legend': 1374, 'highlight': 1375, 'formula': 1376, '11': 1377, 'tape': 1378, 'dollar': 1379, 'wide': 1380, 'gorgeou': 1381, 'porn': 1382, 'fox': 1383, 'thin': 1384, 'object': 1385, 'ugli': 1386, 'influenc': 1387, 'buddi': 1388, 'nasti': 1389, 'prepar': 1390, 'ii': 1391, 'supposedli': 1392, 'progress': 1393, 'reflect': 1394, 'warm': 1395, 'youth': 1396, 'worthi': 1397, 'unusu': 1398, 'latter': 1399, 'length': 1400, 'crash': 1401, 'childhood': 1402, 'seven': 1403, 'superior': 1404, 'shop': 1405, 'remot': 1406, 'theatr': 1407, 'funniest': 1408, 'pilot': 1409, 'disgust': 1410, 'paid': 1411, 'trick': 1412, 'fell': 1413, 'convers': 1414, 'castl': 1415, 'gangster': 1416, 'rob': 1417, 'disast': 1418, 'establish': 1419, 'suicid': 1420, 'heaven': 1421, 'ident': 1422, 'mine': 1423, 'disappear': 1424, 'decis': 1425, 'singer': 1426, 'tend': 1427, 'forgotten': 1428, 'heroin': 1429, 'mask': 1430, 'partner': 1431, 'brian': 1432, 'recogn': 1433, 'alan': 1434, 'desert': 1435, 'p': 1436, 'stuck': 1437, 'ms': 1438, 'thoroughli': 1439, 'sky': 1440, 'replac': 1441, 'accur': 1442, 'market': 1443, 'commentari': 1444, 'eddi': 1445, 'danni': 1446, 'seemingli': 1447, 'andi': 1448, 'clue': 1449, 'uncl': 1450, 'devil': 1451, 'jackson': 1452, 'refus': 1453, 'that': 1454, 'pair': 1455, 'therefor': 1456, 'fate': 1457, 'unit': 1458, 'river': 1459, 'fault': 1460, 'accid': 1461, 'ed': 1462, 'afraid': 1463, 'tune': 1464, 'stephen': 1465, 'hidden': 1466, 'russian': 1467, 'clean': 1468, 'captain': 1469, 'quick': 1470, 'instanc': 1471, 'irrit': 1472, 'readi': 1473, 'convey': 1474, 'test': 1475, 'european': 1476, 'frustrat': 1477, 'daniel': 1478, 'insan': 1479, '1950': 1480, 'food': 1481, 'rescu': 1482, 'wed': 1483, 'chines': 1484, 'angri': 1485, 'lock': 1486, 'dirti': 1487, 'joy': 1488, 'steven': 1489, 'price': 1490, 'bland': 1491, 'cage': 1492, 'rang': 1493, 'anymor': 1494, 'wooden': 1495, 'rush': 1496, 'n': 1497, 'news': 1498, 'jason': 1499, 'worri': 1500, 'board': 1501, 'led': 1502, 'twenti': 1503, 'martial': 1504, '12': 1505, 'cgi': 1506, 'symbol': 1507, 'transform': 1508, 'hunter': 1509, 'sentiment': 1510, 'onto': 1511, 'invent': 1512, 'piti': 1513, 'johnni': 1514, 'x': 1515, 'explan': 1516, 'attitud': 1517, 'process': 1518, 'owner': 1519, 'awar': 1520, 'aim': 1521, 'floor': 1522, 'target': 1523, 'energi': 1524, 'favor': 1525, 'necessari': 1526, 'opposit': 1527, 'religi': 1528, 'blind': 1529, 'insight': 1530, 'window': 1531, 'chick': 1532, 'movement': 1533, 'possess': 1534, 'deepli': 1535, 'comparison': 1536, 'research': 1537, 'mountain': 1538, 'grand': 1539, 'comed': 1540, 'whatsoev': 1541, 'rain': 1542, 'mid': 1543, 'began': 1544, 'bank': 1545, 'shadow': 1546, 'princ': 1547, 'parodi': 1548, 'weapon': 1549, 'friendship': 1550, 'credibl': 1551, 'pre': 1552, 'taylor': 1553, 'dougla': 1554, 'flesh': 1555, 'teach': 1556, 'bloodi': 1557, 'protect': 1558, 'terror': 1559, 'hint': 1560, 'marvel': 1561, 'drunk': 1562, 'leader': 1563, 'watchabl': 1564, 'accord': 1565, 'load': 1566, 'anybodi': 1567, 'superman': 1568, 'brown': 1569, 'freddi': 1570, 'appropri': 1571, 'tim': 1572, 'seat': 1573, 'jeff': 1574, 'hitler': 1575, 'knock': 1576, 'unknown': 1577, 'villag': 1578, 'keaton': 1579, 'charg': 1580, 'enemi': 1581, 'empti': 1582, 'unnecessari': 1583, 'media': 1584, 'england': 1585, 'buck': 1586, 'craft': 1587, 'wave': 1588, 'utter': 1589, 'dare': 1590, 'strength': 1591, 'perspect': 1592, 'kiss': 1593, 'correct': 1594, 'ford': 1595, 'contrast': 1596, 'nativ': 1597, 'knowledg': 1598, 'distract': 1599, 'speed': 1600, 'soap': 1601, 'chill': 1602, 'anywher': 1603, 'magnific': 1604, 'nazi': 1605, 'ice': 1606, '1980': 1607, 'breath': 1608, 'mission': 1609, 'fred': 1610, 'moon': 1611, 'jr': 1612, 'crowd': 1613, 'joan': 1614, '000': 1615, 'soft': 1616, 'kate': 1617, 'frighten': 1618, 'dick': 1619, 'dan': 1620, 'nick': 1621, 'hundr': 1622, 'somebodi': 1623, 'radio': 1624, 'dozen': 1625, 'simon': 1626, 'thousand': 1627, 'academi': 1628, 'shakespear': 1629, 'loss': 1630, 'andrew': 1631, 'vehicl': 1632, 'root': 1633, 'account': 1634, 'sum': 1635, 'quot': 1636, 'convent': 1637, 'behavior': 1638, '1970': 1639, 'leg': 1640, 'gold': 1641, 'regular': 1642, 'compet': 1643, 'pretenti': 1644, 'demand': 1645, 'worker': 1646, 'candi': 1647, 'lynch': 1648, 'notabl': 1649, 'privat': 1650, 'explos': 1651, 'interpret': 1652, 'stretch': 1653, 'japan': 1654, 'debut': 1655, 'tarzan': 1656, 'constant': 1657, 'revolv': 1658, 'sea': 1659, 'prais': 1660, 'translat': 1661, 'spi': 1662, 'quiet': 1663, 'jesu': 1664, 'threaten': 1665, 'sat': 1666, 'franc': 1667, 'failur': 1668, 'ass': 1669, 'technolog': 1670, 'aid': 1671, 'punch': 1672, 'met': 1673, 'kevin': 1674, 'toy': 1675, 'higher': 1676, 'mike': 1677, 'abandon': 1678, 'vh': 1679, 'interact': 1680, 'separ': 1681, 'confront': 1682, 'bet': 1683, 'command': 1684, 'servic': 1685, 'belong': 1686, 'techniqu': 1687, 'recal': 1688, 'stunt': 1689, 'gotten': 1690, 'site': 1691, 'bug': 1692, 'foot': 1693, 'cabl': 1694, 'freak': 1695, 'jimmi': 1696, 'capabl': 1697, 'african': 1698, 'bright': 1699, 'fu': 1700, 'fat': 1701, 'stock': 1702, 'succeed': 1703, 'clark': 1704, 'boat': 1705, 'presid': 1706, 'gene': 1707, 'structur': 1708, 'spanish': 1709, 'paper': 1710, 'kidnap': 1711, 'factor': 1712, 'belief': 1713, 'whilst': 1714, 'educ': 1715, 'attend': 1716, 'realism': 1717, 'complic': 1718, 'bob': 1719, 'witti': 1720, 'tree': 1721, 'realis': 1722, 'finest': 1723, 'assist': 1724, 'broken': 1725, 'santa': 1726, 'depart': 1727, 'observ': 1728, 'up': 1729, 'v': 1730, 'determin': 1731, 'smoke': 1732, 'fame': 1733, 'oper': 1734, 'routin': 1735, 'hat': 1736, 'rubbish': 1737, 'lewi': 1738, 'domin': 1739, 'kinda': 1740, 'advanc': 1741, 'lone': 1742, 'foreign': 1743, 'safe': 1744, 'morgan': 1745, 'hook': 1746, 'rank': 1747, 'numer': 1748, 'shallow': 1749, 'vs': 1750, 'shape': 1751, 'civil': 1752, 'rose': 1753, 'washington': 1754, 'werewolf': 1755, 'morn': 1756, 'gari': 1757, 'ordinari': 1758, 'accomplish': 1759, 'winner': 1760, 'kong': 1761, 'peac': 1762, 'grab': 1763, 'whenev': 1764, 'virtual': 1765, 'h': 1766, 'luck': 1767, 'offens': 1768, 'welcom': 1769, 'bigger': 1770, 'patient': 1771, 'complain': 1772, 'activ': 1773, 'contriv': 1774, 'unfunni': 1775, 'pretend': 1776, 'con': 1777, 'dimension': 1778, 'trek': 1779, 'wake': 1780, 'eric': 1781, 'dri': 1782, 'flash': 1783, 'code': 1784, 'lesbian': 1785, 'cain': 1786, 'albert': 1787, 'manipul': 1788, 'dancer': 1789, 'guard': 1790, 'statu': 1791, 'corrupt': 1792, 'gain': 1793, 'awkward': 1794, 'speech': 1795, 'context': 1796, 'sourc': 1797, 'signific': 1798, 'psycho': 1799, 'clip': 1800, 'sean': 1801, 'anthoni': 1802, '13': 1803, 'corni': 1804, 'religion': 1805, 'curiou': 1806, 'reli': 1807, 'advic': 1808, 'priest': 1809, 'theatric': 1810, 'w': 1811, 'addict': 1812, 'flow': 1813, 'asian': 1814, 'secur': 1815, 'jennif': 1816, 'specif': 1817, 'skin': 1818, 'howard': 1819, 'comfort': 1820, 'promot': 1821, 'core': 1822, 'golden': 1823, 'luke': 1824, 'organ': 1825, 'cash': 1826, 'lucki': 1827, 'cheat': 1828, 'lower': 1829, 'associ': 1830, 'dislik': 1831, 'balanc': 1832, 'contribut': 1833, 'devic': 1834, 'degre': 1835, 'spell': 1836, 'frankli': 1837, 'frequent': 1838, 'wing': 1839, 'regret': 1840, 'lake': 1841, 'sake': 1842, 'print': 1843, 'forgiv': 1844, 'thoma': 1845, 'betti': 1846, 'mass': 1847, 'unexpect': 1848, 'crack': 1849, 'gordon': 1850, 'depend': 1851, 'unfold': 1852, 'construct': 1853, 'grown': 1854, 'amateur': 1855, 'invit': 1856, 'categori': 1857, 'matur': 1858, 'grew': 1859, 'condit': 1860, 'intellectu': 1861, 'walter': 1862, 'anna': 1863, 'honor': 1864, 'spectacular': 1865, 'sole': 1866, 'veteran': 1867, 'mirror': 1868, 'sudden': 1869, 'demonstr': 1870, 'experienc': 1871, 'freedom': 1872, 'meanwhil': 1873, 'grip': 1874, 'gift': 1875, 'liner': 1876, 'card': 1877, 'robin': 1878, 'overli': 1879, 'circumst': 1880, 'sheriff': 1881, 'unabl': 1882, 'brilliantli': 1883, 'oliv': 1884, 'drew': 1885, 'crappi': 1886, 'theori': 1887, 'colour': 1888, 'section': 1889, 'subtitl': 1890, 'parker': 1891, 'path': 1892, 'pile': 1893, 'matt': 1894, 'cook': 1895, 'laughter': 1896, 'sheer': 1897, 'altern': 1898, 'wander': 1899, 'lawyer': 1900, 'treatment': 1901, 'relief': 1902, 'sinatra': 1903, 'hall': 1904, 'defin': 1905, 'accident': 1906, 'hank': 1907, 'dragon': 1908, 'captiv': 1909, 'gratuit': 1910, 'moor': 1911, 'halloween': 1912, 'broadway': 1913, 'k': 1914, 'cowboy': 1915, 'barbara': 1916, 'wayn': 1917, 'wound': 1918, 'kung': 1919, 'jacki': 1920, 'unintent': 1921, 'spoof': 1922, 'winter': 1923, 'surreal': 1924, 'statement': 1925, 'canadian': 1926, 'treasur': 1927, 'cheer': 1928, 'fish': 1929, 'fare': 1930, 'gonna': 1931, 'compos': 1932, 'unrealist': 1933, 'emerg': 1934, 'victor': 1935, 'sensit': 1936, 'woodi': 1937, 'ran': 1938, 'sympathet': 1939, 'neighbor': 1940, 'driven': 1941, 'expos': 1942, 'authent': 1943, 'glass': 1944, 'topic': 1945, 'menac': 1946, 'overlook': 1947, 'chief': 1948, 'handsom': 1949, 'gross': 1950, 'ancient': 1951, 'michel': 1952, 'contemporari': 1953, 'stranger': 1954, 'feet': 1955, 'comedian': 1956, 'nevertheless': 1957, 'network': 1958, 'pleasant': 1959, 'russel': 1960, 'built': 1961, 'cinderella': 1962, 'consider': 1963, 'underr': 1964, 'gori': 1965, 'letter': 1966, 'miser': 1967, 'earn': 1968, 'endless': 1969, 'blockbust': 1970, 'switch': 1971, 'solv': 1972, 'brook': 1973, 'bullet': 1974, 'convict': 1975, 'edward': 1976, 'virgin': 1977, 'joseph': 1978, 'victoria': 1979, 'alex': 1980, 'chosen': 1981, 'cynic': 1982, 'scenario': 1983, '0': 1984, 'scale': 1985, 'outrag': 1986, 'com': 1987, 'gut': 1988, 'sword': 1989, 'curs': 1990, 'uk': 1991, 'monkey': 1992, 'wrap': 1993, 'proper': 1994, 'juli': 1995, 'substanc': 1996, 'driver': 1997, 'screenwrit': 1998, 'indic': 1999, 'bird': 2000, 'court': 2001, 'remov': 2002, 'par': 2003, 'naiv': 2004, 'loser': 2005, 'inevit': 2006, 'consequ': 2007, 'grave': 2008, 'rental': 2009, 'roy': 2010, 'nanci': 2011, 'advertis': 2012, 'invis': 2013, 'fatal': 2014, 'brave': 2015, 'le': 2016, 'germani': 2017, 'bridg': 2018, 'slap': 2019, 'loui': 2020, 'anger': 2021, 'ador': 2022, 'provok': 2023, 'footbal': 2024, 'anderson': 2025, 'alcohol': 2026, 'chan': 2027, 'stumbl': 2028, 'ryan': 2029, 'willi': 2030, 'professor': 2031, '1930': 2032, 'sharp': 2033, 'assassin': 2034, 'patrick': 2035, 'australian': 2036, 'bat': 2037, 'amateurish': 2038, 'lousi': 2039, 'heck': 2040, 'strongli': 2041, 'liber': 2042, 'ape': 2043, 'eight': 2044, 'refresh': 2045, 'deni': 2046, 'trilog': 2047, 'cell': 2048, 'saturday': 2049, 'sin': 2050, 'resid': 2051, 'san': 2052, 'vagu': 2053, 'justifi': 2054, 'creator': 2055, 'mini': 2056, 'sympathi': 2057, 'terrifi': 2058, 'indi': 2059, 'defeat': 2060, 'reput': 2061, 'expert': 2062, 'task': 2063, 'endur': 2064, 'tabl': 2065, 'tediou': 2066, 'prevent': 2067, 'che': 2068, 'trial': 2069, 'basebal': 2070, 'imit': 2071, 'employ': 2072, 'rival': 2073, 'offend': 2074, 'pitch': 2075, 'complaint': 2076, 'max': 2077, 'beach': 2078, 'dig': 2079, 'europ': 2080, 'weekend': 2081, 'fairi': 2082, 'format': 2083, 'murphi': 2084, 'purchas': 2085, 'risk': 2086, 'tini': 2087, 'powel': 2088, 'glimps': 2089, 'nois': 2090, 'bite': 2091, 'harsh': 2092, 'hype': 2093, 'titan': 2094, 'reminisc': 2095, 'north': 2096, 'fals': 2097, 'asleep': 2098, 'prime': 2099, '14': 2100, 'strip': 2101, 'till': 2102, 'destruct': 2103, 'descript': 2104, 'revel': 2105, 'africa': 2106, 'texa': 2107, 'spin': 2108, 'uninterest': 2109, 'semi': 2110, 'inner': 2111, 'arrest': 2112, 'surfac': 2113, 'excess': 2114, 'sitcom': 2115, 'makeup': 2116, 'controversi': 2117, 'twin': 2118, 'hitchcock': 2119, 'argu': 2120, 'massiv': 2121, 'dinosaur': 2122, 'maintain': 2123, 'kim': 2124, 'reject': 2125, 'insist': 2126, 'expens': 2127, 'ideal': 2128, 'stare': 2129, 'ludicr': 2130, 'melodrama': 2131, 'ala': 2132, 'supernatur': 2133, 'erot': 2134, 'host': 2135, 'atroci': 2136, 'subplot': 2137, 'columbo': 2138, 'ga': 2139, 'press': 2140, 'nail': 2141, 'forest': 2142, 'identifi': 2143, 'presum': 2144, 'cant': 2145, 'notch': 2146, 'dude': 2147, 'crude': 2148, 'character': 2149, 'closer': 2150, 'forgett': 2151, 'plagu': 2152, 'guest': 2153, 'method': 2154, 'foster': 2155, 'beast': 2156, 'princess': 2157, 'border': 2158, 'lion': 2159, 'landscap': 2160, 'ear': 2161, 'urban': 2162, 'storytel': 2163, 'damag': 2164, 'jungl': 2165, 'accus': 2166, 'bound': 2167, 'previous': 2168, 'aunt': 2169, 'birth': 2170, 'pacino': 2171, 'chose': 2172, 'nude': 2173, 'guid': 2174, 'jess': 2175, 'doll': 2176, 'propaganda': 2177, 'emma': 2178, 'thirti': 2179, 'whoever': 2180, '25': 2181, 'mate': 2182, 'pet': 2183, 'mainstream': 2184, 'warrior': 2185, 'exact': 2186, 'upset': 2187, 'poster': 2188, 'deadli': 2189, 'latest': 2190, 'gritti': 2191, 'cooper': 2192, 'friday': 2193, 'merit': 2194, 'size': 2195, 'corps': 2196, 'rough': 2197, 'contest': 2198, 'blend': 2199, 'wilson': 2200, 'popul': 2201, 'ton': 2202, 'buff': 2203, 'sun': 2204, 'settl': 2205, 'warner': 2206, 'citizen': 2207, '1990': 2208, 'contact': 2209, 'select': 2210, 'overcom': 2211, 'mgm': 2212, 'alic': 2213, 'pitt': 2214, 'widow': 2215, 'metal': 2216, 'bu': 2217, 'environ': 2218, 'rat': 2219, 'lift': 2220, 'guilti': 2221, 'link': 2222, 'revolut': 2223, 'ted': 2224, 'particip': 2225, 'johnson': 2226, 'corner': 2227, 'accompani': 2228, 'moron': 2229, 'matrix': 2230, 'prostitut': 2231, 'afternoon': 2232, 'exagger': 2233, 'corpor': 2234, '1960': 2235, 'friendli': 2236, 'doom': 2237, 'hood': 2238, 'sincer': 2239, 'multipl': 2240, 'leagu': 2241, 'holm': 2242, 'clair': 2243, 'instal': 2244, 'blah': 2245, 'hip': 2246, 'irish': 2247, 'defend': 2248, 'string': 2249, 'grim': 2250, 'advis': 2251, 'lugosi': 2252, 'junk': 2253, 'sunday': 2254, 'campi': 2255, 'aka': 2256, 'examin': 2257, 'varieti': 2258, 'pro': 2259, 'icon': 2260, 'shake': 2261, 'tight': 2262, 'confid': 2263, 'rachel': 2264, 'shut': 2265, 'denni': 2266, 'goal': 2267, 'medic': 2268, 'mexican': 2269, 'directli': 2270, 'sullivan': 2271, 'jaw': 2272, 'attach': 2273, 'sarah': 2274, 'duke': 2275, 'legendari': 2276, 'dean': 2277, 'sentenc': 2278, 'courag': 2279, 'prior': 2280, 'breast': 2281, 'vietnam': 2282, 'terrorist': 2283, 'bourn': 2284, 'truck': 2285, 'proceed': 2286, 'nose': 2287, 'donald': 2288, 'un': 2289, 'yell': 2290, 'split': 2291, 'hong': 2292, 'behav': 2293, 'entri': 2294, 'swim': 2295, 'gather': 2296, 'crush': 2297, 'unconvinc': 2298, 'everywher': 2299, 'stolen': 2300, 'concentr': 2301, 'confess': 2302, 'jerk': 2303, 'forth': 2304, 'lifetim': 2305, 'buri': 2306, 'borrow': 2307, 'spite': 2308, 'julia': 2309, 'pan': 2310, 'turkey': 2311, 'lip': 2312, 'deliveri': 2313, 'california': 2314, 'quest': 2315, 'flight': 2316, 'hoffman': 2317, 'proud': 2318, 'offici': 2319, 'downright': 2320, 'china': 2321, 'freeman': 2322, 'reward': 2323, 'lazi': 2324, 'sink': 2325, 'worthwhil': 2326, 'sir': 2327, 'fade': 2328, 'notori': 2329, 'fabul': 2330, 'betray': 2331, 'jon': 2332, 'encourag': 2333, 'inept': 2334, 'jail': 2335, 'imageri': 2336, 'storm': 2337, 'susan': 2338, 'teeth': 2339, 'shower': 2340, 'lisa': 2341, 'bell': 2342, 'survivor': 2343, 'branagh': 2344, 'cousin': 2345, 'relev': 2346, 'bag': 2347, 'retard': 2348, 'summari': 2349, 'stab': 2350, 'quirki': 2351, 'mexico': 2352, 'toler': 2353, 'facial': 2354, 'hugh': 2355, 'tremend': 2356, 'finger': 2357, 'alright': 2358, 'trade': 2359, 'shark': 2360, 'bride': 2361, 'pose': 2362, 'hyster': 2363, 'bitter': 2364, 'von': 2365, 'blown': 2366, 'ha': 2367, 'cruel': 2368, 'bone': 2369, 'christ': 2370, 'larri': 2371, 'ned': 2372, 'scheme': 2373, 'afterward': 2374, 'address': 2375, 'ron': 2376, 'beg': 2377, 'swear': 2378, 'distinct': 2379, 'snake': 2380, 'pursu': 2381, 'traci': 2382, 'thumb': 2383, 'feed': 2384, 'screw': 2385, 'tour': 2386, 'mechan': 2387, 'photo': 2388, 'chair': 2389, 'stomach': 2390, 'raw': 2391, 'occas': 2392, 'obscur': 2393, 'resist': 2394, 'southern': 2395, 'gruesom': 2396, 'sidney': 2397, 'cabin': 2398, 'argument': 2399, 'heavili': 2400, 'hardi': 2401, 'render': 2402, 'necessarili': 2403, 'chain': 2404, 'holiday': 2405, 'racist': 2406, 'philip': 2407, 'indulg': 2408, 'satan': 2409, 'india': 2410, 'understood': 2411, 'outfit': 2412, 'obnoxi': 2413, 'pregnant': 2414, 'tongu': 2415, 'forgot': 2416, 'midnight': 2417, 'fourth': 2418, 'stalk': 2419, 'lay': 2420, 'integr': 2421, 'belov': 2422, 'garden': 2423, 'restor': 2424, 'carol': 2425, 'deeper': 2426, 'ticket': 2427, 'inhabit': 2428, '17': 2429, 'slapstick': 2430, 'magazin': 2431, 'lincoln': 2432, 'shoe': 2433, 'devot': 2434, 'brad': 2435, 'incid': 2436, 'divorc': 2437, 'sandler': 2438, 'underground': 2439, 'benefit': 2440, 'anticip': 2441, 'disbelief': 2442, 'guarante': 2443, 'lili': 2444, 'elizabeth': 2445, 'maria': 2446, 'mildli': 2447, 'amazingli': 2448, 'cring': 2449, 'explod': 2450, 'bbc': 2451, 'capit': 2452, 'princip': 2453, 'slave': 2454, 'creation': 2455, 'greater': 2456, 'extraordinari': 2457, 'introduct': 2458, 'funnier': 2459, 'halfway': 2460, 'lesli': 2461, 'advantag': 2462, 'transfer': 2463, 'tap': 2464, 'overwhelm': 2465, 'enhanc': 2466, 'wreck': 2467, 'punish': 2468, 'text': 2469, 'extent': 2470, 'preview': 2471, 'jessica': 2472, 'dynam': 2473, 'plant': 2474, 'error': 2475, 'east': 2476, 'deliber': 2477, 'lane': 2478, 'lo': 2479, 'horrif': 2480, 'miscast': 2481, 'vacat': 2482, 'appli': 2483, 'sophist': 2484, 'vincent': 2485, 'homosexu': 2486, '2000': 2487, 'basi': 2488, 'ensu': 2489, 'miller': 2490, 'extend': 2491, 'spoken': 2492, 'elev': 2493, 'reed': 2494, 'bollywood': 2495, 'steel': 2496, 'sleazi': 2497, 'uncomfort': 2498, 'mansion': 2499, 'measur': 2500, 'via': 2501, 'breathtak': 2502, 'dentist': 2503, 'stanley': 2504, 'mous': 2505, 'daili': 2506, 'melt': 2507, 'savag': 2508, 'fix': 2509, 'conceiv': 2510, 'overact': 2511, 'cathol': 2512, 'blair': 2513, 'beer': 2514, 'goofi': 2515, 'alter': 2516, 'hippi': 2517, 'assign': 2518, 'subsequ': 2519, 'oppos': 2520, 'succe': 2521, 'everyday': 2522, 'inspector': 2523, 'properli': 2524, 'nowaday': 2525, 'sacrific': 2526, 'burt': 2527, 'carpent': 2528, 'block': 2529, 'massacr': 2530, 'neck': 2531, 'circl': 2532, 'laura': 2533, 'pool': 2534, 'grey': 2535, 'access': 2536, 'lesser': 2537, 'portrait': 2538, 'concert': 2539, 'fay': 2540, 'fallen': 2541, 'seagal': 2542, 'mob': 2543, 'christi': 2544, 'isol': 2545, 'usa': 2546, 'react': 2547, 'jake': 2548, 'sinist': 2549, 'chees': 2550, 'relax': 2551, 'jewish': 2552, 'competit': 2553, 'chop': 2554, 'suitabl': 2555, '2006': 2556, 'spiritu': 2557, 'lyric': 2558, 'stink': 2559, 'ironi': 2560, 'nine': 2561, 'appal': 2562, 'nonetheless': 2563, 'immens': 2564, 'creep': 2565, 'rage': 2566, 'shirt': 2567, 'retir': 2568, 'reduc': 2569, 'showcas': 2570, 'adopt': 2571, 'spring': 2572, 'sold': 2573, 'navi': 2574, 'franchis': 2575, 'needless': 2576, 'nut': 2577, 'luci': 2578, 'user': 2579, 'digit': 2580, 'bath': 2581, 'jay': 2582, 'asham': 2583, 'nurs': 2584, 'uninspir': 2585, 'bulli': 2586, 'per': 2587, 'zone': 2588, 'stanwyck': 2589, 'sutherland': 2590, '2001': 2591, '1940': 2592, 'oddli': 2593, 'laid': 2594, 'illustr': 2595, 'upper': 2596, 'amongst': 2597, 'broadcast': 2598, 'aspir': 2599, 'disguis': 2600, 'stylish': 2601, 'brando': 2602, 'baker': 2603, 'fulfil': 2604, 'throat': 2605, 'neighborhood': 2606, 'pride': 2607, 'endear': 2608, 'nobl': 2609, 'thief': 2610, '18': 2611, 'wwii': 2612, 'pound': 2613, 'em': 2614, 'impli': 2615, 'wanna': 2616, '16': 2617, 'tens': 2618, 'distribut': 2619, 'dawn': 2620, 'cinematograph': 2621, 'shift': 2622, 'dinner': 2623, 'bo': 2624, 'albeit': 2625, 'shoulder': 2626, 'diseas': 2627, 'bett': 2628, 'coher': 2629, 'prop': 2630, 'rochest': 2631, 'silenc': 2632, 'function': 2633, 'contract': 2634, 'poignant': 2635, 'rebel': 2636, 'knife': 2637, 'forti': 2638, 'snow': 2639, 'surf': 2640, 'shout': 2641, 'matthau': 2642, 'wash': 2643, 'mindless': 2644, 'chuck': 2645, 'cancel': 2646, 'instinct': 2647, 'silver': 2648, 'widmark': 2649, 'cannib': 2650, 'eeri': 2651, 'internet': 2652, 'duti': 2653, 'proof': 2654, 'derek': 2655, 'height': 2656, 'horrend': 2657, 'heat': 2658, 'elvira': 2659, 'reunion': 2660, 'henc': 2661, 'mill': 2662, 'absorb': 2663, 'alik': 2664, 'neat': 2665, 'torn': 2666, 'premier': 2667, 'spielberg': 2668, 'etern': 2669, 'musician': 2670, 'repetit': 2671, 'greatli': 2672, 'incoher': 2673, 'innov': 2674, 'glori': 2675, 'elvi': 2676, 'pie': 2677, 'infam': 2678, 'blank': 2679, 'racism': 2680, 'lovabl': 2681, 'nelson': 2682, 'announc': 2683, 'fbi': 2684, 'horrifi': 2685, 'bang': 2686, 'trite': 2687, 'homag': 2688, 'precis': 2689, 'itali': 2690, 'redempt': 2691, 'britain': 2692, 'crisi': 2693, 'wealthi': 2694, 'burton': 2695, 'diamond': 2696, 'chaplin': 2697, 'pat': 2698, 'flop': 2699, 'hammer': 2700, 'dedic': 2701, 'parallel': 2702, 'helen': 2703, 'ensembl': 2704, 'resolut': 2705, 'happili': 2706, 'wilder': 2707, 'streisand': 2708, 'conclud': 2709, 'carter': 2710, 'st': 2711, 'mar': 2712, 'plastic': 2713, 'triumph': 2714, 'oil': 2715, 'factori': 2716, 'cube': 2717, 'broke': 2718, 'disagre': 2719, 'fighter': 2720, 'march': 2721, 'chuckl': 2722, 'weight': 2723, 'vega': 2724, 'own': 2725, 'row': 2726, 'climb': 2727, 'bush': 2728, 'rocket': 2729, 'boot': 2730, 'luca': 2731, 'kurt': 2732, 'wherea': 2733, 'spare': 2734, 'dane': 2735, 'dump': 2736, 'mst3k': 2737, 'unforgett': 2738, 'enorm': 2739, 'lust': 2740, 'thug': 2741, 'sensibl': 2742, 'meaning': 2743, 'adequ': 2744, 'butt': 2745, 'threat': 2746, 'caricatur': 2747, 'fifti': 2748, 'stress': 2749, 'arnold': 2750, 'difficulti': 2751, 'engin': 2752, 'dear': 2753, 'karloff': 2754, 'bobbi': 2755, 'brand': 2756, 'rap': 2757, 'arrog': 2758, 'polish': 2759, 'homeless': 2760, 'ralph': 2761, 'hamlet': 2762, 'elabor': 2763, 'ego': 2764, 'flynn': 2765, 'journalist': 2766, 'secretari': 2767, 'swing': 2768, 'fest': 2769, 'barri': 2770, 'spike': 2771, 'float': 2772, 'simpson': 2773, 'tool': 2774, 'induc': 2775, 'grate': 2776, 'arrang': 2777, 'resort': 2778, 'puppet': 2779, 'unbear': 2780, 'conspiraci': 2781, 'fanci': 2782, 'tribut': 2783, 'basement': 2784, 'choreograph': 2785, 'pig': 2786, 'phillip': 2787, 'guilt': 2788, 'cruis': 2789, 'muppet': 2790, 'exercis': 2791, 'boll': 2792, 'item': 2793, 'file': 2794, 'ward': 2795, 'puzzl': 2796, 'layer': 2797, 'slip': 2798, 'stan': 2799, 'document': 2800, 'babe': 2801, 'editor': 2802, 'medium': 2803, '24': 2804, 'korean': 2805, 'tower': 2806, 'scarecrow': 2807, 'toilet': 2808, 'ham': 2809, 'fianc': 2810, 'philosoph': 2811, 'doc': 2812, 'persona': 2813, 'minim': 2814, 'larger': 2815, 'glover': 2816, 'orient': 2817, 'superfici': 2818, 'inexplic': 2819, 'librari': 2820, 'spark': 2821, 'assur': 2822, 'slaughter': 2823, 'portion': 2824, 'denzel': 2825, 'transit': 2826, 'territori': 2827, 'catherin': 2828, 'ban': 2829, 'jet': 2830, 'boredom': 2831, 'shi': 2832, 'curti': 2833, 'jeremi': 2834, 'wolf': 2835, 'sneak': 2836, 'owe': 2837, 'pg': 2838, 'dorothi': 2839, 'financi': 2840, 'walken': 2841, 'ambigu': 2842, 'multi': 2843, 'eleph': 2844, 'backdrop': 2845, 'cusack': 2846, 'whale': 2847, 'profound': 2848, 'hudson': 2849, 'metaphor': 2850, 'gadget': 2851, 'ultra': 2852, 'elsewher': 2853, 'implaus': 2854, 'viru': 2855, 'stiff': 2856, 'notion': 2857, 'birthday': 2858, 'hack': 2859, 'union': 2860, 'rave': 2861, '2005': 2862, 'squar': 2863, 'eva': 2864, '1st': 2865, 'urg': 2866, 'bibl': 2867, 'newspap': 2868, 'canada': 2869, 'eastwood': 2870, 'disc': 2871, 'reader': 2872, 'afford': 2873, 'hawk': 2874, 'pad': 2875, 'superhero': 2876, 'deriv': 2877, 'lloyd': 2878, 'poison': 2879, 'distanc': 2880, 'slight': 2881, 'skit': 2882, 'montag': 2883, 'drown': 2884, 'charisma': 2885, 'restaur': 2886, 'button': 2887, 'cure': 2888, 'spread': 2889, 'health': 2890, 'sadist': 2891, 'heston': 2892, 'essenc': 2893, 'huh': 2894, 'estat': 2895, 'godfath': 2896, 'scoobi': 2897, 'companion': 2898, 'gradual': 2899, 'lab': 2900, 'invest': 2901, 'peak': 2902, 'fetch': 2903, 'dealt': 2904, 'maniac': 2905, 'muslim': 2906, 'countless': 2907, 'kane': 2908, 'subtleti': 2909, 'alli': 2910, 'gothic': 2911, 'servant': 2912, 'ritter': 2913, 'miik': 2914, 'cup': 2915, 'tea': 2916, 'heroic': 2917, 'electr': 2918, 'briefli': 2919, 'salli': 2920, 'charismat': 2921, 'iii': 2922, 'elect': 2923, 'tender': 2924, 'toss': 2925, 'neil': 2926, 'wannab': 2927, 'nuanc': 2928, 'ingredi': 2929, 'cole': 2930, 'bud': 2931, 'admittedli': 2932, 'reel': 2933, 'resourc': 2934, 'grandmoth': 2935, 'mafia': 2936, 'pit': 2937, 'shall': 2938, 'pauli': 2939, 'poverti': 2940, 'stood': 2941, 'stronger': 2942, 'punk': 2943, 'carrey': 2944, 'gate': 2945, 'label': 2946, 'dawson': 2947, 'mild': 2948, 'kubrick': 2949, 'reev': 2950, 'smooth': 2951, 'burst': 2952, 'easier': 2953, 'cardboard': 2954, 'tag': 2955, 'bakshi': 2956, 'cox': 2957, 'terri': 2958, 'ian': 2959, 'outcom': 2960, 'fond': 2961, 'updat': 2962, 'smash': 2963, 'astair': 2964, 'useless': 2965, 'assault': 2966, 'melodramat': 2967, 'rex': 2968, 'increasingli': 2969, 'vari': 2970, '2002': 2971, 'divers': 2972, 'exchang': 2973, 'sketch': 2974, 'vulner': 2975, 'coincid': 2976, 'resolv': 2977, 'fist': 2978, 'qualifi': 2979, 'samurai': 2980, 'tame': 2981, 'scratch': 2982, 'blast': 2983, 'be': 2984, 'brillianc': 2985, 'luckili': 2986, 'insert': 2987, 'suspend': 2988, 'conveni': 2989, 'templ': 2990, 'reynold': 2991, 'matthew': 2992, 'gotta': 2993, 'farm': 2994, 'fisher': 2995, 'jami': 2996, 'meat': 2997, 'ambiti': 2998, 'hamilton': 2999, 'coach': 3000, 'walker': 3001, 'nuclear': 3002, 'seventi': 3003, 'strictli': 3004, 'pin': 3005, 'soprano': 3006, 'discoveri': 3007, 'grasp': 3008, 'kudo': 3009, 'worthless': 3010, 'cave': 3011, 'revers': 3012, 'monk': 3013, 'eccentr': 3014, 'recreat': 3015, 'instantli': 3016, 'timeless': 3017, 'spooki': 3018, 'struck': 3019, 'empir': 3020, 'joey': 3021, 'clock': 3022, 'ninja': 3023, 'closet': 3024, 'convolut': 3025, 'butcher': 3026, 'brosnan': 3027, 'norman': 3028, 'cliff': 3029, 'importantli': 3030, 'evok': 3031, 'sidekick': 3032, 'partli': 3033, 'miracl': 3034, 'mitchel': 3035, 'pal': 3036, 'clown': 3037, 'seller': 3038, 'declar': 3039, 'sloppi': 3040, 'inconsist': 3041, 'eighti': 3042, 'fifteen': 3043, 'selfish': 3044, 'communist': 3045, 'bleak': 3046, 'wipe': 3047, 'gray': 3048, '45': 3049, 'aforement': 3050, 'enthusiast': 3051, 'psychiatrist': 3052, 'flawless': 3053, 'cheek': 3054, 'debat': 3055, 'superbl': 3056, 'chew': 3057, 'websit': 3058, 'lifestyl': 3059, 'destin': 3060, 'stoog': 3061, 'australia': 3062, 'piano': 3063, 'seed': 3064, 'farc': 3065, 'ho': 3066, 'pressur': 3067, 'abc': 3068, 'wrestl': 3069, 'directori': 3070, 'drivel': 3071, 'slice': 3072, 'dash': 3073, 'splatter': 3074, 'bash': 3075, 'soviet': 3076, 'incompet': 3077, 'kitchen': 3078, 'emili': 3079, 'regardless': 3080, 'wick': 3081, 'akshay': 3082, 'dire': 3083, 'anni': 3084, 'boil': 3085, 'flower': 3086, 'doo': 3087, 'ken': 3088, 'chapter': 3089, 'cameron': 3090, 'recov': 3091, 'beaten': 3092, 'glow': 3093, 'prize': 3094, 'seduc': 3095, 'curios': 3096, 'distant': 3097, 'pleasantli': 3098, 'increas': 3099, 'jar': 3100, 'artifici': 3101, 'mann': 3102, 'judi': 3103, 'duo': 3104, 'dave': 3105, 'helicopt': 3106, 'blob': 3107, 'lou': 3108, 'suppli': 3109, 'cagney': 3110, 'cia': 3111, 'turner': 3112, 'hop': 3113, 'drunken': 3114, 'splendid': 3115, 'ellen': 3116, 'laurel': 3117, 'goldberg': 3118, 'perri': 3119, 'psychot': 3120, 'eleg': 3121, 'craven': 3122, 'panic': 3123, 'craig': 3124, 'web': 3125, 'glenn': 3126, 'ranger': 3127, 'favour': 3128, 'combat': 3129, 'francisco': 3130, 'alexand': 3131, 'fx': 3132, 'slightest': 3133, 'gentl': 3134, 'graduat': 3135, 'greek': 3136, '20th': 3137, 'shortli': 3138, 'wizard': 3139, 'plausibl': 3140, 'rid': 3141, 'flip': 3142, 'min': 3143, 'gandhi': 3144, 'falk': 3145, 'philosophi': 3146, 'hatr': 3147, 'ruth': 3148, 'modesti': 3149, 'futurist': 3150, 'tall': 3151, 'preciou': 3152, 'legal': 3153, 'harm': 3154, 'fund': 3155, 'dracula': 3156, 'manhattan': 3157, 'jealou': 3158, 'ocean': 3159, 'we': 3160, 'knight': 3161, 'holi': 3162, 'unpleas': 3163, 'felix': 3164, 'lend': 3165, 'forbidden': 3166, 'bless': 3167, 'scientif': 3168, 'giallo': 3169, 'childish': 3170, 'ami': 3171, 'mock': 3172, 'digniti': 3173, 'tank': 3174, 'overdon': 3175, 'explicit': 3176, 'thread': 3177, 'reviv': 3178, 'nod': 3179, 'fever': 3180, 'torment': 3181, 'margaret': 3182, 'unwatch': 3183, 'nerv': 3184, 'pirat': 3185, 'broad': 3186, 'verhoeven': 3187, '2004': 3188, 'thick': 3189, 'awe': 3190, 'elderli': 3191, 'repeatedli': 3192, 'awaken': 3193, 'mel': 3194, '99': 3195, 'eve': 3196, 'yesterday': 3197, 'royal': 3198, 'custom': 3199, 'lean': 3200, 'romero': 3201, 'launch': 3202, 'ah': 3203, 'politician': 3204, 'ambit': 3205, 'kay': 3206, 'publish': 3207, 'absenc': 3208, 'stiller': 3209, 'timothi': 3210, 'bin': 3211, 'automat': 3212, 'uniform': 3213, 'eas': 3214, 'griffith': 3215, 'rivet': 3216, 'roman': 3217, 'acclaim': 3218, 'pulp': 3219, 'wallac': 3220, 'phrase': 3221, 'tomato': 3222, 'termin': 3223, 'bathroom': 3224, 'crook': 3225, 'stinker': 3226, 'darker': 3227, 'purpl': 3228, 'gabriel': 3229, 'transport': 3230, 'antic': 3231, 'homicid': 3232, 'pierc': 3233, 'warren': 3234, 'foul': 3235, 'sunshin': 3236, 'li': 3237, 'saint': 3238, 'brazil': 3239, 'marin': 3240, 'hollow': 3241, 'juvenil': 3242, 'kenneth': 3243, 'coloni': 3244, 'contrari': 3245, 'donna': 3246, 'rambo': 3247, 'viciou': 3248, 'album': 3249, 'choreographi': 3250, 'sixti': 3251, 'q': 3252, 'evolv': 3253, 'packag': 3254, 'pray': 3255, 'revolutionari': 3256, 'ought': 3257, 'karen': 3258, 'horrid': 3259, 'awak': 3260, '2003': 3261, 'eyr': 3262, 'prom': 3263, 'nerd': 3264, 'blade': 3265, 'stole': 3266, 'kapoor': 3267, 'ireland': 3268, 'candid': 3269, 'twelv': 3270, 'overr': 3271, 'boast': 3272, 'mummi': 3273, 'mildr': 3274, 'defi': 3275, 'option': 3276, 'dose': 3277, 'conserv': 3278, 'ramon': 3279, 'beatti': 3280, 'kirk': 3281, 'trio': 3282, 'jazz': 3283, 'flame': 3284, 'natali': 3285, 'confirm': 3286, 'altman': 3287, 'protest': 3288, 'detract': 3289, 'global': 3290, 'funer': 3291, 'collabor': 3292, 'fulci': 3293, 'astonish': 3294, 'audio': 3295, 'yellow': 3296, 'bull': 3297, 'tommi': 3298, 'enterpris': 3299, 'racial': 3300, 'blake': 3301, 'delici': 3302, 'spit': 3303, 'whip': 3304, 'mystic': 3305, 'shade': 3306, 'bottl': 3307, 'nicholson': 3308, 'destini': 3309, 'leap': 3310, 'harder': 3311, 'adolesc': 3312, 'fonda': 3313, 'enchant': 3314, 'swedish': 3315, 'vivid': 3316, 'reunit': 3317, 'visibl': 3318, 'popcorn': 3319, 'pseudo': 3320, 'bedroom': 3321, 'meaningless': 3322, 'inherit': 3323, 'merci': 3324, 'staff': 3325, 'neo': 3326, 'threw': 3327, 'todd': 3328, 'altogeth': 3329, 'madonna': 3330, 'wire': 3331, 'roommat': 3332, 'befriend': 3333, 'crocodil': 3334, 'voight': 3335, 'reserv': 3336, 'kennedi': 3337, 'leonard': 3338, 'await': 3339, 'exhibit': 3340, 'synopsi': 3341, 'lawrenc': 3342, 'edi': 3343, 'uneven': 3344, 'fanat': 3345, 'bust': 3346, 'tip': 3347, 'respond': 3348, 'suspici': 3349, 'ruthless': 3350, 'lemmon': 3351, 'atlanti': 3352, 'moodi': 3353, 'decor': 3354, 'jew': 3355, 'abysm': 3356, 'incident': 3357, 'bargain': 3358, 'bradi': 3359, 'clint': 3360, 'unsettl': 3361, 'clumsi': 3362, 'voyag': 3363, 'palma': 3364, 'dimens': 3365, 'bold': 3366, 'audit': 3367, 'chao': 3368, 'ventur': 3369, 'rural': 3370, 'garner': 3371, 'centr': 3372, '2007': 3373, 'holli': 3374, 'carl': 3375, 'humili': 3376, 'nearbi': 3377, 'cd': 3378, 'characterist': 3379, 'acknowledg': 3380, 'elimin': 3381, 'neglect': 3382, 'mall': 3383, 'imperson': 3384, 'wealth': 3385, '2nd': 3386, 'echo': 3387, 'trail': 3388, 'poetic': 3389, 'cari': 3390, 'versu': 3391, 'cuba': 3392, 'daddi': 3393, 'tiger': 3394, 'immigr': 3395, 'hart': 3396, 'timon': 3397, 'ant': 3398, 'troop': 3399, 'lit': 3400, 'domest': 3401, 'mickey': 3402, 'solo': 3403, 'celluloid': 3404, 'mistaken': 3405, 'collaps': 3406, 'prejudic': 3407, 'repuls': 3408, 'pun': 3409, 'paus': 3410, 'homer': 3411, 'infect': 3412, 'jeffrey': 3413, 'saga': 3414, 'marshal': 3415, 'interrupt': 3416, 'assembl': 3417, 'coffe': 3418, 'sore': 3419, 'hbo': 3420, 'promin': 3421, 'equip': 3422, 'chest': 3423, 'leon': 3424, 'undoubtedli': 3425, '1996': 3426, 'tribe': 3427, 'coat': 3428, 'apolog': 3429, 'gear': 3430, 'olivi': 3431, 'cake': 3432, 'pant': 3433, 'ginger': 3434, 'harvey': 3435, 'inan': 3436, 'inappropri': 3437, 'milk': 3438, 'humbl': 3439, 'pot': 3440, 'florida': 3441, 'furthermor': 3442, 'highest': 3443, 'exot': 3444, 'pen': 3445, 'instant': 3446, 'brooklyn': 3447, 'primari': 3448, 'solut': 3449, 'airplan': 3450, 'embrac': 3451, 'jenni': 3452, 'colleagu': 3453, 'institut': 3454, 'retain': 3455, 'aveng': 3456, 'devast': 3457, 'colonel': 3458, 'trace': 3459, 'polanski': 3460, 'maggi': 3461, 'consum': 3462, 'vulgar': 3463, '3rd': 3464, 'principl': 3465, 'strain': 3466, 'outer': 3467, 'poke': 3468, 'smaller': 3469, 'dutch': 3470, 'bowl': 3471, 'illog': 3472, 'wive': 3473, 'ya': 3474, 'gender': 3475, 'seduct': 3476, 'sale': 3477, 'rick': 3478, 'godzilla': 3479, 'linda': 3480, '1999': 3481, 'disabl': 3482, 'descend': 3483, 'dian': 3484, 'cope': 3485, 'mixtur': 3486, 'gloriou': 3487, 'blatant': 3488, 'devoid': 3489, 'bubbl': 3490, 'beneath': 3491, 'hal': 3492, 'yard': 3493, 'dud': 3494, 'rabbit': 3495, 'glamor': 3496, 'scope': 3497, 'primarili': 3498, 'predecessor': 3499, 'inferior': 3500, 'dive': 3501, 'lol': 3502, 'secondli': 3503, 'cue': 3504, 'vast': 3505, 'gundam': 3506, 'talki': 3507, 'invas': 3508, 'shelf': 3509, 'countrysid': 3510, 'domino': 3511, 'april': 3512, 'hideou': 3513, 'museum': 3514, 'pearl': 3515, 'z': 3516, 'trademark': 3517, 'casual': 3518, 'et': 3519, 'senseless': 3520, 'simplist': 3521, 'alert': 3522, 'streep': 3523, 'arab': 3524, 'disjoint': 3525, 'myer': 3526, 'shirley': 3527, 'grinch': 3528, 'aggress': 3529, 'garbo': 3530, 'breed': 3531, 'alfr': 3532, 'maci': 3533, 'slide': 3534, 'hopeless': 3535, 'khan': 3536, 'experiment': 3537, 'illeg': 3538, 'boom': 3539, 'sh': 3540, 'vanish': 3541, 'unhappi': 3542, 'robberi': 3543, 'acid': 3544, 'hardcor': 3545, 'oz': 3546, 'stir': 3547, 'stack': 3548, 'stellar': 3549, 'mail': 3550, 'robinson': 3551, 'loyal': 3552, 'disgrac': 3553, 'rendit': 3554, 'applaud': 3555, 'obtain': 3556, 'defens': 3557, 'mayor': 3558, 'uwe': 3559, 'dismiss': 3560, 'spider': 3561, 'grandfath': 3562, 'diana': 3563, 'counter': 3564, 'tempt': 3565, 'psychic': 3566, 'span': 3567, 'topless': 3568, 'declin': 3569, 'incomprehens': 3570, 'scroog': 3571, 'dicken': 3572, 'craze': 3573, 'soccer': 3574, 'recruit': 3575, 'blew': 3576, 'amanda': 3577, 'fri': 3578, 'wont': 3579, 'berlin': 3580, 'emphasi': 3581, 'rifl': 3582, 'tenant': 3583, 'hartley': 3584, 'faster': 3585, 'niro': 3586, 'justin': 3587, 'shed': 3588, 'sibl': 3589, 'lumet': 3590, 'parad': 3591, 'trashi': 3592, 'ethnic': 3593, 'woo': 3594, 'ration': 3595, 'revolt': 3596, 'goer': 3597, 'porno': 3598, 'riot': 3599, 'bitch': 3600, 'intim': 3601, 'resurrect': 3602, 'wet': 3603, 'shaw': 3604, 'sympath': 3605, 'honesti': 3606, 'jonathan': 3607, 'farmer': 3608, 'patriot': 3609, 'ballet': 3610, 'biographi': 3611, 'slick': 3612, 'hesit': 3613, 'unreal': 3614, 'choru': 3615, 'dealer': 3616, 'ensur': 3617, 'partial': 3618, 'steam': 3619, 'region': 3620, 'rider': 3621, 'eager': 3622, 'immort': 3623, 'andr': 3624, 'feminist': 3625, 'wendi': 3626, '00': 3627, 'commend': 3628, 'enlighten': 3629, 'hopper': 3630, 'wheel': 3631, 'gap': 3632, 'weakest': 3633, 'mario': 3634, 'worm': 3635, 'nephew': 3636, 'lena': 3637, 'properti': 3638, 'hung': 3639, 'wore': 3640, 'leo': 3641, 'confin': 3642, 'franco': 3643, 'sandra': 3644, 'morri': 3645, 'safeti': 3646, 'sappi': 3647, 'similarli': 3648, 'nostalg': 3649, 'blunt': 3650, 'vice': 3651, 'composit': 3652, 'util': 3653, 'psychopath': 3654, 'repress': 3655, 'mutant': 3656, 'kingdom': 3657, 'charlott': 3658, 'skull': 3659, 'snap': 3660, 'prequel': 3661, 'victori': 3662, 'macarthur': 3663, 'owen': 3664, 'del': 3665, 'latin': 3666, 'rope': 3667, 'compass': 3668, 'whoopi': 3669, 'recycl': 3670, 'pattern': 3671, '1972': 3672, 'montana': 3673, 'strand': 3674, 'compens': 3675, 'drain': 3676, 'hyde': 3677, 'snl': 3678, 'miseri': 3679, 'thru': 3680, 'deed': 3681, 'rocki': 3682, 'valuabl': 3683, 'tail': 3684, 'heartbreak': 3685, 'bumbl': 3686, 'repli': 3687, 'nervou': 3688, 'drum': 3689, 'farrel': 3690, 'rambl': 3691, 'despair': 3692, 'acquir': 3693, 'dust': 3694, 'bonu': 3695, 'emperor': 3696, 'kyle': 3697, 'bergman': 3698, 'exit': 3699, 'speci': 3700, 'tad': 3701, 'bow': 3702, 'campbel': 3703, 'cg': 3704, 'dalton': 3705, '35': 3706, 'mistress': 3707, 'carradin': 3708, 'gal': 3709, 'rotten': 3710, 'contempl': 3711, 'radic': 3712, 'olli': 3713, 'airport': 3714, 'bleed': 3715, 'rapist': 3716, 'percept': 3717, 'roth': 3718, 'gimmick': 3719, 'pour': 3720, 'chess': 3721, 'wacki': 3722, 'orson': 3723, 'oppress': 3724, 'tonight': 3725, 'da': 3726, 'romp': 3727, 'martian': 3728, 'slug': 3729, 'downhil': 3730, 'arguabl': 3731, 'tackl': 3732, 'dazzl': 3733, 'unpredict': 3734, 'edgar': 3735, 'pursuit': 3736, 'stilt': 3737, 'pervert': 3738, 'arc': 3739, 'slash': 3740, 'programm': 3741, '1983': 3742, 'preach': 3743, 'melodi': 3744, 'champion': 3745, 'paltrow': 3746, 'taught': 3747, 'banal': 3748, 'heal': 3749, 'shelley': 3750, 'attorney': 3751, 'pervers': 3752, 'mislead': 3753, 'belt': 3754, 'tooth': 3755, 'passeng': 3756, 'tiresom': 3757, 'marti': 3758, 'mesmer': 3759, 'gambl': 3760, 'raymond': 3761, 'sensat': 3762, 'bela': 3763, 'plight': 3764, 'duval': 3765, 'orang': 3766, 'poem': 3767, 'vengeanc': 3768, 'cleverli': 3769, 'conneri': 3770, 'closest': 3771, 'dixon': 3772, 'franki': 3773, 'employe': 3774, 'vocal': 3775, 'uplift': 3776, 'graham': 3777, 'maid': 3778, 'virginia': 3779, 'chicken': 3780, 'rubi': 3781, 'gerard': 3782, 'clone': 3783, 'abraham': 3784, 'climact': 3785, 'secretli': 3786, 'bay': 3787, 'habit': 3788, 'engross': 3789, 'amitabh': 3790, 'volum': 3791, 'extens': 3792, 'mute': 3793, 'profan': 3794, 'suffic': 3795, 'paranoia': 3796, 'tube': 3797, 'inject': 3798, 'giggl': 3799, 'monologu': 3800, 'sirk': 3801, 'iran': 3802, 'calm': 3803, 'convincingli': 3804, 'lundgren': 3805, 'quarter': 3806, 'crystal': 3807, 'outing': 3808, 'scottish': 3809, '1968': 3810, 'numb': 3811, 'yawn': 3812, 'whine': 3813, 'swallow': 3814, 'pokemon': 3815, 'franci': 3816, 'lowest': 3817, 'septemb': 3818, 'surpass': 3819, 'abort': 3820, 'trend': 3821, 'junior': 3822, 'dispos': 3823, 'underst': 3824, 'plod': 3825, 'backward': 3826, 'im': 3827, 'richardson': 3828, 'meander': 3829, 'frankenstein': 3830, 'ethan': 3831, 'taxi': 3832, 'bend': 3833, 'linger': 3834, 'fed': 3835, 'austen': 3836, 'chicago': 3837, 'profess': 3838, 'spock': 3839, 'grotesqu': 3840, 'nichola': 3841, 'earl': 3842, 'expand': 3843, 'poetri': 3844, 'household': 3845, 'der': 3846, 'compliment': 3847, 'sue': 3848, 'myth': 3849, 'greedi': 3850, 'spoke': 3851, 'mundan': 3852, 'catchi': 3853, 'tourist': 3854, 'simplic': 3855, 'lure': 3856, 'muddl': 3857, 'cannon': 3858, 'dysfunct': 3859, 'rubber': 3860, 'waitress': 3861, 'econom': 3862, 'instrument': 3863, 'literatur': 3864, 'nostalgia': 3865, 'rant': 3866, 'descent': 3867, 'hum': 3868, 'eugen': 3869, 'stallon': 3870, 'recognit': 3871, 'irrelev': 3872, 'dictat': 3873, 'flee': 3874, 'phoni': 3875, 'alongsid': 3876, 'dement': 3877, 'hello': 3878, 'cent': 3879, 'crucial': 3880, 'omen': 3881, 'deaf': 3882, 'june': 3883, 'lang': 3884, 'sissi': 3885, 'insur': 3886, 'duck': 3887, 'occupi': 3888, 'stale': 3889, 'bacal': 3890, 'damon': 3891, 'map': 3892, 'randi': 3893, 'firstli': 3894, 'coast': 3895, 'molli': 3896, 'recognis': 3897, 'furi': 3898, 'equival': 3899, 'carel': 3900, 'louis': 3901, 'eaten': 3902, 'mortal': 3903, 'phantom': 3904, 'mankind': 3905, 'distinguish': 3906, 'reign': 3907, 'rooney': 3908, '1973': 3909, 'onlin': 3910, 'loyalti': 3911, 'damm': 3912, 'ashley': 3913, 'grayson': 3914, 'dreari': 3915, 'cyborg': 3916, 'wisdom': 3917, 'twilight': 3918, 'freez': 3919, 'biko': 3920, 'daisi': 3921, 'bump': 3922, 'bike': 3923, 'labor': 3924, 'lengthi': 3925, 'heel': 3926, 'drake': 3927, 'likewis': 3928, 'rude': 3929, 'newli': 3930, 'buffalo': 3931, 'blackmail': 3932, 'antwon': 3933, 'sailor': 3934, 'pink': 3935, 'interior': 3936, 'unorigin': 3937, 'attribut': 3938, 'emphas': 3939, 'nineti': 3940, 'boxer': 3941, 'basketbal': 3942, 'worn': 3943, 'barrymor': 3944, 'tunnel': 3945, 'proce': 3946, 'provoc': 3947, 'incorpor': 3948, 'ridden': 3949, 'inher': 3950, 'keith': 3951, 'approv': 3952, 'analysi': 3953, 'butler': 3954, 'exposur': 3955, 'prey': 3956, 'chronicl': 3957, 'vein': 3958, 'startl': 3959, 'baddi': 3960, 'er': 3961, 'barrel': 3962, 'bunni': 3963, 'degrad': 3964, 'mighti': 3965, 'millionair': 3966, 'othello': 3967, 'substitut': 3968, 'walsh': 3969, 'elm': 3970, 'nicol': 3971, 'drift': 3972, 'fleet': 3973, 'condemn': 3974, 'mormon': 3975, 'meg': 3976, 'improvis': 3977, 'belushi': 3978, 'stalker': 3979, 'indiffer': 3980, 'underli': 3981, 'robbin': 3982, 'hypnot': 3983, 'julian': 3984, 'simmon': 3985, 'meyer': 3986, 'unrel': 3987, 'predat': 3988, 'undeni': 3989, 'carla': 3990, 'nyc': 3991, 'hay': 3992, 'enthusiasm': 3993, '3d': 3994, 'vital': 3995, 'rukh': 3996, 'unawar': 3997, 'exquisit': 3998, 'errol': 3999, 'priceless': 4000, 'edgi': 4001, 'agenda': 4002, 'warmth': 4003, 'firm': 4004, 'greed': 4005, 'marion': 4006, 'disord': 4007, 'alison': 4008, 'reid': 4009, 'roof': 4010, 'palac': 4011, 'dolph': 4012, 'watson': 4013, 'alarm': 4014, 'shove': 4015, 'lampoon': 4016, 'mtv': 4017, 'novak': 4018, '1933': 4019, 'session': 4020, 'testament': 4021, 'glanc': 4022, 'ponder': 4023, 'eastern': 4024, 'gestur': 4025, 'spain': 4026, 'cassidi': 4027, 'drip': 4028, 'coup': 4029, 'crown': 4030, 'thompson': 4031, 'unleash': 4032, 'simultan': 4033, 'championship': 4034, 'valentin': 4035, 'angela': 4036, 'iraq': 4037, 'what': 4038, '13th': 4039, 'zizek': 4040, 'peril': 4041, 'petti': 4042, 'orlean': 4043, 'profit': 4044, 'distort': 4045, 'pamela': 4046, 'israel': 4047, 'nun': 4048, 'campaign': 4049, 'preserv': 4050, 'minimum': 4051, 'sergeant': 4052, 'peck': 4053, 'randomli': 4054, 'showdown': 4055, 'beatl': 4056, 'climat': 4057, 'empathi': 4058, 'wig': 4059, 'quinn': 4060, 'reson': 4061, 'valley': 4062, 'cooki': 4063, 'jan': 4064, 'unimagin': 4065, 'perpetu': 4066, 'din': 4067, 'scotland': 4068, 'cream': 4069, 'mon': 4070, 'travesti': 4071, 'represent': 4072, 'brenda': 4073, 'crawl': 4074, '1984': 4075, 'crow': 4076, 'stroke': 4077, 'rout': 4078, 'realm': 4079, 'stake': 4080, 'buster': 4081, 'shootout': 4082, 'calib': 4083, 'miyazaki': 4084, 'fido': 4085, 'restrain': 4086, 'kurosawa': 4087, 'gentleman': 4088, 'sabrina': 4089, 'contradict': 4090, 'bro': 4091, 'regist': 4092, 'han': 4093, 'exposit': 4094, 'shoddi': 4095, 'unseen': 4096, 'passabl': 4097, 'soderbergh': 4098, 'sammi': 4099, 'painter': 4100, 'greg': 4101, 'mclaglen': 4102, 'businessman': 4103, 'pole': 4104, 'crawford': 4105, 'traumat': 4106, 'sucker': 4107, 'demis': 4108, 'absent': 4109, 'delic': 4110, 'perceiv': 4111, 'fuller': 4112, 'cloud': 4113, 'tacki': 4114, 'shaki': 4115, 'censor': 4116, 'derang': 4117, 'dana': 4118, 'distress': 4119, 'wax': 4120, 'compromis': 4121, 'femm': 4122, 'meryl': 4123, 'unsatisfi': 4124, '1987': 4125, 'spacey': 4126, 'stargat': 4127, '1997': 4128, 'josh': 4129, 'pretens': 4130, 'ustinov': 4131, 'warrant': 4132, 'monoton': 4133, 'ross': 4134, 'abomin': 4135, 'geek': 4136, 'darren': 4137, 'baldwin': 4138, 'deceas': 4139, 'click': 4140, 'furiou': 4141, 'fenc': 4142, 'tarantino': 4143, 'norm': 4144, 'unravel': 4145, 'kumar': 4146, 'wholli': 4147, 'dee': 4148, 'exclus': 4149, 'anchor': 4150, 'expedit': 4151, 'fog': 4152, 'reluct': 4153, 'seal': 4154, 'tech': 4155, 'austin': 4156, 'verbal': 4157, 'deniro': 4158, 'primit': 4159, '1993': 4160, 'sid': 4161, 'antonioni': 4162, 'jewel': 4163, 'nathan': 4164, 'uncov': 4165, 'accuraci': 4166, 'correctli': 4167, 'polici': 4168, 'valid': 4169, 'clash': 4170, 'judgment': 4171, 'sunni': 4172, 'sustain': 4173, 'unfair': 4174, 'wretch': 4175, '1971': 4176, 'fart': 4177, 'hallucin': 4178, '3000': 4179, 'enforc': 4180, 'fabric': 4181, 'nicola': 4182, 'logan': 4183, 'darn': 4184, 'seldom': 4185, 'pocket': 4186, 'conduct': 4187, 'fought': 4188, 'mode': 4189, 'patienc': 4190, 'clerk': 4191, 'trait': 4192, 'temper': 4193, 'slam': 4194, 'wang': 4195, 'sheet': 4196, 'malon': 4197, '2008': 4198, 'alec': 4199, 'murray': 4200, 'shanghai': 4201, 'joel': 4202, 'behold': 4203, 'roller': 4204, 'ritual': 4205, 'tax': 4206, 'dreck': 4207, 'vanc': 4208, 'sand': 4209, 'debt': 4210, 'crippl': 4211, '1995': 4212, 'bake': 4213, 'tactic': 4214, 'penni': 4215, 'sweep': 4216, 'preston': 4217, 'squad': 4218, 'pete': 4219, 'soup': 4220, 'helpless': 4221, 'conscious': 4222, 'schedul': 4223, 'stark': 4224, 'preposter': 4225, 'rita': 4226, 'phil': 4227, 'grief': 4228, 'technicolor': 4229, 'critiqu': 4230, 'legaci': 4231, 'guitar': 4232, 'exhaust': 4233, 'fundament': 4234, 'outlin': 4235, 'clau': 4236, 'shell': 4237, 'scriptwrit': 4238, 'divid': 4239, 'canyon': 4240, 'despis': 4241, 'stuart': 4242, 'runner': 4243, 'robber': 4244, 'bridget': 4245, 'bias': 4246, 'isabel': 4247, 'rear': 4248, 'sentinel': 4249, 'rehash': 4250, 'connor': 4251, 'culmin': 4252, 'unexpectedli': 4253, 'russia': 4254, 'jodi': 4255, 'vomit': 4256, 'agenc': 4257, 'jacket': 4258, 'kansa': 4259, 'liberti': 4260, 'inabl': 4261, 'flair': 4262, 'boyl': 4263, 'consciou': 4264, 'lacklust': 4265, 'downey': 4266, 'passag': 4267, 'implic': 4268, 'alley': 4269, 'drove': 4270, 'propos': 4271, 'bloom': 4272, 'sugar': 4273, 'gregori': 4274, 'sniper': 4275, 'cigarett': 4276, 'marc': 4277, 'palanc': 4278, 'alicia': 4279, 'restrict': 4280, 'newman': 4281, 'invad': 4282, 'delv': 4283, 'delet': 4284, 'bacon': 4285, 'pale': 4286, 'rod': 4287, 'arrow': 4288, 'improb': 4289, 'cap': 4290, 'feat': 4291, 'chainsaw': 4292, '22': 4293, 'lush': 4294, 'behaviour': 4295, 'karl': 4296, 'ladder': 4297, 'tendenc': 4298, 'yeti': 4299, 'wrench': 4300, 'asylum': 4301, 'rehears': 4302, 'tripe': 4303, 'aesthet': 4304, 'mccoy': 4305, 'sharon': 4306, '1936': 4307, 'rampag': 4308, 'horn': 4309, 'awhil': 4310, 'vet': 4311, 'kolchak': 4312, 'foxx': 4313, 'basing': 4314, 'elit': 4315, 'loneli': 4316, 'el': 4317, 'hungri': 4318, 'stream': 4319, 'tomorrow': 4320, 'prank': 4321, 'paradis': 4322, 'suffici': 4323, 'lurk': 4324, 'sung': 4325, 'globe': 4326, 'hackney': 4327, 'weav': 4328, 'amazon': 4329, 'tasteless': 4330, '19th': 4331, 'paramount': 4332, 'spice': 4333, 'visitor': 4334, 'suspicion': 4335, '1920': 4336, 'wildli': 4337, 'rumor': 4338, 'scoop': 4339, 'aristocrat': 4340, '1978': 4341, 'wagner': 4342, 'minu': 4343, 'fright': 4344, 'underneath': 4345, 'shortcom': 4346, 'coaster': 4347, 'filler': 4348, 'conscienc': 4349, '1988': 4350, 'hulk': 4351, 'rhythm': 4352, 'thunderbird': 4353, 'financ': 4354, 'newcom': 4355, 'paxton': 4356, '1939': 4357, 'standout': 4358, 'wwe': 4359, 'worship': 4360, 'minist': 4361, 'teas': 4362, 'cancer': 4363, 'ingeni': 4364, 'smell': 4365, 'quietli': 4366, 'recogniz': 4367, 'rub': 4368, 'brit': 4369, 'counterpart': 4370, 'curli': 4371, 'hopkin': 4372, '1989': 4373, 'choppi': 4374, 'secondari': 4375, 'ram': 4376, 'impos': 4377, 'literari': 4378, 'tierney': 4379, 'inmat': 4380, 'grudg': 4381, 'naughti': 4382, 'penn': 4383, 'straightforward': 4384, 'couch': 4385, 'entranc': 4386, 'dirt': 4387, 'leigh': 4388, 'lectur': 4389, 'springer': 4390, 'beverli': 4391, 'chamberlain': 4392, 'immers': 4393, 'en': 4394, 'atroc': 4395, 'posey': 4396, 'heist': 4397, 'iv': 4398, 'bread': 4399, 'abrupt': 4400, '75': 4401, 'chavez': 4402, 'convert': 4403, 'sassi': 4404, 'quaid': 4405, 'nolan': 4406, 'ratso': 4407, 'duel': 4408, 'variat': 4409, 'skeptic': 4410, 'injuri': 4411, 'enthral': 4412, 'cattl': 4413, 'misguid': 4414, 'laurenc': 4415, '1986': 4416, 'nemesi': 4417, 'geni': 4418, 'sublim': 4419, 'ace': 4420, 'attenborough': 4421, 'transcend': 4422, 'entitl': 4423, 'moreov': 4424, 'clan': 4425, 'lindsay': 4426, 'net': 4427, 'missil': 4428, 'heartfelt': 4429, 'bernard': 4430, 'policeman': 4431, 'yearn': 4432, 'morbid': 4433, 'watcher': 4434, 'esther': 4435, 'facil': 4436, 'hk': 4437, 'tyler': 4438, 'diari': 4439, 'out': 4440, 'kitti': 4441, 'grin': 4442, 'bye': 4443, '1979': 4444, 'buzz': 4445, 'steadi': 4446, 'spiral': 4447, 'uncut': 4448, 'egg': 4449, 'poe': 4450, 'puppi': 4451, 'characteris': 4452, 'reliabl': 4453, 'youngest': 4454, 'rosemari': 4455, 'moder': 4456, 'hopelessli': 4457, 'enabl': 4458, 'vader': 4459, 'obstacl': 4460, 'brood': 4461, 'cruelti': 4462, 'carlito': 4463, 'dont': 4464, 'unexplain': 4465, 'bean': 4466, 'artsi': 4467, 'graini': 4468, 'setup': 4469, 'mytholog': 4470, 'kidman': 4471, 'bounc': 4472, 'niec': 4473, 'despic': 4474, 'patricia': 4475, '1969': 4476, 'narrow': 4477, 'gina': 4478, 'baffl': 4479, 'underworld': 4480, 'disastr': 4481, 'weather': 4482, 'effici': 4483, 'acquaint': 4484, 'sweat': 4485, 'oblig': 4486, 'gillian': 4487, 'brendan': 4488, 'preming': 4489, 'clueless': 4490, 'bronson': 4491, 'hain': 4492, 'athlet': 4493, 'kline': 4494, 'exterior': 4495, 'hammi': 4496, 'heap': 4497, 'bewar': 4498, 'decept': 4499, 'christin': 4500, 'spontan': 4501, 'fuel': 4502, 'martha': 4503, 'housewif': 4504, 'tick': 4505, 'angst': 4506, '19': 4507, 'suprem': 4508, 'uh': 4509, 'shatter': 4510, 'dilemma': 4511, 'enlist': 4512, 'outlaw': 4513, 'loath': 4514, 'renaiss': 4515, 'virtu': 4516, 'headach': 4517, 'mayhem': 4518, '73': 4519, 'candl': 4520, 'mermaid': 4521, 'insipid': 4522, 'sleepwalk': 4523, 'dandi': 4524, 'sooner': 4525, 'scar': 4526, 'analyz': 4527, 'goof': 4528, 'injur': 4529, 'rome': 4530, 'astound': 4531, 'hepburn': 4532, 'harmless': 4533, 'lester': 4534, 'preachi': 4535, 'fontain': 4536, 'taboo': 4537, 'loi': 4538, 'trigger': 4539, 'viewpoint': 4540, 'circu': 4541, 'biker': 4542, 'hooker': 4543, 'steer': 4544, 'contempt': 4545, 'immatur': 4546, 'amor': 4547, 'dish': 4548, 'glorifi': 4549, 'surgeri': 4550, 'camcord': 4551, 'sox': 4552, 'whore': 4553, 'stimul': 4554, 'redund': 4555, 'stair': 4556, 'ebert': 4557, 'fluff': 4558, 'hokey': 4559, 'cassavet': 4560, 'claustrophob': 4561, 'guin': 4562, 'ariel': 4563, 'overlong': 4564, 'macho': 4565, 'salt': 4566, 'intric': 4567, 'scorses': 4568, 'idol': 4569, 'foolish': 4570, 'zoom': 4571, 'filth': 4572, 'dismal': 4573, 'boston': 4574, 'spade': 4575, 'phenomenon': 4576, 'hostag': 4577, 'slimi': 4578, 'oldest': 4579, 'corbett': 4580, 'bent': 4581, 'gere': 4582, 'tripl': 4583, 'schlock': 4584, 'widescreen': 4585, 'antagonist': 4586, 'spree': 4587, 'muscl': 4588, 'dwarf': 4589, 'rhyme': 4590, 'cow': 4591, 'mount': 4592, 'flag': 4593, 'cohen': 4594, 'keen': 4595, '1981': 4596, 'perman': 4597, 'gasp': 4598, 'fascist': 4599, 'messi': 4600, 'obligatori': 4601, 'mutual': 4602, 'preced': 4603, 'down': 4604, 'assert': 4605, 'trivia': 4606, 'margin': 4607, 'corman': 4608, 'zane': 4609, 'radiat': 4610, 'flirt': 4611, 'remad': 4612, 'shield': 4613, 'strongest': 4614, 'proport': 4615, 'flashi': 4616, 'nolt': 4617, 'shred': 4618, 'frantic': 4619, 'harold': 4620, 'faint': 4621, 'astronaut': 4622, 'gabl': 4623, 'transplant': 4624, 'cush': 4625, 'beard': 4626, '1976': 4627, 'alvin': 4628, 'joker': 4629, 'conquer': 4630, 'naschi': 4631, 'spinal': 4632, 'scandal': 4633, 'www': 4634, 'strive': 4635, 'barn': 4636, 'flock': 4637, 'vaniti': 4638, 'triangl': 4639, 'hara': 4640, 'someday': 4641, 'interestingli': 4642, 'inflict': 4643, '1945': 4644, '95': 4645, 'mol': 4646, 'off': 4647, 'danish': 4648, 'claud': 4649, 'wield': 4650, '28': 4651, 'sensual': 4652, 'mobil': 4653, 'departur': 4654, 'neurot': 4655, 'deer': 4656, 'divin': 4657, 'boob': 4658, 'brush': 4659, 'repris': 4660, 'fishburn': 4661, 'ritchi': 4662, 'bitten': 4663, 'resum': 4664, 'persuad': 4665, 'instruct': 4666, 'info': 4667, 'archiv': 4668, 'discern': 4669, 'raj': 4670, 'bachelor': 4671, 'carey': 4672, 'aborigin': 4673, 'pacif': 4674, 'casino': 4675, 'bate': 4676, 'fragil': 4677, 'helm': 4678, 'timberlak': 4679, 'parson': 4680, 'neill': 4681, 'dylan': 4682, 'biblic': 4683, 'luka': 4684, 'kathryn': 4685, 'rot': 4686, 'dame': 4687, 'traffic': 4688, 'undermin': 4689, 'miracul': 4690, 'submit': 4691, 'cliffhang': 4692, 'vibrant': 4693, 'axe': 4694, 'cycl': 4695, 'colin': 4696, 'frontier': 4697, 'mobster': 4698, 'prophet': 4699, 'harrison': 4700, 'wendigo': 4701, 'recit': 4702, 'cb': 4703, 'senior': 4704, 'pixar': 4705, 'cher': 4706, 'hapless': 4707, 'heartwarm': 4708, 'dim': 4709, 'melissa': 4710, 'europa': 4711, 'ish': 4712, 'loretta': 4713, 'earnest': 4714, 'hug': 4715, 'jade': 4716, 'artwork': 4717, 'hilar': 4718, 'clad': 4719, 'carlo': 4720, 'pickford': 4721, 'proclaim': 4722, 'banter': 4723, 'anton': 4724, 'cerebr': 4725, 'lucil': 4726, 'blatantli': 4727, 'flavor': 4728, 'eli': 4729, 'redneck': 4730, 'lui': 4731, 'token': 4732, 'rooki': 4733, 'alexandr': 4734, 'akin': 4735, 'articl': 4736, 'shepherd': 4737, 'mason': 4738, 'http': 4739, 'vanessa': 4740, 'mathieu': 4741, 'seedi': 4742, 'aris': 4743, 'vile': 4744, 'foil': 4745, 'razor': 4746, 'choke': 4747, 'northern': 4748, 'sicken': 4749, 'winchest': 4750, 'toronto': 4751, 'estrang': 4752, 'uma': 4753, 'breakfast': 4754, 'jo': 4755, 'static': 4756, 'illus': 4757, 'nope': 4758, 'legitim': 4759, 'trier': 4760, 'wardrob': 4761, 'milo': 4762, 'bikini': 4763, 'misfortun': 4764, 'orphan': 4765, 'bondag': 4766, 'marlon': 4767, 'venom': 4768, 'pc': 4769, 'electron': 4770, 'antholog': 4771, 'feast': 4772, 'holocaust': 4773, 'isra': 4774, 'jordan': 4775, 'outdat': 4776, 'huston': 4777, 'dudley': 4778, 'highway': 4779, 'clinic': 4780, 'feminin': 4781, 'shorter': 4782, 'frog': 4783, 'wrestler': 4784, 'oppon': 4785, 'affleck': 4786, 'cartoonish': 4787, 'leather': 4788, 'smack': 4789, 'deem': 4790, 'gilbert': 4791, 'magician': 4792, 'gunga': 4793, 'nightclub': 4794, 'ideolog': 4795, 'knightley': 4796, 'psych': 4797, 'retriev': 4798, 'peer': 4799, 'ceremoni': 4800, 'howl': 4801, 'fifth': 4802, 'charlton': 4803, 'turd': 4804, 'disregard': 4805, 'comprehend': 4806, 'tack': 4807, 'styliz': 4808, 'glare': 4809, 'linear': 4810, 'audrey': 4811, 'swept': 4812, 'abund': 4813, 'boyer': 4814, 'bastard': 4815, 'spawn': 4816, 'plate': 4817, 'client': 4818, 'greet': 4819, 'cuban': 4820, 'btw': 4821, 'uniformli': 4822, 'whack': 4823, 'breakdown': 4824, 'moe': 4825, 'chip': 4826, 'potter': 4827, 'toe': 4828, 'lighter': 4829, 'compris': 4830, 'summar': 4831, 'conrad': 4832, '4th': 4833, 'boo': 4834, 'bogu': 4835, 'energet': 4836, 'mitch': 4837, 'lifeless': 4838, 'lavish': 4839, 'einstein': 4840, 'monument': 4841, 'corn': 4842, 'phenomen': 4843, 'senat': 4844, 'spine': 4845, 'goldsworthi': 4846, 'collector': 4847, 'evolut': 4848, 'newer': 4849, 'cemeteri': 4850, 'tara': 4851, 'deliver': 4852, '1994': 4853, 'durat': 4854, 'braveheart': 4855, 'sleaz': 4856, 'salman': 4857, '1991': 4858, 'snatch': 4859, 'jam': 4860, 'undertak': 4861, 'jare': 4862, 'kent': 4863, 'evelyn': 4864, 'luxuri': 4865, 'firmli': 4866, 'capot': 4867, 'pronounc': 4868, 'constitut': 4869, 'sorrow': 4870, 'bulk': 4871, 'nina': 4872, '1977': 4873, 'belli': 4874, 'clara': 4875, 'bori': 4876, 'ol': 4877, 'outright': 4878, 'replay': 4879, 'judd': 4880, 'kazan': 4881, 'eleven': 4882, 'alleg': 4883, 'mcqueen': 4884, 'wtf': 4885, 'creek': 4886, 'randolph': 4887, 'gilliam': 4888, 'fluid': 4889, 'armstrong': 4890, 'embark': 4891, 'jule': 4892, 'historian': 4893, 'undead': 4894, 'neatli': 4895, 'ie': 4896, 'signal': 4897, 'jedi': 4898, 'cecil': 4899, 'trauma': 4900, 'liu': 4901, 'occup': 4902, 'spectacl': 4903, 'appl': 4904, 'healthi': 4905, 'lex': 4906, 'inaccuraci': 4907, '1974': 4908, 'id': 4909, 'galaxi': 4910, 'kiddi': 4911, 'antonio': 4912, 'unsuspect': 4913, 'congratul': 4914, 'inclus': 4915, 'palm': 4916, 'conan': 4917, 'meal': 4918, 'unattract': 4919, 'knee': 4920, 'propheci': 4921, 'porter': 4922, 'carmen': 4923, 'fruit': 4924, 'aussi': 4925, 'vain': 4926, 'roar': 4927, 'subtli': 4928, 'vignett': 4929, 'sacrif': 4930, 'comb': 4931, 'miami': 4932, 'genet': 4933, 'cape': 4934, 'pioneer': 4935, 'ash': 4936, 'sidewalk': 4937, 'truman': 4938, 'bait': 4939, 'comprehens': 4940, '1985': 4941, 'forgiven': 4942, 'basket': 4943, 'pepper': 4944, 'lauren': 4945, 'paula': 4946, 'bsg': 4947, 'poker': 4948, 'goldblum': 4949, 'walt': 4950, 'abound': 4951, 'decapit': 4952, 'blur': 4953, 'curtain': 4954, 'relentless': 4955, 'tokyo': 4956, 'groan': 4957, 'lanc': 4958, 'spray': 4959, 'rosario': 4960, 'miniseri': 4961, 'mum': 4962, 'inaccur': 4963, 'growth': 4964, 'assort': 4965, 'bach': 4966, 'hackman': 4967, 'weari': 4968, 'dubiou': 4969, 'omin': 4970, 'macabr': 4971, 'masterson': 4972, 'drone': 4973, 'optimist': 4974, 'hostil': 4975, 'profil': 4976, 'sparkl': 4977, 'epitom': 4978, 'modest': 4979, 'detach': 4980, 'playboy': 4981, 'spill': 4982, 'frontal': 4983, 'ghetto': 4984, 'scariest': 4985, 'sophi': 4986, '21st': 4987, 'rapidli': 4988, 'incorrect': 4989, 'mice': 4990, 'casper': 4991, 'victorian': 4992, 'cypher': 4993, 'jill': 4994, 'substanti': 4995, 'monti': 4996, 'verg': 4997, 'motorcycl': 4998, 'handicap': 4999}\n"
     ]
    }
   ],
   "source": [
    "print(train_X[1])\n",
    "word_dict = build_dict(train_X)\n",
    "print(word_dict)"
   ]
  },
  {
   "cell_type": "markdown",
   "metadata": {},
   "source": [
    "**Question:** What are the five most frequently appearing (tokenized) words in the training set? Does it makes sense that these words appear frequently in the training set?"
   ]
  },
  {
   "cell_type": "markdown",
   "metadata": {},
   "source": [
    "**Answer:**"
   ]
  },
  {
   "cell_type": "code",
   "execution_count": 14,
   "metadata": {},
   "outputs": [
    {
     "name": "stdout",
     "output_type": "stream",
     "text": [
      "['movi', 'film', 'one', 'like', 'time']\n"
     ]
    }
   ],
   "source": [
    "# TODO: Use this space to determine the five most frequently appearing words in the training set.\n",
    "from itertools import islice\n",
    "\n",
    "most_frequent_words = list(islice(word_dict, 5))\n",
    "print(most_frequent_words)"
   ]
  },
  {
   "cell_type": "markdown",
   "metadata": {},
   "source": [
    "### Save `word_dict`\n",
    "\n",
    "Later on when we construct an endpoint which processes a submitted review we will need to make use of the `word_dict` which we have created. As such, we will save it to a file now for future use."
   ]
  },
  {
   "cell_type": "code",
   "execution_count": 15,
   "metadata": {},
   "outputs": [],
   "source": [
    "data_dir = '../data/pytorch' # The folder we will use for storing data\n",
    "if not os.path.exists(data_dir): # Make sure that the folder exists\n",
    "    os.makedirs(data_dir)"
   ]
  },
  {
   "cell_type": "code",
   "execution_count": 16,
   "metadata": {},
   "outputs": [],
   "source": [
    "with open(os.path.join(data_dir, 'word_dict.pkl'), \"wb\") as f:\n",
    "    pickle.dump(word_dict, f)"
   ]
  },
  {
   "cell_type": "markdown",
   "metadata": {},
   "source": [
    "### Transform the reviews\n",
    "\n",
    "Now that we have our word dictionary which allows us to transform the words appearing in the reviews into integers, it is time to make use of it and convert our reviews to their integer sequence representation, making sure to pad or truncate to a fixed length, which in our case is `500`."
   ]
  },
  {
   "cell_type": "code",
   "execution_count": 17,
   "metadata": {},
   "outputs": [],
   "source": [
    "def convert_and_pad(word_dict, sentence, pad=500):\n",
    "    NOWORD = 0 # We will use 0 to represent the 'no word' category\n",
    "    INFREQ = 1 # and we use 1 to represent the infrequent words, i.e., words not appearing in word_dict\n",
    "    \n",
    "    working_sentence = [NOWORD] * pad\n",
    "    \n",
    "    for word_index, word in enumerate(sentence[:pad]):\n",
    "        if word in word_dict:\n",
    "            working_sentence[word_index] = word_dict[word]\n",
    "        else:\n",
    "            working_sentence[word_index] = INFREQ\n",
    "            \n",
    "    return working_sentence, min(len(sentence), pad)\n",
    "\n",
    "def convert_and_pad_data(word_dict, data, pad=500):\n",
    "    result = []\n",
    "    lengths = []\n",
    "    \n",
    "    for sentence in data:\n",
    "        converted, leng = convert_and_pad(word_dict, sentence, pad)\n",
    "        result.append(converted)\n",
    "        lengths.append(leng)\n",
    "        \n",
    "    return np.array(result), np.array(lengths)"
   ]
  },
  {
   "cell_type": "code",
   "execution_count": 18,
   "metadata": {},
   "outputs": [],
   "source": [
    "train_X, train_X_len = convert_and_pad_data(word_dict, train_X)\n",
    "test_X, test_X_len = convert_and_pad_data(word_dict, test_X)"
   ]
  },
  {
   "cell_type": "markdown",
   "metadata": {},
   "source": [
    "As a quick check to make sure that things are working as intended, check to see what one of the reviews in the training set looks like after having been processeed. Does this look reasonable? What is the length of a review in the training set?"
   ]
  },
  {
   "cell_type": "code",
   "execution_count": 19,
   "metadata": {},
   "outputs": [
    {
     "data": {
      "text/plain": [
       "array([   2,  376,  106,   21,   93,   31,  284,    2,  376,  281,  125,\n",
       "       2039,   32, 2038,   97, 1056,  221,  112, 1164,  299,    2,  367,\n",
       "        100,   10,   22,  420,  144,   35,    8,    1,  196,  676,  144,\n",
       "          2,  108,   92,   25,   35,  137,  531,  420,   13, 1961,    1,\n",
       "       2130, 1007,    4, 3513,  608,  531,  144,    2,  344,  512,  608,\n",
       "        143,   66,   96,  270,  143,    8,  304,  196, 1541,  393,   11,\n",
       "         27,  185,  147,    1,  604,  268,  142, 1885, 3944,   15,   21,\n",
       "          5, 1776,    2,   51,  109,    1,  134,   56, 3565,  438,   12,\n",
       "          2,  121,  727,  235,   48,    6, 2686,  253, 1055,    1,  101,\n",
       "         15,  598,   21, 1373,  365,  438, 1149,    0,    0,    0,    0,\n",
       "          0,    0,    0,    0,    0,    0,    0,    0,    0,    0,    0,\n",
       "          0,    0,    0,    0,    0,    0,    0,    0,    0,    0,    0,\n",
       "          0,    0,    0,    0,    0,    0,    0,    0,    0,    0,    0,\n",
       "          0,    0,    0,    0,    0,    0,    0,    0,    0,    0,    0,\n",
       "          0,    0,    0,    0,    0,    0,    0,    0,    0,    0,    0,\n",
       "          0,    0,    0,    0,    0,    0,    0,    0,    0,    0,    0,\n",
       "          0,    0,    0,    0,    0,    0,    0,    0,    0,    0,    0,\n",
       "          0,    0,    0,    0,    0,    0,    0,    0,    0,    0,    0,\n",
       "          0,    0,    0,    0,    0,    0,    0,    0,    0,    0,    0,\n",
       "          0,    0,    0,    0,    0,    0,    0,    0,    0,    0,    0,\n",
       "          0,    0,    0,    0,    0,    0,    0,    0,    0,    0,    0,\n",
       "          0,    0,    0,    0,    0,    0,    0,    0,    0,    0,    0,\n",
       "          0,    0,    0,    0,    0,    0,    0,    0,    0,    0,    0,\n",
       "          0,    0,    0,    0,    0,    0,    0,    0,    0,    0,    0,\n",
       "          0,    0,    0,    0,    0,    0,    0,    0,    0,    0,    0,\n",
       "          0,    0,    0,    0,    0,    0,    0,    0,    0,    0,    0,\n",
       "          0,    0,    0,    0,    0,    0,    0,    0,    0,    0,    0,\n",
       "          0,    0,    0,    0,    0,    0,    0,    0,    0,    0,    0,\n",
       "          0,    0,    0,    0,    0,    0,    0,    0,    0,    0,    0,\n",
       "          0,    0,    0,    0,    0,    0,    0,    0,    0,    0,    0,\n",
       "          0,    0,    0,    0,    0,    0,    0,    0,    0,    0,    0,\n",
       "          0,    0,    0,    0,    0,    0,    0,    0,    0,    0,    0,\n",
       "          0,    0,    0,    0,    0,    0,    0,    0,    0,    0,    0,\n",
       "          0,    0,    0,    0,    0,    0,    0,    0,    0,    0,    0,\n",
       "          0,    0,    0,    0,    0,    0,    0,    0,    0,    0,    0,\n",
       "          0,    0,    0,    0,    0,    0,    0,    0,    0,    0,    0,\n",
       "          0,    0,    0,    0,    0,    0,    0,    0,    0,    0,    0,\n",
       "          0,    0,    0,    0,    0,    0,    0,    0,    0,    0,    0,\n",
       "          0,    0,    0,    0,    0,    0,    0,    0,    0,    0,    0,\n",
       "          0,    0,    0,    0,    0,    0,    0,    0,    0,    0,    0,\n",
       "          0,    0,    0,    0,    0,    0,    0,    0,    0,    0,    0,\n",
       "          0,    0,    0,    0,    0,    0,    0,    0,    0,    0,    0,\n",
       "          0,    0,    0,    0,    0,    0,    0,    0,    0,    0,    0,\n",
       "          0,    0,    0,    0,    0,    0,    0,    0,    0,    0,    0,\n",
       "          0,    0,    0,    0,    0,    0,    0,    0,    0,    0,    0,\n",
       "          0,    0,    0,    0,    0])"
      ]
     },
     "execution_count": 19,
     "metadata": {},
     "output_type": "execute_result"
    }
   ],
   "source": [
    "# Use this cell to examine one of the processed reviews to make sure everything is working as intended.\n",
    "train_X[100]"
   ]
  },
  {
   "cell_type": "code",
   "execution_count": 20,
   "metadata": {},
   "outputs": [
    {
     "name": "stdout",
     "output_type": "stream",
     "text": [
      "312\n",
      "478\n",
      "69\n",
      "81\n",
      "63\n",
      "184\n",
      "49\n",
      "256\n",
      "93\n",
      "26\n",
      "69\n",
      "104\n",
      "121\n",
      "37\n",
      "126\n",
      "207\n",
      "133\n",
      "105\n",
      "152\n",
      "109\n",
      "90\n",
      "84\n",
      "172\n",
      "150\n",
      "51\n"
     ]
    }
   ],
   "source": [
    "rand_inds = np.random.randint(2500, size=25)\n",
    "\n",
    "for i in range(len(rand_inds)):\n",
    "    inx = rand_inds[i]\n",
    "    print(np.count_nonzero(train_X[inx]))"
   ]
  },
  {
   "cell_type": "markdown",
   "metadata": {},
   "source": [
    "**Question:** In the cells above we use the `preprocess_data` and `convert_and_pad_data` methods to process both the training and testing set. Why or why not might this be a problem?"
   ]
  },
  {
   "cell_type": "markdown",
   "metadata": {},
   "source": [
    "**Answer:**\n",
    "\n",
    "For representing any scentence we have selected 5000 to be the size of our vocabulary (The dimension of the representation.) We do not know to what extend this number is reasonable or not. Maybe there are some infrequent words that hold information whose nuber of getting repeated is less than 5000. In other hand, maybe 5000 is too much. This will make the processing of the data harder as the dimension increases. The other thing is that we truncate each scentence to hold just first 500 integers. Maybe this number is not necessarily a good number (after the inspectation that I had for 25 random numbers, I have understood that the length of each review rarely exceed 300 words and are usually less than 200.) This long number of zeros may be problematic for our model."
   ]
  },
  {
   "cell_type": "markdown",
   "metadata": {},
   "source": [
    "## Step 3: Upload the data to S3\n",
    "\n",
    "As in the XGBoost notebook, we will need to upload the training dataset to S3 in order for our training code to access it. For now we will save it locally and we will upload to S3 later on.\n",
    "\n",
    "### Save the processed training dataset locally\n",
    "\n",
    "It is important to note the format of the data that we are saving as we will need to know it when we write the training code. In our case, each row of the dataset has the form `label`, `length`, `review[500]` where `review[500]` is a sequence of `500` integers representing the words in the review."
   ]
  },
  {
   "cell_type": "code",
   "execution_count": 21,
   "metadata": {},
   "outputs": [],
   "source": [
    "import pandas as pd\n",
    "    \n",
    "pd.concat([pd.DataFrame(train_y), pd.DataFrame(train_X_len), pd.DataFrame(train_X)], axis=1) \\\n",
    "        .to_csv(os.path.join(data_dir, 'train.csv'), header=False, index=False)"
   ]
  },
  {
   "cell_type": "markdown",
   "metadata": {},
   "source": [
    "### Uploading the training data\n",
    "\n",
    "\n",
    "Next, we need to upload the training data to the SageMaker default S3 bucket so that we can provide access to it while training our model."
   ]
  },
  {
   "cell_type": "code",
   "execution_count": 22,
   "metadata": {},
   "outputs": [],
   "source": [
    "import sagemaker\n",
    "\n",
    "sagemaker_session = sagemaker.Session()\n",
    "\n",
    "bucket = sagemaker_session.default_bucket()\n",
    "prefix = 'sagemaker/sentiment_rnn'\n",
    "\n",
    "role = sagemaker.get_execution_role()"
   ]
  },
  {
   "cell_type": "code",
   "execution_count": 23,
   "metadata": {},
   "outputs": [],
   "source": [
    "input_data = sagemaker_session.upload_data(path=data_dir, bucket=bucket, key_prefix=prefix)"
   ]
  },
  {
   "cell_type": "markdown",
   "metadata": {},
   "source": [
    "**NOTE:** The cell above uploads the entire contents of our data directory. This includes the `word_dict.pkl` file. This is fortunate as we will need this later on when we create an endpoint that accepts an arbitrary review. For now, we will just take note of the fact that it resides in the data directory (and so also in the S3 training bucket) and that we will need to make sure it gets saved in the model directory."
   ]
  },
  {
   "cell_type": "markdown",
   "metadata": {},
   "source": [
    "## Step 4: Build and Train the PyTorch Model\n",
    "\n",
    "In the XGBoost notebook we discussed what a model is in the SageMaker framework. In particular, a model comprises three objects\n",
    "\n",
    " - Model Artifacts,\n",
    " - Training Code, and\n",
    " - Inference Code,\n",
    " \n",
    "each of which interact with one another. In the XGBoost example we used training and inference code that was provided by Amazon. Here we will still be using containers provided by Amazon with the added benefit of being able to include our own custom code.\n",
    "\n",
    "We will start by implementing our own neural network in PyTorch along with a training script. For the purposes of this project we have provided the necessary model object in the `model.py` file, inside of the `train` folder. You can see the provided implementation by running the cell below."
   ]
  },
  {
   "cell_type": "code",
   "execution_count": 24,
   "metadata": {},
   "outputs": [
    {
     "name": "stdout",
     "output_type": "stream",
     "text": [
      "\u001b[34mimport\u001b[39;49;00m \u001b[04m\u001b[36mtorch.nn\u001b[39;49;00m \u001b[34mas\u001b[39;49;00m \u001b[04m\u001b[36mnn\u001b[39;49;00m\r\n",
      "\r\n",
      "\u001b[34mclass\u001b[39;49;00m \u001b[04m\u001b[32mLSTMClassifier\u001b[39;49;00m(nn.Module):\r\n",
      "    \u001b[33m\"\"\"\u001b[39;49;00m\r\n",
      "\u001b[33m    This is the simple RNN model we will be using to perform Sentiment Analysis.\u001b[39;49;00m\r\n",
      "\u001b[33m    \"\"\"\u001b[39;49;00m\r\n",
      "\r\n",
      "    \u001b[34mdef\u001b[39;49;00m \u001b[32m__init__\u001b[39;49;00m(\u001b[36mself\u001b[39;49;00m, embedding_dim, hidden_dim, vocab_size):\r\n",
      "        \u001b[33m\"\"\"\u001b[39;49;00m\r\n",
      "\u001b[33m        Initialize the model by settingg up the various layers.\u001b[39;49;00m\r\n",
      "\u001b[33m        \"\"\"\u001b[39;49;00m\r\n",
      "        \u001b[36msuper\u001b[39;49;00m(LSTMClassifier, \u001b[36mself\u001b[39;49;00m).\u001b[32m__init__\u001b[39;49;00m()\r\n",
      "\r\n",
      "        \u001b[36mself\u001b[39;49;00m.embedding = nn.Embedding(vocab_size, embedding_dim, padding_idx=\u001b[34m0\u001b[39;49;00m)\r\n",
      "        \u001b[36mself\u001b[39;49;00m.lstm = nn.LSTM(embedding_dim, hidden_dim)\r\n",
      "        \u001b[36mself\u001b[39;49;00m.dense = nn.Linear(in_features=hidden_dim, out_features=\u001b[34m1\u001b[39;49;00m)\r\n",
      "        \u001b[36mself\u001b[39;49;00m.sig = nn.Sigmoid()\r\n",
      "        \r\n",
      "        \u001b[36mself\u001b[39;49;00m.word_dict = \u001b[36mNone\u001b[39;49;00m\r\n",
      "\r\n",
      "    \u001b[34mdef\u001b[39;49;00m \u001b[32mforward\u001b[39;49;00m(\u001b[36mself\u001b[39;49;00m, x):\r\n",
      "        \u001b[33m\"\"\"\u001b[39;49;00m\r\n",
      "\u001b[33m        Perform a forward pass of our model on some input.\u001b[39;49;00m\r\n",
      "\u001b[33m        \"\"\"\u001b[39;49;00m\r\n",
      "        x = x.t()\r\n",
      "        lengths = x[\u001b[34m0\u001b[39;49;00m,:]\r\n",
      "        reviews = x[\u001b[34m1\u001b[39;49;00m:,:]\r\n",
      "        embeds = \u001b[36mself\u001b[39;49;00m.embedding(reviews)\r\n",
      "        lstm_out, _ = \u001b[36mself\u001b[39;49;00m.lstm(embeds)\r\n",
      "        out = \u001b[36mself\u001b[39;49;00m.dense(lstm_out)\r\n",
      "        out = out[lengths - \u001b[34m1\u001b[39;49;00m, \u001b[36mrange\u001b[39;49;00m(\u001b[36mlen\u001b[39;49;00m(lengths))]\r\n",
      "        \u001b[34mreturn\u001b[39;49;00m \u001b[36mself\u001b[39;49;00m.sig(out.squeeze())\r\n"
     ]
    }
   ],
   "source": [
    "!pygmentize train/model.py"
   ]
  },
  {
   "cell_type": "markdown",
   "metadata": {},
   "source": [
    "The important takeaway from the implementation provided is that there are three parameters that we may wish to tweak to improve the performance of our model. These are the embedding dimension, the hidden dimension and the size of the vocabulary. We will likely want to make these parameters configurable in the training script so that if we wish to modify them we do not need to modify the script itself. We will see how to do this later on. To start we will write some of the training code in the notebook so that we can more easily diagnose any issues that arise.\n",
    "\n",
    "First we will load a small portion of the training data set to use as a sample. It would be very time consuming to try and train the model completely in the notebook as we do not have access to a gpu and the compute instance that we are using is not particularly powerful. However, we can work on a small bit of the data to get a feel for how our training script is behaving."
   ]
  },
  {
   "cell_type": "code",
   "execution_count": 25,
   "metadata": {},
   "outputs": [],
   "source": [
    "import torch\n",
    "import torch.utils.data\n",
    "\n",
    "# Read in only the first 250 rows\n",
    "train_sample = pd.read_csv(os.path.join(data_dir, 'train.csv'), header=None, names=None, nrows=250)\n",
    "\n",
    "# Turn the input pandas dataframe into tensors\n",
    "train_sample_y = torch.from_numpy(train_sample[[0]].values).float().squeeze()\n",
    "train_sample_X = torch.from_numpy(train_sample.drop([0], axis=1).values).long()\n",
    "\n",
    "# Build the dataset\n",
    "train_sample_ds = torch.utils.data.TensorDataset(train_sample_X, train_sample_y)\n",
    "# Build the dataloader\n",
    "train_sample_dl = torch.utils.data.DataLoader(train_sample_ds, batch_size=50)"
   ]
  },
  {
   "cell_type": "markdown",
   "metadata": {},
   "source": [
    "### (TODO) Writing the training method\n",
    "\n",
    "Next we need to write the training code itself. This should be very similar to training methods that you have written before to train PyTorch models. We will leave any difficult aspects such as model saving / loading and parameter loading until a little later."
   ]
  },
  {
   "cell_type": "code",
   "execution_count": 26,
   "metadata": {},
   "outputs": [],
   "source": [
    "def train(model, train_loader, epochs, optimizer, loss_fn, device):\n",
    "    for epoch in range(1, epochs + 1):\n",
    "        model.train()\n",
    "        total_loss = 0\n",
    "        for batch in train_loader:         \n",
    "            batch_X, batch_y = batch\n",
    "            \n",
    "            batch_X = batch_X.to(device)\n",
    "            batch_y = batch_y.to(device)\n",
    "            \n",
    "            # TODO: Complete this train method to train the model provided.\n",
    "            model.zero_grad()\n",
    "            output = model(batch_X)\n",
    "            \n",
    "            loss = loss_fn(output.squeeze(), batch_y.float())\n",
    "            loss.backward()\n",
    "            \n",
    "            optimizer.step()\n",
    "            \n",
    "            total_loss += loss.data.item()\n",
    "        print(\"Epoch: {}, BCELoss: {}\".format(epoch, total_loss / len(train_loader)))"
   ]
  },
  {
   "cell_type": "markdown",
   "metadata": {},
   "source": [
    "Supposing we have the training method above, we will test that it is working by writing a bit of code in the notebook that executes our training method on the small sample training set that we loaded earlier. The reason for doing this in the notebook is so that we have an opportunity to fix any errors that arise early when they are easier to diagnose."
   ]
  },
  {
   "cell_type": "code",
   "execution_count": 27,
   "metadata": {},
   "outputs": [
    {
     "name": "stdout",
     "output_type": "stream",
     "text": [
      "Epoch: 1, BCELoss: 0.6945773720741272\n",
      "Epoch: 2, BCELoss: 0.6857074856758117\n",
      "Epoch: 3, BCELoss: 0.6780340552330018\n",
      "Epoch: 4, BCELoss: 0.6695146560668945\n",
      "Epoch: 5, BCELoss: 0.6589393973350525\n"
     ]
    }
   ],
   "source": [
    "import torch.optim as optim\n",
    "from train.model import LSTMClassifier\n",
    "\n",
    "device = torch.device(\"cuda\" if torch.cuda.is_available() else \"cpu\")\n",
    "model = LSTMClassifier(32, 100, 5000).to(device)\n",
    "optimizer = optim.Adam(model.parameters())\n",
    "loss_fn = torch.nn.BCELoss()\n",
    "\n",
    "train(model, train_sample_dl, 5, optimizer, loss_fn, device)"
   ]
  },
  {
   "cell_type": "markdown",
   "metadata": {},
   "source": [
    "In order to construct a PyTorch model using SageMaker we must provide SageMaker with a training script. We may optionally include a directory which will be copied to the container and from which our training code will be run. When the training container is executed it will check the uploaded directory (if there is one) for a `requirements.txt` file and install any required Python libraries, after which the training script will be run."
   ]
  },
  {
   "cell_type": "markdown",
   "metadata": {},
   "source": [
    "### (TODO) Training the model\n",
    "\n",
    "When a PyTorch model is constructed in SageMaker, an entry point must be specified. This is the Python file which will be executed when the model is trained. Inside of the `train` directory is a file called `train.py` which has been provided and which contains most of the necessary code to train our model. The only thing that is missing is the implementation of the `train()` method which you wrote earlier in this notebook.\n",
    "\n",
    "**TODO**: Copy the `train()` method written above and paste it into the `train/train.py` file where required.\n",
    "\n",
    "The way that SageMaker passes hyperparameters to the training script is by way of arguments. These arguments can then be parsed and used in the training script. To see how this is done take a look at the provided `train/train.py` file."
   ]
  },
  {
   "cell_type": "code",
   "execution_count": 28,
   "metadata": {},
   "outputs": [],
   "source": [
    "from sagemaker.pytorch import PyTorch\n",
    "\n",
    "estimator = PyTorch(entry_point=\"train.py\",\n",
    "                    source_dir=\"train\",\n",
    "                    role=role,\n",
    "                    framework_version='0.4.0',\n",
    "                    train_instance_count=1,\n",
    "                    train_instance_type='ml.p2.xlarge',\n",
    "                    hyperparameters={\n",
    "                        'epochs': 10,\n",
    "                        'hidden_dim': 200,\n",
    "                    })"
   ]
  },
  {
   "cell_type": "code",
   "execution_count": 29,
   "metadata": {},
   "outputs": [
    {
     "name": "stderr",
     "output_type": "stream",
     "text": [
      "INFO:sagemaker:Creating training-job with name: sagemaker-pytorch-2019-04-27-10-04-28-430\n"
     ]
    },
    {
     "ename": "ResourceLimitExceeded",
     "evalue": "An error occurred (ResourceLimitExceeded) when calling the CreateTrainingJob operation: The account-level service limit 'ml.p2.xlarge for training job usage' is 0 Instances, with current utilization of 0 Instances and a request delta of 1 Instances. Please contact AWS support to request an increase for this limit.",
     "output_type": "error",
     "traceback": [
      "\u001b[0;31m---------------------------------------------------------------------------\u001b[0m",
      "\u001b[0;31mResourceLimitExceeded\u001b[0m                     Traceback (most recent call last)",
      "\u001b[0;32m<ipython-input-29-0e8223086435>\u001b[0m in \u001b[0;36m<module>\u001b[0;34m()\u001b[0m\n\u001b[0;32m----> 1\u001b[0;31m \u001b[0mestimator\u001b[0m\u001b[0;34m.\u001b[0m\u001b[0mfit\u001b[0m\u001b[0;34m(\u001b[0m\u001b[0;34m{\u001b[0m\u001b[0;34m'training'\u001b[0m\u001b[0;34m:\u001b[0m \u001b[0minput_data\u001b[0m\u001b[0;34m}\u001b[0m\u001b[0;34m)\u001b[0m\u001b[0;34m\u001b[0m\u001b[0m\n\u001b[0m",
      "\u001b[0;32m~/anaconda3/envs/pytorch_p36/lib/python3.6/site-packages/sagemaker/estimator.py\u001b[0m in \u001b[0;36mfit\u001b[0;34m(self, inputs, wait, logs, job_name)\u001b[0m\n\u001b[1;32m    232\u001b[0m         \u001b[0mself\u001b[0m\u001b[0;34m.\u001b[0m\u001b[0m_prepare_for_training\u001b[0m\u001b[0;34m(\u001b[0m\u001b[0mjob_name\u001b[0m\u001b[0;34m=\u001b[0m\u001b[0mjob_name\u001b[0m\u001b[0;34m)\u001b[0m\u001b[0;34m\u001b[0m\u001b[0m\n\u001b[1;32m    233\u001b[0m \u001b[0;34m\u001b[0m\u001b[0m\n\u001b[0;32m--> 234\u001b[0;31m         \u001b[0mself\u001b[0m\u001b[0;34m.\u001b[0m\u001b[0mlatest_training_job\u001b[0m \u001b[0;34m=\u001b[0m \u001b[0m_TrainingJob\u001b[0m\u001b[0;34m.\u001b[0m\u001b[0mstart_new\u001b[0m\u001b[0;34m(\u001b[0m\u001b[0mself\u001b[0m\u001b[0;34m,\u001b[0m \u001b[0minputs\u001b[0m\u001b[0;34m)\u001b[0m\u001b[0;34m\u001b[0m\u001b[0m\n\u001b[0m\u001b[1;32m    235\u001b[0m         \u001b[0;32mif\u001b[0m \u001b[0mwait\u001b[0m\u001b[0;34m:\u001b[0m\u001b[0;34m\u001b[0m\u001b[0m\n\u001b[1;32m    236\u001b[0m             \u001b[0mself\u001b[0m\u001b[0;34m.\u001b[0m\u001b[0mlatest_training_job\u001b[0m\u001b[0;34m.\u001b[0m\u001b[0mwait\u001b[0m\u001b[0;34m(\u001b[0m\u001b[0mlogs\u001b[0m\u001b[0;34m=\u001b[0m\u001b[0mlogs\u001b[0m\u001b[0;34m)\u001b[0m\u001b[0;34m\u001b[0m\u001b[0m\n",
      "\u001b[0;32m~/anaconda3/envs/pytorch_p36/lib/python3.6/site-packages/sagemaker/estimator.py\u001b[0m in \u001b[0;36mstart_new\u001b[0;34m(cls, estimator, inputs)\u001b[0m\n\u001b[1;32m    581\u001b[0m             \u001b[0mtrain_args\u001b[0m\u001b[0;34m[\u001b[0m\u001b[0;34m'image'\u001b[0m\u001b[0;34m]\u001b[0m \u001b[0;34m=\u001b[0m \u001b[0mestimator\u001b[0m\u001b[0;34m.\u001b[0m\u001b[0mtrain_image\u001b[0m\u001b[0;34m(\u001b[0m\u001b[0;34m)\u001b[0m\u001b[0;34m\u001b[0m\u001b[0m\n\u001b[1;32m    582\u001b[0m \u001b[0;34m\u001b[0m\u001b[0m\n\u001b[0;32m--> 583\u001b[0;31m         \u001b[0mestimator\u001b[0m\u001b[0;34m.\u001b[0m\u001b[0msagemaker_session\u001b[0m\u001b[0;34m.\u001b[0m\u001b[0mtrain\u001b[0m\u001b[0;34m(\u001b[0m\u001b[0;34m**\u001b[0m\u001b[0mtrain_args\u001b[0m\u001b[0;34m)\u001b[0m\u001b[0;34m\u001b[0m\u001b[0m\n\u001b[0m\u001b[1;32m    584\u001b[0m \u001b[0;34m\u001b[0m\u001b[0m\n\u001b[1;32m    585\u001b[0m         \u001b[0;32mreturn\u001b[0m \u001b[0mcls\u001b[0m\u001b[0;34m(\u001b[0m\u001b[0mestimator\u001b[0m\u001b[0;34m.\u001b[0m\u001b[0msagemaker_session\u001b[0m\u001b[0;34m,\u001b[0m \u001b[0mestimator\u001b[0m\u001b[0;34m.\u001b[0m\u001b[0m_current_job_name\u001b[0m\u001b[0;34m)\u001b[0m\u001b[0;34m\u001b[0m\u001b[0m\n",
      "\u001b[0;32m~/anaconda3/envs/pytorch_p36/lib/python3.6/site-packages/sagemaker/session.py\u001b[0m in \u001b[0;36mtrain\u001b[0;34m(self, input_mode, input_config, role, job_name, output_config, resource_config, vpc_config, hyperparameters, stop_condition, tags, metric_definitions, enable_network_isolation, image, algorithm_arn, encrypt_inter_container_traffic)\u001b[0m\n\u001b[1;32m    318\u001b[0m         \u001b[0mLOGGER\u001b[0m\u001b[0;34m.\u001b[0m\u001b[0minfo\u001b[0m\u001b[0;34m(\u001b[0m\u001b[0;34m'Creating training-job with name: {}'\u001b[0m\u001b[0;34m.\u001b[0m\u001b[0mformat\u001b[0m\u001b[0;34m(\u001b[0m\u001b[0mjob_name\u001b[0m\u001b[0;34m)\u001b[0m\u001b[0;34m)\u001b[0m\u001b[0;34m\u001b[0m\u001b[0m\n\u001b[1;32m    319\u001b[0m         \u001b[0mLOGGER\u001b[0m\u001b[0;34m.\u001b[0m\u001b[0mdebug\u001b[0m\u001b[0;34m(\u001b[0m\u001b[0;34m'train request: {}'\u001b[0m\u001b[0;34m.\u001b[0m\u001b[0mformat\u001b[0m\u001b[0;34m(\u001b[0m\u001b[0mjson\u001b[0m\u001b[0;34m.\u001b[0m\u001b[0mdumps\u001b[0m\u001b[0;34m(\u001b[0m\u001b[0mtrain_request\u001b[0m\u001b[0;34m,\u001b[0m \u001b[0mindent\u001b[0m\u001b[0;34m=\u001b[0m\u001b[0;36m4\u001b[0m\u001b[0;34m)\u001b[0m\u001b[0;34m)\u001b[0m\u001b[0;34m)\u001b[0m\u001b[0;34m\u001b[0m\u001b[0m\n\u001b[0;32m--> 320\u001b[0;31m         \u001b[0mself\u001b[0m\u001b[0;34m.\u001b[0m\u001b[0msagemaker_client\u001b[0m\u001b[0;34m.\u001b[0m\u001b[0mcreate_training_job\u001b[0m\u001b[0;34m(\u001b[0m\u001b[0;34m**\u001b[0m\u001b[0mtrain_request\u001b[0m\u001b[0;34m)\u001b[0m\u001b[0;34m\u001b[0m\u001b[0m\n\u001b[0m\u001b[1;32m    321\u001b[0m \u001b[0;34m\u001b[0m\u001b[0m\n\u001b[1;32m    322\u001b[0m     def compile_model(self, input_model_config, output_model_config, role,\n",
      "\u001b[0;32m~/anaconda3/envs/pytorch_p36/lib/python3.6/site-packages/botocore/client.py\u001b[0m in \u001b[0;36m_api_call\u001b[0;34m(self, *args, **kwargs)\u001b[0m\n\u001b[1;32m    355\u001b[0m                     \"%s() only accepts keyword arguments.\" % py_operation_name)\n\u001b[1;32m    356\u001b[0m             \u001b[0;31m# The \"self\" in this scope is referring to the BaseClient.\u001b[0m\u001b[0;34m\u001b[0m\u001b[0;34m\u001b[0m\u001b[0m\n\u001b[0;32m--> 357\u001b[0;31m             \u001b[0;32mreturn\u001b[0m \u001b[0mself\u001b[0m\u001b[0;34m.\u001b[0m\u001b[0m_make_api_call\u001b[0m\u001b[0;34m(\u001b[0m\u001b[0moperation_name\u001b[0m\u001b[0;34m,\u001b[0m \u001b[0mkwargs\u001b[0m\u001b[0;34m)\u001b[0m\u001b[0;34m\u001b[0m\u001b[0m\n\u001b[0m\u001b[1;32m    358\u001b[0m \u001b[0;34m\u001b[0m\u001b[0m\n\u001b[1;32m    359\u001b[0m         \u001b[0m_api_call\u001b[0m\u001b[0;34m.\u001b[0m\u001b[0m__name__\u001b[0m \u001b[0;34m=\u001b[0m \u001b[0mstr\u001b[0m\u001b[0;34m(\u001b[0m\u001b[0mpy_operation_name\u001b[0m\u001b[0;34m)\u001b[0m\u001b[0;34m\u001b[0m\u001b[0m\n",
      "\u001b[0;32m~/anaconda3/envs/pytorch_p36/lib/python3.6/site-packages/botocore/client.py\u001b[0m in \u001b[0;36m_make_api_call\u001b[0;34m(self, operation_name, api_params)\u001b[0m\n\u001b[1;32m    659\u001b[0m             \u001b[0merror_code\u001b[0m \u001b[0;34m=\u001b[0m \u001b[0mparsed_response\u001b[0m\u001b[0;34m.\u001b[0m\u001b[0mget\u001b[0m\u001b[0;34m(\u001b[0m\u001b[0;34m\"Error\"\u001b[0m\u001b[0;34m,\u001b[0m \u001b[0;34m{\u001b[0m\u001b[0;34m}\u001b[0m\u001b[0;34m)\u001b[0m\u001b[0;34m.\u001b[0m\u001b[0mget\u001b[0m\u001b[0;34m(\u001b[0m\u001b[0;34m\"Code\"\u001b[0m\u001b[0;34m)\u001b[0m\u001b[0;34m\u001b[0m\u001b[0m\n\u001b[1;32m    660\u001b[0m             \u001b[0merror_class\u001b[0m \u001b[0;34m=\u001b[0m \u001b[0mself\u001b[0m\u001b[0;34m.\u001b[0m\u001b[0mexceptions\u001b[0m\u001b[0;34m.\u001b[0m\u001b[0mfrom_code\u001b[0m\u001b[0;34m(\u001b[0m\u001b[0merror_code\u001b[0m\u001b[0;34m)\u001b[0m\u001b[0;34m\u001b[0m\u001b[0m\n\u001b[0;32m--> 661\u001b[0;31m             \u001b[0;32mraise\u001b[0m \u001b[0merror_class\u001b[0m\u001b[0;34m(\u001b[0m\u001b[0mparsed_response\u001b[0m\u001b[0;34m,\u001b[0m \u001b[0moperation_name\u001b[0m\u001b[0;34m)\u001b[0m\u001b[0;34m\u001b[0m\u001b[0m\n\u001b[0m\u001b[1;32m    662\u001b[0m         \u001b[0;32melse\u001b[0m\u001b[0;34m:\u001b[0m\u001b[0;34m\u001b[0m\u001b[0m\n\u001b[1;32m    663\u001b[0m             \u001b[0;32mreturn\u001b[0m \u001b[0mparsed_response\u001b[0m\u001b[0;34m\u001b[0m\u001b[0m\n",
      "\u001b[0;31mResourceLimitExceeded\u001b[0m: An error occurred (ResourceLimitExceeded) when calling the CreateTrainingJob operation: The account-level service limit 'ml.p2.xlarge for training job usage' is 0 Instances, with current utilization of 0 Instances and a request delta of 1 Instances. Please contact AWS support to request an increase for this limit."
     ]
    }
   ],
   "source": [
    "estimator.fit({'training': input_data})"
   ]
  },
  {
   "cell_type": "markdown",
   "metadata": {},
   "source": [
    "## Step 5: Testing the model\n",
    "\n",
    "As mentioned at the top of this notebook, we will be testing this model by first deploying it and then sending the testing data to the deployed endpoint. We will do this so that we can make sure that the deployed model is working correctly.\n",
    "\n",
    "## Step 6: Deploy the model for testing\n",
    "\n",
    "Now that we have trained our model, we would like to test it to see how it performs. Currently our model takes input of the form `review_length, review[500]` where `review[500]` is a sequence of `500` integers which describe the words present in the review, encoded using `word_dict`. Fortunately for us, SageMaker provides built-in inference code for models with simple inputs such as this.\n",
    "\n",
    "There is one thing that we need to provide, however, and that is a function which loads the saved model. This function must be called `model_fn()` and takes as its only parameter a path to the directory where the model artifacts are stored. This function must also be present in the python file which we specified as the entry point. In our case the model loading function has been provided and so no changes need to be made.\n",
    "\n",
    "**NOTE**: When the built-in inference code is run it must import the `model_fn()` method from the `train.py` file. This is why the training code is wrapped in a main guard ( ie, `if __name__ == '__main__':` )\n",
    "\n",
    "Since we don't need to change anything in the code that was uploaded during training, we can simply deploy the current model as-is.\n",
    "\n",
    "**NOTE:** When deploying a model you are asking SageMaker to launch an compute instance that will wait for data to be sent to it. As a result, this compute instance will continue to run until *you* shut it down. This is important to know since the cost of a deployed endpoint depends on how long it has been running for.\n",
    "\n",
    "In other words **If you are no longer using a deployed endpoint, shut it down!**\n",
    "\n",
    "**TODO:** Deploy the trained model."
   ]
  },
  {
   "cell_type": "code",
   "execution_count": null,
   "metadata": {},
   "outputs": [],
   "source": [
    "# TODO: Deploy the trained model"
   ]
  },
  {
   "cell_type": "markdown",
   "metadata": {},
   "source": [
    "## Step 7 - Use the model for testing\n",
    "\n",
    "Once deployed, we can read in the test data and send it off to our deployed model to get some results. Once we collect all of the results we can determine how accurate our model is."
   ]
  },
  {
   "cell_type": "code",
   "execution_count": null,
   "metadata": {},
   "outputs": [],
   "source": [
    "test_X = pd.concat([pd.DataFrame(test_X_len), pd.DataFrame(test_X)], axis=1)"
   ]
  },
  {
   "cell_type": "code",
   "execution_count": null,
   "metadata": {},
   "outputs": [],
   "source": [
    "# We split the data into chunks and send each chunk seperately, accumulating the results.\n",
    "\n",
    "def predict(data, rows=512):\n",
    "    split_array = np.array_split(data, int(data.shape[0] / float(rows) + 1))\n",
    "    predictions = np.array([])\n",
    "    for array in split_array:\n",
    "        predictions = np.append(predictions, predictor.predict(array))\n",
    "    \n",
    "    return predictions"
   ]
  },
  {
   "cell_type": "code",
   "execution_count": null,
   "metadata": {},
   "outputs": [],
   "source": [
    "predictions = predict(test_X.values)\n",
    "predictions = [round(num) for num in predictions]"
   ]
  },
  {
   "cell_type": "code",
   "execution_count": null,
   "metadata": {},
   "outputs": [],
   "source": [
    "from sklearn.metrics import accuracy_score\n",
    "accuracy_score(test_y, predictions)"
   ]
  },
  {
   "cell_type": "markdown",
   "metadata": {},
   "source": [
    "**Question:** How does this model compare to the XGBoost model you created earlier? Why might these two models perform differently on this dataset? Which do *you* think is better for sentiment analysis?"
   ]
  },
  {
   "cell_type": "markdown",
   "metadata": {},
   "source": [
    "**Answer:**"
   ]
  },
  {
   "cell_type": "markdown",
   "metadata": {},
   "source": [
    "### (TODO) More testing\n",
    "\n",
    "We now have a trained model which has been deployed and which we can send processed reviews to and which returns the predicted sentiment. However, ultimately we would like to be able to send our model an unprocessed review. That is, we would like to send the review itself as a string. For example, suppose we wish to send the following review to our model."
   ]
  },
  {
   "cell_type": "code",
   "execution_count": null,
   "metadata": {},
   "outputs": [],
   "source": [
    "test_review = 'The simplest pleasures in life are the best, and this film is one of them. Combining a rather basic storyline of love and adventure this movie transcends the usual weekend fair with wit and unmitigated charm.'"
   ]
  },
  {
   "cell_type": "markdown",
   "metadata": {},
   "source": [
    "The question we now need to answer is, how do we send this review to our model?\n",
    "\n",
    "Recall in the first section of this notebook we did a bunch of data processing to the IMDb dataset. In particular, we did two specific things to the provided reviews.\n",
    " - Removed any html tags and stemmed the input\n",
    " - Encoded the review as a sequence of integers using `word_dict`\n",
    " \n",
    "In order process the review we will need to repeat these two steps.\n",
    "\n",
    "**TODO**: Using the `review_to_words` and `convert_and_pad` methods from section one, convert `test_review` into a numpy array `test_data` suitable to send to our model. Remember that our model expects input of the form `review_length, review[500]`."
   ]
  },
  {
   "cell_type": "code",
   "execution_count": null,
   "metadata": {},
   "outputs": [],
   "source": [
    "# TODO: Convert test_review into a form usable by the model and save the results in test_data\n",
    "test_data = None"
   ]
  },
  {
   "cell_type": "markdown",
   "metadata": {},
   "source": [
    "Now that we have processed the review, we can send the resulting array to our model to predict the sentiment of the review."
   ]
  },
  {
   "cell_type": "code",
   "execution_count": null,
   "metadata": {},
   "outputs": [],
   "source": [
    "predictor.predict(test_data)"
   ]
  },
  {
   "cell_type": "markdown",
   "metadata": {},
   "source": [
    "Since the return value of our model is close to `1`, we can be certain that the review we submitted is positive."
   ]
  },
  {
   "cell_type": "markdown",
   "metadata": {},
   "source": [
    "### Delete the endpoint\n",
    "\n",
    "Of course, just like in the XGBoost notebook, once we've deployed an endpoint it continues to run until we tell it to shut down. Since we are done using our endpoint for now, we can delete it."
   ]
  },
  {
   "cell_type": "code",
   "execution_count": null,
   "metadata": {},
   "outputs": [],
   "source": [
    "estimator.delete_endpoint()"
   ]
  },
  {
   "cell_type": "markdown",
   "metadata": {},
   "source": [
    "## Step 6 (again) - Deploy the model for the web app\n",
    "\n",
    "Now that we know that our model is working, it's time to create some custom inference code so that we can send the model a review which has not been processed and have it determine the sentiment of the review.\n",
    "\n",
    "As we saw above, by default the estimator which we created, when deployed, will use the entry script and directory which we provided when creating the model. However, since we now wish to accept a string as input and our model expects a processed review, we need to write some custom inference code.\n",
    "\n",
    "We will store the code that we write in the `serve` directory. Provided in this directory is the `model.py` file that we used to construct our model, a `utils.py` file which contains the `review_to_words` and `convert_and_pad` pre-processing functions which we used during the initial data processing, and `predict.py`, the file which will contain our custom inference code. Note also that `requirements.txt` is present which will tell SageMaker what Python libraries are required by our custom inference code.\n",
    "\n",
    "When deploying a PyTorch model in SageMaker, you are expected to provide four functions which the SageMaker inference container will use.\n",
    " - `model_fn`: This function is the same function that we used in the training script and it tells SageMaker how to load our model.\n",
    " - `input_fn`: This function receives the raw serialized input that has been sent to the model's endpoint and its job is to de-serialize and make the input available for the inference code.\n",
    " - `output_fn`: This function takes the output of the inference code and its job is to serialize this output and return it to the caller of the model's endpoint.\n",
    " - `predict_fn`: The heart of the inference script, this is where the actual prediction is done and is the function which you will need to complete.\n",
    "\n",
    "For the simple website that we are constructing during this project, the `input_fn` and `output_fn` methods are relatively straightforward. We only require being able to accept a string as input and we expect to return a single value as output. You might imagine though that in a more complex application the input or output may be image data or some other binary data which would require some effort to serialize.\n",
    "\n",
    "### (TODO) Writing inference code\n",
    "\n",
    "Before writing our custom inference code, we will begin by taking a look at the code which has been provided."
   ]
  },
  {
   "cell_type": "code",
   "execution_count": null,
   "metadata": {},
   "outputs": [],
   "source": [
    "!pygmentize serve/predict.py"
   ]
  },
  {
   "cell_type": "markdown",
   "metadata": {},
   "source": [
    "As mentioned earlier, the `model_fn` method is the same as the one provided in the training code and the `input_fn` and `output_fn` methods are very simple and your task will be to complete the `predict_fn` method. Make sure that you save the completed file as `predict.py` in the `serve` directory.\n",
    "\n",
    "**TODO**: Complete the `predict_fn()` method in the `serve/predict.py` file."
   ]
  },
  {
   "cell_type": "markdown",
   "metadata": {},
   "source": [
    "### Deploying the model\n",
    "\n",
    "Now that the custom inference code has been written, we will create and deploy our model. To begin with, we need to construct a new PyTorchModel object which points to the model artifacts created during training and also points to the inference code that we wish to use. Then we can call the deploy method to launch the deployment container.\n",
    "\n",
    "**NOTE**: The default behaviour for a deployed PyTorch model is to assume that any input passed to the predictor is a `numpy` array. In our case we want to send a string so we need to construct a simple wrapper around the `RealTimePredictor` class to accomodate simple strings. In a more complicated situation you may want to provide a serialization object, for example if you wanted to sent image data."
   ]
  },
  {
   "cell_type": "code",
   "execution_count": null,
   "metadata": {},
   "outputs": [],
   "source": [
    "from sagemaker.predictor import RealTimePredictor\n",
    "from sagemaker.pytorch import PyTorchModel\n",
    "\n",
    "class StringPredictor(RealTimePredictor):\n",
    "    def __init__(self, endpoint_name, sagemaker_session):\n",
    "        super(StringPredictor, self).__init__(endpoint_name, sagemaker_session, content_type='text/plain')\n",
    "\n",
    "model = PyTorchModel(model_data=estimator.model_data,\n",
    "                     role = role,\n",
    "                     framework_version='0.4.0',\n",
    "                     entry_point='predict.py',\n",
    "                     source_dir='serve',\n",
    "                     predictor_cls=StringPredictor)\n",
    "predictor = model.deploy(initial_instance_count=1, instance_type='ml.m4.xlarge')"
   ]
  },
  {
   "cell_type": "markdown",
   "metadata": {},
   "source": [
    "### Testing the model\n",
    "\n",
    "Now that we have deployed our model with the custom inference code, we should test to see if everything is working. Here we test our model by loading the first `250` positive and negative reviews and send them to the endpoint, then collect the results. The reason for only sending some of the data is that the amount of time it takes for our model to process the input and then perform inference is quite long and so testing the entire data set would be prohibitive."
   ]
  },
  {
   "cell_type": "code",
   "execution_count": null,
   "metadata": {},
   "outputs": [],
   "source": [
    "import glob\n",
    "\n",
    "def test_reviews(data_dir='../data/aclImdb', stop=250):\n",
    "    \n",
    "    results = []\n",
    "    ground = []\n",
    "    \n",
    "    # We make sure to test both positive and negative reviews    \n",
    "    for sentiment in ['pos', 'neg']:\n",
    "        \n",
    "        path = os.path.join(data_dir, 'test', sentiment, '*.txt')\n",
    "        files = glob.glob(path)\n",
    "        \n",
    "        files_read = 0\n",
    "        \n",
    "        print('Starting ', sentiment, ' files')\n",
    "        \n",
    "        # Iterate through the files and send them to the predictor\n",
    "        for f in files:\n",
    "            with open(f) as review:\n",
    "                # First, we store the ground truth (was the review positive or negative)\n",
    "                if sentiment == 'pos':\n",
    "                    ground.append(1)\n",
    "                else:\n",
    "                    ground.append(0)\n",
    "                # Read in the review and convert to 'utf-8' for transmission via HTTP\n",
    "                review_input = review.read().encode('utf-8')\n",
    "                # Send the review to the predictor and store the results\n",
    "                results.append(int(predictor.predict(review_input)))\n",
    "                \n",
    "            # Sending reviews to our endpoint one at a time takes a while so we\n",
    "            # only send a small number of reviews\n",
    "            files_read += 1\n",
    "            if files_read == stop:\n",
    "                break\n",
    "            \n",
    "    return ground, results"
   ]
  },
  {
   "cell_type": "code",
   "execution_count": null,
   "metadata": {},
   "outputs": [],
   "source": [
    "ground, results = test_reviews()"
   ]
  },
  {
   "cell_type": "code",
   "execution_count": null,
   "metadata": {},
   "outputs": [],
   "source": [
    "from sklearn.metrics import accuracy_score\n",
    "accuracy_score(ground, results)"
   ]
  },
  {
   "cell_type": "markdown",
   "metadata": {},
   "source": [
    "As an additional test, we can try sending the `test_review` that we looked at earlier."
   ]
  },
  {
   "cell_type": "code",
   "execution_count": null,
   "metadata": {},
   "outputs": [],
   "source": [
    "predictor.predict(test_review)"
   ]
  },
  {
   "cell_type": "markdown",
   "metadata": {},
   "source": [
    "Now that we know our endpoint is working as expected, we can set up the web page that will interact with it. If you don't have time to finish the project now, make sure to skip down to the end of this notebook and shut down your endpoint. You can deploy it again when you come back."
   ]
  },
  {
   "cell_type": "markdown",
   "metadata": {},
   "source": [
    "## Step 7 (again): Use the model for the web app\n",
    "\n",
    "> **TODO:** This entire section and the next contain tasks for you to complete, mostly using the AWS console.\n",
    "\n",
    "So far we have been accessing our model endpoint by constructing a predictor object which uses the endpoint and then just using the predictor object to perform inference. What if we wanted to create a web app which accessed our model? The way things are set up currently makes that not possible since in order to access a SageMaker endpoint the app would first have to authenticate with AWS using an IAM role which included access to SageMaker endpoints. However, there is an easier way! We just need to use some additional AWS services.\n",
    "\n",
    "<img src=\"Web App Diagram.svg\">\n",
    "\n",
    "The diagram above gives an overview of how the various services will work together. On the far right is the model which we trained above and which is deployed using SageMaker. On the far left is our web app that collects a user's movie review, sends it off and expects a positive or negative sentiment in return.\n",
    "\n",
    "In the middle is where some of the magic happens. We will construct a Lambda function, which you can think of as a straightforward Python function that can be executed whenever a specified event occurs. We will give this function permission to send and recieve data from a SageMaker endpoint.\n",
    "\n",
    "Lastly, the method we will use to execute the Lambda function is a new endpoint that we will create using API Gateway. This endpoint will be a url that listens for data to be sent to it. Once it gets some data it will pass that data on to the Lambda function and then return whatever the Lambda function returns. Essentially it will act as an interface that lets our web app communicate with the Lambda function.\n",
    "\n",
    "### Setting up a Lambda function\n",
    "\n",
    "The first thing we are going to do is set up a Lambda function. This Lambda function will be executed whenever our public API has data sent to it. When it is executed it will receive the data, perform any sort of processing that is required, send the data (the review) to the SageMaker endpoint we've created and then return the result.\n",
    "\n",
    "#### Part A: Create an IAM Role for the Lambda function\n",
    "\n",
    "Since we want the Lambda function to call a SageMaker endpoint, we need to make sure that it has permission to do so. To do this, we will construct a role that we can later give the Lambda function.\n",
    "\n",
    "Using the AWS Console, navigate to the **IAM** page and click on **Roles**. Then, click on **Create role**. Make sure that the **AWS service** is the type of trusted entity selected and choose **Lambda** as the service that will use this role, then click **Next: Permissions**.\n",
    "\n",
    "In the search box type `sagemaker` and select the check box next to the **AmazonSageMakerFullAccess** policy. Then, click on **Next: Review**.\n",
    "\n",
    "Lastly, give this role a name. Make sure you use a name that you will remember later on, for example `LambdaSageMakerRole`. Then, click on **Create role**.\n",
    "\n",
    "#### Part B: Create a Lambda function\n",
    "\n",
    "Now it is time to actually create the Lambda function.\n",
    "\n",
    "Using the AWS Console, navigate to the AWS Lambda page and click on **Create a function**. When you get to the next page, make sure that **Author from scratch** is selected. Now, name your Lambda function, using a name that you will remember later on, for example `sentiment_analysis_func`. Make sure that the **Python 3.6** runtime is selected and then choose the role that you created in the previous part. Then, click on **Create Function**.\n",
    "\n",
    "On the next page you will see some information about the Lambda function you've just created. If you scroll down you should see an editor in which you can write the code that will be executed when your Lambda function is triggered. In our example, we will use the code below. \n",
    "\n",
    "```python\n",
    "# We need to use the low-level library to interact with SageMaker since the SageMaker API\n",
    "# is not available natively through Lambda.\n",
    "import boto3\n",
    "\n",
    "def lambda_handler(event, context):\n",
    "\n",
    "    # The SageMaker runtime is what allows us to invoke the endpoint that we've created.\n",
    "    runtime = boto3.Session().client('sagemaker-runtime')\n",
    "\n",
    "    # Now we use the SageMaker runtime to invoke our endpoint, sending the review we were given\n",
    "    response = runtime.invoke_endpoint(EndpointName = '**ENDPOINT NAME HERE**',    # The name of the endpoint we created\n",
    "                                       ContentType = 'text/plain',                 # The data format that is expected\n",
    "                                       Body = event['body'])                       # The actual review\n",
    "\n",
    "    # The response is an HTTP response whose body contains the result of our inference\n",
    "    result = response['Body'].read().decode('utf-8')\n",
    "\n",
    "    return {\n",
    "        'statusCode' : 200,\n",
    "        'headers' : { 'Content-Type' : 'text/plain', 'Access-Control-Allow-Origin' : '*' },\n",
    "        'body' : result\n",
    "    }\n",
    "```\n",
    "\n",
    "Once you have copy and pasted the code above into the Lambda code editor, replace the `**ENDPOINT NAME HERE**` portion with the name of the endpoint that we deployed earlier. You can determine the name of the endpoint using the code cell below."
   ]
  },
  {
   "cell_type": "code",
   "execution_count": null,
   "metadata": {},
   "outputs": [],
   "source": [
    "predictor.endpoint"
   ]
  },
  {
   "cell_type": "markdown",
   "metadata": {},
   "source": [
    "Once you have added the endpoint name to the Lambda function, click on **Save**. Your Lambda function is now up and running. Next we need to create a way for our web app to execute the Lambda function.\n",
    "\n",
    "### Setting up API Gateway\n",
    "\n",
    "Now that our Lambda function is set up, it is time to create a new API using API Gateway that will trigger the Lambda function we have just created.\n",
    "\n",
    "Using AWS Console, navigate to **Amazon API Gateway** and then click on **Get started**.\n",
    "\n",
    "On the next page, make sure that **New API** is selected and give the new api a name, for example, `sentiment_analysis_api`. Then, click on **Create API**.\n",
    "\n",
    "Now we have created an API, however it doesn't currently do anything. What we want it to do is to trigger the Lambda function that we created earlier.\n",
    "\n",
    "Select the **Actions** dropdown menu and click **Create Method**. A new blank method will be created, select its dropdown menu and select **POST**, then click on the check mark beside it.\n",
    "\n",
    "For the integration point, make sure that **Lambda Function** is selected and click on the **Use Lambda Proxy integration**. This option makes sure that the data that is sent to the API is then sent directly to the Lambda function with no processing. It also means that the return value must be a proper response object as it will also not be processed by API Gateway.\n",
    "\n",
    "Type the name of the Lambda function you created earlier into the **Lambda Function** text entry box and then click on **Save**. Click on **OK** in the pop-up box that then appears, giving permission to API Gateway to invoke the Lambda function you created.\n",
    "\n",
    "The last step in creating the API Gateway is to select the **Actions** dropdown and click on **Deploy API**. You will need to create a new Deployment stage and name it anything you like, for example `prod`.\n",
    "\n",
    "You have now successfully set up a public API to access your SageMaker model. Make sure to copy or write down the URL provided to invoke your newly created public API as this will be needed in the next step. This URL can be found at the top of the page, highlighted in blue next to the text **Invoke URL**."
   ]
  },
  {
   "cell_type": "markdown",
   "metadata": {},
   "source": [
    "## Step 4: Deploying our web app\n",
    "\n",
    "Now that we have a publicly available API, we can start using it in a web app. For our purposes, we have provided a simple static html file which can make use of the public api you created earlier.\n",
    "\n",
    "In the `website` folder there should be a file called `index.html`. Download the file to your computer and open that file up in a text editor of your choice. There should be a line which contains **\\*\\*REPLACE WITH PUBLIC API URL\\*\\***. Replace this string with the url that you wrote down in the last step and then save the file.\n",
    "\n",
    "Now, if you open `index.html` on your local computer, your browser will behave as a local web server and you can use the provided site to interact with your SageMaker model.\n",
    "\n",
    "If you'd like to go further, you can host this html file anywhere you'd like, for example using github or hosting a static site on Amazon's S3. Once you have done this you can share the link with anyone you'd like and have them play with it too!\n",
    "\n",
    "> **Important Note** In order for the web app to communicate with the SageMaker endpoint, the endpoint has to actually be deployed and running. This means that you are paying for it. Make sure that the endpoint is running when you want to use the web app but that you shut it down when you don't need it, otherwise you will end up with a surprisingly large AWS bill.\n",
    "\n",
    "**TODO:** Make sure that you include the edited `index.html` file in your project submission."
   ]
  },
  {
   "cell_type": "markdown",
   "metadata": {},
   "source": [
    "Now that your web app is working, trying playing around with it and see how well it works.\n",
    "\n",
    "**Question**: Give an example of a review that you entered into your web app. What was the predicted sentiment of your example review?"
   ]
  },
  {
   "cell_type": "markdown",
   "metadata": {},
   "source": [
    "**Answer:**"
   ]
  },
  {
   "cell_type": "markdown",
   "metadata": {},
   "source": [
    "### Delete the endpoint\n",
    "\n",
    "Remember to always shut down your endpoint if you are no longer using it. You are charged for the length of time that the endpoint is running so if you forget and leave it on you could end up with an unexpectedly large bill."
   ]
  },
  {
   "cell_type": "code",
   "execution_count": null,
   "metadata": {},
   "outputs": [],
   "source": [
    "predictor.delete_endpoint()"
   ]
  },
  {
   "cell_type": "code",
   "execution_count": null,
   "metadata": {},
   "outputs": [],
   "source": []
  }
 ],
 "metadata": {
  "kernelspec": {
   "display_name": "conda_pytorch_p36",
   "language": "python",
   "name": "conda_pytorch_p36"
  },
  "language_info": {
   "codemirror_mode": {
    "name": "ipython",
    "version": 3
   },
   "file_extension": ".py",
   "mimetype": "text/x-python",
   "name": "python",
   "nbconvert_exporter": "python",
   "pygments_lexer": "ipython3",
   "version": "3.6.5"
  }
 },
 "nbformat": 4,
 "nbformat_minor": 2
}
