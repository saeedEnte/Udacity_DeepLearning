{
 "cells": [
  {
   "cell_type": "markdown",
   "metadata": {},
   "source": [
    "# Creating a Sentiment Analysis Web App\n",
    "## Using PyTorch and SageMaker\n",
    "\n",
    "_Deep Learning Nanodegree Program | Deployment_\n",
    "\n",
    "---\n",
    "\n",
    "Now that we have a basic understanding of how SageMaker works we will try to use it to construct a complete project from end to end. Our goal will be to have a simple web page which a user can use to enter a movie review. The web page will then send the review off to our deployed model which will predict the sentiment of the entered review.\n",
    "\n",
    "## Instructions\n",
    "\n",
    "Some template code has already been provided for you, and you will need to implement additional functionality to successfully complete this notebook. You will not need to modify the included code beyond what is requested. Sections that begin with '**TODO**' in the header indicate that you need to complete or implement some portion within them. Instructions will be provided for each section and the specifics of the implementation are marked in the code block with a `# TODO: ...` comment. Please be sure to read the instructions carefully!\n",
    "\n",
    "In addition to implementing code, there will be questions for you to answer which relate to the task and your implementation. Each section where you will answer a question is preceded by a '**Question:**' header. Carefully read each question and provide your answer below the '**Answer:**' header by editing the Markdown cell.\n",
    "\n",
    "> **Note**: Code and Markdown cells can be executed using the **Shift+Enter** keyboard shortcut. In addition, a cell can be edited by typically clicking it (double-click for Markdown cells) or by pressing **Enter** while it is highlighted.\n",
    "\n",
    "## General Outline\n",
    "\n",
    "Recall the general outline for SageMaker projects using a notebook instance.\n",
    "\n",
    "1. Download or otherwise retrieve the data.\n",
    "2. Process / Prepare the data.\n",
    "3. Upload the processed data to S3.\n",
    "4. Train a chosen model.\n",
    "5. Test the trained model (typically using a batch transform job).\n",
    "6. Deploy the trained model.\n",
    "7. Use the deployed model.\n",
    "\n",
    "For this project, you will be following the steps in the general outline with some modifications. \n",
    "\n",
    "First, you will not be testing the model in its own step. You will still be testing the model, however, you will do it by deploying your model and then using the deployed model by sending the test data to it. One of the reasons for doing this is so that you can make sure that your deployed model is working correctly before moving forward.\n",
    "\n",
    "In addition, you will deploy and use your trained model a second time. In the second iteration you will customize the way that your trained model is deployed by including some of your own code. In addition, your newly deployed model will be used in the sentiment analysis web app."
   ]
  },
  {
   "cell_type": "markdown",
   "metadata": {},
   "source": [
    "## Step 1: Downloading the data\n",
    "\n",
    "As in the XGBoost in SageMaker notebook, we will be using the [IMDb dataset](http://ai.stanford.edu/~amaas/data/sentiment/)\n",
    "\n",
    "> Maas, Andrew L., et al. [Learning Word Vectors for Sentiment Analysis](http://ai.stanford.edu/~amaas/data/sentiment/). In _Proceedings of the 49th Annual Meeting of the Association for Computational Linguistics: Human Language Technologies_. Association for Computational Linguistics, 2011."
   ]
  },
  {
   "cell_type": "code",
   "execution_count": 1,
   "metadata": {},
   "outputs": [
    {
     "name": "stdout",
     "output_type": "stream",
     "text": [
      "--2019-05-12 10:03:52--  http://ai.stanford.edu/~amaas/data/sentiment/aclImdb_v1.tar.gz\n",
      "Resolving ai.stanford.edu (ai.stanford.edu)... 171.64.68.10\n",
      "Connecting to ai.stanford.edu (ai.stanford.edu)|171.64.68.10|:80... connected.\n",
      "HTTP request sent, awaiting response... 200 OK\n",
      "Length: 84125825 (80M) [application/x-gzip]\n",
      "Saving to: ‘../data/aclImdb_v1.tar.gz’\n",
      "\n",
      "../data/aclImdb_v1. 100%[===================>]  80.23M  10.2MB/s    in 9.6s    \n",
      "\n",
      "2019-05-12 10:04:02 (8.37 MB/s) - ‘../data/aclImdb_v1.tar.gz’ saved [84125825/84125825]\n",
      "\n"
     ]
    }
   ],
   "source": [
    "%mkdir ../data\n",
    "!wget -O ../data/aclImdb_v1.tar.gz http://ai.stanford.edu/~amaas/data/sentiment/aclImdb_v1.tar.gz\n",
    "!tar -zxf ../data/aclImdb_v1.tar.gz -C ../data"
   ]
  },
  {
   "cell_type": "markdown",
   "metadata": {},
   "source": [
    "## Step 2: Preparing and Processing the data\n",
    "\n",
    "Also, as in the XGBoost notebook, we will be doing some initial data processing. The first few steps are the same as in the XGBoost example. To begin with, we will read in each of the reviews and combine them into a single input structure. Then, we will split the dataset into a training set and a testing set."
   ]
  },
  {
   "cell_type": "code",
   "execution_count": 2,
   "metadata": {},
   "outputs": [],
   "source": [
    "import os\n",
    "import glob\n",
    "\n",
    "def read_imdb_data(data_dir='../data/aclImdb'):\n",
    "    data = {}\n",
    "    labels = {}\n",
    "    \n",
    "    for data_type in ['train', 'test']:\n",
    "        data[data_type] = {}\n",
    "        labels[data_type] = {}\n",
    "        \n",
    "        for sentiment in ['pos', 'neg']:\n",
    "            data[data_type][sentiment] = []\n",
    "            labels[data_type][sentiment] = []\n",
    "            \n",
    "            path = os.path.join(data_dir, data_type, sentiment, '*.txt')\n",
    "            files = glob.glob(path)\n",
    "            \n",
    "            for f in files:\n",
    "                with open(f) as review:\n",
    "                    data[data_type][sentiment].append(review.read())\n",
    "                    # Here we represent a positive review by '1' and a negative review by '0'\n",
    "                    labels[data_type][sentiment].append(1 if sentiment == 'pos' else 0)\n",
    "                    \n",
    "            assert len(data[data_type][sentiment]) == len(labels[data_type][sentiment]), \\\n",
    "                    \"{}/{} data size does not match labels size\".format(data_type, sentiment)\n",
    "                \n",
    "    return data, labels"
   ]
  },
  {
   "cell_type": "code",
   "execution_count": 3,
   "metadata": {},
   "outputs": [
    {
     "name": "stdout",
     "output_type": "stream",
     "text": [
      "IMDB reviews: train = 12500 pos / 12500 neg, test = 12500 pos / 12500 neg\n"
     ]
    }
   ],
   "source": [
    "data, labels = read_imdb_data()\n",
    "print(\"IMDB reviews: train = {} pos / {} neg, test = {} pos / {} neg\".format(\n",
    "            len(data['train']['pos']), len(data['train']['neg']),\n",
    "            len(data['test']['pos']), len(data['test']['neg'])))"
   ]
  },
  {
   "cell_type": "markdown",
   "metadata": {},
   "source": [
    "Now that we've read the raw training and testing data from the downloaded dataset, we will combine the positive and negative reviews and shuffle the resulting records."
   ]
  },
  {
   "cell_type": "code",
   "execution_count": 4,
   "metadata": {},
   "outputs": [],
   "source": [
    "from sklearn.utils import shuffle\n",
    "\n",
    "def prepare_imdb_data(data, labels):\n",
    "    \"\"\"Prepare training and test sets from IMDb movie reviews.\"\"\"\n",
    "    \n",
    "    #Combine positive and negative reviews and labels\n",
    "    data_train = data['train']['pos'] + data['train']['neg']\n",
    "    data_test = data['test']['pos'] + data['test']['neg']\n",
    "    labels_train = labels['train']['pos'] + labels['train']['neg']\n",
    "    labels_test = labels['test']['pos'] + labels['test']['neg']\n",
    "    \n",
    "    #Shuffle reviews and corresponding labels within training and test sets\n",
    "    data_train, labels_train = shuffle(data_train, labels_train)\n",
    "    data_test, labels_test = shuffle(data_test, labels_test)\n",
    "    \n",
    "    # Return a unified training data, test data, training labels, test labets\n",
    "    return data_train, data_test, labels_train, labels_test"
   ]
  },
  {
   "cell_type": "code",
   "execution_count": 5,
   "metadata": {},
   "outputs": [
    {
     "name": "stdout",
     "output_type": "stream",
     "text": [
      "IMDb reviews (combined): train = 25000, test = 25000\n"
     ]
    }
   ],
   "source": [
    "train_X, test_X, train_y, test_y = prepare_imdb_data(data, labels)\n",
    "print(\"IMDb reviews (combined): train = {}, test = {}\".format(len(train_X), len(test_X)))"
   ]
  },
  {
   "cell_type": "markdown",
   "metadata": {},
   "source": [
    "Now that we have our training and testing sets unified and prepared, we should do a quick check and see an example of the data our model will be trained on. This is generally a good idea as it allows you to see how each of the further processing steps affects the reviews and it also ensures that the data has been loaded correctly."
   ]
  },
  {
   "cell_type": "code",
   "execution_count": 6,
   "metadata": {},
   "outputs": [
    {
     "name": "stdout",
     "output_type": "stream",
     "text": [
      "The only reason I rented this was because of the article in Fangoria Magazine. The article made this film look interesting. Well, it isn't. This was a very boring, amateurishly written and directed movie. All the actors in this movie are awful, except Faye Dunaway, who is always a joy to watch. But too much time was focused on Gina Phillips and her ridiculous encounters with ravens and Duilio Marzio. Marzio has such a thick Argentinean accent, you can only understand every couple of words he says. Also on hand is Nicholas Pauls, who plays the ultra-bland love interest to Gina Phillips. The bottom line: this movie is not scary. There is only one good scene and that is the last five to ten minutes of the movie. I would have given this one star, but I gave it three just because I like Faye Dunaway so much. But even she wasn't that great in this.\n",
      "0\n"
     ]
    }
   ],
   "source": [
    "print(train_X[100])\n",
    "print(train_y[100])"
   ]
  },
  {
   "cell_type": "markdown",
   "metadata": {},
   "source": [
    "The first step in processing the reviews is to make sure that any html tags that appear should be removed. In addition we wish to tokenize our input, that way words such as *entertained* and *entertaining* are considered the same with regard to sentiment analysis."
   ]
  },
  {
   "cell_type": "code",
   "execution_count": 7,
   "metadata": {},
   "outputs": [],
   "source": [
    "import nltk\n",
    "from nltk.corpus import stopwords\n",
    "from nltk.stem.porter import *\n",
    "\n",
    "import re\n",
    "from bs4 import BeautifulSoup\n",
    "\n",
    "def review_to_words(review):\n",
    "    nltk.download(\"stopwords\", quiet=True)\n",
    "    stemmer = PorterStemmer()\n",
    "    \n",
    "    text = BeautifulSoup(review, \"html.parser\").get_text() # Remove HTML tags\n",
    "    text = re.sub(r\"[^a-zA-Z0-9]\", \" \", text.lower()) # Convert to lower case\n",
    "    words = text.split() # Split string into words\n",
    "    words = [w for w in words if w not in stopwords.words(\"english\")] # Remove stopwords\n",
    "    words = [PorterStemmer().stem(w) for w in words] # stem\n",
    "    \n",
    "    return words"
   ]
  },
  {
   "cell_type": "markdown",
   "metadata": {},
   "source": [
    "The `review_to_words` method defined above uses `BeautifulSoup` to remove any html tags that appear and uses the `nltk` package to tokenize the reviews. As a check to ensure we know how everything is working, try applying `review_to_words` to one of the reviews in the training set."
   ]
  },
  {
   "cell_type": "code",
   "execution_count": 8,
   "metadata": {},
   "outputs": [
    {
     "name": "stdout",
     "output_type": "stream",
     "text": [
      "['reason', 'rent', 'articl', 'fangoria', 'magazin', 'articl', 'made', 'film', 'look', 'interest', 'well', 'bore', 'amateurishli', 'written', 'direct', 'movi', 'actor', 'movi', 'aw', 'except', 'fay', 'dunaway', 'alway', 'joy', 'watch', 'much', 'time', 'focus', 'gina', 'phillip', 'ridicul', 'encount', 'raven', 'duilio', 'marzio', 'marzio', 'thick', 'argentinean', 'accent', 'understand', 'everi', 'coupl', 'word', 'say', 'also', 'hand', 'nichola', 'paul', 'play', 'ultra', 'bland', 'love', 'interest', 'gina', 'phillip', 'bottom', 'line', 'movi', 'scari', 'one', 'good', 'scene', 'last', 'five', 'ten', 'minut', 'movi', 'would', 'given', 'one', 'star', 'gave', 'three', 'like', 'fay', 'dunaway', 'much', 'even', 'great']\n"
     ]
    }
   ],
   "source": [
    "# TODO: Apply review_to_words to a review (train_X[100] or any other review)\n",
    "word_train = review_to_words(train_X[100])\n",
    "print(word_train)"
   ]
  },
  {
   "cell_type": "markdown",
   "metadata": {},
   "source": [
    "**Question:** Above we mentioned that `review_to_words` method removes html formatting and allows us to tokenize the words found in a review, for example, converting *entertained* and *entertaining* into *entertain* so that they are treated as though they are the same word. What else, if anything, does this method do to the input?"
   ]
  },
  {
   "cell_type": "markdown",
   "metadata": {},
   "source": [
    "**Answer:**\n",
    "\n",
    "Removing the \"Stop words\" is another thing that the funciton does so that we make a focus just on the words which hold meaning by themselves. Chaniging the characters into the lower case has been happened also."
   ]
  },
  {
   "cell_type": "markdown",
   "metadata": {},
   "source": [
    "The method below applies the `review_to_words` method to each of the reviews in the training and testing datasets. In addition it caches the results. This is because performing this processing step can take a long time. This way if you are unable to complete the notebook in the current session, you can come back without needing to process the data a second time."
   ]
  },
  {
   "cell_type": "code",
   "execution_count": 9,
   "metadata": {},
   "outputs": [],
   "source": [
    "import pickle\n",
    "\n",
    "cache_dir = os.path.join(\"../cache\", \"sentiment_analysis\")  # where to store cache files\n",
    "os.makedirs(cache_dir, exist_ok=True)  # ensure cache directory exists\n",
    "\n",
    "def preprocess_data(data_train, data_test, labels_train, labels_test,\n",
    "                    cache_dir=cache_dir, cache_file=\"preprocessed_data.pkl\"):\n",
    "    \"\"\"Convert each review to words; read from cache if available.\"\"\"\n",
    "\n",
    "    # If cache_file is not None, try to read from it first\n",
    "    cache_data = None\n",
    "    if cache_file is not None:\n",
    "        try:\n",
    "            with open(os.path.join(cache_dir, cache_file), \"rb\") as f:\n",
    "                cache_data = pickle.load(f)\n",
    "            print(\"Read preprocessed data from cache file:\", cache_file)\n",
    "        except:\n",
    "            pass  # unable to read from cache, but that's okay\n",
    "    \n",
    "    # If cache is missing, then do the heavy lifting\n",
    "    if cache_data is None:\n",
    "        # Preprocess training and test data to obtain words for each review\n",
    "        #words_train = list(map(review_to_words, data_train))\n",
    "        #words_test = list(map(review_to_words, data_test))\n",
    "        words_train = [review_to_words(review) for review in data_train]\n",
    "        words_test = [review_to_words(review) for review in data_test]\n",
    "        \n",
    "        # Write to cache file for future runs\n",
    "        if cache_file is not None:\n",
    "            cache_data = dict(words_train=words_train, words_test=words_test,\n",
    "                              labels_train=labels_train, labels_test=labels_test)\n",
    "            with open(os.path.join(cache_dir, cache_file), \"wb\") as f:\n",
    "                pickle.dump(cache_data, f)\n",
    "            print(\"Wrote preprocessed data to cache file:\", cache_file)\n",
    "    else:\n",
    "        # Unpack data loaded from cache file\n",
    "        words_train, words_test, labels_train, labels_test = (cache_data['words_train'],\n",
    "                cache_data['words_test'], cache_data['labels_train'], cache_data['labels_test'])\n",
    "    \n",
    "    return words_train, words_test, labels_train, labels_test"
   ]
  },
  {
   "cell_type": "code",
   "execution_count": 10,
   "metadata": {},
   "outputs": [
    {
     "name": "stdout",
     "output_type": "stream",
     "text": [
      "Wrote preprocessed data to cache file: preprocessed_data.pkl\n"
     ]
    }
   ],
   "source": [
    "# Preprocess data\n",
    "train_X, test_X, train_y, test_y = preprocess_data(train_X, test_X, train_y, test_y)"
   ]
  },
  {
   "cell_type": "markdown",
   "metadata": {},
   "source": [
    "## Transform the data\n",
    "\n",
    "In the XGBoost notebook we transformed the data from its word representation to a bag-of-words feature representation. For the model we are going to construct in this notebook we will construct a feature representation which is very similar. To start, we will represent each word as an integer. Of course, some of the words that appear in the reviews occur very infrequently and so likely don't contain much information for the purposes of sentiment analysis. The way we will deal with this problem is that we will fix the size of our working vocabulary and we will only include the words that appear most frequently. We will then combine all of the infrequent words into a single category and, in our case, we will label it as `1`.\n",
    "\n",
    "Since we will be using a recurrent neural network, it will be convenient if the length of each review is the same. To do this, we will fix a size for our reviews and then pad short reviews with the category 'no word' (which we will label `0`) and truncate long reviews."
   ]
  },
  {
   "cell_type": "markdown",
   "metadata": {},
   "source": [
    "### (TODO) Create a word dictionary\n",
    "\n",
    "To begin with, we need to construct a way to map words that appear in the reviews to integers. Here we fix the size of our vocabulary (including the 'no word' and 'infrequent' categories) to be `5000` but you may wish to change this to see how it affects the model.\n",
    "\n",
    "> **TODO:** Complete the implementation for the `build_dict()` method below. Note that even though the vocab_size is set to `5000`, we only want to construct a mapping for the most frequently appearing `4998` words. This is because we want to reserve the special labels `0` for 'no word' and `1` for 'infrequent word'."
   ]
  },
  {
   "cell_type": "code",
   "execution_count": 11,
   "metadata": {},
   "outputs": [],
   "source": [
    "import numpy as np\n",
    "from sklearn.feature_extraction.text import CountVectorizer\n",
    "from sklearn.externals import joblib\n",
    "from collections import Counter\n",
    "import itertools\n",
    "\n",
    "def build_dict(data, vocab_size = 5000):\n",
    "    \"\"\"Construct and return a dictionary mapping each of the most frequently appearing words to a unique integer.\"\"\"\n",
    "    \n",
    "    # TODO: Determine how often each word appears in `data`. Note that `data` is a list of sentences and that a\n",
    "    #       sentence is a list of words.\n",
    "#     vectorizer = CountVectorizer(max_features=vocab_size,\n",
    "#                 preprocessor=lambda x: x, tokenizer=lambda x: x) \n",
    "#     features_data = vectorizer.fit_transform(data).toarray()\n",
    "\n",
    "    \n",
    "    \n",
    "    word_count = Counter(itertools.chain.from_iterable(data)) # A dict storing the words that appear in the reviews along with how often they occur\n",
    "    \n",
    "    # TODO: Sort the words found in `data` so that sorted_words[0] is the most frequently appearing word and\n",
    "    #       sorted_words[-1] is the least frequently appearing word.\n",
    "    \n",
    "    sorted_words = sorted(word_count, key=word_count.get, reverse=True)\n",
    "    #     print(sorted_words)\n",
    "    \n",
    "    word_dict = {} # This is what we are building, a dictionary that translates words into integers\n",
    "    for idx, word in enumerate(sorted_words[:vocab_size - 2]): # The -2 is so that we save room for the 'no word'\n",
    "        word_dict[word] = idx + 2                              # 'infrequent' labels\n",
    "        \n",
    "    return word_dict"
   ]
  },
  {
   "cell_type": "code",
   "execution_count": 12,
   "metadata": {},
   "outputs": [
    {
     "name": "stdout",
     "output_type": "stream",
     "text": [
      "['antonio', 'margher', 'danza', 'macabra', 'castl', 'blood', 'eeri', 'atmospher', 'chiller', 'succe', 'front', 'look', 'absolut', 'beauti', 'black', 'white', 'wonder', 'creepi', 'gothic', 'vibe', 'alan', 'foster', 'english', 'journalist', 'pursu', 'interview', 'visit', 'american', 'horror', 'writer', 'edgar', 'allan', 'poe', 'poe', 'bet', 'foster', 'spend', 'one', 'night', 'abandon', 'mansion', 'poe', 'friend', 'thoma', 'blackwood', 'accept', 'wager', 'foster', 'lock', 'mansion', 'horror', 'begin', 'film', 'extrem', 'atmospher', 'scare', 'hell', 'crypt', 'sequenc', 'realli', 'eeri', 'tension', 'almost', 'unbear', 'barbara', 'steel', 'look', 'incred', 'beauti', 'sinist', 'specter', 'elisabeth', 'blackwood', 'castl', 'blood', 'easili', 'one', 'best', 'italian', 'horror', 'movi', 'made', 'earli', '60', 'masterpiec']\n",
      "{'movi': 2, 'film': 3, 'one': 4, 'like': 5, 'time': 6, 'good': 7, 'make': 8, 'charact': 9, 'get': 10, 'see': 11, 'watch': 12, 'stori': 13, 'even': 14, 'would': 15, 'realli': 16, 'well': 17, 'scene': 18, 'look': 19, 'show': 20, 'much': 21, 'end': 22, 'peopl': 23, 'bad': 24, 'go': 25, 'great': 26, 'also': 27, 'first': 28, 'love': 29, 'think': 30, 'way': 31, 'act': 32, 'play': 33, 'made': 34, 'thing': 35, 'could': 36, 'know': 37, 'say': 38, 'seem': 39, 'work': 40, 'plot': 41, 'two': 42, 'actor': 43, 'year': 44, 'come': 45, 'mani': 46, 'seen': 47, 'take': 48, 'want': 49, 'life': 50, 'never': 51, 'littl': 52, 'best': 53, 'tri': 54, 'man': 55, 'ever': 56, 'give': 57, 'better': 58, 'still': 59, 'perform': 60, 'find': 61, 'feel': 62, 'part': 63, 'back': 64, 'use': 65, 'someth': 66, 'director': 67, 'actual': 68, 'interest': 69, 'lot': 70, 'real': 71, 'old': 72, 'cast': 73, 'though': 74, 'live': 75, 'star': 76, 'enjoy': 77, 'guy': 78, 'anoth': 79, 'new': 80, 'role': 81, 'noth': 82, '10': 83, 'funni': 84, 'music': 85, 'point': 86, 'start': 87, 'set': 88, 'girl': 89, 'origin': 90, 'day': 91, 'world': 92, 'everi': 93, 'believ': 94, 'turn': 95, 'quit': 96, 'us': 97, 'direct': 98, 'thought': 99, 'fact': 100, 'minut': 101, 'horror': 102, 'kill': 103, 'action': 104, 'comedi': 105, 'pretti': 106, 'young': 107, 'wonder': 108, 'happen': 109, 'around': 110, 'got': 111, 'effect': 112, 'right': 113, 'long': 114, 'howev': 115, 'big': 116, 'line': 117, 'famili': 118, 'enough': 119, 'seri': 120, 'may': 121, 'need': 122, 'fan': 123, 'bit': 124, 'script': 125, 'beauti': 126, 'person': 127, 'becom': 128, 'without': 129, 'must': 130, 'alway': 131, 'friend': 132, 'tell': 133, 'reason': 134, 'saw': 135, 'last': 136, 'final': 137, 'kid': 138, 'almost': 139, 'put': 140, 'least': 141, 'sure': 142, 'done': 143, 'whole': 144, 'place': 145, 'complet': 146, 'kind': 147, 'differ': 148, 'expect': 149, 'shot': 150, 'far': 151, 'mean': 152, 'anyth': 153, 'book': 154, 'laugh': 155, 'might': 156, 'name': 157, 'sinc': 158, 'begin': 159, '2': 160, 'probabl': 161, 'woman': 162, 'help': 163, 'entertain': 164, 'let': 165, 'screen': 166, 'call': 167, 'tv': 168, 'moment': 169, 'away': 170, 'read': 171, 'yet': 172, 'rather': 173, 'worst': 174, 'run': 175, 'fun': 176, 'lead': 177, 'hard': 178, 'audienc': 179, 'idea': 180, 'anyon': 181, 'episod': 182, 'american': 183, 'found': 184, 'appear': 185, 'bore': 186, 'especi': 187, 'although': 188, 'hope': 189, 'keep': 190, 'cours': 191, 'anim': 192, 'job': 193, 'goe': 194, 'move': 195, 'sens': 196, 'version': 197, 'dvd': 198, 'war': 199, 'money': 200, 'someon': 201, 'mind': 202, 'mayb': 203, 'problem': 204, 'true': 205, 'hous': 206, 'everyth': 207, 'nice': 208, 'second': 209, 'rate': 210, 'three': 211, 'night': 212, 'face': 213, 'follow': 214, 'recommend': 215, 'main': 216, 'product': 217, 'worth': 218, 'leav': 219, 'human': 220, 'special': 221, 'excel': 222, 'togeth': 223, 'wast': 224, 'everyon': 225, 'sound': 226, 'john': 227, 'hand': 228, '1': 229, 'father': 230, 'later': 231, 'eye': 232, 'said': 233, 'view': 234, 'instead': 235, 'review': 236, 'boy': 237, 'high': 238, 'hour': 239, 'miss': 240, 'classic': 241, 'talk': 242, 'wife': 243, 'understand': 244, 'left': 245, 'care': 246, 'black': 247, 'death': 248, 'open': 249, 'murder': 250, 'write': 251, 'half': 252, 'head': 253, 'rememb': 254, 'chang': 255, 'viewer': 256, 'fight': 257, 'gener': 258, 'surpris': 259, 'short': 260, 'includ': 261, 'die': 262, 'fall': 263, 'less': 264, 'els': 265, 'entir': 266, 'piec': 267, 'involv': 268, 'pictur': 269, 'simpli': 270, 'home': 271, 'top': 272, 'power': 273, 'total': 274, 'usual': 275, 'budget': 276, 'attempt': 277, 'suppos': 278, 'releas': 279, 'hollywood': 280, 'terribl': 281, 'song': 282, 'men': 283, 'possibl': 284, 'featur': 285, 'portray': 286, 'disappoint': 287, 'poor': 288, '3': 289, 'coupl': 290, 'camera': 291, 'stupid': 292, 'dead': 293, 'wrong': 294, 'low': 295, 'produc': 296, 'video': 297, 'either': 298, 'aw': 299, 'definit': 300, 'except': 301, 'rest': 302, 'given': 303, 'absolut': 304, 'women': 305, 'lack': 306, 'word': 307, 'writer': 308, 'titl': 309, 'talent': 310, 'decid': 311, 'full': 312, 'perfect': 313, 'along': 314, 'style': 315, 'close': 316, 'truli': 317, 'school': 318, 'save': 319, 'emot': 320, 'age': 321, 'sex': 322, 'next': 323, 'bring': 324, 'mr': 325, 'case': 326, 'killer': 327, 'heart': 328, 'comment': 329, 'sort': 330, 'creat': 331, 'perhap': 332, 'came': 333, 'brother': 334, 'sever': 335, 'joke': 336, 'art': 337, 'dialogu': 338, 'game': 339, 'small': 340, 'base': 341, 'flick': 342, 'written': 343, 'sequenc': 344, 'meet': 345, 'earli': 346, 'often': 347, 'other': 348, 'mother': 349, 'develop': 350, 'humor': 351, 'actress': 352, 'consid': 353, 'dark': 354, 'guess': 355, 'amaz': 356, 'unfortun': 357, 'light': 358, 'lost': 359, 'exampl': 360, 'cinema': 361, 'drama': 362, 'white': 363, 'ye': 364, 'experi': 365, 'imagin': 366, 'mention': 367, 'stop': 368, 'natur': 369, 'forc': 370, 'manag': 371, 'felt': 372, 'cut': 373, 'present': 374, 'children': 375, 'fail': 376, 'son': 377, 'car': 378, 'support': 379, 'qualiti': 380, 'ask': 381, 'hit': 382, 'side': 383, 'voic': 384, 'extrem': 385, 'impress': 386, 'evil': 387, 'wors': 388, 'went': 389, 'stand': 390, 'certainli': 391, 'basic': 392, 'oh': 393, 'overal': 394, 'favorit': 395, 'horribl': 396, 'mysteri': 397, 'number': 398, 'type': 399, 'danc': 400, 'wait': 401, 'hero': 402, '5': 403, 'alreadi': 404, 'learn': 405, 'matter': 406, '4': 407, 'michael': 408, 'genr': 409, 'fine': 410, 'despit': 411, 'throughout': 412, 'walk': 413, 'success': 414, 'histori': 415, 'question': 416, 'zombi': 417, 'town': 418, 'realiz': 419, 'relationship': 420, 'child': 421, 'past': 422, 'daughter': 423, 'late': 424, 'b': 425, 'wish': 426, 'credit': 427, 'hate': 428, 'event': 429, 'theme': 430, 'touch': 431, 'citi': 432, 'today': 433, 'sometim': 434, 'behind': 435, 'god': 436, 'twist': 437, 'sit': 438, 'stay': 439, 'deal': 440, 'annoy': 441, 'abl': 442, 'rent': 443, 'pleas': 444, 'edit': 445, 'blood': 446, 'deserv': 447, 'comic': 448, 'anyway': 449, 'appar': 450, 'soon': 451, 'gave': 452, 'etc': 453, 'level': 454, 'slow': 455, 'chanc': 456, 'score': 457, 'bodi': 458, 'brilliant': 459, 'incred': 460, 'figur': 461, 'situat': 462, 'self': 463, 'major': 464, 'stuff': 465, 'decent': 466, 'element': 467, 'return': 468, 'dream': 469, 'obvious': 470, 'continu': 471, 'order': 472, 'pace': 473, 'ridicul': 474, 'happi': 475, 'highli': 476, 'group': 477, 'add': 478, 'thank': 479, 'ladi': 480, 'novel': 481, 'speak': 482, 'pain': 483, 'career': 484, 'shoot': 485, 'strang': 486, 'heard': 487, 'sad': 488, 'polic': 489, 'husband': 490, 'import': 491, 'break': 492, 'took': 493, 'cannot': 494, 'strong': 495, 'predict': 496, 'robert': 497, 'violenc': 498, 'hilari': 499, 'recent': 500, 'countri': 501, 'known': 502, 'particularli': 503, 'pick': 504, 'documentari': 505, 'season': 506, 'critic': 507, 'jame': 508, 'compar': 509, 'alon': 510, 'obviou': 511, 'told': 512, 'state': 513, 'visual': 514, 'rock': 515, 'theater': 516, 'offer': 517, 'exist': 518, 'opinion': 519, 'gore': 520, 'crap': 521, 'hold': 522, 'result': 523, 'realiti': 524, 'hear': 525, 'room': 526, 'clich': 527, 'effort': 528, 'thriller': 529, 'caus': 530, 'sequel': 531, 'serious': 532, 'explain': 533, 'king': 534, 'local': 535, 'ago': 536, 'hell': 537, 'none': 538, 'note': 539, 'allow': 540, 'david': 541, 'sister': 542, 'simpl': 543, 'femal': 544, 'deliv': 545, 'ok': 546, 'class': 547, 'convinc': 548, 'check': 549, 'suspens': 550, 'win': 551, 'buy': 552, 'oscar': 553, 'huge': 554, 'valu': 555, 'sexual': 556, 'scari': 557, 'cool': 558, 'excit': 559, 'similar': 560, 'apart': 561, 'provid': 562, 'exactli': 563, 'avoid': 564, 'shown': 565, 'seriou': 566, 'english': 567, 'whose': 568, 'taken': 569, 'cinematographi': 570, 'shock': 571, 'polit': 572, 'spoiler': 573, 'offic': 574, 'across': 575, 'middl': 576, 'street': 577, 'pass': 578, 'messag': 579, 'charm': 580, 'somewhat': 581, 'silli': 582, 'modern': 583, 'confus': 584, 'filmmak': 585, 'form': 586, 'tale': 587, 'singl': 588, 'jack': 589, 'mostli': 590, 'carri': 591, 'attent': 592, 'william': 593, 'sing': 594, 'subject': 595, 'five': 596, 'richard': 597, 'prove': 598, 'stage': 599, 'team': 600, 'unlik': 601, 'cop': 602, 'georg': 603, 'monster': 604, 'televis': 605, 'earth': 606, 'villain': 607, 'cover': 608, 'pay': 609, 'marri': 610, 'toward': 611, 'build': 612, 'pull': 613, 'parent': 614, 'due': 615, 'fill': 616, 'respect': 617, 'four': 618, 'dialog': 619, 'remind': 620, 'futur': 621, 'weak': 622, 'typic': 623, '7': 624, 'cheap': 625, 'intellig': 626, 'atmospher': 627, 'british': 628, 'clearli': 629, '80': 630, 'paul': 631, 'non': 632, 'dog': 633, '8': 634, 'knew': 635, 'fast': 636, 'artist': 637, 'crime': 638, 'easili': 639, 'escap': 640, 'adult': 641, 'doubt': 642, 'detail': 643, 'date': 644, 'member': 645, 'fire': 646, 'romant': 647, 'drive': 648, 'gun': 649, 'straight': 650, 'fit': 651, 'beyond': 652, 'attack': 653, 'imag': 654, 'upon': 655, 'posit': 656, 'whether': 657, 'fantast': 658, 'peter': 659, 'captur': 660, 'aspect': 661, 'appreci': 662, 'ten': 663, 'plan': 664, 'discov': 665, 'remain': 666, 'near': 667, 'period': 668, 'realist': 669, 'air': 670, 'mark': 671, 'red': 672, 'dull': 673, 'adapt': 674, 'within': 675, 'spend': 676, 'lose': 677, 'materi': 678, 'color': 679, 'chase': 680, 'mari': 681, 'storylin': 682, 'forget': 683, 'bunch': 684, 'clear': 685, 'lee': 686, 'victim': 687, 'nearli': 688, 'box': 689, 'york': 690, 'match': 691, 'inspir': 692, 'finish': 693, 'mess': 694, 'standard': 695, 'easi': 696, 'truth': 697, 'busi': 698, 'suffer': 699, 'space': 700, 'bill': 701, 'dramat': 702, 'western': 703, 'e': 704, 'list': 705, 'battl': 706, 'notic': 707, 'de': 708, 'french': 709, 'ad': 710, '9': 711, 'tom': 712, 'larg': 713, 'among': 714, 'eventu': 715, 'accept': 716, 'train': 717, 'agre': 718, 'spirit': 719, 'soundtrack': 720, 'third': 721, 'teenag': 722, 'adventur': 723, 'soldier': 724, 'famou': 725, 'drug': 726, 'sorri': 727, 'suggest': 728, 'cri': 729, 'normal': 730, 'babi': 731, 'troubl': 732, 'ultim': 733, 'contain': 734, 'certain': 735, 'cultur': 736, 'romanc': 737, 'rare': 738, 'lame': 739, 'somehow': 740, 'disney': 741, 'mix': 742, 'gone': 743, 'cartoon': 744, 'student': 745, 'reveal': 746, 'fear': 747, 'kept': 748, 'suck': 749, 'attract': 750, 'appeal': 751, 'premis': 752, 'greatest': 753, 'design': 754, 'secret': 755, 'shame': 756, 'throw': 757, 'scare': 758, 'copi': 759, 'wit': 760, 'admit': 761, 'america': 762, 'brought': 763, 'relat': 764, 'particular': 765, 'screenplay': 766, 'whatev': 767, 'pure': 768, '70': 769, 'averag': 770, 'harri': 771, 'master': 772, 'describ': 773, 'male': 774, 'treat': 775, '20': 776, 'fantasi': 777, 'issu': 778, 'warn': 779, 'inde': 780, 'background': 781, 'forward': 782, 'project': 783, 'free': 784, 'japanes': 785, 'memor': 786, 'poorli': 787, 'award': 788, 'locat': 789, 'potenti': 790, 'amus': 791, 'struggl': 792, 'magic': 793, 'weird': 794, 'societi': 795, 'okay': 796, 'imdb': 797, 'accent': 798, 'doctor': 799, 'water': 800, 'hot': 801, 'dr': 802, '30': 803, 'express': 804, 'alien': 805, 'odd': 806, 'choic': 807, 'crazi': 808, 'studio': 809, 'fiction': 810, 'becam': 811, 'control': 812, 'masterpiec': 813, 'fli': 814, 'difficult': 815, 'joe': 816, 'scream': 817, 'costum': 818, 'lover': 819, 'uniqu': 820, 'refer': 821, 'remak': 822, 'girlfriend': 823, 'vampir': 824, 'prison': 825, 'execut': 826, 'wear': 827, 'jump': 828, 'unless': 829, 'wood': 830, 'creepi': 831, 'cheesi': 832, 'superb': 833, 'otherwis': 834, 'parti': 835, 'ghost': 836, 'roll': 837, 'public': 838, 'mad': 839, 'depict': 840, 'week': 841, 'moral': 842, 'badli': 843, 'earlier': 844, 'jane': 845, 'fi': 846, 'dumb': 847, 'flaw': 848, 'grow': 849, 'sci': 850, 'deep': 851, 'maker': 852, 'cat': 853, 'footag': 854, 'older': 855, 'connect': 856, 'plenti': 857, 'bother': 858, 'outsid': 859, 'stick': 860, 'gay': 861, 'catch': 862, 'plu': 863, 'co': 864, 'popular': 865, 'equal': 866, 'social': 867, 'disturb': 868, 'quickli': 869, 'perfectli': 870, 'dress': 871, 'era': 872, '90': 873, 'mistak': 874, 'lie': 875, 'ride': 876, 'previou': 877, 'combin': 878, 'concept': 879, 'band': 880, 'rich': 881, 'answer': 882, 'surviv': 883, 'front': 884, 'christma': 885, 'sweet': 886, 'insid': 887, 'eat': 888, 'concern': 889, 'bare': 890, 'beat': 891, 'ben': 892, 'listen': 893, 'c': 894, 'term': 895, 'serv': 896, 'german': 897, 'la': 898, 'meant': 899, 'stereotyp': 900, 'hardli': 901, 'law': 902, 'innoc': 903, 'desper': 904, 'memori': 905, 'promis': 906, 'intent': 907, 'cute': 908, 'variou': 909, 'steal': 910, 'inform': 911, 'brain': 912, 'post': 913, 'tone': 914, 'island': 915, 'amount': 916, 'compani': 917, 'nuditi': 918, 'track': 919, 'store': 920, 'claim': 921, 'hair': 922, '50': 923, 'flat': 924, 'univers': 925, 'land': 926, 'danger': 927, 'fairli': 928, 'kick': 929, 'scott': 930, 'player': 931, 'plain': 932, 'crew': 933, 'step': 934, 'toni': 935, 'share': 936, 'centuri': 937, 'tast': 938, 'achiev': 939, 'engag': 940, 'travel': 941, 'cold': 942, 'rip': 943, 'suit': 944, 'record': 945, 'manner': 946, 'sadli': 947, 'tension': 948, 'spot': 949, 'wrote': 950, 'intens': 951, 'fascin': 952, 'familiar': 953, 'remark': 954, 'depth': 955, 'burn': 956, 'destroy': 957, 'histor': 958, 'sleep': 959, 'purpos': 960, 'languag': 961, 'ruin': 962, 'ignor': 963, 'delight': 964, 'italian': 965, 'unbeliev': 966, 'collect': 967, 'abil': 968, 'soul': 969, 'detect': 970, 'clever': 971, 'violent': 972, 'rape': 973, 'reach': 974, 'door': 975, 'scienc': 976, 'trash': 977, 'liter': 978, 'caught': 979, 'reveng': 980, 'commun': 981, 'creatur': 982, 'trip': 983, 'approach': 984, 'intrigu': 985, 'fashion': 986, 'paint': 987, 'introduc': 988, 'skill': 989, 'channel': 990, 'complex': 991, 'camp': 992, 'christian': 993, 'hole': 994, 'extra': 995, 'limit': 996, 'mental': 997, 'ann': 998, 'immedi': 999, 'comput': 1000, 'million': 1001, 'mere': 1002, '6': 1003, 'slightli': 1004, 'slasher': 1005, 'conclus': 1006, 'suddenli': 1007, 'imposs': 1008, 'neither': 1009, 'teen': 1010, 'crimin': 1011, 'physic': 1012, 'nation': 1013, 'spent': 1014, 'respons': 1015, 'planet': 1016, 'receiv': 1017, 'fake': 1018, 'blue': 1019, 'sick': 1020, 'bizarr': 1021, 'embarrass': 1022, 'indian': 1023, '15': 1024, 'ring': 1025, 'pop': 1026, 'drop': 1027, 'drag': 1028, 'haunt': 1029, 'pointless': 1030, 'suspect': 1031, 'search': 1032, 'edg': 1033, 'handl': 1034, 'biggest': 1035, 'common': 1036, 'arriv': 1037, 'faith': 1038, 'hurt': 1039, 'technic': 1040, 'angel': 1041, 'dad': 1042, 'genuin': 1043, 'solid': 1044, 'f': 1045, 'awesom': 1046, 'colleg': 1047, 'former': 1048, 'van': 1049, 'focu': 1050, 'count': 1051, 'heavi': 1052, 'tear': 1053, 'rais': 1054, 'wall': 1055, 'visit': 1056, 'laughabl': 1057, 'younger': 1058, 'sign': 1059, 'fair': 1060, 'excus': 1061, 'cult': 1062, 'key': 1063, 'motion': 1064, 'tough': 1065, 'super': 1066, 'desir': 1067, 'addit': 1068, 'stun': 1069, 'exploit': 1070, 'cloth': 1071, 'tortur': 1072, 'smith': 1073, 'race': 1074, 'davi': 1075, 'cross': 1076, 'author': 1077, 'jim': 1078, 'compel': 1079, 'minor': 1080, 'consist': 1081, 'focus': 1082, 'commit': 1083, 'pathet': 1084, 'chemistri': 1085, 'park': 1086, 'frank': 1087, 'obsess': 1088, 'tradit': 1089, 'grade': 1090, '60': 1091, 'asid': 1092, 'brutal': 1093, 'somewher': 1094, 'steve': 1095, 'rule': 1096, 'opportun': 1097, 'depress': 1098, 'grant': 1099, 'u': 1100, 'explor': 1101, 'honest': 1102, 'besid': 1103, 'anti': 1104, 'dub': 1105, 'intend': 1106, 'trailer': 1107, 'bar': 1108, 'regard': 1109, 'longer': 1110, 'scientist': 1111, 'west': 1112, 'decad': 1113, 'judg': 1114, 'silent': 1115, 'armi': 1116, 'creativ': 1117, 'wild': 1118, 'g': 1119, 'south': 1120, 'stewart': 1121, 'draw': 1122, 'road': 1123, 'govern': 1124, 'ex': 1125, 'boss': 1126, 'practic': 1127, 'surprisingli': 1128, 'festiv': 1129, 'motiv': 1130, 'gang': 1131, 'club': 1132, 'redeem': 1133, 'page': 1134, 'green': 1135, 'london': 1136, 'militari': 1137, 'idiot': 1138, 'machin': 1139, 'aliv': 1140, 'display': 1141, 'thrill': 1142, 'repeat': 1143, 'nobodi': 1144, '100': 1145, 'yeah': 1146, 'folk': 1147, '40': 1148, 'garbag': 1149, 'journey': 1150, 'smile': 1151, 'ground': 1152, 'tire': 1153, 'bought': 1154, 'mood': 1155, 'sam': 1156, 'cost': 1157, 'stone': 1158, 'noir': 1159, 'mouth': 1160, 'terrif': 1161, 'agent': 1162, 'requir': 1163, 'utterli': 1164, 'area': 1165, 'sexi': 1166, 'honestli': 1167, 'geniu': 1168, 'report': 1169, 'humour': 1170, 'glad': 1171, 'enter': 1172, 'investig': 1173, 'serial': 1174, 'occasion': 1175, 'narr': 1176, 'passion': 1177, 'marriag': 1178, 'climax': 1179, 'studi': 1180, 'industri': 1181, 'center': 1182, 'nowher': 1183, 'charli': 1184, 'demon': 1185, 'ship': 1186, 'hors': 1187, 'bear': 1188, 'loos': 1189, 'wow': 1190, 'hang': 1191, 'graphic': 1192, 'admir': 1193, 'giant': 1194, 'send': 1195, 'damn': 1196, 'loud': 1197, 'rel': 1198, 'subtl': 1199, 'profession': 1200, 'nake': 1201, 'blow': 1202, 'bottom': 1203, 'batman': 1204, 'insult': 1205, 'r': 1206, 'boyfriend': 1207, 'kelli': 1208, 'doubl': 1209, 'initi': 1210, 'frame': 1211, 'opera': 1212, 'gem': 1213, 'church': 1214, 'drawn': 1215, 'challeng': 1216, 'cinemat': 1217, 'affect': 1218, 'fulli': 1219, 'seek': 1220, 'nightmar': 1221, 'j': 1222, 'l': 1223, 'evid': 1224, 'arm': 1225, 'conflict': 1226, 'essenti': 1227, 'wind': 1228, 'henri': 1229, 'grace': 1230, 'christoph': 1231, 'assum': 1232, 'witch': 1233, 'narrat': 1234, 'hunt': 1235, 'push': 1236, 'chri': 1237, 'wise': 1238, 'month': 1239, 'nomin': 1240, 'repres': 1241, 'hide': 1242, 'avail': 1243, 'affair': 1244, 'sceneri': 1245, 'bond': 1246, 'smart': 1247, 'justic': 1248, 'thu': 1249, 'interview': 1250, 'outstand': 1251, 'flashback': 1252, 'satisfi': 1253, 'presenc': 1254, 'constantli': 1255, 'central': 1256, 'bed': 1257, 'iron': 1258, 'sell': 1259, 'content': 1260, 'gag': 1261, 'everybodi': 1262, 'hotel': 1263, 'slowli': 1264, 'hire': 1265, 'system': 1266, 'individu': 1267, 'adam': 1268, 'thrown': 1269, 'charl': 1270, 'hey': 1271, 'mediocr': 1272, 'allen': 1273, 'jone': 1274, 'ray': 1275, 'billi': 1276, 'lesson': 1277, 'cameo': 1278, 'photographi': 1279, 'fellow': 1280, 'pari': 1281, 'strike': 1282, 'absurd': 1283, 'brief': 1284, 'independ': 1285, 'rise': 1286, 'neg': 1287, 'impact': 1288, 'phone': 1289, 'ill': 1290, 'model': 1291, 'born': 1292, 'spoil': 1293, 'fresh': 1294, 'angl': 1295, 'likabl': 1296, 'abus': 1297, 'discuss': 1298, 'hill': 1299, 'ahead': 1300, 'sight': 1301, 'photograph': 1302, 'sent': 1303, 'shine': 1304, 'blame': 1305, 'occur': 1306, 'logic': 1307, 'mainli': 1308, 'bruce': 1309, 'commerci': 1310, 'skip': 1311, 'forev': 1312, 'held': 1313, 'surround': 1314, 'teacher': 1315, 'segment': 1316, 'blond': 1317, 'zero': 1318, 'resembl': 1319, 'trap': 1320, 'satir': 1321, 'summer': 1322, 'six': 1323, 'ball': 1324, 'fool': 1325, 'queen': 1326, 'tragedi': 1327, 'sub': 1328, 'twice': 1329, 'reaction': 1330, 'pack': 1331, 'bomb': 1332, 'will': 1333, 'protagonist': 1334, 'hospit': 1335, 'mile': 1336, 'sport': 1337, 'mom': 1338, 'jerri': 1339, 'drink': 1340, 'vote': 1341, 'trust': 1342, 'encount': 1343, 'plane': 1344, 'current': 1345, 'al': 1346, 'program': 1347, 'station': 1348, 'choos': 1349, 'celebr': 1350, 'martin': 1351, 'join': 1352, 'favourit': 1353, 'round': 1354, 'field': 1355, 'tragic': 1356, 'lord': 1357, 'jean': 1358, 'vision': 1359, 'robot': 1360, 'tie': 1361, 'arthur': 1362, 'roger': 1363, 'random': 1364, 'fortun': 1365, 'psycholog': 1366, 'dread': 1367, 'intern': 1368, 'improv': 1369, 'prefer': 1370, 'epic': 1371, 'nonsens': 1372, 'pleasur': 1373, 'formula': 1374, 'highlight': 1375, 'legend': 1376, 'tape': 1377, '11': 1378, 'dollar': 1379, 'gorgeou': 1380, 'object': 1381, 'porn': 1382, 'thin': 1383, 'fox': 1384, 'wide': 1385, 'influenc': 1386, 'buddi': 1387, 'ugli': 1388, 'nasti': 1389, 'ii': 1390, 'prepar': 1391, 'reflect': 1392, 'supposedli': 1393, 'progress': 1394, 'warm': 1395, 'worthi': 1396, 'youth': 1397, 'unusu': 1398, 'latter': 1399, 'length': 1400, 'crash': 1401, 'superior': 1402, 'shop': 1403, 'seven': 1404, 'childhood': 1405, 'theatr': 1406, 'remot': 1407, 'paid': 1408, 'funniest': 1409, 'disgust': 1410, 'pilot': 1411, 'castl': 1412, 'trick': 1413, 'convers': 1414, 'fell': 1415, 'disast': 1416, 'rob': 1417, 'gangster': 1418, 'establish': 1419, 'suicid': 1420, 'disappear': 1421, 'ident': 1422, 'heaven': 1423, 'mine': 1424, 'decis': 1425, 'singer': 1426, 'mask': 1427, 'tend': 1428, 'forgotten': 1429, 'heroin': 1430, 'partner': 1431, 'brian': 1432, 'alan': 1433, 'desert': 1434, 'recogn': 1435, 'stuck': 1436, 'sky': 1437, 'thoroughli': 1438, 'p': 1439, 'ms': 1440, 'accur': 1441, 'replac': 1442, 'market': 1443, 'clue': 1444, 'commentari': 1445, 'seemingli': 1446, 'uncl': 1447, 'danni': 1448, 'andi': 1449, 'eddi': 1450, 'devil': 1451, 'jackson': 1452, 'that': 1453, 'pair': 1454, 'therefor': 1455, 'refus': 1456, 'unit': 1457, 'fate': 1458, 'river': 1459, 'accid': 1460, 'ed': 1461, 'fault': 1462, 'tune': 1463, 'afraid': 1464, 'hidden': 1465, 'stephen': 1466, 'russian': 1467, 'clean': 1468, 'quick': 1469, 'captain': 1470, 'instanc': 1471, 'convey': 1472, 'readi': 1473, 'irrit': 1474, 'test': 1475, 'european': 1476, 'daniel': 1477, 'insan': 1478, 'frustrat': 1479, 'wed': 1480, '1950': 1481, 'food': 1482, 'chines': 1483, 'rescu': 1484, 'lock': 1485, 'dirti': 1486, 'angri': 1487, 'joy': 1488, 'price': 1489, 'steven': 1490, 'cage': 1491, 'bland': 1492, 'rang': 1493, 'anymor': 1494, 'wooden': 1495, 'news': 1496, 'rush': 1497, 'jason': 1498, 'n': 1499, '12': 1500, 'worri': 1501, 'twenti': 1502, 'led': 1503, 'martial': 1504, 'board': 1505, 'cgi': 1506, 'symbol': 1507, 'transform': 1508, 'hunter': 1509, 'invent': 1510, 'x': 1511, 'sentiment': 1512, 'onto': 1513, 'johnni': 1514, 'piti': 1515, 'explan': 1516, 'attitud': 1517, 'process': 1518, 'awar': 1519, 'owner': 1520, 'aim': 1521, 'floor': 1522, 'necessari': 1523, 'energi': 1524, 'target': 1525, 'favor': 1526, 'opposit': 1527, 'religi': 1528, 'window': 1529, 'insight': 1530, 'blind': 1531, 'chick': 1532, 'movement': 1533, 'mountain': 1534, 'possess': 1535, 'deepli': 1536, 'research': 1537, 'comparison': 1538, 'rain': 1539, 'grand': 1540, 'comed': 1541, 'whatsoev': 1542, 'bank': 1543, 'shadow': 1544, 'began': 1545, 'mid': 1546, 'parodi': 1547, 'princ': 1548, 'credibl': 1549, 'friendship': 1550, 'taylor': 1551, 'weapon': 1552, 'pre': 1553, 'dougla': 1554, 'teach': 1555, 'flesh': 1556, 'hint': 1557, 'protect': 1558, 'terror': 1559, 'bloodi': 1560, 'marvel': 1561, 'load': 1562, 'superman': 1563, 'drunk': 1564, 'leader': 1565, 'anybodi': 1566, 'watchabl': 1567, 'accord': 1568, 'brown': 1569, 'freddi': 1570, 'appropri': 1571, 'tim': 1572, 'jeff': 1573, 'seat': 1574, 'hitler': 1575, 'villag': 1576, 'charg': 1577, 'unknown': 1578, 'keaton': 1579, 'knock': 1580, 'media': 1581, 'england': 1582, 'enemi': 1583, 'unnecessari': 1584, 'empti': 1585, 'strength': 1586, 'dare': 1587, 'utter': 1588, 'wave': 1589, 'buck': 1590, 'craft': 1591, 'perspect': 1592, 'correct': 1593, 'ford': 1594, 'contrast': 1595, 'nativ': 1596, 'kiss': 1597, 'magnific': 1598, 'nazi': 1599, 'anywher': 1600, 'soap': 1601, 'distract': 1602, 'speed': 1603, 'knowledg': 1604, 'chill': 1605, 'ice': 1606, 'fred': 1607, 'mission': 1608, '1980': 1609, 'breath': 1610, 'moon': 1611, 'joan': 1612, 'jr': 1613, 'crowd': 1614, '000': 1615, 'kate': 1616, 'frighten': 1617, 'soft': 1618, 'hundr': 1619, 'dan': 1620, 'nick': 1621, 'dick': 1622, 'simon': 1623, 'radio': 1624, 'dozen': 1625, 'somebodi': 1626, 'academi': 1627, 'andrew': 1628, 'thousand': 1629, 'loss': 1630, 'shakespear': 1631, 'quot': 1632, 'account': 1633, 'root': 1634, 'vehicl': 1635, 'sum': 1636, 'convent': 1637, 'behavior': 1638, 'leg': 1639, '1970': 1640, 'regular': 1641, 'gold': 1642, 'worker': 1643, 'demand': 1644, 'pretenti': 1645, 'compet': 1646, 'notabl': 1647, 'japan': 1648, 'privat': 1649, 'stretch': 1650, 'candi': 1651, 'lynch': 1652, 'explos': 1653, 'interpret': 1654, 'tarzan': 1655, 'constant': 1656, 'debut': 1657, 'sea': 1658, 'spi': 1659, 'revolv': 1660, 'translat': 1661, 'prais': 1662, 'technolog': 1663, 'failur': 1664, 'threaten': 1665, 'jesu': 1666, 'quiet': 1667, 'franc': 1668, 'sat': 1669, 'ass': 1670, 'punch': 1671, 'higher': 1672, 'kevin': 1673, 'met': 1674, 'toy': 1675, 'aid': 1676, 'abandon': 1677, 'interact': 1678, 'mike': 1679, 'vh': 1680, 'bet': 1681, 'command': 1682, 'separ': 1683, 'confront': 1684, 'techniqu': 1685, 'site': 1686, 'servic': 1687, 'stunt': 1688, 'belong': 1689, 'recal': 1690, 'gotten': 1691, 'cabl': 1692, 'foot': 1693, 'bug': 1694, 'freak': 1695, 'capabl': 1696, 'jimmi': 1697, 'bright': 1698, 'african': 1699, 'fu': 1700, 'presid': 1701, 'clark': 1702, 'boat': 1703, 'succeed': 1704, 'stock': 1705, 'fat': 1706, 'structur': 1707, 'gene': 1708, 'spanish': 1709, 'kidnap': 1710, 'paper': 1711, 'belief': 1712, 'whilst': 1713, 'factor': 1714, 'educ': 1715, 'complic': 1716, 'bob': 1717, 'attend': 1718, 'realism': 1719, 'witti': 1720, 'tree': 1721, 'realis': 1722, 'finest': 1723, 'broken': 1724, 'assist': 1725, 'santa': 1726, 'smoke': 1727, 'up': 1728, 'determin': 1729, 'v': 1730, 'observ': 1731, 'depart': 1732, 'lewi': 1733, 'domin': 1734, 'hat': 1735, 'oper': 1736, 'fame': 1737, 'rubbish': 1738, 'routin': 1739, 'foreign': 1740, 'lone': 1741, 'safe': 1742, 'hook': 1743, 'advanc': 1744, 'kinda': 1745, 'morgan': 1746, 'rank': 1747, 'numer': 1748, 'shallow': 1749, 'shape': 1750, 'washington': 1751, 'civil': 1752, 'werewolf': 1753, 'rose': 1754, 'vs': 1755, 'morn': 1756, 'gari': 1757, 'kong': 1758, 'winner': 1759, 'accomplish': 1760, 'ordinari': 1761, 'grab': 1762, 'peac': 1763, 'virtual': 1764, 'whenev': 1765, 'h': 1766, 'luck': 1767, 'offens': 1768, 'patient': 1769, 'activ': 1770, 'complain': 1771, 'welcom': 1772, 'unfunni': 1773, 'contriv': 1774, 'bigger': 1775, 'con': 1776, 'pretend': 1777, 'dimension': 1778, 'trek': 1779, 'lesbian': 1780, 'flash': 1781, 'eric': 1782, 'cain': 1783, 'dri': 1784, 'wake': 1785, 'code': 1786, 'manipul': 1787, 'statu': 1788, 'albert': 1789, 'corrupt': 1790, 'guard': 1791, 'dancer': 1792, 'signific': 1793, 'awkward': 1794, 'sourc': 1795, 'speech': 1796, 'context': 1797, 'gain': 1798, 'anthoni': 1799, 'corni': 1800, 'clip': 1801, 'sean': 1802, 'psycho': 1803, '13': 1804, 'reli': 1805, 'curiou': 1806, 'w': 1807, 'religion': 1808, 'advic': 1809, 'priest': 1810, 'theatric': 1811, 'flow': 1812, 'addict': 1813, 'secur': 1814, 'specif': 1815, 'jennif': 1816, 'asian': 1817, 'skin': 1818, 'howard': 1819, 'organ': 1820, 'promot': 1821, 'core': 1822, 'golden': 1823, 'comfort': 1824, 'luke': 1825, 'cash': 1826, 'lucki': 1827, 'cheat': 1828, 'lower': 1829, 'associ': 1830, 'dislik': 1831, 'contribut': 1832, 'devic': 1833, 'degre': 1834, 'frankli': 1835, 'frequent': 1836, 'regret': 1837, 'spell': 1838, 'balanc': 1839, 'wing': 1840, 'forgiv': 1841, 'print': 1842, 'lake': 1843, 'sake': 1844, 'thoma': 1845, 'betti': 1846, 'mass': 1847, 'unexpect': 1848, 'crack': 1849, 'gordon': 1850, 'construct': 1851, 'unfold': 1852, 'amateur': 1853, 'depend': 1854, 'categori': 1855, 'invit': 1856, 'grown': 1857, 'intellectu': 1858, 'walter': 1859, 'grew': 1860, 'honor': 1861, 'condit': 1862, 'anna': 1863, 'matur': 1864, 'mirror': 1865, 'veteran': 1866, 'spectacular': 1867, 'sole': 1868, 'sudden': 1869, 'meanwhil': 1870, 'overli': 1871, 'gift': 1872, 'card': 1873, 'demonstr': 1874, 'experienc': 1875, 'grip': 1876, 'freedom': 1877, 'liner': 1878, 'robin': 1879, 'crappi': 1880, 'circumst': 1881, 'brilliantli': 1882, 'section': 1883, 'subtitl': 1884, 'colour': 1885, 'sheriff': 1886, 'theori': 1887, 'drew': 1888, 'unabl': 1889, 'oliv': 1890, 'matt': 1891, 'laughter': 1892, 'pile': 1893, 'sheer': 1894, 'altern': 1895, 'parker': 1896, 'cook': 1897, 'path': 1898, 'relief': 1899, 'lawyer': 1900, 'treatment': 1901, 'sinatra': 1902, 'wander': 1903, 'defin': 1904, 'accident': 1905, 'hall': 1906, 'dragon': 1907, 'captiv': 1908, 'hank': 1909, 'halloween': 1910, 'moor': 1911, 'gratuit': 1912, 'barbara': 1913, 'broadway': 1914, 'wayn': 1915, 'kung': 1916, 'k': 1917, 'cowboy': 1918, 'jacki': 1919, 'unintent': 1920, 'wound': 1921, 'winter': 1922, 'surreal': 1923, 'canadian': 1924, 'spoof': 1925, 'statement': 1926, 'cheer': 1927, 'treasur': 1928, 'fare': 1929, 'fish': 1930, 'compos': 1931, 'gonna': 1932, 'unrealist': 1933, 'emerg': 1934, 'sensit': 1935, 'woodi': 1936, 'victor': 1937, 'ran': 1938, 'neighbor': 1939, 'sympathet': 1940, 'driven': 1941, 'topic': 1942, 'authent': 1943, 'expos': 1944, 'overlook': 1945, 'glass': 1946, 'menac': 1947, 'michel': 1948, 'ancient': 1949, 'gross': 1950, 'chief': 1951, 'handsom': 1952, 'contemporari': 1953, 'pleasant': 1954, 'feet': 1955, 'nevertheless': 1956, 'russel': 1957, 'stranger': 1958, 'network': 1959, 'built': 1960, 'comedian': 1961, 'cinderella': 1962, 'blockbust': 1963, 'endless': 1964, 'gori': 1965, 'letter': 1966, 'consider': 1967, 'underr': 1968, 'miser': 1969, 'earn': 1970, 'switch': 1971, 'solv': 1972, 'brook': 1973, 'virgin': 1974, 'bullet': 1975, 'joseph': 1976, 'edward': 1977, 'convict': 1978, 'victoria': 1979, 'scenario': 1980, 'chosen': 1981, 'alex': 1982, 'scale': 1983, 'cynic': 1984, '0': 1985, 'gut': 1986, 'sword': 1987, 'outrag': 1988, 'com': 1989, 'curs': 1990, 'driver': 1991, 'wrap': 1992, 'uk': 1993, 'proper': 1994, 'substanc': 1995, 'juli': 1996, 'screenwrit': 1997, 'monkey': 1998, 'indic': 1999, 'bird': 2000, 'remov': 2001, 'court': 2002, 'par': 2003, 'roy': 2004, 'rental': 2005, 'inevit': 2006, 'grave': 2007, 'nanci': 2008, 'consequ': 2009, 'naiv': 2010, 'advertis': 2011, 'loser': 2012, 'slap': 2013, 'fatal': 2014, 'le': 2015, 'brave': 2016, 'invis': 2017, 'germani': 2018, 'bridg': 2019, 'provok': 2020, 'footbal': 2021, 'loui': 2022, 'anger': 2023, 'ador': 2024, 'anderson': 2025, 'alcohol': 2026, 'chan': 2027, 'professor': 2028, 'stumbl': 2029, 'ryan': 2030, 'willi': 2031, '1930': 2032, 'australian': 2033, 'assassin': 2034, 'bat': 2035, 'sharp': 2036, 'patrick': 2037, 'amateurish': 2038, 'strongli': 2039, 'refresh': 2040, 'eight': 2041, 'deni': 2042, 'liber': 2043, 'saturday': 2044, 'lousi': 2045, 'cell': 2046, 'ape': 2047, 'heck': 2048, 'trilog': 2049, 'sin': 2050, 'resid': 2051, 'san': 2052, 'justifi': 2053, 'vagu': 2054, 'terrifi': 2055, 'mini': 2056, 'indi': 2057, 'defeat': 2058, 'reput': 2059, 'creator': 2060, 'sympathi': 2061, 'tabl': 2062, 'prevent': 2063, 'expert': 2064, 'task': 2065, 'endur': 2066, 'tediou': 2067, 'basebal': 2068, 'employ': 2069, 'trial': 2070, 'offend': 2071, 'imit': 2072, 'rival': 2073, 'che': 2074, 'europ': 2075, 'complaint': 2076, 'dig': 2077, 'fairi': 2078, 'pitch': 2079, 'weekend': 2080, 'max': 2081, 'beach': 2082, 'murphi': 2083, 'risk': 2084, 'purchas': 2085, 'format': 2086, 'harsh': 2087, 'titan': 2088, 'bite': 2089, 'nois': 2090, 'hype': 2091, 'powel': 2092, 'reminisc': 2093, 'tini': 2094, 'glimps': 2095, 'till': 2096, 'north': 2097, 'strip': 2098, '14': 2099, 'fals': 2100, 'prime': 2101, 'asleep': 2102, 'revel': 2103, 'texa': 2104, 'africa': 2105, 'destruct': 2106, 'descript': 2107, 'sitcom': 2108, 'surfac': 2109, 'arrest': 2110, 'inner': 2111, 'spin': 2112, 'excess': 2113, 'uninterest': 2114, 'semi': 2115, 'dinosaur': 2116, 'controversi': 2117, 'argu': 2118, 'hitchcock': 2119, 'twin': 2120, 'maintain': 2121, 'massiv': 2122, 'makeup': 2123, 'reject': 2124, 'kim': 2125, 'expens': 2126, 'ludicr': 2127, 'insist': 2128, 'stare': 2129, 'melodrama': 2130, 'ideal': 2131, 'subplot': 2132, 'erot': 2133, 'columbo': 2134, 'forest': 2135, 'atroci': 2136, 'supernatur': 2137, 'nail': 2138, 'ala': 2139, 'press': 2140, 'ga': 2141, 'host': 2142, 'identifi': 2143, 'cant': 2144, 'notch': 2145, 'dude': 2146, 'presum': 2147, 'closer': 2148, 'method': 2149, 'crude': 2150, 'character': 2151, 'guest': 2152, 'plagu': 2153, 'forgett': 2154, 'foster': 2155, 'border': 2156, 'landscap': 2157, 'princess': 2158, 'lion': 2159, 'ear': 2160, 'beast': 2161, 'birth': 2162, 'storytel': 2163, 'previous': 2164, 'jungl': 2165, 'aunt': 2166, 'pacino': 2167, 'bound': 2168, 'damag': 2169, 'accus': 2170, 'urban': 2171, 'nude': 2172, 'chose': 2173, 'doll': 2174, 'propaganda': 2175, 'emma': 2176, 'guid': 2177, 'jess': 2178, 'thirti': 2179, 'mainstream': 2180, 'warrior': 2181, 'mate': 2182, 'pet': 2183, '25': 2184, 'whoever': 2185, 'exact': 2186, 'friday': 2187, 'latest': 2188, 'size': 2189, 'poster': 2190, 'deadli': 2191, 'merit': 2192, 'cooper': 2193, 'gritti': 2194, 'upset': 2195, 'blend': 2196, '1990': 2197, 'contact': 2198, 'buff': 2199, 'warner': 2200, 'contest': 2201, 'sun': 2202, 'popul': 2203, 'corps': 2204, 'rough': 2205, 'citizen': 2206, 'wilson': 2207, 'settl': 2208, 'ton': 2209, 'mgm': 2210, 'select': 2211, 'environ': 2212, 'overcom': 2213, 'pitt': 2214, 'metal': 2215, 'bu': 2216, 'widow': 2217, 'alic': 2218, 'rat': 2219, 'guilti': 2220, 'lift': 2221, 'ted': 2222, 'revolut': 2223, 'link': 2224, 'particip': 2225, 'accompani': 2226, 'johnson': 2227, '1960': 2228, 'corpor': 2229, 'prostitut': 2230, 'moron': 2231, 'afternoon': 2232, 'matrix': 2233, 'exagger': 2234, 'corner': 2235, 'doom': 2236, 'holm': 2237, 'sincer': 2238, 'multipl': 2239, 'friendli': 2240, 'clair': 2241, 'leagu': 2242, 'instal': 2243, 'hood': 2244, 'irish': 2245, 'sunday': 2246, 'grim': 2247, 'hip': 2248, 'junk': 2249, 'blah': 2250, 'advis': 2251, 'aka': 2252, 'campi': 2253, 'string': 2254, 'defend': 2255, 'examin': 2256, 'lugosi': 2257, 'rachel': 2258, 'shake': 2259, 'tight': 2260, 'icon': 2261, 'confid': 2262, 'shut': 2263, 'pro': 2264, 'varieti': 2265, 'directli': 2266, 'attach': 2267, 'mexican': 2268, 'denni': 2269, 'goal': 2270, 'jaw': 2271, 'medic': 2272, 'sullivan': 2273, 'sentenc': 2274, 'duke': 2275, 'dean': 2276, 'truck': 2277, 'bourn': 2278, 'legendari': 2279, 'courag': 2280, 'vietnam': 2281, 'terrorist': 2282, 'breast': 2283, 'prior': 2284, 'sarah': 2285, 'yell': 2286, 'entri': 2287, 'hong': 2288, 'behav': 2289, 'donald': 2290, 'nose': 2291, 'proceed': 2292, 'un': 2293, 'split': 2294, 'swim': 2295, 'lifetim': 2296, 'forth': 2297, 'buri': 2298, 'unconvinc': 2299, 'everywher': 2300, 'jerk': 2301, 'concentr': 2302, 'crush': 2303, 'gather': 2304, 'borrow': 2305, 'stolen': 2306, 'confess': 2307, 'spite': 2308, 'lip': 2309, 'pan': 2310, 'julia': 2311, 'deliveri': 2312, 'california': 2313, 'turkey': 2314, 'downright': 2315, 'reward': 2316, 'flight': 2317, 'hoffman': 2318, 'proud': 2319, 'china': 2320, 'offici': 2321, 'quest': 2322, 'freeman': 2323, 'fabul': 2324, 'jail': 2325, 'sink': 2326, 'worthwhil': 2327, 'lazi': 2328, 'encourag': 2329, 'inept': 2330, 'jon': 2331, 'fade': 2332, 'betray': 2333, 'notori': 2334, 'sir': 2335, 'imageri': 2336, 'branagh': 2337, 'bell': 2338, 'susan': 2339, 'survivor': 2340, 'teeth': 2341, 'shower': 2342, 'lisa': 2343, 'bag': 2344, 'retard': 2345, 'storm': 2346, 'relev': 2347, 'cousin': 2348, 'shark': 2349, 'bride': 2350, 'facial': 2351, 'toler': 2352, 'trade': 2353, 'mexico': 2354, 'summari': 2355, 'quirki': 2356, 'tremend': 2357, 'stab': 2358, 'alright': 2359, 'hugh': 2360, 'finger': 2361, 'blown': 2362, 'pose': 2363, 'bitter': 2364, 'hyster': 2365, 'von': 2366, 'ha': 2367, 'bone': 2368, 'larri': 2369, 'ron': 2370, 'address': 2371, 'ned': 2372, 'christ': 2373, 'afterward': 2374, 'cruel': 2375, 'scheme': 2376, 'pursu': 2377, 'thumb': 2378, 'snake': 2379, 'screw': 2380, 'traci': 2381, 'swear': 2382, 'feed': 2383, 'distinct': 2384, 'beg': 2385, 'tour': 2386, 'raw': 2387, 'occas': 2388, 'mechan': 2389, 'chair': 2390, 'obscur': 2391, 'photo': 2392, 'stomach': 2393, 'necessarili': 2394, 'gruesom': 2395, 'sidney': 2396, 'hardi': 2397, 'holiday': 2398, 'chain': 2399, 'southern': 2400, 'cabin': 2401, 'resist': 2402, 'heavili': 2403, 'argument': 2404, 'render': 2405, 'india': 2406, 'understood': 2407, 'racist': 2408, 'satan': 2409, 'philip': 2410, 'indulg': 2411, 'obnoxi': 2412, 'stalk': 2413, 'integr': 2414, 'fourth': 2415, 'forgot': 2416, 'pregnant': 2417, 'outfit': 2418, 'lay': 2419, 'belov': 2420, 'midnight': 2421, 'tongu': 2422, 'slapstick': 2423, 'magazin': 2424, 'inhabit': 2425, 'garden': 2426, 'ticket': 2427, 'carol': 2428, 'restor': 2429, '17': 2430, 'deeper': 2431, 'lincoln': 2432, 'shoe': 2433, 'incid': 2434, 'devot': 2435, 'brad': 2436, 'anticip': 2437, 'divorc': 2438, 'benefit': 2439, 'lili': 2440, 'guarante': 2441, 'sandler': 2442, 'disbelief': 2443, 'elizabeth': 2444, 'underground': 2445, 'maria': 2446, 'princip': 2447, 'explod': 2448, 'mildli': 2449, 'capit': 2450, 'cring': 2451, 'slave': 2452, 'bbc': 2453, 'amazingli': 2454, 'creation': 2455, 'greater': 2456, 'extraordinari': 2457, 'introduct': 2458, 'lesli': 2459, 'halfway': 2460, 'funnier': 2461, 'overwhelm': 2462, 'enhanc': 2463, 'advantag': 2464, 'wreck': 2465, 'punish': 2466, 'extent': 2467, 'tap': 2468, 'transfer': 2469, 'text': 2470, 'dynam': 2471, 'lo': 2472, 'horrif': 2473, 'lane': 2474, 'error': 2475, 'preview': 2476, 'plant': 2477, 'east': 2478, 'jessica': 2479, 'deliber': 2480, 'sophist': 2481, '2000': 2482, 'homosexu': 2483, 'ensu': 2484, 'miscast': 2485, 'vincent': 2486, 'vacat': 2487, 'miller': 2488, 'basi': 2489, 'appli': 2490, 'mansion': 2491, 'steel': 2492, 'reed': 2493, 'via': 2494, 'uncomfort': 2495, 'spoken': 2496, 'extend': 2497, 'measur': 2498, 'elev': 2499, 'sleazi': 2500, 'bollywood': 2501, 'goofi': 2502, 'savag': 2503, 'breathtak': 2504, 'cathol': 2505, 'mous': 2506, 'conceiv': 2507, 'beer': 2508, 'alter': 2509, 'assign': 2510, 'overact': 2511, 'daili': 2512, 'stanley': 2513, 'hippi': 2514, 'blair': 2515, 'melt': 2516, 'dentist': 2517, 'fix': 2518, 'succe': 2519, 'inspector': 2520, 'subsequ': 2521, 'everyday': 2522, 'burt': 2523, 'properli': 2524, 'sacrific': 2525, 'oppos': 2526, 'nowaday': 2527, 'carpent': 2528, 'circl': 2529, 'laura': 2530, 'block': 2531, 'neck': 2532, 'massacr': 2533, 'fallen': 2534, 'access': 2535, 'portrait': 2536, 'fay': 2537, 'pool': 2538, 'grey': 2539, 'lesser': 2540, 'concert': 2541, 'mob': 2542, 'christi': 2543, 'seagal': 2544, 'sinist': 2545, 'competit': 2546, 'relax': 2547, 'chees': 2548, 'isol': 2549, 'usa': 2550, 'react': 2551, 'jewish': 2552, 'jake': 2553, 'lyric': 2554, 'creep': 2555, 'nine': 2556, 'appal': 2557, '2006': 2558, 'suitabl': 2559, 'chop': 2560, 'spiritu': 2561, 'immens': 2562, 'nonetheless': 2563, 'ironi': 2564, 'stink': 2565, 'user': 2566, 'reduc': 2567, 'needless': 2568, 'shirt': 2569, 'spring': 2570, 'sold': 2571, 'retir': 2572, 'nut': 2573, 'franchis': 2574, 'luci': 2575, 'adopt': 2576, 'showcas': 2577, 'rage': 2578, 'navi': 2579, 'bath': 2580, 'asham': 2581, 'per': 2582, 'zone': 2583, 'jay': 2584, 'stanwyck': 2585, 'bulli': 2586, 'nurs': 2587, 'digit': 2588, 'uninspir': 2589, 'illustr': 2590, 'upper': 2591, '1940': 2592, 'broadcast': 2593, 'sutherland': 2594, 'amongst': 2595, 'oddli': 2596, 'laid': 2597, '2001': 2598, 'throat': 2599, 'aspir': 2600, 'brando': 2601, 'baker': 2602, 'disguis': 2603, 'fulfil': 2604, 'stylish': 2605, 'wanna': 2606, 'wwii': 2607, 'neighborhood': 2608, '18': 2609, 'endear': 2610, 'em': 2611, 'impli': 2612, 'thief': 2613, 'nobl': 2614, 'pound': 2615, 'pride': 2616, 'cinematograph': 2617, 'albeit': 2618, 'prop': 2619, 'coher': 2620, 'tens': 2621, 'diseas': 2622, 'bo': 2623, 'shoulder': 2624, 'dinner': 2625, 'dawn': 2626, 'shift': 2627, 'rochest': 2628, 'bett': 2629, '16': 2630, 'distribut': 2631, 'wash': 2632, 'forti': 2633, 'matthau': 2634, 'contract': 2635, 'shout': 2636, 'silenc': 2637, 'rebel': 2638, 'knife': 2639, 'function': 2640, 'poignant': 2641, 'snow': 2642, 'surf': 2643, 'eeri': 2644, 'cancel': 2645, 'mindless': 2646, 'heat': 2647, 'reunion': 2648, 'chuck': 2649, 'derek': 2650, 'height': 2651, 'henc': 2652, 'duti': 2653, 'cannib': 2654, 'instinct': 2655, 'silver': 2656, 'proof': 2657, 'internet': 2658, 'elvira': 2659, 'widmark': 2660, 'horrend': 2661, 'premier': 2662, 'neat': 2663, 'etern': 2664, 'glori': 2665, 'repetit': 2666, 'mill': 2667, 'torn': 2668, 'greatli': 2669, 'pie': 2670, 'musician': 2671, 'absorb': 2672, 'innov': 2673, 'alik': 2674, 'incoher': 2675, 'spielberg': 2676, 'elvi': 2677, 'homag': 2678, 'trite': 2679, 'lovabl': 2680, 'itali': 2681, 'redempt': 2682, 'fbi': 2683, 'horrifi': 2684, 'britain': 2685, 'nelson': 2686, 'racism': 2687, 'blank': 2688, 'infam': 2689, 'precis': 2690, 'bang': 2691, 'burton': 2692, 'wealthi': 2693, 'announc': 2694, 'diamond': 2695, 'crisi': 2696, 'streisand': 2697, 'dedic': 2698, 'helen': 2699, 'happili': 2700, 'resolut': 2701, 'hammer': 2702, 'ensembl': 2703, 'flop': 2704, 'wilder': 2705, 'pat': 2706, 'parallel': 2707, 'chaplin': 2708, 'oil': 2709, 'broke': 2710, 'disagre': 2711, 'factori': 2712, 'plastic': 2713, 'cube': 2714, 'mar': 2715, 'conclud': 2716, 'carter': 2717, 'st': 2718, 'triumph': 2719, 'rocket': 2720, 'chuckl': 2721, 'march': 2722, 'row': 2723, 'own': 2724, 'climb': 2725, 'fighter': 2726, 'weight': 2727, 'bush': 2728, 'vega': 2729, 'dump': 2730, 'spare': 2731, 'mst3k': 2732, 'luca': 2733, 'kurt': 2734, 'thug': 2735, 'meaning': 2736, 'enorm': 2737, 'sensibl': 2738, 'wherea': 2739, 'unforgett': 2740, 'lust': 2741, 'dane': 2742, 'boot': 2743, 'adequ': 2744, 'stress': 2745, 'difficulti': 2746, 'engin': 2747, 'threat': 2748, 'brand': 2749, 'butt': 2750, 'arnold': 2751, 'karloff': 2752, 'bobbi': 2753, 'rap': 2754, 'fifti': 2755, 'caricatur': 2756, 'dear': 2757, 'journalist': 2758, 'homeless': 2759, 'hamlet': 2760, 'barri': 2761, 'polish': 2762, 'arrog': 2763, 'elabor': 2764, 'fest': 2765, 'flynn': 2766, 'swing': 2767, 'ego': 2768, 'secretari': 2769, 'ralph': 2770, 'unbear': 2771, 'spike': 2772, 'grate': 2773, 'tool': 2774, 'induc': 2775, 'conspiraci': 2776, 'float': 2777, 'simpson': 2778, 'resort': 2779, 'arrang': 2780, 'fanci': 2781, 'puppet': 2782, 'tribut': 2783, 'guilt': 2784, 'phillip': 2785, 'basement': 2786, 'choreograph': 2787, 'cruis': 2788, 'exercis': 2789, 'pig': 2790, 'boll': 2791, 'muppet': 2792, 'babe': 2793, 'document': 2794, 'layer': 2795, 'medium': 2796, 'puzzl': 2797, 'ward': 2798, '24': 2799, 'fianc': 2800, 'slip': 2801, 'file': 2802, 'toilet': 2803, 'korean': 2804, 'tower': 2805, 'item': 2806, 'ham': 2807, 'editor': 2808, 'scarecrow': 2809, 'stan': 2810, 'superfici': 2811, 'doc': 2812, 'transit': 2813, 'minim': 2814, 'catherin': 2815, 'assur': 2816, 'librari': 2817, 'inexplic': 2818, 'portion': 2819, 'spark': 2820, 'orient': 2821, 'philosoph': 2822, 'glover': 2823, 'territori': 2824, 'larger': 2825, 'persona': 2826, 'slaughter': 2827, 'denzel': 2828, 'curti': 2829, 'ban': 2830, 'sneak': 2831, 'wolf': 2832, 'dorothi': 2833, 'shi': 2834, 'jeremi': 2835, 'jet': 2836, 'owe': 2837, 'pg': 2838, 'financi': 2839, 'boredom': 2840, 'walken': 2841, 'profound': 2842, 'hudson': 2843, 'cusack': 2844, 'multi': 2845, 'whale': 2846, 'eleph': 2847, 'ambigu': 2848, 'metaphor': 2849, 'backdrop': 2850, 'ultra': 2851, 'rave': 2852, 'stiff': 2853, 'notion': 2854, 'elsewher': 2855, 'union': 2856, '2005': 2857, 'hack': 2858, 'viru': 2859, 'birthday': 2860, 'implaus': 2861, 'gadget': 2862, 'urg': 2863, 'poison': 2864, 'eva': 2865, 'newspap': 2866, 'afford': 2867, 'deriv': 2868, 'distanc': 2869, 'slight': 2870, 'disc': 2871, 'squar': 2872, 'pad': 2873, 'bibl': 2874, 'reader': 2875, 'eastwood': 2876, 'lloyd': 2877, '1st': 2878, 'canada': 2879, 'superhero': 2880, 'hawk': 2881, 'health': 2882, 'button': 2883, 'cure': 2884, 'restaur': 2885, 'drown': 2886, 'spread': 2887, 'huh': 2888, 'heston': 2889, 'sadist': 2890, 'skit': 2891, 'essenc': 2892, 'charisma': 2893, 'montag': 2894, 'invest': 2895, 'estat': 2896, 'lab': 2897, 'fetch': 2898, 'companion': 2899, 'gradual': 2900, 'godfath': 2901, 'dealt': 2902, 'muslim': 2903, 'scoobi': 2904, 'maniac': 2905, 'peak': 2906, 'gothic': 2907, 'servant': 2908, 'countless': 2909, 'cup': 2910, 'alli': 2911, 'ritter': 2912, 'kane': 2913, 'subtleti': 2914, 'tea': 2915, 'miik': 2916, 'heroic': 2917, 'electr': 2918, 'iii': 2919, 'briefli': 2920, 'charismat': 2921, 'salli': 2922, 'elect': 2923, 'tender': 2924, 'grandmoth': 2925, 'toss': 2926, 'cole': 2927, 'resourc': 2928, 'ingredi': 2929, 'nuanc': 2930, 'neil': 2931, 'wannab': 2932, 'reel': 2933, 'bud': 2934, 'admittedli': 2935, 'pit': 2936, 'shall': 2937, 'label': 2938, 'mafia': 2939, 'reev': 2940, 'mild': 2941, 'poverti': 2942, 'gate': 2943, 'stood': 2944, 'punk': 2945, 'pauli': 2946, 'carrey': 2947, 'stronger': 2948, 'kubrick': 2949, 'dawson': 2950, 'outcom': 2951, 'bakshi': 2952, 'ian': 2953, 'easier': 2954, 'tag': 2955, 'updat': 2956, 'smash': 2957, 'useless': 2958, 'smooth': 2959, 'fond': 2960, 'burst': 2961, 'astair': 2962, 'terri': 2963, 'assault': 2964, 'cox': 2965, 'cardboard': 2966, 'rex': 2967, '2002': 2968, 'resolv': 2969, 'samurai': 2970, 'sketch': 2971, 'melodramat': 2972, 'increasingli': 2973, 'vulner': 2974, 'coincid': 2975, 'exchang': 2976, 'vari': 2977, 'fist': 2978, 'divers': 2979, 'qualifi': 2980, 'suspend': 2981, 'conveni': 2982, 'luckili': 2983, 'blast': 2984, 'reynold': 2985, 'tame': 2986, 'scratch': 2987, 'insert': 2988, 'brillianc': 2989, 'templ': 2990, 'be': 2991, 'meat': 2992, 'jami': 2993, 'nuclear': 2994, 'strictli': 2995, 'pin': 2996, 'ambiti': 2997, 'hamilton': 2998, 'matthew': 2999, 'farm': 3000, 'seventi': 3001, 'fisher': 3002, 'gotta': 3003, 'walker': 3004, 'soprano': 3005, 'coach': 3006, 'joey': 3007, 'convolut': 3008, 'monk': 3009, 'closet': 3010, 'discoveri': 3011, 'instantli': 3012, 'worthless': 3013, 'cave': 3014, 'clock': 3015, 'eccentr': 3016, 'recreat': 3017, 'spooki': 3018, 'butcher': 3019, 'ninja': 3020, 'grasp': 3021, 'empir': 3022, 'kudo': 3023, 'struck': 3024, 'timeless': 3025, 'revers': 3026, 'brosnan': 3027, 'communist': 3028, 'cliff': 3029, 'pal': 3030, 'norman': 3031, 'inconsist': 3032, 'partli': 3033, 'bleak': 3034, 'clown': 3035, 'fifteen': 3036, 'evok': 3037, 'miracl': 3038, 'importantli': 3039, 'mitchel': 3040, 'sidekick': 3041, 'selfish': 3042, 'declar': 3043, 'wipe': 3044, 'eighti': 3045, 'sloppi': 3046, 'seller': 3047, 'gray': 3048, 'australia': 3049, 'farc': 3050, 'destin': 3051, 'debat': 3052, 'psychiatrist': 3053, 'piano': 3054, 'chew': 3055, 'aforement': 3056, 'seed': 3057, '45': 3058, 'enthusiast': 3059, 'ho': 3060, 'flawless': 3061, 'cheek': 3062, 'superbl': 3063, 'stoog': 3064, 'lifestyl': 3065, 'websit': 3066, 'akshay': 3067, 'bash': 3068, 'wrestl': 3069, 'pressur': 3070, 'dash': 3071, 'slice': 3072, 'wick': 3073, 'regardless': 3074, 'dire': 3075, 'soviet': 3076, 'kitchen': 3077, 'incompet': 3078, 'drivel': 3079, 'anni': 3080, 'splatter': 3081, 'emili': 3082, 'directori': 3083, 'abc': 3084, 'cia': 3085, 'flower': 3086, 'ken': 3087, 'curios': 3088, 'boil': 3089, 'beaten': 3090, 'judi': 3091, 'mann': 3092, 'lou': 3093, 'recov': 3094, 'increas': 3095, 'suppli': 3096, 'helicopt': 3097, 'dave': 3098, 'glow': 3099, 'artifici': 3100, 'doo': 3101, 'prize': 3102, 'duo': 3103, 'pleasantli': 3104, 'distant': 3105, 'cameron': 3106, 'blob': 3107, 'jar': 3108, 'seduc': 3109, 'chapter': 3110, 'cagney': 3111, 'drunken': 3112, 'splendid': 3113, 'ranger': 3114, 'craig': 3115, 'glenn': 3116, 'favour': 3117, 'panic': 3118, 'combat': 3119, 'ellen': 3120, 'hop': 3121, 'eleg': 3122, 'perri': 3123, 'francisco': 3124, 'craven': 3125, 'psychot': 3126, 'turner': 3127, 'web': 3128, 'laurel': 3129, 'goldberg': 3130, 'wizard': 3131, 'rid': 3132, 'gandhi': 3133, 'plausibl': 3134, 'modesti': 3135, 'gentl': 3136, 'hatr': 3137, 'falk': 3138, 'alexand': 3139, 'shortli': 3140, 'greek': 3141, 'slightest': 3142, 'min': 3143, 'ruth': 3144, 'graduat': 3145, '20th': 3146, 'fx': 3147, 'flip': 3148, 'philosophi': 3149, 'holi': 3150, 'manhattan': 3151, 'fund': 3152, 'tall': 3153, 'unpleas': 3154, 'preciou': 3155, 'harm': 3156, 'knight': 3157, 'ocean': 3158, 'legal': 3159, 'jealou': 3160, 'futurist': 3161, 'we': 3162, 'dracula': 3163, 'lend': 3164, 'felix': 3165, 'digniti': 3166, 'giallo': 3167, 'scientif': 3168, 'explicit': 3169, 'ami': 3170, 'forbidden': 3171, 'tank': 3172, 'childish': 3173, 'overdon': 3174, 'thread': 3175, 'nod': 3176, 'bless': 3177, 'mock': 3178, 'reviv': 3179, '99': 3180, 'pirat': 3181, 'unwatch': 3182, 'thick': 3183, 'eve': 3184, 'broad': 3185, 'yesterday': 3186, 'margaret': 3187, 'awe': 3188, 'elderli': 3189, 'nerv': 3190, 'mel': 3191, 'repeatedli': 3192, 'fever': 3193, 'awaken': 3194, '2004': 3195, 'torment': 3196, 'verhoeven': 3197, 'rivet': 3198, 'griffith': 3199, 'publish': 3200, 'ambit': 3201, 'politician': 3202, 'roman': 3203, 'kay': 3204, 'eas': 3205, 'romero': 3206, 'lean': 3207, 'absenc': 3208, 'custom': 3209, 'ah': 3210, 'stiller': 3211, 'royal': 3212, 'uniform': 3213, 'timothi': 3214, 'bin': 3215, 'launch': 3216, 'automat': 3217, 'acclaim': 3218, 'wallac': 3219, 'transport': 3220, 'darker': 3221, 'pulp': 3222, 'pierc': 3223, 'antic': 3224, 'gabriel': 3225, 'crook': 3226, 'stinker': 3227, 'phrase': 3228, 'tomato': 3229, 'warren': 3230, 'purpl': 3231, 'foul': 3232, 'sunshin': 3233, 'bathroom': 3234, 'homicid': 3235, 'termin': 3236, 'juvenil': 3237, 'saint': 3238, 'q': 3239, 'coloni': 3240, 'viciou': 3241, 'donna': 3242, 'marin': 3243, 'revolutionari': 3244, 'packag': 3245, '2003': 3246, 'pray': 3247, 'choreographi': 3248, 'hollow': 3249, 'awak': 3250, 'contrari': 3251, 'kenneth': 3252, 'evolv': 3253, 'karen': 3254, 'ought': 3255, 'li': 3256, 'eyr': 3257, 'horrid': 3258, 'sixti': 3259, 'brazil': 3260, 'rambo': 3261, 'prom': 3262, 'album': 3263, 'blade': 3264, 'dose': 3265, 'boast': 3266, 'candid': 3267, 'beatti': 3268, 'ireland': 3269, 'conserv': 3270, 'overr': 3271, 'defi': 3272, 'twelv': 3273, 'kapoor': 3274, 'mildr': 3275, 'stole': 3276, 'nerd': 3277, 'option': 3278, 'mummi': 3279, 'ramon': 3280, 'funer': 3281, 'collabor': 3282, 'flame': 3283, 'confirm': 3284, 'protest': 3285, 'global': 3286, 'natali': 3287, 'fulci': 3288, 'trio': 3289, 'altman': 3290, 'detract': 3291, 'astonish': 3292, 'kirk': 3293, 'jazz': 3294, 'mystic': 3295, 'whip': 3296, 'bottl': 3297, 'racial': 3298, 'audio': 3299, 'enterpris': 3300, 'blake': 3301, 'leap': 3302, 'nicholson': 3303, 'shade': 3304, 'yellow': 3305, 'tommi': 3306, 'destini': 3307, 'delici': 3308, 'bull': 3309, 'spit': 3310, 'popcorn': 3311, 'altogeth': 3312, 'reunit': 3313, 'fonda': 3314, 'pseudo': 3315, 'bedroom': 3316, 'adolesc': 3317, 'enchant': 3318, 'merci': 3319, 'threw': 3320, 'inherit': 3321, 'harder': 3322, 'staff': 3323, 'neo': 3324, 'vivid': 3325, 'visibl': 3326, 'meaningless': 3327, 'swedish': 3328, 'todd': 3329, 'exhibit': 3330, 'tip': 3331, 'kennedi': 3332, 'leonard': 3333, 'wire': 3334, 'lemmon': 3335, 'await': 3336, 'suspici': 3337, 'bust': 3338, 'ruthless': 3339, 'synopsi': 3340, 'decor': 3341, 'moodi': 3342, 'atlanti': 3343, 'voight': 3344, 'jew': 3345, 'madonna': 3346, 'reserv': 3347, 'befriend': 3348, 'roommat': 3349, 'respond': 3350, 'uneven': 3351, 'fanat': 3352, 'edi': 3353, 'lawrenc': 3354, 'crocodil': 3355, 'ventur': 3356, 'unsettl': 3357, 'incident': 3358, '2007': 3359, 'garner': 3360, 'bradi': 3361, 'audit': 3362, 'clumsi': 3363, 'clint': 3364, 'bold': 3365, 'dimens': 3366, 'voyag': 3367, 'bargain': 3368, 'centr': 3369, 'rural': 3370, 'chao': 3371, 'palma': 3372, 'holli': 3373, 'carl': 3374, 'abysm': 3375, 'characterist': 3376, 'echo': 3377, 'nearbi': 3378, '2nd': 3379, 'cari': 3380, 'immigr': 3381, 'acknowledg': 3382, 'poetic': 3383, 'neglect': 3384, 'lit': 3385, 'humili': 3386, 'wealth': 3387, 'tiger': 3388, 'mall': 3389, 'hart': 3390, 'versu': 3391, 'daddi': 3392, 'timon': 3393, 'troop': 3394, 'elimin': 3395, 'cuba': 3396, 'trail': 3397, 'imperson': 3398, 'ant': 3399, 'cd': 3400, 'paus': 3401, 'prejudic': 3402, 'repuls': 3403, 'domest': 3404, 'mickey': 3405, 'collaps': 3406, 'jeffrey': 3407, 'mistaken': 3408, 'marshal': 3409, 'solo': 3410, 'pun': 3411, 'saga': 3412, 'infect': 3413, 'homer': 3414, 'celluloid': 3415, 'sore': 3416, 'assembl': 3417, 'coffe': 3418, 'undoubtedli': 3419, 'inan': 3420, 'hbo': 3421, 'equip': 3422, 'coat': 3423, 'tribe': 3424, 'ginger': 3425, 'pant': 3426, 'gear': 3427, 'promin': 3428, 'harvey': 3429, 'leon': 3430, '1996': 3431, 'apolog': 3432, 'cake': 3433, 'milk': 3434, 'interrupt': 3435, 'chest': 3436, 'inappropri': 3437, 'olivi': 3438, 'trace': 3439, 'brooklyn': 3440, 'institut': 3441, 'aveng': 3442, 'humbl': 3443, 'devast': 3444, 'embrac': 3445, 'furthermor': 3446, 'solut': 3447, 'florida': 3448, 'highest': 3449, 'pot': 3450, 'vulgar': 3451, 'consum': 3452, 'exot': 3453, 'colonel': 3454, 'airplan': 3455, 'instant': 3456, 'retain': 3457, 'pen': 3458, 'primari': 3459, 'jenni': 3460, 'polanski': 3461, 'maggi': 3462, 'colleagu': 3463, 'outer': 3464, 'gender': 3465, 'smaller': 3466, 'wive': 3467, '3rd': 3468, 'dian': 3469, 'sale': 3470, 'seduct': 3471, 'principl': 3472, 'strain': 3473, 'linda': 3474, 'bowl': 3475, '1999': 3476, 'cope': 3477, 'ya': 3478, 'illog': 3479, 'godzilla': 3480, 'rick': 3481, 'disabl': 3482, 'dutch': 3483, 'poke': 3484, 'descend': 3485, 'lol': 3486, 'yard': 3487, 'secondli': 3488, 'devoid': 3489, 'glamor': 3490, 'hal': 3491, 'gloriou': 3492, 'cue': 3493, 'scope': 3494, 'primarili': 3495, 'vast': 3496, 'inferior': 3497, 'predecessor': 3498, 'beneath': 3499, 'dive': 3500, 'dud': 3501, 'blatant': 3502, 'mixtur': 3503, 'bubbl': 3504, 'gundam': 3505, 'rabbit': 3506, 'hideou': 3507, 'simplist': 3508, 'aggress': 3509, 'senseless': 3510, 'myer': 3511, 'museum': 3512, 'alert': 3513, 'talki': 3514, 'shelf': 3515, 'trademark': 3516, 'alfr': 3517, 'disjoint': 3518, 'z': 3519, 'breed': 3520, 'countrysid': 3521, 'casual': 3522, 'streep': 3523, 'shirley': 3524, 'et': 3525, 'pearl': 3526, 'invas': 3527, 'april': 3528, 'arab': 3529, 'domino': 3530, 'garbo': 3531, 'grinch': 3532, 'oz': 3533, 'applaud': 3534, 'stack': 3535, 'boom': 3536, 'slide': 3537, 'hopeless': 3538, 'vanish': 3539, 'stir': 3540, 'mail': 3541, 'hardcor': 3542, 'defens': 3543, 'mayor': 3544, 'acid': 3545, 'robinson': 3546, 'illeg': 3547, 'obtain': 3548, 'loyal': 3549, 'khan': 3550, 'stellar': 3551, 'unhappi': 3552, 'maci': 3553, 'rendit': 3554, 'disgrac': 3555, 'uwe': 3556, 'robberi': 3557, 'sh': 3558, 'experiment': 3559, 'emphasi': 3560, 'recruit': 3561, 'spider': 3562, 'rifl': 3563, 'fri': 3564, 'counter': 3565, 'tenant': 3566, 'soccer': 3567, 'declin': 3568, 'berlin': 3569, 'craze': 3570, 'psychic': 3571, 'blew': 3572, 'amanda': 3573, 'incomprehens': 3574, 'dismiss': 3575, 'grandfath': 3576, 'wont': 3577, 'topless': 3578, 'span': 3579, 'diana': 3580, 'tempt': 3581, 'hartley': 3582, 'dicken': 3583, 'scroog': 3584, 'shaw': 3585, 'intim': 3586, 'lumet': 3587, 'woo': 3588, 'wet': 3589, 'ethnic': 3590, 'ration': 3591, 'revolt': 3592, 'riot': 3593, 'sympath': 3594, 'niro': 3595, 'resurrect': 3596, 'sibl': 3597, 'goer': 3598, 'trashi': 3599, 'justin': 3600, 'faster': 3601, 'shed': 3602, 'porno': 3603, 'parad': 3604, 'bitch': 3605, 'dealer': 3606, 'farmer': 3607, 'commend': 3608, 'partial': 3609, 'feminist': 3610, 'ensur': 3611, 'hesit': 3612, '00': 3613, 'region': 3614, 'enlighten': 3615, 'unreal': 3616, 'hopper': 3617, 'immort': 3618, 'ballet': 3619, 'biographi': 3620, 'jonathan': 3621, 'eager': 3622, 'lena': 3623, 'weakest': 3624, 'wheel': 3625, 'slick': 3626, 'gap': 3627, 'choru': 3628, 'mario': 3629, 'worm': 3630, 'steam': 3631, 'wendi': 3632, 'rider': 3633, 'honesti': 3634, 'andr': 3635, 'patriot': 3636, 'nephew': 3637, 'owen': 3638, 'similarli': 3639, 'sappi': 3640, 'wore': 3641, 'victori': 3642, 'vice': 3643, 'snap': 3644, 'properti': 3645, 'psychopath': 3646, 'safeti': 3647, 'blunt': 3648, 'prequel': 3649, 'util': 3650, 'leo': 3651, 'nostalg': 3652, 'kingdom': 3653, 'charlott': 3654, 'confin': 3655, 'macarthur': 3656, 'repress': 3657, 'mutant': 3658, 'sandra': 3659, 'franco': 3660, 'skull': 3661, 'composit': 3662, 'hung': 3663, 'morri': 3664, 'cg': 3665, 'del': 3666, 'acquir': 3667, 'repli': 3668, 'miseri': 3669, 'bumbl': 3670, 'despair': 3671, 'campbel': 3672, 'farrel': 3673, 'strand': 3674, 'emperor': 3675, 'compass': 3676, 'pattern': 3677, 'snl': 3678, 'tad': 3679, 'recycl': 3680, 'compens': 3681, 'rope': 3682, 'rambl': 3683, 'tail': 3684, 'dalton': 3685, 'hyde': 3686, 'deed': 3687, 'valuabl': 3688, 'bow': 3689, 'exit': 3690, 'drum': 3691, 'bergman': 3692, 'montana': 3693, 'kyle': 3694, '1972': 3695, 'rocki': 3696, 'speci': 3697, 'latin': 3698, 'nervou': 3699, 'heartbreak': 3700, 'bonu': 3701, 'thru': 3702, 'drain': 3703, 'dust': 3704, 'whoopi': 3705, 'airport': 3706, 'gimmick': 3707, 'oppress': 3708, 'radic': 3709, 'pour': 3710, 'romp': 3711, 'orson': 3712, 'tonight': 3713, 'da': 3714, 'roth': 3715, 'mistress': 3716, 'rotten': 3717, 'bleed': 3718, '35': 3719, 'slug': 3720, 'carradin': 3721, 'contempl': 3722, 'wacki': 3723, 'rapist': 3724, 'gal': 3725, 'martian': 3726, 'chess': 3727, 'olli': 3728, 'downhil': 3729, 'percept': 3730, 'edgar': 3731, 'heal': 3732, 'pervert': 3733, 'belt': 3734, 'shelley': 3735, 'attorney': 3736, 'tackl': 3737, 'programm': 3738, 'champion': 3739, 'arc': 3740, 'pervers': 3741, 'arguabl': 3742, 'mislead': 3743, 'melodi': 3744, 'pursuit': 3745, 'banal': 3746, 'slash': 3747, 'taught': 3748, 'unpredict': 3749, '1983': 3750, 'stilt': 3751, 'tooth': 3752, 'preach': 3753, 'dazzl': 3754, 'paltrow': 3755, 'cleverli': 3756, 'virginia': 3757, 'sensat': 3758, 'mesmer': 3759, 'gambl': 3760, 'chicken': 3761, 'vocal': 3762, 'orang': 3763, 'plight': 3764, 'vengeanc': 3765, 'poem': 3766, 'conneri': 3767, 'franki': 3768, 'raymond': 3769, 'maid': 3770, 'closest': 3771, 'graham': 3772, 'duval': 3773, 'marti': 3774, 'uplift': 3775, 'employe': 3776, 'rubi': 3777, 'bela': 3778, 'passeng': 3779, 'tiresom': 3780, 'dixon': 3781, 'gerard': 3782, 'swallow': 3783, 'habit': 3784, 'yawn': 3785, 'scottish': 3786, 'giggl': 3787, 'abraham': 3788, 'whine': 3789, 'volum': 3790, 'extens': 3791, 'paranoia': 3792, 'mute': 3793, 'inject': 3794, 'secretli': 3795, 'crystal': 3796, 'suffic': 3797, 'monologu': 3798, 'outing': 3799, 'calm': 3800, 'numb': 3801, 'quarter': 3802, 'clone': 3803, 'convincingli': 3804, 'climact': 3805, 'sirk': 3806, 'profan': 3807, 'iran': 3808, 'engross': 3809, 'tube': 3810, 'amitabh': 3811, '1968': 3812, 'bay': 3813, 'lundgren': 3814, 'pokemon': 3815, 'im': 3816, 'chicago': 3817, 'poetri': 3818, 'grotesqu': 3819, 'underst': 3820, 'earl': 3821, 'surpass': 3822, 'nichola': 3823, 'abort': 3824, 'dispos': 3825, 'linger': 3826, 'bend': 3827, 'frankenstein': 3828, 'profess': 3829, 'backward': 3830, 'taxi': 3831, 'richardson': 3832, 'expand': 3833, 'septemb': 3834, 'junior': 3835, 'trend': 3836, 'plod': 3837, 'franci': 3838, 'lowest': 3839, 'meander': 3840, 'fed': 3841, 'ethan': 3842, 'spock': 3843, 'austen': 3844, 'greedi': 3845, 'instrument': 3846, 'econom': 3847, 'literatur': 3848, 'rant': 3849, 'rubber': 3850, 'waitress': 3851, 'sue': 3852, 'cannon': 3853, 'tourist': 3854, 'household': 3855, 'lure': 3856, 'der': 3857, 'myth': 3858, 'nostalgia': 3859, 'stallon': 3860, 'dysfunct': 3861, 'eugen': 3862, 'hum': 3863, 'catchi': 3864, 'simplic': 3865, 'muddl': 3866, 'descent': 3867, 'spoke': 3868, 'compliment': 3869, 'mundan': 3870, 'duck': 3871, 'firstli': 3872, 'hello': 3873, 'flee': 3874, 'louis': 3875, 'stale': 3876, 'damon': 3877, 'equival': 3878, 'dement': 3879, 'june': 3880, 'phantom': 3881, 'mortal': 3882, 'map': 3883, 'lang': 3884, 'mankind': 3885, 'cent': 3886, 'alongsid': 3887, 'coast': 3888, 'dictat': 3889, 'irrelev': 3890, 'crucial': 3891, 'omen': 3892, 'recognit': 3893, 'deaf': 3894, 'occupi': 3895, 'insur': 3896, 'eaten': 3897, 'bacal': 3898, 'randi': 3899, 'recognis': 3900, 'furi': 3901, 'phoni': 3902, 'carel': 3903, 'molli': 3904, 'sissi': 3905, 'onlin': 3906, 'likewis': 3907, 'biko': 3908, 'bump': 3909, 'reign': 3910, 'blackmail': 3911, 'newli': 3912, 'wisdom': 3913, 'loyalti': 3914, 'heel': 3915, 'labor': 3916, 'twilight': 3917, 'cyborg': 3918, 'dreari': 3919, 'grayson': 3920, 'buffalo': 3921, 'drake': 3922, 'distinguish': 3923, 'damm': 3924, 'rude': 3925, 'ashley': 3926, 'lengthi': 3927, '1973': 3928, 'freez': 3929, 'rooney': 3930, 'bike': 3931, 'daisi': 3932, 'antwon': 3933, 'butler': 3934, 'provoc': 3935, 'vein': 3936, 'emphas': 3937, 'nineti': 3938, 'basketbal': 3939, 'incorpor': 3940, 'baddi': 3941, 'tunnel': 3942, 'approv': 3943, 'pink': 3944, 'sailor': 3945, 'unorigin': 3946, 'barrymor': 3947, 'proce': 3948, 'boxer': 3949, 'exposur': 3950, 'ridden': 3951, 'interior': 3952, 'analysi': 3953, 'attribut': 3954, 'inher': 3955, 'startl': 3956, 'worn': 3957, 'chronicl': 3958, 'prey': 3959, 'keith': 3960, 'stalker': 3961, 'robbin': 3962, 'meg': 3963, 'simmon': 3964, 'predat': 3965, 'condemn': 3966, 'millionair': 3967, 'belushi': 3968, 'hypnot': 3969, 'mormon': 3970, 'drift': 3971, 'substitut': 3972, 'underli': 3973, 'fleet': 3974, 'er': 3975, 'degrad': 3976, 'mighti': 3977, 'undeni': 3978, 'indiffer': 3979, 'walsh': 3980, 'nicol': 3981, 'barrel': 3982, 'meyer': 3983, 'improvis': 3984, 'carla': 3985, 'elm': 3986, 'julian': 3987, 'othello': 3988, 'unrel': 3989, 'bunni': 3990, 'shove': 3991, 'hay': 3992, 'disord': 3993, 'nyc': 3994, 'novak': 3995, 'mtv': 3996, 'exquisit': 3997, 'unawar': 3998, 'greed': 3999, 'lampoon': 4000, 'edgi': 4001, 'warmth': 4002, 'agenda': 4003, 'alison': 4004, 'marion': 4005, 'firm': 4006, 'roof': 4007, 'palac': 4008, 'errol': 4009, 'alarm': 4010, 'watson': 4011, 'reid': 4012, 'vital': 4013, '3d': 4014, 'dolph': 4015, 'enthusiasm': 4016, 'priceless': 4017, 'rukh': 4018, 'coup': 4019, 'minimum': 4020, '1933': 4021, 'distort': 4022, 'pamela': 4023, '13th': 4024, 'unleash': 4025, 'preserv': 4026, 'championship': 4027, 'campaign': 4028, 'iraq': 4029, 'orlean': 4030, 'testament': 4031, 'eastern': 4032, 'cassidi': 4033, 'session': 4034, 'simultan': 4035, 'ponder': 4036, 'glanc': 4037, 'profit': 4038, 'gestur': 4039, 'crown': 4040, 'peck': 4041, 'israel': 4042, 'thompson': 4043, 'spain': 4044, 'angela': 4045, 'zizek': 4046, 'drip': 4047, 'showdown': 4048, 'peril': 4049, 'valentin': 4050, 'nun': 4051, 'randomli': 4052, 'beatl': 4053, 'what': 4054, 'petti': 4055, 'sergeant': 4056, 'shootout': 4057, 'scotland': 4058, 'perpetu': 4059, 'wig': 4060, 'represent': 4061, 'fido': 4062, 'valley': 4063, 'cream': 4064, 'empathi': 4065, 'reson': 4066, 'miyazaki': 4067, 'sabrina': 4068, 'realm': 4069, 'contradict': 4070, 'crow': 4071, 'restrain': 4072, 'travesti': 4073, 'exposit': 4074, 'jan': 4075, 'unimagin': 4076, 'regist': 4077, 'buster': 4078, 'din': 4079, 'climat': 4080, 'brenda': 4081, '1984': 4082, 'quinn': 4083, 'bro': 4084, 'crawl': 4085, 'rout': 4086, 'gentleman': 4087, 'stake': 4088, 'stroke': 4089, 'calib': 4090, 'han': 4091, 'mon': 4092, 'kurosawa': 4093, 'cooki': 4094, 'ross': 4095, 'pole': 4096, 'wax': 4097, 'dana': 4098, 'absent': 4099, 'censor': 4100, 'warrant': 4101, 'businessman': 4102, 'demis': 4103, 'delic': 4104, 'sucker': 4105, 'cloud': 4106, 'josh': 4107, 'mclaglen': 4108, 'femm': 4109, 'meryl': 4110, '1997': 4111, 'compromis': 4112, 'traumat': 4113, 'soderbergh': 4114, 'pretens': 4115, 'perceiv': 4116, 'abomin': 4117, 'unseen': 4118, 'geek': 4119, 'derang': 4120, 'monoton': 4121, 'darren': 4122, 'fuller': 4123, '1987': 4124, 'shoddi': 4125, 'distress': 4126, 'shaki': 4127, 'baldwin': 4128, 'greg': 4129, 'passabl': 4130, 'tacki': 4131, 'spacey': 4132, 'painter': 4133, 'sammi': 4134, 'ustinov': 4135, 'unsatisfi': 4136, 'stargat': 4137, 'crawford': 4138, 'reluct': 4139, 'verbal': 4140, 'judgment': 4141, 'fenc': 4142, 'sid': 4143, 'jewel': 4144, 'valid': 4145, '1993': 4146, 'accuraci': 4147, 'polici': 4148, 'austin': 4149, 'fog': 4150, 'nathan': 4151, 'exclus': 4152, 'deceas': 4153, 'uncov': 4154, 'kumar': 4155, 'unravel': 4156, 'clash': 4157, 'tarantino': 4158, 'click': 4159, 'deniro': 4160, 'tech': 4161, 'wholli': 4162, 'norm': 4163, 'seal': 4164, 'anchor': 4165, 'furiou': 4166, 'expedit': 4167, 'correctli': 4168, 'primit': 4169, 'antonioni': 4170, 'dee': 4171, 'sustain': 4172, 'wang': 4173, 'hallucin': 4174, 'seldom': 4175, 'alec': 4176, 'fabric': 4177, 'roller': 4178, '2008': 4179, '3000': 4180, 'slam': 4181, 'darn': 4182, 'conduct': 4183, 'vanc': 4184, 'patienc': 4185, 'fought': 4186, 'logan': 4187, 'bake': 4188, 'enforc': 4189, 'wretch': 4190, '1995': 4191, 'sand': 4192, 'nicola': 4193, 'temper': 4194, 'joel': 4195, 'sunni': 4196, 'shanghai': 4197, 'crippl': 4198, 'trait': 4199, 'unfair': 4200, 'clerk': 4201, 'mode': 4202, 'ritual': 4203, 'dreck': 4204, 'behold': 4205, 'debt': 4206, 'sheet': 4207, 'pocket': 4208, '1971': 4209, 'murray': 4210, 'fart': 4211, 'malon': 4212, 'tax': 4213, 'divid': 4214, 'runner': 4215, 'soup': 4216, 'rita': 4217, 'schedul': 4218, 'preposter': 4219, 'stark': 4220, 'pete': 4221, 'technicolor': 4222, 'critiqu': 4223, 'clau': 4224, 'preston': 4225, 'conscious': 4226, 'helpless': 4227, 'grief': 4228, 'sweep': 4229, 'despis': 4230, 'guitar': 4231, 'squad': 4232, 'tactic': 4233, 'stuart': 4234, 'isabel': 4235, 'legaci': 4236, 'shell': 4237, 'fundament': 4238, 'outlin': 4239, 'phil': 4240, 'scriptwrit': 4241, 'penni': 4242, 'exhaust': 4243, 'bridget': 4244, 'robber': 4245, 'canyon': 4246, 'bias': 4247, 'drove': 4248, 'delv': 4249, 'passag': 4250, 'alicia': 4251, 'flair': 4252, 'alley': 4253, 'connor': 4254, 'gregori': 4255, 'rear': 4256, 'cigarett': 4257, 'agenc': 4258, 'culmin': 4259, 'restrict': 4260, 'invad': 4261, 'downey': 4262, 'jacket': 4263, 'kansa': 4264, 'bloom': 4265, 'jodi': 4266, 'liberti': 4267, 'sniper': 4268, 'boyl': 4269, 'newman': 4270, 'lacklust': 4271, 'inabl': 4272, 'consciou': 4273, 'palanc': 4274, 'implic': 4275, 'rehash': 4276, 'sentinel': 4277, 'propos': 4278, 'sugar': 4279, 'vomit': 4280, 'russia': 4281, 'marc': 4282, 'unexpectedli': 4283, 'behaviour': 4284, '1936': 4285, 'ladder': 4286, 'tendenc': 4287, 'tripe': 4288, 'feat': 4289, 'pale': 4290, 'karl': 4291, 'cap': 4292, 'delet': 4293, 'wrench': 4294, '22': 4295, 'chainsaw': 4296, 'sharon': 4297, 'asylum': 4298, 'rod': 4299, 'lush': 4300, 'rampag': 4301, 'vet': 4302, 'awhil': 4303, 'improb': 4304, 'rehears': 4305, 'aesthet': 4306, 'foxx': 4307, 'arrow': 4308, 'mccoy': 4309, 'bacon': 4310, 'horn': 4311, 'yeti': 4312, 'kolchak': 4313, 'conscienc': 4314, 'stream': 4315, 'paradis': 4316, '1978': 4317, 'rumor': 4318, 'spice': 4319, 'hackney': 4320, 'coaster': 4321, 'financ': 4322, 'paramount': 4323, 'suffici': 4324, 'globe': 4325, 'basing': 4326, '19th': 4327, 'hulk': 4328, '1920': 4329, 'underneath': 4330, 'suspicion': 4331, 'rhythm': 4332, 'hungri': 4333, 'tasteless': 4334, 'wildli': 4335, 'scoop': 4336, 'elit': 4337, 'sung': 4338, '1988': 4339, 'prank': 4340, 'amazon': 4341, 'fright': 4342, 'el': 4343, 'aristocrat': 4344, 'newcom': 4345, 'minu': 4346, 'shortcom': 4347, 'lurk': 4348, 'visitor': 4349, 'weav': 4350, 'loneli': 4351, 'tomorrow': 4352, 'thunderbird': 4353, 'filler': 4354, 'wagner': 4355, 'couch': 4356, 'chavez': 4357, 'impos': 4358, 'hopkin': 4359, 'penn': 4360, 'brit': 4361, '75': 4362, 'cancer': 4363, 'straightforward': 4364, 'wwe': 4365, 'heist': 4366, 'secondari': 4367, 'lectur': 4368, 'smell': 4369, 'springer': 4370, 'naughti': 4371, 'recogniz': 4372, 'ram': 4373, 'inmat': 4374, 'iv': 4375, '1989': 4376, 'beverli': 4377, 'entranc': 4378, 'chamberlain': 4379, 'teas': 4380, 'ingeni': 4381, 'posey': 4382, 'en': 4383, 'rub': 4384, 'quietli': 4385, 'dirt': 4386, 'minist': 4387, '1939': 4388, 'counterpart': 4389, 'leigh': 4390, 'abrupt': 4391, 'literari': 4392, 'grudg': 4393, 'atroc': 4394, 'curli': 4395, 'standout': 4396, 'immers': 4397, 'choppi': 4398, 'paxton': 4399, 'bread': 4400, 'worship': 4401, 'tierney': 4402, 'sublim': 4403, 'bernard': 4404, 'ace': 4405, 'missil': 4406, 'convert': 4407, 'injuri': 4408, 'misguid': 4409, 'laurenc': 4410, 'nemesi': 4411, 'lindsay': 4412, 'net': 4413, 'enthral': 4414, 'heartfelt': 4415, 'skeptic': 4416, 'cattl': 4417, 'duel': 4418, 'nolan': 4419, 'clan': 4420, 'morbid': 4421, 'yearn': 4422, 'moreov': 4423, 'attenborough': 4424, 'watcher': 4425, 'entitl': 4426, 'ratso': 4427, 'sassi': 4428, 'geni': 4429, 'transcend': 4430, 'policeman': 4431, 'quaid': 4432, 'variat': 4433, 'esther': 4434, '1986': 4435, 'poe': 4436, 'moder': 4437, 'puppi': 4438, 'grin': 4439, 'spiral': 4440, 'hopelessli': 4441, 'facil': 4442, 'steadi': 4443, 'youngest': 4444, 'obstacl': 4445, 'egg': 4446, 'reliabl': 4447, 'rosemari': 4448, 'dont': 4449, 'tyler': 4450, 'kitti': 4451, 'bean': 4452, 'graini': 4453, 'mytholog': 4454, 'enabl': 4455, 'buzz': 4456, '1979': 4457, 'carlito': 4458, 'unexplain': 4459, 'bye': 4460, 'kidman': 4461, 'setup': 4462, 'cruelti': 4463, 'vader': 4464, 'artsi': 4465, 'uncut': 4466, 'diari': 4467, 'brood': 4468, 'hk': 4469, 'characteris': 4470, 'out': 4471, 'brendan': 4472, 'acquaint': 4473, 'despic': 4474, 'gina': 4475, 'disastr': 4476, 'clueless': 4477, 'effici': 4478, 'decept': 4479, 'hammi': 4480, 'kline': 4481, 'gillian': 4482, 'exterior': 4483, 'athlet': 4484, 'weather': 4485, 'oblig': 4486, 'underworld': 4487, 'bronson': 4488, '1969': 4489, 'narrow': 4490, 'bewar': 4491, 'baffl': 4492, 'bounc': 4493, 'niec': 4494, 'spontan': 4495, 'christin': 4496, 'fuel': 4497, 'patricia': 4498, 'preming': 4499, 'heap': 4500, 'sweat': 4501, 'hain': 4502, 'martha': 4503, 'astound': 4504, 'sooner': 4505, 'candl': 4506, 'trigger': 4507, 'mayhem': 4508, 'hepburn': 4509, 'harmless': 4510, '19': 4511, 'sleepwalk': 4512, 'scar': 4513, 'shatter': 4514, 'headach': 4515, 'suprem': 4516, 'renaiss': 4517, 'enlist': 4518, 'outlaw': 4519, 'circu': 4520, 'angst': 4521, 'analyz': 4522, 'rome': 4523, 'virtu': 4524, 'injur': 4525, 'viewpoint': 4526, 'loath': 4527, 'taboo': 4528, 'preachi': 4529, 'insipid': 4530, 'biker': 4531, 'uh': 4532, 'housewif': 4533, 'fontain': 4534, 'dilemma': 4535, 'dandi': 4536, '73': 4537, 'goof': 4538, 'mermaid': 4539, 'tick': 4540, 'lester': 4541, 'loi': 4542, 'immatur': 4543, 'dish': 4544, 'phenomenon': 4545, 'surgeri': 4546, 'tripl': 4547, 'ebert': 4548, 'hokey': 4549, 'salt': 4550, 'redund': 4551, 'overlong': 4552, 'hooker': 4553, 'idol': 4554, 'contempt': 4555, 'claustrophob': 4556, 'oldest': 4557, 'dismal': 4558, 'scorses': 4559, 'macho': 4560, 'slimi': 4561, 'boston': 4562, 'steer': 4563, 'hostag': 4564, 'zoom': 4565, 'amor': 4566, 'camcord': 4567, 'glorifi': 4568, 'cassavet': 4569, 'stair': 4570, 'corbett': 4571, 'foolish': 4572, 'bent': 4573, 'gere': 4574, 'spade': 4575, 'filth': 4576, 'whore': 4577, 'stimul': 4578, 'fluff': 4579, 'guin': 4580, 'intric': 4581, 'sox': 4582, 'ariel': 4583, 'gabl': 4584, 'shield': 4585, '1976': 4586, 'mutual': 4587, 'keen': 4588, 'radiat': 4589, 'astronaut': 4590, 'dwarf': 4591, 'messi': 4592, 'margin': 4593, 'transplant': 4594, 'flirt': 4595, 'schlock': 4596, 'faint': 4597, 'rhyme': 4598, 'muscl': 4599, 'preced': 4600, 'gasp': 4601, 'spinal': 4602, 'cohen': 4603, 'alvin': 4604, 'assert': 4605, 'shred': 4606, 'nolt': 4607, 'corman': 4608, '1981': 4609, 'mount': 4610, 'harold': 4611, 'frantic': 4612, 'trivia': 4613, 'zane': 4614, 'beard': 4615, 'flag': 4616, 'remad': 4617, 'cow': 4618, 'perman': 4619, 'fascist': 4620, 'proport': 4621, 'flashi': 4622, 'conquer': 4623, 'antagonist': 4624, 'strongest': 4625, 'widescreen': 4626, 'spree': 4627, 'down': 4628, 'joker': 4629, 'cush': 4630, 'naschi': 4631, 'obligatori': 4632, 'interestingli': 4633, 'barn': 4634, 'off': 4635, 'resum': 4636, 'neurot': 4637, 'fishburn': 4638, 'flock': 4639, 'claud': 4640, 'wield': 4641, 'vaniti': 4642, 'scandal': 4643, 'repris': 4644, 'persuad': 4645, 'triangl': 4646, 'instruct': 4647, 'info': 4648, 'hara': 4649, 'carey': 4650, 'danish': 4651, 'inflict': 4652, 'brush': 4653, 'www': 4654, 'someday': 4655, '28': 4656, 'departur': 4657, 'bitten': 4658, 'discern': 4659, 'divin': 4660, 'sensual': 4661, 'archiv': 4662, 'mobil': 4663, 'boob': 4664, '1945': 4665, 'bachelor': 4666, 'strive': 4667, '95': 4668, 'raj': 4669, 'aborigin': 4670, 'ritchi': 4671, 'deer': 4672, 'mol': 4673, 'casino': 4674, 'carlo': 4675, 'fragil': 4676, 'helm': 4677, 'dylan': 4678, 'ish': 4679, 'dim': 4680, 'artwork': 4681, 'colin': 4682, 'pacif': 4683, 'bate': 4684, 'melissa': 4685, 'prophet': 4686, 'frontier': 4687, 'pixar': 4688, 'harrison': 4689, 'hapless': 4690, 'cb': 4691, 'vibrant': 4692, 'biblic': 4693, 'neill': 4694, 'hilar': 4695, 'miracul': 4696, 'clad': 4697, 'kathryn': 4698, 'banter': 4699, 'heartwarm': 4700, 'undermin': 4701, 'cycl': 4702, 'earnest': 4703, 'mobster': 4704, 'cher': 4705, 'timberlak': 4706, 'axe': 4707, 'dame': 4708, 'jade': 4709, 'cliffhang': 4710, 'submit': 4711, 'hug': 4712, 'recit': 4713, 'rot': 4714, 'traffic': 4715, 'luka': 4716, 'proclaim': 4717, 'wendigo': 4718, 'pickford': 4719, 'loretta': 4720, 'senior': 4721, 'parson': 4722, 'anton': 4723, 'europa': 4724, 'eli': 4725, 'rooki': 4726, 'winchest': 4727, 'shepherd': 4728, 'redneck': 4729, 'marlon': 4730, 'northern': 4731, 'lui': 4732, 'articl': 4733, 'misfortun': 4734, 'nope': 4735, 'static': 4736, 'alexandr': 4737, 'http': 4738, 'wardrob': 4739, 'vanessa': 4740, 'choke': 4741, 'vile': 4742, 'seedi': 4743, 'venom': 4744, 'lucil': 4745, 'razor': 4746, 'feast': 4747, 'legitim': 4748, 'jo': 4749, 'bikini': 4750, 'toronto': 4751, 'mason': 4752, 'sicken': 4753, 'trier': 4754, 'pc': 4755, 'orphan': 4756, 'aris': 4757, 'uma': 4758, 'holocaust': 4759, 'illus': 4760, 'foil': 4761, 'jordan': 4762, 'breakfast': 4763, 'blatantli': 4764, 'akin': 4765, 'token': 4766, 'antholog': 4767, 'electron': 4768, 'estrang': 4769, 'isra': 4770, 'mathieu': 4771, 'bondag': 4772, 'milo': 4773, 'cerebr': 4774, 'flavor': 4775, 'styliz': 4776, 'shorter': 4777, 'deem': 4778, 'swept': 4779, 'disregard': 4780, 'tack': 4781, 'audrey': 4782, 'cartoonish': 4783, 'turd': 4784, 'retriev': 4785, 'highway': 4786, 'clinic': 4787, 'outdat': 4788, 'psych': 4789, 'howl': 4790, 'glare': 4791, 'ceremoni': 4792, 'dudley': 4793, 'charlton': 4794, 'fifth': 4795, 'nightclub': 4796, 'leather': 4797, 'peer': 4798, 'gunga': 4799, 'oppon': 4800, 'comprehend': 4801, 'wrestler': 4802, 'boyer': 4803, 'abund': 4804, 'gilbert': 4805, 'ideolog': 4806, 'frog': 4807, 'feminin': 4808, 'magician': 4809, 'huston': 4810, 'linear': 4811, 'smack': 4812, 'affleck': 4813, 'knightley': 4814, 'compris': 4815, 'conrad': 4816, 'potter': 4817, 'einstein': 4818, '1994': 4819, 'spawn': 4820, 'energet': 4821, 'spine': 4822, '4th': 4823, 'bastard': 4824, 'greet': 4825, 'toe': 4826, 'client': 4827, 'newer': 4828, 'chip': 4829, 'snatch': 4830, 'corn': 4831, 'sleaz': 4832, 'mitch': 4833, 'lighter': 4834, 'phenomen': 4835, 'plate': 4836, 'breakdown': 4837, '1991': 4838, 'cuban': 4839, 'cemeteri': 4840, 'deliver': 4841, 'boo': 4842, 'lavish': 4843, 'lifeless': 4844, 'braveheart': 4845, 'whack': 4846, 'btw': 4847, 'moe': 4848, 'uniformli': 4849, 'monument': 4850, 'evolut': 4851, 'collector': 4852, 'bogu': 4853, 'senat': 4854, 'durat': 4855, 'salman': 4856, 'tara': 4857, 'summar': 4858, 'goldsworthi': 4859, 'gilliam': 4860, 'healthi': 4861, 'armstrong': 4862, 'fluid': 4863, 'bulk': 4864, 'undertak': 4865, 'judd': 4866, 'trauma': 4867, 'undead': 4868, 'firmli': 4869, '1977': 4870, 'neatli': 4871, 'inaccuraci': 4872, 'wtf': 4873, 'embark': 4874, 'alleg': 4875, 'occup': 4876, 'capot': 4877, 'randolph': 4878, 'jam': 4879, 'bori': 4880, 'appl': 4881, 'liu': 4882, 'luxuri': 4883, 'belli': 4884, 'jule': 4885, 'historian': 4886, 'pronounc': 4887, '1974': 4888, 'cecil': 4889, 'eleven': 4890, 'constitut': 4891, 'lex': 4892, 'kent': 4893, 'spectacl': 4894, 'clara': 4895, 'evelyn': 4896, 'sorrow': 4897, 'ie': 4898, 'nina': 4899, 'kazan': 4900, 'signal': 4901, 'replay': 4902, 'jedi': 4903, 'ol': 4904, 'outright': 4905, 'creek': 4906, 'mcqueen': 4907, 'jare': 4908, 'antonio': 4909, 'conan': 4910, 'inaccur': 4911, 'id': 4912, 'poker': 4913, 'curtain': 4914, 'subtli': 4915, 'fruit': 4916, 'walt': 4917, 'lanc': 4918, 'vignett': 4919, 'relentless': 4920, 'comprehens': 4921, 'knee': 4922, 'genet': 4923, 'goldblum': 4924, 'basket': 4925, 'forgiven': 4926, 'aussi': 4927, 'sacrif': 4928, 'kiddi': 4929, 'pepper': 4930, 'abound': 4931, 'groan': 4932, 'roar': 4933, 'truman': 4934, 'bsg': 4935, '1985': 4936, 'blur': 4937, 'comb': 4938, 'miniseri': 4939, 'palm': 4940, 'unsuspect': 4941, 'miami': 4942, 'ash': 4943, 'paula': 4944, 'mum': 4945, 'bait': 4946, 'congratul': 4947, 'vain': 4948, 'galaxi': 4949, 'inclus': 4950, 'spray': 4951, 'carmen': 4952, 'pioneer': 4953, 'decapit': 4954, 'unattract': 4955, 'propheci': 4956, 'porter': 4957, 'sidewalk': 4958, 'meal': 4959, 'tokyo': 4960, 'lauren': 4961, 'cape': 4962, 'rosario': 4963, 'sophi': 4964, 'frontal': 4965, 'incorrect': 4966, 'motorcycl': 4967, 'optimist': 4968, 'profil': 4969, 'detach': 4970, 'drone': 4971, 'weari': 4972, 'growth': 4973, 'hostil': 4974, 'modest': 4975, 'spill': 4976, 'handicap': 4977, 'sparkl': 4978, 'orchestr': 4979, 'scariest': 4980, 'verg': 4981, 'asset': 4982, 'macabr': 4983, 'rapidli': 4984, 'masterson': 4985, 'bravo': 4986, 'monti': 4987, 'assort': 4988, 'evan': 4989, 'playboy': 4990, 'epitom': 4991, 'weaker': 4992, 'omin': 4993, 'dubiou': 4994, 'hackman': 4995, 'cypher': 4996, 'scarfac': 4997, 'vastli': 4998, 'mice': 4999}\n"
     ]
    }
   ],
   "source": [
    "print(train_X[1])\n",
    "word_dict = build_dict(train_X)\n",
    "print(word_dict)"
   ]
  },
  {
   "cell_type": "markdown",
   "metadata": {},
   "source": [
    "**Question:** What are the five most frequently appearing (tokenized) words in the training set? Does it makes sense that these words appear frequently in the training set?"
   ]
  },
  {
   "cell_type": "markdown",
   "metadata": {},
   "source": [
    "**Answer:**"
   ]
  },
  {
   "cell_type": "code",
   "execution_count": 13,
   "metadata": {},
   "outputs": [
    {
     "name": "stdout",
     "output_type": "stream",
     "text": [
      "['movi', 'film', 'one', 'like', 'time']\n"
     ]
    }
   ],
   "source": [
    "# TODO: Use this space to determine the five most frequently appearing words in the training set.\n",
    "from itertools import islice\n",
    "\n",
    "most_frequent_words = list(islice(word_dict, 5))\n",
    "print(most_frequent_words)"
   ]
  },
  {
   "cell_type": "markdown",
   "metadata": {},
   "source": [
    "### Save `word_dict`\n",
    "\n",
    "Later on when we construct an endpoint which processes a submitted review we will need to make use of the `word_dict` which we have created. As such, we will save it to a file now for future use."
   ]
  },
  {
   "cell_type": "code",
   "execution_count": 14,
   "metadata": {},
   "outputs": [],
   "source": [
    "data_dir = '../data/pytorch' # The folder we will use for storing data\n",
    "if not os.path.exists(data_dir): # Make sure that the folder exists\n",
    "    os.makedirs(data_dir)"
   ]
  },
  {
   "cell_type": "code",
   "execution_count": 15,
   "metadata": {},
   "outputs": [],
   "source": [
    "with open(os.path.join(data_dir, 'word_dict.pkl'), \"wb\") as f:\n",
    "    pickle.dump(word_dict, f)"
   ]
  },
  {
   "cell_type": "markdown",
   "metadata": {},
   "source": [
    "### Transform the reviews\n",
    "\n",
    "Now that we have our word dictionary which allows us to transform the words appearing in the reviews into integers, it is time to make use of it and convert our reviews to their integer sequence representation, making sure to pad or truncate to a fixed length, which in our case is `500`."
   ]
  },
  {
   "cell_type": "code",
   "execution_count": 16,
   "metadata": {},
   "outputs": [],
   "source": [
    "def convert_and_pad(word_dict, sentence, pad=500):\n",
    "    NOWORD = 0 # We will use 0 to represent the 'no word' category\n",
    "    INFREQ = 1 # and we use 1 to represent the infrequent words, i.e., words not appearing in word_dict\n",
    "    \n",
    "    working_sentence = [NOWORD] * pad\n",
    "    \n",
    "    for word_index, word in enumerate(sentence[:pad]):\n",
    "        if word in word_dict:\n",
    "            working_sentence[word_index] = word_dict[word]\n",
    "        else:\n",
    "            working_sentence[word_index] = INFREQ\n",
    "            \n",
    "    return working_sentence, min(len(sentence), pad)\n",
    "\n",
    "def convert_and_pad_data(word_dict, data, pad=500):\n",
    "    result = []\n",
    "    lengths = []\n",
    "    \n",
    "    for sentence in data:\n",
    "        converted, leng = convert_and_pad(word_dict, sentence, pad)\n",
    "        result.append(converted)\n",
    "        lengths.append(leng)\n",
    "        \n",
    "    return np.array(result), np.array(lengths)"
   ]
  },
  {
   "cell_type": "code",
   "execution_count": 17,
   "metadata": {},
   "outputs": [],
   "source": [
    "train_X, train_X_len = convert_and_pad_data(word_dict, train_X)\n",
    "test_X, test_X_len = convert_and_pad_data(word_dict, test_X)"
   ]
  },
  {
   "cell_type": "markdown",
   "metadata": {},
   "source": [
    "As a quick check to make sure that things are working as intended, check to see what one of the reviews in the training set looks like after having been processeed. Does this look reasonable? What is the length of a review in the training set?"
   ]
  },
  {
   "cell_type": "code",
   "execution_count": 18,
   "metadata": {},
   "outputs": [
    {
     "data": {
      "text/plain": [
       "array([ 134,  443, 4733,    1, 2424, 4733,   34,    3,   19,   69,   17,\n",
       "        186,    1,  343,   98,    2,   43,    2,  299,  301, 2537,    1,\n",
       "        131, 1488,   12,   21,    6, 1082, 4475, 2785,  474, 1343,    1,\n",
       "          1,    1,    1, 3183,    1,  798,  244,   93,  290,  307,   38,\n",
       "         27,  228, 3823,  631,   33, 2851, 1492,   29,   69, 4475, 2785,\n",
       "       1203,  117,    2,  557,    4,    7,   18,  136,  596,  663,  101,\n",
       "          2,   15,  303,    4,   76,  452,  211,    5, 2537,    1,   21,\n",
       "         14,   26,    0,    0,    0,    0,    0,    0,    0,    0,    0,\n",
       "          0,    0,    0,    0,    0,    0,    0,    0,    0,    0,    0,\n",
       "          0,    0,    0,    0,    0,    0,    0,    0,    0,    0,    0,\n",
       "          0,    0,    0,    0,    0,    0,    0,    0,    0,    0,    0,\n",
       "          0,    0,    0,    0,    0,    0,    0,    0,    0,    0,    0,\n",
       "          0,    0,    0,    0,    0,    0,    0,    0,    0,    0,    0,\n",
       "          0,    0,    0,    0,    0,    0,    0,    0,    0,    0,    0,\n",
       "          0,    0,    0,    0,    0,    0,    0,    0,    0,    0,    0,\n",
       "          0,    0,    0,    0,    0,    0,    0,    0,    0,    0,    0,\n",
       "          0,    0,    0,    0,    0,    0,    0,    0,    0,    0,    0,\n",
       "          0,    0,    0,    0,    0,    0,    0,    0,    0,    0,    0,\n",
       "          0,    0,    0,    0,    0,    0,    0,    0,    0,    0,    0,\n",
       "          0,    0,    0,    0,    0,    0,    0,    0,    0,    0,    0,\n",
       "          0,    0,    0,    0,    0,    0,    0,    0,    0,    0,    0,\n",
       "          0,    0,    0,    0,    0,    0,    0,    0,    0,    0,    0,\n",
       "          0,    0,    0,    0,    0,    0,    0,    0,    0,    0,    0,\n",
       "          0,    0,    0,    0,    0,    0,    0,    0,    0,    0,    0,\n",
       "          0,    0,    0,    0,    0,    0,    0,    0,    0,    0,    0,\n",
       "          0,    0,    0,    0,    0,    0,    0,    0,    0,    0,    0,\n",
       "          0,    0,    0,    0,    0,    0,    0,    0,    0,    0,    0,\n",
       "          0,    0,    0,    0,    0,    0,    0,    0,    0,    0,    0,\n",
       "          0,    0,    0,    0,    0,    0,    0,    0,    0,    0,    0,\n",
       "          0,    0,    0,    0,    0,    0,    0,    0,    0,    0,    0,\n",
       "          0,    0,    0,    0,    0,    0,    0,    0,    0,    0,    0,\n",
       "          0,    0,    0,    0,    0,    0,    0,    0,    0,    0,    0,\n",
       "          0,    0,    0,    0,    0,    0,    0,    0,    0,    0,    0,\n",
       "          0,    0,    0,    0,    0,    0,    0,    0,    0,    0,    0,\n",
       "          0,    0,    0,    0,    0,    0,    0,    0,    0,    0,    0,\n",
       "          0,    0,    0,    0,    0,    0,    0,    0,    0,    0,    0,\n",
       "          0,    0,    0,    0,    0,    0,    0,    0,    0,    0,    0,\n",
       "          0,    0,    0,    0,    0,    0,    0,    0,    0,    0,    0,\n",
       "          0,    0,    0,    0,    0,    0,    0,    0,    0,    0,    0,\n",
       "          0,    0,    0,    0,    0,    0,    0,    0,    0,    0,    0,\n",
       "          0,    0,    0,    0,    0,    0,    0,    0,    0,    0,    0,\n",
       "          0,    0,    0,    0,    0,    0,    0,    0,    0,    0,    0,\n",
       "          0,    0,    0,    0,    0,    0,    0,    0,    0,    0,    0,\n",
       "          0,    0,    0,    0,    0,    0,    0,    0,    0,    0,    0,\n",
       "          0,    0,    0,    0,    0,    0,    0,    0,    0,    0,    0,\n",
       "          0,    0,    0,    0,    0])"
      ]
     },
     "execution_count": 18,
     "metadata": {},
     "output_type": "execute_result"
    }
   ],
   "source": [
    "# Use this cell to examine one of the processed reviews to make sure everything is working as intended.\n",
    "train_X[100]"
   ]
  },
  {
   "cell_type": "code",
   "execution_count": 19,
   "metadata": {},
   "outputs": [
    {
     "name": "stdout",
     "output_type": "stream",
     "text": [
      "128\n",
      "100\n",
      "105\n",
      "56\n",
      "87\n",
      "145\n",
      "70\n",
      "97\n",
      "100\n",
      "121\n",
      "276\n",
      "229\n",
      "63\n",
      "55\n",
      "93\n",
      "101\n",
      "159\n",
      "134\n",
      "143\n",
      "71\n",
      "129\n",
      "378\n",
      "75\n",
      "379\n",
      "67\n"
     ]
    }
   ],
   "source": [
    "rand_inds = np.random.randint(2500, size=25)\n",
    "\n",
    "for i in range(len(rand_inds)):\n",
    "    inx = rand_inds[i]\n",
    "    print(np.count_nonzero(train_X[inx]))"
   ]
  },
  {
   "cell_type": "markdown",
   "metadata": {},
   "source": [
    "**Question:** In the cells above we use the `preprocess_data` and `convert_and_pad_data` methods to process both the training and testing set. Why or why not might this be a problem?"
   ]
  },
  {
   "cell_type": "markdown",
   "metadata": {},
   "source": [
    "**Answer:**\n",
    "\n",
    "For representing any scentence we have selected 5000 to be the size of our vocabulary (The dimension of the representation.) We do not know to what extend this number is reasonable or not. Maybe there are some infrequent words that hold information whose nuber of getting repeated is less than 5000. In other hand, maybe 5000 is too much. This will make the processing of the data harder as the dimension increases. The other thing is that we truncate each scentence to hold just first 500 integers. Maybe this number is not necessarily a good number (after the inspectation that I had for 25 random numbers, I have understood that the length of each review rarely exceed 300 words and are usually less than 200.) This long number of zeros may be problematic for our model."
   ]
  },
  {
   "cell_type": "markdown",
   "metadata": {},
   "source": [
    "## Step 3: Upload the data to S3\n",
    "\n",
    "As in the XGBoost notebook, we will need to upload the training dataset to S3 in order for our training code to access it. For now we will save it locally and we will upload to S3 later on.\n",
    "\n",
    "### Save the processed training dataset locally\n",
    "\n",
    "It is important to note the format of the data that we are saving as we will need to know it when we write the training code. In our case, each row of the dataset has the form `label`, `length`, `review[500]` where `review[500]` is a sequence of `500` integers representing the words in the review."
   ]
  },
  {
   "cell_type": "code",
   "execution_count": 20,
   "metadata": {},
   "outputs": [],
   "source": [
    "import pandas as pd\n",
    "    \n",
    "pd.concat([pd.DataFrame(train_y), pd.DataFrame(train_X_len), pd.DataFrame(train_X)], axis=1) \\\n",
    "        .to_csv(os.path.join(data_dir, 'train.csv'), header=False, index=False)"
   ]
  },
  {
   "cell_type": "markdown",
   "metadata": {},
   "source": [
    "### Uploading the training data\n",
    "\n",
    "\n",
    "Next, we need to upload the training data to the SageMaker default S3 bucket so that we can provide access to it while training our model."
   ]
  },
  {
   "cell_type": "code",
   "execution_count": 21,
   "metadata": {},
   "outputs": [],
   "source": [
    "import sagemaker\n",
    "\n",
    "sagemaker_session = sagemaker.Session()\n",
    "\n",
    "bucket = sagemaker_session.default_bucket()\n",
    "prefix = 'sagemaker/sentiment_rnn'\n",
    "\n",
    "role = sagemaker.get_execution_role()"
   ]
  },
  {
   "cell_type": "code",
   "execution_count": 22,
   "metadata": {},
   "outputs": [],
   "source": [
    "input_data = sagemaker_session.upload_data(path=data_dir, bucket=bucket, key_prefix=prefix)"
   ]
  },
  {
   "cell_type": "markdown",
   "metadata": {},
   "source": [
    "**NOTE:** The cell above uploads the entire contents of our data directory. This includes the `word_dict.pkl` file. This is fortunate as we will need this later on when we create an endpoint that accepts an arbitrary review. For now, we will just take note of the fact that it resides in the data directory (and so also in the S3 training bucket) and that we will need to make sure it gets saved in the model directory."
   ]
  },
  {
   "cell_type": "markdown",
   "metadata": {},
   "source": [
    "## Step 4: Build and Train the PyTorch Model\n",
    "\n",
    "In the XGBoost notebook we discussed what a model is in the SageMaker framework. In particular, a model comprises three objects\n",
    "\n",
    " - Model Artifacts,\n",
    " - Training Code, and\n",
    " - Inference Code,\n",
    " \n",
    "each of which interact with one another. In the XGBoost example we used training and inference code that was provided by Amazon. Here we will still be using containers provided by Amazon with the added benefit of being able to include our own custom code.\n",
    "\n",
    "We will start by implementing our own neural network in PyTorch along with a training script. For the purposes of this project we have provided the necessary model object in the `model.py` file, inside of the `train` folder. You can see the provided implementation by running the cell below."
   ]
  },
  {
   "cell_type": "code",
   "execution_count": 23,
   "metadata": {},
   "outputs": [
    {
     "name": "stdout",
     "output_type": "stream",
     "text": [
      "\u001b[34mimport\u001b[39;49;00m \u001b[04m\u001b[36mtorch.nn\u001b[39;49;00m \u001b[34mas\u001b[39;49;00m \u001b[04m\u001b[36mnn\u001b[39;49;00m\r\n",
      "\r\n",
      "\u001b[34mclass\u001b[39;49;00m \u001b[04m\u001b[32mLSTMClassifier\u001b[39;49;00m(nn.Module):\r\n",
      "    \u001b[33m\"\"\"\u001b[39;49;00m\r\n",
      "\u001b[33m    This is the simple RNN model we will be using to perform Sentiment Analysis.\u001b[39;49;00m\r\n",
      "\u001b[33m    \"\"\"\u001b[39;49;00m\r\n",
      "\r\n",
      "    \u001b[34mdef\u001b[39;49;00m \u001b[32m__init__\u001b[39;49;00m(\u001b[36mself\u001b[39;49;00m, embedding_dim, hidden_dim, vocab_size):\r\n",
      "        \u001b[33m\"\"\"\u001b[39;49;00m\r\n",
      "\u001b[33m        Initialize the model by settingg up the various layers.\u001b[39;49;00m\r\n",
      "\u001b[33m        \"\"\"\u001b[39;49;00m\r\n",
      "        \u001b[36msuper\u001b[39;49;00m(LSTMClassifier, \u001b[36mself\u001b[39;49;00m).\u001b[32m__init__\u001b[39;49;00m()\r\n",
      "\r\n",
      "        \u001b[36mself\u001b[39;49;00m.embedding = nn.Embedding(vocab_size, embedding_dim, padding_idx=\u001b[34m0\u001b[39;49;00m)\r\n",
      "        \u001b[36mself\u001b[39;49;00m.lstm = nn.LSTM(embedding_dim, hidden_dim)\r\n",
      "        \u001b[36mself\u001b[39;49;00m.dense = nn.Linear(in_features=hidden_dim, out_features=\u001b[34m1\u001b[39;49;00m)\r\n",
      "        \u001b[36mself\u001b[39;49;00m.sig = nn.Sigmoid()\r\n",
      "        \r\n",
      "        \u001b[36mself\u001b[39;49;00m.word_dict = \u001b[36mNone\u001b[39;49;00m\r\n",
      "\r\n",
      "    \u001b[34mdef\u001b[39;49;00m \u001b[32mforward\u001b[39;49;00m(\u001b[36mself\u001b[39;49;00m, x):\r\n",
      "        \u001b[33m\"\"\"\u001b[39;49;00m\r\n",
      "\u001b[33m        Perform a forward pass of our model on some input.\u001b[39;49;00m\r\n",
      "\u001b[33m        \"\"\"\u001b[39;49;00m\r\n",
      "        x = x.t()\r\n",
      "        lengths = x[\u001b[34m0\u001b[39;49;00m,:]\r\n",
      "        reviews = x[\u001b[34m1\u001b[39;49;00m:,:]\r\n",
      "        embeds = \u001b[36mself\u001b[39;49;00m.embedding(reviews)\r\n",
      "        lstm_out, _ = \u001b[36mself\u001b[39;49;00m.lstm(embeds)\r\n",
      "        out = \u001b[36mself\u001b[39;49;00m.dense(lstm_out)\r\n",
      "        out = out[lengths - \u001b[34m1\u001b[39;49;00m, \u001b[36mrange\u001b[39;49;00m(\u001b[36mlen\u001b[39;49;00m(lengths))]\r\n",
      "        \u001b[34mreturn\u001b[39;49;00m \u001b[36mself\u001b[39;49;00m.sig(out.squeeze())\r\n"
     ]
    }
   ],
   "source": [
    "!pygmentize train/model.py"
   ]
  },
  {
   "cell_type": "markdown",
   "metadata": {},
   "source": [
    "The important takeaway from the implementation provided is that there are three parameters that we may wish to tweak to improve the performance of our model. These are the embedding dimension, the hidden dimension and the size of the vocabulary. We will likely want to make these parameters configurable in the training script so that if we wish to modify them we do not need to modify the script itself. We will see how to do this later on. To start we will write some of the training code in the notebook so that we can more easily diagnose any issues that arise.\n",
    "\n",
    "First we will load a small portion of the training data set to use as a sample. It would be very time consuming to try and train the model completely in the notebook as we do not have access to a gpu and the compute instance that we are using is not particularly powerful. However, we can work on a small bit of the data to get a feel for how our training script is behaving."
   ]
  },
  {
   "cell_type": "code",
   "execution_count": 23,
   "metadata": {},
   "outputs": [],
   "source": [
    "import torch\n",
    "import torch.utils.data\n",
    "\n",
    "# Read in only the first 250 rows\n",
    "train_sample = pd.read_csv(os.path.join(data_dir, 'train.csv'), header=None, names=None, nrows=250)\n",
    "\n",
    "# Turn the input pandas dataframe into tensors\n",
    "train_sample_y = torch.from_numpy(train_sample[[0]].values).float().squeeze()\n",
    "train_sample_X = torch.from_numpy(train_sample.drop([0], axis=1).values).long()\n",
    "\n",
    "# Build the dataset\n",
    "train_sample_ds = torch.utils.data.TensorDataset(train_sample_X, train_sample_y)\n",
    "# Build the dataloader\n",
    "train_sample_dl = torch.utils.data.DataLoader(train_sample_ds, batch_size=50)"
   ]
  },
  {
   "cell_type": "markdown",
   "metadata": {},
   "source": [
    "### (TODO) Writing the training method\n",
    "\n",
    "Next we need to write the training code itself. This should be very similar to training methods that you have written before to train PyTorch models. We will leave any difficult aspects such as model saving / loading and parameter loading until a little later."
   ]
  },
  {
   "cell_type": "code",
   "execution_count": 24,
   "metadata": {},
   "outputs": [],
   "source": [
    "def train(model, train_loader, epochs, optimizer, loss_fn, device):\n",
    "    for epoch in range(1, epochs + 1):\n",
    "        model.train()\n",
    "        total_loss = 0\n",
    "        for batch in train_loader:         \n",
    "            batch_X, batch_y = batch\n",
    "            \n",
    "            batch_X = batch_X.to(device)\n",
    "            batch_y = batch_y.to(device)\n",
    "            \n",
    "            # TODO: Complete this train method to train the model provided.\n",
    "            model.zero_grad()\n",
    "            output = model.forward(batch_X)\n",
    "            \n",
    "            loss = loss_fn(output.squeeze(), batch_y.float())\n",
    "            loss.backward()\n",
    "            \n",
    "            optimizer.step()\n",
    "            \n",
    "            total_loss += loss.data.item()\n",
    "        print(\"Epoch: {}, BCELoss: {}\".format(epoch, total_loss / len(train_loader)))"
   ]
  },
  {
   "cell_type": "markdown",
   "metadata": {},
   "source": [
    "Supposing we have the training method above, we will test that it is working by writing a bit of code in the notebook that executes our training method on the small sample training set that we loaded earlier. The reason for doing this in the notebook is so that we have an opportunity to fix any errors that arise early when they are easier to diagnose."
   ]
  },
  {
   "cell_type": "code",
   "execution_count": 25,
   "metadata": {},
   "outputs": [
    {
     "name": "stdout",
     "output_type": "stream",
     "text": [
      "Epoch: 1, BCELoss: 0.6983328342437745\n",
      "Epoch: 2, BCELoss: 0.689068078994751\n",
      "Epoch: 3, BCELoss: 0.6821816802024842\n",
      "Epoch: 4, BCELoss: 0.675244927406311\n",
      "Epoch: 5, BCELoss: 0.6674880504608154\n"
     ]
    }
   ],
   "source": [
    "import torch.optim as optim\n",
    "from train.model import LSTMClassifier\n",
    "\n",
    "device = torch.device(\"cuda\" if torch.cuda.is_available() else \"cpu\")\n",
    "model = LSTMClassifier(32, 100, 5000).to(device)\n",
    "optimizer = optim.Adam(model.parameters())\n",
    "loss_fn = torch.nn.BCELoss()\n",
    "\n",
    "train(model, train_sample_dl, 5, optimizer, loss_fn, device)"
   ]
  },
  {
   "cell_type": "markdown",
   "metadata": {},
   "source": [
    "In order to construct a PyTorch model using SageMaker we must provide SageMaker with a training script. We may optionally include a directory which will be copied to the container and from which our training code will be run. When the training container is executed it will check the uploaded directory (if there is one) for a `requirements.txt` file and install any required Python libraries, after which the training script will be run."
   ]
  },
  {
   "cell_type": "markdown",
   "metadata": {},
   "source": [
    "### (TODO) Training the model\n",
    "\n",
    "When a PyTorch model is constructed in SageMaker, an entry point must be specified. This is the Python file which will be executed when the model is trained. Inside of the `train` directory is a file called `train.py` which has been provided and which contains most of the necessary code to train our model. The only thing that is missing is the implementation of the `train()` method which you wrote earlier in this notebook.\n",
    "\n",
    "**TODO**: Copy the `train()` method written above and paste it into the `train/train.py` file where required.\n",
    "\n",
    "The way that SageMaker passes hyperparameters to the training script is by way of arguments. These arguments can then be parsed and used in the training script. To see how this is done take a look at the provided `train/train.py` file."
   ]
  },
  {
   "cell_type": "code",
   "execution_count": 26,
   "metadata": {},
   "outputs": [],
   "source": [
    "from sagemaker.pytorch import PyTorch\n",
    "\n",
    "estimator = PyTorch(entry_point=\"train.py\",\n",
    "                    source_dir=\"train\",\n",
    "                    role=role,\n",
    "                    framework_version='0.4.0',\n",
    "                    train_instance_count=1,\n",
    "                    train_instance_type='ml.p2.xlarge',\n",
    "                    hyperparameters={\n",
    "                        'epochs': 10,\n",
    "                        'hidden_dim': 200,\n",
    "                    })"
   ]
  },
  {
   "cell_type": "code",
   "execution_count": 27,
   "metadata": {},
   "outputs": [
    {
     "name": "stdout",
     "output_type": "stream",
     "text": [
      "2019-05-12 10:37:17 Starting - Starting the training job...\n",
      "2019-05-12 10:37:19 Starting - Launching requested ML instances......\n",
      "2019-05-12 10:38:23 Starting - Preparing the instances for training......\n",
      "2019-05-12 10:39:39 Downloading - Downloading input data\n",
      "2019-05-12 10:39:39 Training - Downloading the training image......\n",
      "2019-05-12 10:40:44 Training - Training image download completed. Training in progress..\n",
      "\u001b[31mbash: cannot set terminal process group (-1): Inappropriate ioctl for device\u001b[0m\n",
      "\u001b[31mbash: no job control in this shell\u001b[0m\n",
      "\u001b[31m2019-05-12 10:40:45,683 sagemaker-containers INFO     Imported framework sagemaker_pytorch_container.training\u001b[0m\n",
      "\u001b[31m2019-05-12 10:40:45,708 sagemaker_pytorch_container.training INFO     Block until all host DNS lookups succeed.\u001b[0m\n",
      "\u001b[31m2019-05-12 10:40:45,715 sagemaker_pytorch_container.training INFO     Invoking user training script.\u001b[0m\n",
      "\u001b[31m2019-05-12 10:40:45,988 sagemaker-containers INFO     Module train does not provide a setup.py. \u001b[0m\n",
      "\u001b[31mGenerating setup.py\u001b[0m\n",
      "\u001b[31m2019-05-12 10:40:45,989 sagemaker-containers INFO     Generating setup.cfg\u001b[0m\n",
      "\u001b[31m2019-05-12 10:40:45,989 sagemaker-containers INFO     Generating MANIFEST.in\u001b[0m\n",
      "\u001b[31m2019-05-12 10:40:45,989 sagemaker-containers INFO     Installing module with the following command:\u001b[0m\n",
      "\u001b[31m/usr/bin/python -m pip install -U . -r requirements.txt\u001b[0m\n",
      "\u001b[31mProcessing /opt/ml/code\u001b[0m\n",
      "\u001b[31mCollecting pandas (from -r requirements.txt (line 1))\n",
      "  Downloading https://files.pythonhosted.org/packages/74/24/0cdbf8907e1e3bc5a8da03345c23cbed7044330bb8f73bb12e711a640a00/pandas-0.24.2-cp35-cp35m-manylinux1_x86_64.whl (10.0MB)\u001b[0m\n",
      "\u001b[31mCollecting numpy (from -r requirements.txt (line 2))\n",
      "  Downloading https://files.pythonhosted.org/packages/f6/f3/cc6c6745347c1e997cc3e58390584a250b8e22b6dfc45414a7d69a3df016/numpy-1.16.3-cp35-cp35m-manylinux1_x86_64.whl (17.2MB)\u001b[0m\n",
      "\u001b[31mCollecting nltk (from -r requirements.txt (line 3))\n",
      "  Downloading https://files.pythonhosted.org/packages/73/56/90178929712ce427ebad179f8dc46c8deef4e89d4c853092bee1efd57d05/nltk-3.4.1.zip (3.1MB)\u001b[0m\n",
      "\u001b[31mCollecting beautifulsoup4 (from -r requirements.txt (line 4))\n",
      "  Downloading https://files.pythonhosted.org/packages/1d/5d/3260694a59df0ec52f8b4883f5d23b130bc237602a1411fa670eae12351e/beautifulsoup4-4.7.1-py3-none-any.whl (94kB)\u001b[0m\n",
      "\u001b[31mCollecting html5lib (from -r requirements.txt (line 5))\n",
      "  Downloading https://files.pythonhosted.org/packages/a5/62/bbd2be0e7943ec8504b517e62bab011b4946e1258842bc159e5dfde15b96/html5lib-1.0.1-py2.py3-none-any.whl (117kB)\u001b[0m\n",
      "\u001b[31mRequirement already satisfied, skipping upgrade: python-dateutil>=2.5.0 in /usr/local/lib/python3.5/dist-packages (from pandas->-r requirements.txt (line 1)) (2.7.5)\u001b[0m\n",
      "\u001b[31mCollecting pytz>=2011k (from pandas->-r requirements.txt (line 1))\n",
      "  Downloading https://files.pythonhosted.org/packages/3d/73/fe30c2daaaa0713420d0382b16fbb761409f532c56bdcc514bf7b6262bb6/pytz-2019.1-py2.py3-none-any.whl (510kB)\u001b[0m\n",
      "\u001b[31mRequirement already satisfied, skipping upgrade: six in /usr/local/lib/python3.5/dist-packages (from nltk->-r requirements.txt (line 3)) (1.11.0)\u001b[0m\n",
      "\u001b[31mCollecting soupsieve>=1.2 (from beautifulsoup4->-r requirements.txt (line 4))\n",
      "  Downloading https://files.pythonhosted.org/packages/b9/a5/7ea40d0f8676bde6e464a6435a48bc5db09b1a8f4f06d41dd997b8f3c616/soupsieve-1.9.1-py2.py3-none-any.whl\u001b[0m\n",
      "\u001b[31mCollecting webencodings (from html5lib->-r requirements.txt (line 5))\n",
      "  Downloading https://files.pythonhosted.org/packages/f4/24/2a3e3df732393fed8b3ebf2ec078f05546de641fe1b667ee316ec1dcf3b7/webencodings-0.5.1-py2.py3-none-any.whl\u001b[0m\n",
      "\u001b[31mBuilding wheels for collected packages: nltk, train\n",
      "  Running setup.py bdist_wheel for nltk: started\u001b[0m\n",
      "\u001b[31m  Running setup.py bdist_wheel for nltk: finished with status 'done'\n",
      "  Stored in directory: /root/.cache/pip/wheels/97/8a/10/d646015f33c525688e91986c4544c68019b19a473cb33d3b55\n",
      "  Running setup.py bdist_wheel for train: started\n",
      "  Running setup.py bdist_wheel for train: finished with status 'done'\n",
      "  Stored in directory: /tmp/pip-ephem-wheel-cache-uka47edx/wheels/35/24/16/37574d11bf9bde50616c67372a334f94fa8356bc7164af8ca3\u001b[0m\n",
      "\u001b[31mSuccessfully built nltk train\u001b[0m\n",
      "\u001b[31mInstalling collected packages: pytz, numpy, pandas, nltk, soupsieve, beautifulsoup4, webencodings, html5lib, train\n",
      "  Found existing installation: numpy 1.15.4\u001b[0m\n",
      "\u001b[31m    Uninstalling numpy-1.15.4:\n",
      "      Successfully uninstalled numpy-1.15.4\u001b[0m\n",
      "\u001b[31mSuccessfully installed beautifulsoup4-4.7.1 html5lib-1.0.1 nltk-3.4.1 numpy-1.16.3 pandas-0.24.2 pytz-2019.1 soupsieve-1.9.1 train-1.0.0 webencodings-0.5.1\u001b[0m\n",
      "\u001b[31mYou are using pip version 18.1, however version 19.1.1 is available.\u001b[0m\n",
      "\u001b[31mYou should consider upgrading via the 'pip install --upgrade pip' command.\u001b[0m\n",
      "\u001b[31m2019-05-12 10:40:57,076 sagemaker-containers INFO     Invoking user script\n",
      "\u001b[0m\n",
      "\u001b[31mTraining Env:\n",
      "\u001b[0m\n",
      "\u001b[31m{\n",
      "    \"job_name\": \"sagemaker-pytorch-2019-05-12-10-37-16-351\",\n",
      "    \"hyperparameters\": {\n",
      "        \"epochs\": 10,\n",
      "        \"hidden_dim\": 200\n",
      "    },\n",
      "    \"resource_config\": {\n",
      "        \"current_host\": \"algo-1\",\n",
      "        \"hosts\": [\n",
      "            \"algo-1\"\n",
      "        ],\n",
      "        \"network_interface_name\": \"ethwe\"\n",
      "    },\n",
      "    \"network_interface_name\": \"ethwe\",\n",
      "    \"framework_module\": \"sagemaker_pytorch_container.training:main\",\n",
      "    \"channel_input_dirs\": {\n",
      "        \"training\": \"/opt/ml/input/data/training\"\n",
      "    },\n",
      "    \"additional_framework_parameters\": {},\n",
      "    \"model_dir\": \"/opt/ml/model\",\n",
      "    \"hosts\": [\n",
      "        \"algo-1\"\n",
      "    ],\n",
      "    \"num_gpus\": 1,\n",
      "    \"input_dir\": \"/opt/ml/input\",\n",
      "    \"output_data_dir\": \"/opt/ml/output/data\",\n",
      "    \"input_data_config\": {\n",
      "        \"training\": {\n",
      "            \"RecordWrapperType\": \"None\",\n",
      "            \"S3DistributionType\": \"FullyReplicated\",\n",
      "            \"TrainingInputMode\": \"File\"\n",
      "        }\n",
      "    },\n",
      "    \"module_dir\": \"s3://sagemaker-eu-central-1-184522327765/sagemaker-pytorch-2019-05-12-10-37-16-351/source/sourcedir.tar.gz\",\n",
      "    \"num_cpus\": 4,\n",
      "    \"output_intermediate_dir\": \"/opt/ml/output/intermediate\",\n",
      "    \"current_host\": \"algo-1\",\n",
      "    \"input_config_dir\": \"/opt/ml/input/config\",\n",
      "    \"module_name\": \"train\",\n",
      "    \"user_entry_point\": \"train.py\",\n",
      "    \"log_level\": 20,\n",
      "    \"output_dir\": \"/opt/ml/output\"\u001b[0m\n",
      "\u001b[31m}\n",
      "\u001b[0m\n",
      "\u001b[31mEnvironment variables:\n",
      "\u001b[0m\n",
      "\u001b[31mSM_NUM_CPUS=4\u001b[0m\n",
      "\u001b[31mSM_USER_ENTRY_POINT=train.py\u001b[0m\n",
      "\u001b[31mSM_FRAMEWORK_MODULE=sagemaker_pytorch_container.training:main\u001b[0m\n",
      "\u001b[31mSM_NETWORK_INTERFACE_NAME=ethwe\u001b[0m\n",
      "\u001b[31mSM_USER_ARGS=[\"--epochs\",\"10\",\"--hidden_dim\",\"200\"]\u001b[0m\n",
      "\u001b[31mSM_HPS={\"epochs\":10,\"hidden_dim\":200}\u001b[0m\n",
      "\u001b[31mSM_FRAMEWORK_PARAMS={}\u001b[0m\n",
      "\u001b[31mSM_HP_HIDDEN_DIM=200\u001b[0m\n",
      "\u001b[31mSM_INPUT_DATA_CONFIG={\"training\":{\"RecordWrapperType\":\"None\",\"S3DistributionType\":\"FullyReplicated\",\"TrainingInputMode\":\"File\"}}\u001b[0m\n",
      "\u001b[31mSM_INPUT_CONFIG_DIR=/opt/ml/input/config\u001b[0m\n",
      "\u001b[31mSM_HOSTS=[\"algo-1\"]\u001b[0m\n",
      "\u001b[31mSM_TRAINING_ENV={\"additional_framework_parameters\":{},\"channel_input_dirs\":{\"training\":\"/opt/ml/input/data/training\"},\"current_host\":\"algo-1\",\"framework_module\":\"sagemaker_pytorch_container.training:main\",\"hosts\":[\"algo-1\"],\"hyperparameters\":{\"epochs\":10,\"hidden_dim\":200},\"input_config_dir\":\"/opt/ml/input/config\",\"input_data_config\":{\"training\":{\"RecordWrapperType\":\"None\",\"S3DistributionType\":\"FullyReplicated\",\"TrainingInputMode\":\"File\"}},\"input_dir\":\"/opt/ml/input\",\"job_name\":\"sagemaker-pytorch-2019-05-12-10-37-16-351\",\"log_level\":20,\"model_dir\":\"/opt/ml/model\",\"module_dir\":\"s3://sagemaker-eu-central-1-184522327765/sagemaker-pytorch-2019-05-12-10-37-16-351/source/sourcedir.tar.gz\",\"module_name\":\"train\",\"network_interface_name\":\"ethwe\",\"num_cpus\":4,\"num_gpus\":1,\"output_data_dir\":\"/opt/ml/output/data\",\"output_dir\":\"/opt/ml/output\",\"output_intermediate_dir\":\"/opt/ml/output/intermediate\",\"resource_config\":{\"current_host\":\"algo-1\",\"hosts\":[\"algo-1\"],\"network_interface_name\":\"ethwe\"},\"user_entry_point\":\"train.py\"}\u001b[0m\n",
      "\u001b[31mSM_INPUT_DIR=/opt/ml/input\u001b[0m\n",
      "\u001b[31mSM_OUTPUT_INTERMEDIATE_DIR=/opt/ml/output/intermediate\u001b[0m\n",
      "\u001b[31mPYTHONPATH=/usr/local/bin:/usr/lib/python35.zip:/usr/lib/python3.5:/usr/lib/python3.5/plat-x86_64-linux-gnu:/usr/lib/python3.5/lib-dynload:/usr/local/lib/python3.5/dist-packages:/usr/lib/python3/dist-packages\u001b[0m\n",
      "\u001b[31mSM_NUM_GPUS=1\u001b[0m\n",
      "\u001b[31mSM_OUTPUT_DATA_DIR=/opt/ml/output/data\u001b[0m\n",
      "\u001b[31mSM_LOG_LEVEL=20\u001b[0m\n",
      "\u001b[31mSM_MODULE_DIR=s3://sagemaker-eu-central-1-184522327765/sagemaker-pytorch-2019-05-12-10-37-16-351/source/sourcedir.tar.gz\u001b[0m\n",
      "\u001b[31mSM_MODEL_DIR=/opt/ml/model\u001b[0m\n",
      "\u001b[31mSM_CHANNEL_TRAINING=/opt/ml/input/data/training\u001b[0m\n",
      "\u001b[31mSM_OUTPUT_DIR=/opt/ml/output\u001b[0m\n",
      "\u001b[31mSM_CHANNELS=[\"training\"]\u001b[0m\n",
      "\u001b[31mSM_RESOURCE_CONFIG={\"current_host\":\"algo-1\",\"hosts\":[\"algo-1\"],\"network_interface_name\":\"ethwe\"}\u001b[0m\n",
      "\u001b[31mSM_MODULE_NAME=train\u001b[0m\n",
      "\u001b[31mSM_CURRENT_HOST=algo-1\u001b[0m\n",
      "\u001b[31mSM_HP_EPOCHS=10\n",
      "\u001b[0m\n",
      "\u001b[31mInvoking script with the following command:\n",
      "\u001b[0m\n",
      "\u001b[31m/usr/bin/python -m train --epochs 10 --hidden_dim 200\n",
      "\n",
      "\u001b[0m\n",
      "\u001b[31mUsing device cuda.\u001b[0m\n",
      "\u001b[31mGet train data loader.\u001b[0m\n"
     ]
    },
    {
     "name": "stdout",
     "output_type": "stream",
     "text": [
      "\u001b[31mModel loaded with embedding_dim 32, hidden_dim 200, vocab_size 5000.\u001b[0m\n",
      "\u001b[31mEpoch: 1, BCELoss: 0.6769552011879123\u001b[0m\n",
      "\u001b[31mEpoch: 2, BCELoss: 0.644473887219721\u001b[0m\n",
      "\u001b[31mEpoch: 3, BCELoss: 0.6032425931521824\u001b[0m\n",
      "\u001b[31mEpoch: 4, BCELoss: 0.524117151693422\u001b[0m\n",
      "\u001b[31mEpoch: 5, BCELoss: 0.4575012727659576\u001b[0m\n",
      "\u001b[31mEpoch: 6, BCELoss: 0.4005473134469013\u001b[0m\n",
      "\u001b[31mEpoch: 7, BCELoss: 0.3794620493236853\u001b[0m\n",
      "\u001b[31mEpoch: 8, BCELoss: 0.3704629516114994\u001b[0m\n",
      "\u001b[31mEpoch: 9, BCELoss: 0.3188185801311415\u001b[0m\n",
      "\u001b[31mEpoch: 10, BCELoss: 0.33606686944864234\u001b[0m\n",
      "\u001b[31m2019-05-12 10:43:54,319 sagemaker-containers INFO     Reporting training SUCCESS\u001b[0m\n",
      "\n",
      "2019-05-12 10:44:04 Uploading - Uploading generated training model\n",
      "2019-05-12 10:44:04 Completed - Training job completed\n",
      "Billable seconds: 274\n"
     ]
    }
   ],
   "source": [
    "estimator.fit({'training': input_data})"
   ]
  },
  {
   "cell_type": "markdown",
   "metadata": {},
   "source": [
    "## Step 5: Testing the model\n",
    "\n",
    "As mentioned at the top of this notebook, we will be testing this model by first deploying it and then sending the testing data to the deployed endpoint. We will do this so that we can make sure that the deployed model is working correctly.\n",
    "\n",
    "## Step 6: Deploy the model for testing\n",
    "\n",
    "Now that we have trained our model, we would like to test it to see how it performs. Currently our model takes input of the form `review_length, review[500]` where `review[500]` is a sequence of `500` integers which describe the words present in the review, encoded using `word_dict`. Fortunately for us, SageMaker provides built-in inference code for models with simple inputs such as this.\n",
    "\n",
    "There is one thing that we need to provide, however, and that is a function which loads the saved model. This function must be called `model_fn()` and takes as its only parameter a path to the directory where the model artifacts are stored. This function must also be present in the python file which we specified as the entry point. In our case the model loading function has been provided and so no changes need to be made.\n",
    "\n",
    "**NOTE**: When the built-in inference code is run it must import the `model_fn()` method from the `train.py` file. This is why the training code is wrapped in a main guard ( ie, `if __name__ == '__main__':` )\n",
    "\n",
    "Since we don't need to change anything in the code that was uploaded during training, we can simply deploy the current model as-is.\n",
    "\n",
    "**NOTE:** When deploying a model you are asking SageMaker to launch an compute instance that will wait for data to be sent to it. As a result, this compute instance will continue to run until *you* shut it down. This is important to know since the cost of a deployed endpoint depends on how long it has been running for.\n",
    "\n",
    "In other words **If you are no longer using a deployed endpoint, shut it down!**\n",
    "\n",
    "**TODO:** Deploy the trained model."
   ]
  },
  {
   "cell_type": "code",
   "execution_count": 30,
   "metadata": {},
   "outputs": [
    {
     "name": "stdout",
     "output_type": "stream",
     "text": [
      "---------------------------------------------------------------------------!"
     ]
    }
   ],
   "source": [
    "# TODO: Deploy the trained model\n",
    "predictor = estimator.deploy(initial_instance_count=1, instance_type='ml.m4.xlarge')"
   ]
  },
  {
   "cell_type": "markdown",
   "metadata": {},
   "source": [
    "## Step 7 - Use the model for testing\n",
    "\n",
    "Once deployed, we can read in the test data and send it off to our deployed model to get some results. Once we collect all of the results we can determine how accurate our model is."
   ]
  },
  {
   "cell_type": "code",
   "execution_count": 31,
   "metadata": {},
   "outputs": [],
   "source": [
    "test_X = pd.concat([pd.DataFrame(test_X_len), pd.DataFrame(test_X)], axis=1)"
   ]
  },
  {
   "cell_type": "code",
   "execution_count": 32,
   "metadata": {},
   "outputs": [],
   "source": [
    "# We split the data into chunks and send each chunk seperately, accumulating the results.\n",
    "\n",
    "def predict(data, rows=512):\n",
    "    split_array = np.array_split(data, int(data.shape[0] / float(rows) + 1))\n",
    "    predictions = np.array([])\n",
    "    for array in split_array:\n",
    "        predictions = np.append(predictions, predictor.predict(array))\n",
    "    \n",
    "    return predictions"
   ]
  },
  {
   "cell_type": "code",
   "execution_count": 33,
   "metadata": {},
   "outputs": [],
   "source": [
    "predictions = predict(test_X.values)\n",
    "predictions = [round(num) for num in predictions]"
   ]
  },
  {
   "cell_type": "code",
   "execution_count": 34,
   "metadata": {},
   "outputs": [
    {
     "data": {
      "text/plain": [
       "0.84832"
      ]
     },
     "execution_count": 34,
     "metadata": {},
     "output_type": "execute_result"
    }
   ],
   "source": [
    "from sklearn.metrics import accuracy_score\n",
    "accuracy_score(test_y, predictions)"
   ]
  },
  {
   "cell_type": "markdown",
   "metadata": {},
   "source": [
    "**Question:** How does this model compare to the XGBoost model you created earlier? Why might these two models perform differently on this dataset? Which do *you* think is better for sentiment analysis?"
   ]
  },
  {
   "cell_type": "markdown",
   "metadata": {},
   "source": [
    "**Answer:**\n",
    "\n",
    "The model outperforms the xgboost model, but not that significant I beleive. In my point of view deploying the xgboost is preferable, because of its level of complexity comparing to recurrent neural networks. "
   ]
  },
  {
   "cell_type": "markdown",
   "metadata": {},
   "source": [
    "### (TODO) More testing\n",
    "\n",
    "We now have a trained model which has been deployed and which we can send processed reviews to and which returns the predicted sentiment. However, ultimately we would like to be able to send our model an unprocessed review. That is, we would like to send the review itself as a string. For example, suppose we wish to send the following review to our model."
   ]
  },
  {
   "cell_type": "code",
   "execution_count": 42,
   "metadata": {},
   "outputs": [],
   "source": [
    "test_review = 'The simplest pleasures in life are the best, and this film is one of them. Combining a rather basic storyline of love and adventure this movie transcends the usual weekend fair with wit and unmitigated charm.'"
   ]
  },
  {
   "cell_type": "markdown",
   "metadata": {},
   "source": [
    "The question we now need to answer is, how do we send this review to our model?\n",
    "\n",
    "Recall in the first section of this notebook we did a bunch of data processing to the IMDb dataset. In particular, we did two specific things to the provided reviews.\n",
    " - Removed any html tags and stemmed the input\n",
    " - Encoded the review as a sequence of integers using `word_dict`\n",
    " \n",
    "In order process the review we will need to repeat these two steps.\n",
    "\n",
    "**TODO**: Using the `review_to_words` and `convert_and_pad` methods from section one, convert `test_review` into a numpy array `test_data` suitable to send to our model. Remember that our model expects input of the form `review_length, review[500]`."
   ]
  },
  {
   "cell_type": "code",
   "execution_count": 43,
   "metadata": {},
   "outputs": [
    {
     "name": "stdout",
     "output_type": "stream",
     "text": [
      "   0    0     1    2    3    4    5    6    7    8   ...   490  491  492  493  \\\n",
      "0   20    1  1373   50   53    3    4  878  173  392 ...     0    0    0    0   \n",
      "\n",
      "   494  495  496  497  498  499  \n",
      "0    0    0    0    0    0    0  \n",
      "\n",
      "[1 rows x 501 columns]\n"
     ]
    }
   ],
   "source": [
    "# TODO: Convert test_review into a form usable by the model and save the results in test_data\n",
    "in_test_words = review_to_words(test_review)\n",
    "test_data_X, test_data_len = convert_and_pad(word_dict, in_test_words)\n",
    "a = pd.DataFrame(test_data_X).transpose()\n",
    "test_data = pd.concat([pd.DataFrame([test_data_len]), a], axis=1)\n",
    "print(test_data)"
   ]
  },
  {
   "cell_type": "markdown",
   "metadata": {},
   "source": [
    "Now that we have processed the review, we can send the resulting array to our model to predict the sentiment of the review."
   ]
  },
  {
   "cell_type": "code",
   "execution_count": 37,
   "metadata": {},
   "outputs": [
    {
     "data": {
      "text/plain": [
       "array(0.88036114, dtype=float32)"
      ]
     },
     "execution_count": 37,
     "metadata": {},
     "output_type": "execute_result"
    }
   ],
   "source": [
    "predictor.predict(test_data.values)"
   ]
  },
  {
   "cell_type": "markdown",
   "metadata": {},
   "source": [
    "Since the return value of our model is close to `1`, we can be certain that the review we submitted is positive."
   ]
  },
  {
   "cell_type": "markdown",
   "metadata": {},
   "source": [
    "### Delete the endpoint\n",
    "\n",
    "Of course, just like in the XGBoost notebook, once we've deployed an endpoint it continues to run until we tell it to shut down. Since we are done using our endpoint for now, we can delete it."
   ]
  },
  {
   "cell_type": "code",
   "execution_count": 38,
   "metadata": {},
   "outputs": [],
   "source": [
    "estimator.delete_endpoint()"
   ]
  },
  {
   "cell_type": "markdown",
   "metadata": {},
   "source": [
    "## Step 6 (again) - Deploy the model for the web app\n",
    "\n",
    "Now that we know that our model is working, it's time to create some custom inference code so that we can send the model a review which has not been processed and have it determine the sentiment of the review.\n",
    "\n",
    "As we saw above, by default the estimator which we created, when deployed, will use the entry script and directory which we provided when creating the model. However, since we now wish to accept a string as input and our model expects a processed review, we need to write some custom inference code.\n",
    "\n",
    "We will store the code that we write in the `serve` directory. Provided in this directory is the `model.py` file that we used to construct our model, a `utils.py` file which contains the `review_to_words` and `convert_and_pad` pre-processing functions which we used during the initial data processing, and `predict.py`, the file which will contain our custom inference code. Note also that `requirements.txt` is present which will tell SageMaker what Python libraries are required by our custom inference code.\n",
    "\n",
    "When deploying a PyTorch model in SageMaker, you are expected to provide four functions which the SageMaker inference container will use.\n",
    " - `model_fn`: This function is the same function that we used in the training script and it tells SageMaker how to load our model.\n",
    " - `input_fn`: This function receives the raw serialized input that has been sent to the model's endpoint and its job is to de-serialize and make the input available for the inference code.\n",
    " - `output_fn`: This function takes the output of the inference code and its job is to serialize this output and return it to the caller of the model's endpoint.\n",
    " - `predict_fn`: The heart of the inference script, this is where the actual prediction is done and is the function which you will need to complete.\n",
    "\n",
    "For the simple website that we are constructing during this project, the `input_fn` and `output_fn` methods are relatively straightforward. We only require being able to accept a string as input and we expect to return a single value as output. You might imagine though that in a more complex application the input or output may be image data or some other binary data which would require some effort to serialize.\n",
    "\n",
    "### (TODO) Writing inference code\n",
    "\n",
    "Before writing our custom inference code, we will begin by taking a look at the code which has been provided."
   ]
  },
  {
   "cell_type": "code",
   "execution_count": 29,
   "metadata": {},
   "outputs": [
    {
     "name": "stdout",
     "output_type": "stream",
     "text": [
      "\u001b[34mimport\u001b[39;49;00m \u001b[04m\u001b[36margparse\u001b[39;49;00m\r\n",
      "\u001b[34mimport\u001b[39;49;00m \u001b[04m\u001b[36mjson\u001b[39;49;00m\r\n",
      "\u001b[34mimport\u001b[39;49;00m \u001b[04m\u001b[36mos\u001b[39;49;00m\r\n",
      "\u001b[34mimport\u001b[39;49;00m \u001b[04m\u001b[36mpickle\u001b[39;49;00m\r\n",
      "\u001b[34mimport\u001b[39;49;00m \u001b[04m\u001b[36msys\u001b[39;49;00m\r\n",
      "\u001b[34mimport\u001b[39;49;00m \u001b[04m\u001b[36msagemaker_containers\u001b[39;49;00m\r\n",
      "\u001b[34mimport\u001b[39;49;00m \u001b[04m\u001b[36mpandas\u001b[39;49;00m \u001b[34mas\u001b[39;49;00m \u001b[04m\u001b[36mpd\u001b[39;49;00m\r\n",
      "\u001b[34mimport\u001b[39;49;00m \u001b[04m\u001b[36mnumpy\u001b[39;49;00m \u001b[34mas\u001b[39;49;00m \u001b[04m\u001b[36mnp\u001b[39;49;00m\r\n",
      "\u001b[34mimport\u001b[39;49;00m \u001b[04m\u001b[36mtorch\u001b[39;49;00m\r\n",
      "\u001b[34mimport\u001b[39;49;00m \u001b[04m\u001b[36mtorch.nn\u001b[39;49;00m \u001b[34mas\u001b[39;49;00m \u001b[04m\u001b[36mnn\u001b[39;49;00m\r\n",
      "\u001b[34mimport\u001b[39;49;00m \u001b[04m\u001b[36mtorch.optim\u001b[39;49;00m \u001b[34mas\u001b[39;49;00m \u001b[04m\u001b[36moptim\u001b[39;49;00m\r\n",
      "\u001b[34mimport\u001b[39;49;00m \u001b[04m\u001b[36mtorch.utils.data\u001b[39;49;00m\r\n",
      "\r\n",
      "\u001b[34mfrom\u001b[39;49;00m \u001b[04m\u001b[36mmodel\u001b[39;49;00m \u001b[34mimport\u001b[39;49;00m LSTMClassifier\r\n",
      "\r\n",
      "\u001b[34mfrom\u001b[39;49;00m \u001b[04m\u001b[36mutils\u001b[39;49;00m \u001b[34mimport\u001b[39;49;00m review_to_words, convert_and_pad, convert_and_pad_data\r\n",
      "\r\n",
      "\u001b[34mdef\u001b[39;49;00m \u001b[32mmodel_fn\u001b[39;49;00m(model_dir):\r\n",
      "    \u001b[33m\"\"\"Load the PyTorch model from the `model_dir` directory.\"\"\"\u001b[39;49;00m\r\n",
      "    \u001b[34mprint\u001b[39;49;00m(\u001b[33m\"\u001b[39;49;00m\u001b[33mLoading model.\u001b[39;49;00m\u001b[33m\"\u001b[39;49;00m)\r\n",
      "\r\n",
      "    \u001b[37m# First, load the parameters used to create the model.\u001b[39;49;00m\r\n",
      "    model_info = {}\r\n",
      "    model_info_path = os.path.join(model_dir, \u001b[33m'\u001b[39;49;00m\u001b[33mmodel_info.pth\u001b[39;49;00m\u001b[33m'\u001b[39;49;00m)\r\n",
      "    \u001b[34mwith\u001b[39;49;00m \u001b[36mopen\u001b[39;49;00m(model_info_path, \u001b[33m'\u001b[39;49;00m\u001b[33mrb\u001b[39;49;00m\u001b[33m'\u001b[39;49;00m) \u001b[34mas\u001b[39;49;00m f:\r\n",
      "        model_info = torch.load(f)\r\n",
      "\r\n",
      "    \u001b[34mprint\u001b[39;49;00m(\u001b[33m\"\u001b[39;49;00m\u001b[33mmodel_info: {}\u001b[39;49;00m\u001b[33m\"\u001b[39;49;00m.format(model_info))\r\n",
      "\r\n",
      "    \u001b[37m# Determine the device and construct the model.\u001b[39;49;00m\r\n",
      "    device = torch.device(\u001b[33m\"\u001b[39;49;00m\u001b[33mcuda\u001b[39;49;00m\u001b[33m\"\u001b[39;49;00m \u001b[34mif\u001b[39;49;00m torch.cuda.is_available() \u001b[34melse\u001b[39;49;00m \u001b[33m\"\u001b[39;49;00m\u001b[33mcpu\u001b[39;49;00m\u001b[33m\"\u001b[39;49;00m)\r\n",
      "    model = LSTMClassifier(model_info[\u001b[33m'\u001b[39;49;00m\u001b[33membedding_dim\u001b[39;49;00m\u001b[33m'\u001b[39;49;00m], model_info[\u001b[33m'\u001b[39;49;00m\u001b[33mhidden_dim\u001b[39;49;00m\u001b[33m'\u001b[39;49;00m], model_info[\u001b[33m'\u001b[39;49;00m\u001b[33mvocab_size\u001b[39;49;00m\u001b[33m'\u001b[39;49;00m])\r\n",
      "\r\n",
      "    \u001b[37m# Load the store model parameters.\u001b[39;49;00m\r\n",
      "    model_path = os.path.join(model_dir, \u001b[33m'\u001b[39;49;00m\u001b[33mmodel.pth\u001b[39;49;00m\u001b[33m'\u001b[39;49;00m)\r\n",
      "    \u001b[34mwith\u001b[39;49;00m \u001b[36mopen\u001b[39;49;00m(model_path, \u001b[33m'\u001b[39;49;00m\u001b[33mrb\u001b[39;49;00m\u001b[33m'\u001b[39;49;00m) \u001b[34mas\u001b[39;49;00m f:\r\n",
      "        model.load_state_dict(torch.load(f))\r\n",
      "\r\n",
      "    \u001b[37m# Load the saved word_dict.\u001b[39;49;00m\r\n",
      "    word_dict_path = os.path.join(model_dir, \u001b[33m'\u001b[39;49;00m\u001b[33mword_dict.pkl\u001b[39;49;00m\u001b[33m'\u001b[39;49;00m)\r\n",
      "    \u001b[34mwith\u001b[39;49;00m \u001b[36mopen\u001b[39;49;00m(word_dict_path, \u001b[33m'\u001b[39;49;00m\u001b[33mrb\u001b[39;49;00m\u001b[33m'\u001b[39;49;00m) \u001b[34mas\u001b[39;49;00m f:\r\n",
      "        model.word_dict = pickle.load(f)\r\n",
      "\r\n",
      "    model.to(device).eval()\r\n",
      "\r\n",
      "    \u001b[34mprint\u001b[39;49;00m(\u001b[33m\"\u001b[39;49;00m\u001b[33mDone loading model.\u001b[39;49;00m\u001b[33m\"\u001b[39;49;00m)\r\n",
      "    \u001b[34mreturn\u001b[39;49;00m model\r\n",
      "\r\n",
      "\u001b[34mdef\u001b[39;49;00m \u001b[32minput_fn\u001b[39;49;00m(serialized_input_data, content_type):\r\n",
      "    \u001b[34mprint\u001b[39;49;00m(\u001b[33m'\u001b[39;49;00m\u001b[33mDeserializing the input data.\u001b[39;49;00m\u001b[33m'\u001b[39;49;00m)\r\n",
      "    \u001b[34mif\u001b[39;49;00m content_type == \u001b[33m'\u001b[39;49;00m\u001b[33mtext/plain\u001b[39;49;00m\u001b[33m'\u001b[39;49;00m:\r\n",
      "        data = serialized_input_data.decode(\u001b[33m'\u001b[39;49;00m\u001b[33mutf-8\u001b[39;49;00m\u001b[33m'\u001b[39;49;00m)\r\n",
      "        \u001b[34mreturn\u001b[39;49;00m data\r\n",
      "    \u001b[34mraise\u001b[39;49;00m \u001b[36mException\u001b[39;49;00m(\u001b[33m'\u001b[39;49;00m\u001b[33mRequested unsupported ContentType in content_type: \u001b[39;49;00m\u001b[33m'\u001b[39;49;00m + content_type)\r\n",
      "\r\n",
      "\u001b[34mdef\u001b[39;49;00m \u001b[32moutput_fn\u001b[39;49;00m(prediction_output, accept):\r\n",
      "    \u001b[34mprint\u001b[39;49;00m(\u001b[33m'\u001b[39;49;00m\u001b[33mSerializing the generated output.\u001b[39;49;00m\u001b[33m'\u001b[39;49;00m)\r\n",
      "    \u001b[34mreturn\u001b[39;49;00m \u001b[36mstr\u001b[39;49;00m(prediction_output)\r\n",
      "\r\n",
      "\u001b[34mdef\u001b[39;49;00m \u001b[32mpredict_fn\u001b[39;49;00m(input_data, model):\r\n",
      "    \u001b[34mprint\u001b[39;49;00m(\u001b[33m'\u001b[39;49;00m\u001b[33mInferring sentiment of input data.\u001b[39;49;00m\u001b[33m'\u001b[39;49;00m)\r\n",
      "\r\n",
      "    device = torch.device(\u001b[33m\"\u001b[39;49;00m\u001b[33mcuda\u001b[39;49;00m\u001b[33m\"\u001b[39;49;00m \u001b[34mif\u001b[39;49;00m torch.cuda.is_available() \u001b[34melse\u001b[39;49;00m \u001b[33m\"\u001b[39;49;00m\u001b[33mcpu\u001b[39;49;00m\u001b[33m\"\u001b[39;49;00m)\r\n",
      "    \r\n",
      "    \u001b[34mif\u001b[39;49;00m model.word_dict \u001b[35mis\u001b[39;49;00m \u001b[36mNone\u001b[39;49;00m:\r\n",
      "        \u001b[34mraise\u001b[39;49;00m \u001b[36mException\u001b[39;49;00m(\u001b[33m'\u001b[39;49;00m\u001b[33mModel has not been loaded properly, no word_dict.\u001b[39;49;00m\u001b[33m'\u001b[39;49;00m)\r\n",
      "    \r\n",
      "    \u001b[37m# TODO: Process input_data so that it is ready to be sent to our model.\u001b[39;49;00m\r\n",
      "    \u001b[37m#       You should produce two variables:\u001b[39;49;00m\r\n",
      "    \u001b[37m#         data_X   - A sequence of length 500 which represents the converted review\u001b[39;49;00m\r\n",
      "    \u001b[37m#         data_len - The length of the review\u001b[39;49;00m\r\n",
      "    \r\n",
      "\r\n",
      "    \u001b[37m#     data_X = None\u001b[39;49;00m\r\n",
      "    \u001b[37m#     data_len = None\u001b[39;49;00m\r\n",
      "    input_words = review_to_words(input_data)\r\n",
      "    data_X, data_len = convert_and_pad_data(word_dict, input_words)\r\n",
      "    \u001b[34mprint\u001b[39;49;00m(\u001b[33m\"\u001b[39;49;00m\u001b[33mThe length of the input data is: \u001b[39;49;00m\u001b[33m\"\u001b[39;49;00m+\u001b[36mstr\u001b[39;49;00m(data_len))\r\n",
      "    \r\n",
      "    \u001b[37m# Using data_X and data_len we construct an appropriate input tensor. Remember\u001b[39;49;00m\r\n",
      "    \u001b[37m# that our model expects input data of the form 'len, review[500]'.\u001b[39;49;00m\r\n",
      "    data_pack = np.hstack((data_len, data_X))\r\n",
      "    data_pack = data_pack.reshape(\u001b[34m1\u001b[39;49;00m, -\u001b[34m1\u001b[39;49;00m)\r\n",
      "    \r\n",
      "    data = torch.from_numpy(data_pack)\r\n",
      "    data = data.to(device)\r\n",
      "\r\n",
      "    \u001b[37m# Make sure to put the model into evaluation mode\u001b[39;49;00m\r\n",
      "    model.eval()\r\n",
      "\r\n",
      "    \u001b[37m# TODO: Compute the result of applying the model to the input data. The variable `result` should\u001b[39;49;00m\r\n",
      "    \u001b[37m#       be a numpy array which contains a single integer which is either 1 or 0\u001b[39;49;00m\r\n",
      "\r\n",
      "    \u001b[37m#     result = None\u001b[39;49;00m\r\n",
      "    \u001b[34mwith\u001b[39;49;00m torch.no_grad():\r\n",
      "        output = model.forward(data)\r\n",
      "\r\n",
      "    result = np.round(output.numpy())\r\n",
      "\r\n",
      "    \u001b[34mreturn\u001b[39;49;00m result\r\n"
     ]
    }
   ],
   "source": [
    "!pygmentize serve/predict.py"
   ]
  },
  {
   "cell_type": "markdown",
   "metadata": {},
   "source": [
    "As mentioned earlier, the `model_fn` method is the same as the one provided in the training code and the `input_fn` and `output_fn` methods are very simple and your task will be to complete the `predict_fn` method. Make sure that you save the completed file as `predict.py` in the `serve` directory.\n",
    "\n",
    "**TODO**: Complete the `predict_fn()` method in the `serve/predict.py` file."
   ]
  },
  {
   "cell_type": "markdown",
   "metadata": {},
   "source": [
    "### Deploying the model\n",
    "\n",
    "Now that the custom inference code has been written, we will create and deploy our model. To begin with, we need to construct a new PyTorchModel object which points to the model artifacts created during training and also points to the inference code that we wish to use. Then we can call the deploy method to launch the deployment container.\n",
    "\n",
    "**NOTE**: The default behaviour for a deployed PyTorch model is to assume that any input passed to the predictor is a `numpy` array. In our case we want to send a string so we need to construct a simple wrapper around the `RealTimePredictor` class to accomodate simple strings. In a more complicated situation you may want to provide a serialization object, for example if you wanted to sent image data."
   ]
  },
  {
   "cell_type": "code",
   "execution_count": 47,
   "metadata": {},
   "outputs": [
    {
     "name": "stdout",
     "output_type": "stream",
     "text": [
      "---------------------------------------------------------------------------!"
     ]
    }
   ],
   "source": [
    "from sagemaker.predictor import RealTimePredictor\n",
    "from sagemaker.pytorch import PyTorchModel\n",
    "\n",
    "class StringPredictor(RealTimePredictor):\n",
    "    def __init__(self, endpoint_name, sagemaker_session):\n",
    "        super(StringPredictor, self).__init__(endpoint_name, sagemaker_session, content_type='text/plain')\n",
    "\n",
    "model = PyTorchModel(model_data=estimator.model_data,\n",
    "                     role = role,\n",
    "                     framework_version='0.4.0',\n",
    "                     entry_point='predict.py',\n",
    "                     source_dir='serve',\n",
    "                     predictor_cls=StringPredictor)\n",
    "predictor = model.deploy(initial_instance_count=1, instance_type='ml.m4.xlarge')"
   ]
  },
  {
   "cell_type": "markdown",
   "metadata": {},
   "source": [
    "### Testing the model\n",
    "\n",
    "Now that we have deployed our model with the custom inference code, we should test to see if everything is working. Here we test our model by loading the first `250` positive and negative reviews and send them to the endpoint, then collect the results. The reason for only sending some of the data is that the amount of time it takes for our model to process the input and then perform inference is quite long and so testing the entire data set would be prohibitive."
   ]
  },
  {
   "cell_type": "code",
   "execution_count": 39,
   "metadata": {},
   "outputs": [],
   "source": [
    "import glob\n",
    "\n",
    "def test_reviews(data_dir='../data/aclImdb', stop=250):\n",
    "    \n",
    "    results = []\n",
    "    ground = []\n",
    "    \n",
    "    # We make sure to test both positive and negative reviews    \n",
    "    for sentiment in ['pos', 'neg']:\n",
    "        \n",
    "        path = os.path.join(data_dir, 'test', sentiment, '*.txt')\n",
    "        files = glob.glob(path)\n",
    "        \n",
    "        files_read = 0\n",
    "        \n",
    "        print('Starting ', sentiment, ' files')\n",
    "        \n",
    "        # Iterate through the files and send them to the predictor\n",
    "        for f in files:\n",
    "            with open(f) as review:\n",
    "                # First, we store the ground truth (was the review positive or negative)\n",
    "                if sentiment == 'pos':\n",
    "                    ground.append(1)\n",
    "                else:\n",
    "                    ground.append(0)\n",
    "                # Read in the review and convert to 'utf-8' for transmission via HTTP\n",
    "                review_input = review.read().encode('utf-8')\n",
    "                # Send the review to the predictor and store the results\n",
    "                results.append(float(predictor.predict(review_input)))\n",
    "                \n",
    "            # Sending reviews to our endpoint one at a time takes a while so we\n",
    "            # only send a small number of reviews\n",
    "            files_read += 1\n",
    "            if files_read == stop:\n",
    "                break\n",
    "            \n",
    "    return ground, results"
   ]
  },
  {
   "cell_type": "code",
   "execution_count": 40,
   "metadata": {},
   "outputs": [
    {
     "name": "stdout",
     "output_type": "stream",
     "text": [
      "Starting  pos  files\n",
      "Starting  neg  files\n"
     ]
    }
   ],
   "source": [
    "ground, results = test_reviews()"
   ]
  },
  {
   "cell_type": "code",
   "execution_count": 41,
   "metadata": {},
   "outputs": [
    {
     "data": {
      "text/plain": [
       "0.834"
      ]
     },
     "execution_count": 41,
     "metadata": {},
     "output_type": "execute_result"
    }
   ],
   "source": [
    "from sklearn.metrics import accuracy_score\n",
    "accuracy_score(ground, results)"
   ]
  },
  {
   "cell_type": "markdown",
   "metadata": {},
   "source": [
    "As an additional test, we can try sending the `test_review` that we looked at earlier."
   ]
  },
  {
   "cell_type": "code",
   "execution_count": 44,
   "metadata": {},
   "outputs": [
    {
     "data": {
      "text/plain": [
       "b'1.0'"
      ]
     },
     "execution_count": 44,
     "metadata": {},
     "output_type": "execute_result"
    }
   ],
   "source": [
    "predictor.predict(test_review)"
   ]
  },
  {
   "cell_type": "markdown",
   "metadata": {},
   "source": [
    "Now that we know our endpoint is working as expected, we can set up the web page that will interact with it. If you don't have time to finish the project now, make sure to skip down to the end of this notebook and shut down your endpoint. You can deploy it again when you come back."
   ]
  },
  {
   "cell_type": "markdown",
   "metadata": {},
   "source": [
    "## Step 7 (again): Use the model for the web app\n",
    "\n",
    "> **TODO:** This entire section and the next contain tasks for you to complete, mostly using the AWS console.\n",
    "\n",
    "So far we have been accessing our model endpoint by constructing a predictor object which uses the endpoint and then just using the predictor object to perform inference. What if we wanted to create a web app which accessed our model? The way things are set up currently makes that not possible since in order to access a SageMaker endpoint the app would first have to authenticate with AWS using an IAM role which included access to SageMaker endpoints. However, there is an easier way! We just need to use some additional AWS services.\n",
    "\n",
    "<img src=\"Web App Diagram.svg\">\n",
    "\n",
    "The diagram above gives an overview of how the various services will work together. On the far right is the model which we trained above and which is deployed using SageMaker. On the far left is our web app that collects a user's movie review, sends it off and expects a positive or negative sentiment in return.\n",
    "\n",
    "In the middle is where some of the magic happens. We will construct a Lambda function, which you can think of as a straightforward Python function that can be executed whenever a specified event occurs. We will give this function permission to send and recieve data from a SageMaker endpoint.\n",
    "\n",
    "Lastly, the method we will use to execute the Lambda function is a new endpoint that we will create using API Gateway. This endpoint will be a url that listens for data to be sent to it. Once it gets some data it will pass that data on to the Lambda function and then return whatever the Lambda function returns. Essentially it will act as an interface that lets our web app communicate with the Lambda function.\n",
    "\n",
    "### Setting up a Lambda function\n",
    "\n",
    "The first thing we are going to do is set up a Lambda function. This Lambda function will be executed whenever our public API has data sent to it. When it is executed it will receive the data, perform any sort of processing that is required, send the data (the review) to the SageMaker endpoint we've created and then return the result.\n",
    "\n",
    "#### Part A: Create an IAM Role for the Lambda function\n",
    "\n",
    "Since we want the Lambda function to call a SageMaker endpoint, we need to make sure that it has permission to do so. To do this, we will construct a role that we can later give the Lambda function.\n",
    "\n",
    "Using the AWS Console, navigate to the **IAM** page and click on **Roles**. Then, click on **Create role**. Make sure that the **AWS service** is the type of trusted entity selected and choose **Lambda** as the service that will use this role, then click **Next: Permissions**.\n",
    "\n",
    "In the search box type `sagemaker` and select the check box next to the **AmazonSageMakerFullAccess** policy. Then, click on **Next: Review**.\n",
    "\n",
    "Lastly, give this role a name. Make sure you use a name that you will remember later on, for example `LambdaSageMakerRole`. Then, click on **Create role**.\n",
    "\n",
    "#### Part B: Create a Lambda function\n",
    "\n",
    "Now it is time to actually create the Lambda function.\n",
    "\n",
    "Using the AWS Console, navigate to the AWS Lambda page and click on **Create a function**. When you get to the next page, make sure that **Author from scratch** is selected. Now, name your Lambda function, using a name that you will remember later on, for example `sentiment_analysis_func`. Make sure that the **Python 3.6** runtime is selected and then choose the role that you created in the previous part. Then, click on **Create Function**.\n",
    "\n",
    "On the next page you will see some information about the Lambda function you've just created. If you scroll down you should see an editor in which you can write the code that will be executed when your Lambda function is triggered. In our example, we will use the code below. \n",
    "\n",
    "```python\n",
    "# We need to use the low-level library to interact with SageMaker since the SageMaker API\n",
    "# is not available natively through Lambda.\n",
    "import boto3\n",
    "\n",
    "def lambda_handler(event, context):\n",
    "\n",
    "    # The SageMaker runtime is what allows us to invoke the endpoint that we've created.\n",
    "    runtime = boto3.Session().client('sagemaker-runtime')\n",
    "\n",
    "    # Now we use the SageMaker runtime to invoke our endpoint, sending the review we were given\n",
    "    response = runtime.invoke_endpoint(EndpointName = '**ENDPOINT NAME HERE**',    # The name of the endpoint we created\n",
    "                                       ContentType = 'text/plain',                 # The data format that is expected\n",
    "                                       Body = event['body'])                       # The actual review\n",
    "\n",
    "    # The response is an HTTP response whose body contains the result of our inference\n",
    "    result = response['Body'].read().decode('utf-8')\n",
    "\n",
    "    return {\n",
    "        'statusCode' : 200,\n",
    "        'headers' : { 'Content-Type' : 'text/plain', 'Access-Control-Allow-Origin' : '*' },\n",
    "        'body' : result\n",
    "    }\n",
    "```\n",
    "\n",
    "Once you have copy and pasted the code above into the Lambda code editor, replace the `**ENDPOINT NAME HERE**` portion with the name of the endpoint that we deployed earlier. You can determine the name of the endpoint using the code cell below."
   ]
  },
  {
   "cell_type": "code",
   "execution_count": 48,
   "metadata": {},
   "outputs": [
    {
     "data": {
      "text/plain": [
       "'sagemaker-pytorch-2019-05-12-13-03-10-084'"
      ]
     },
     "execution_count": 48,
     "metadata": {},
     "output_type": "execute_result"
    }
   ],
   "source": [
    "predictor.endpoint"
   ]
  },
  {
   "cell_type": "markdown",
   "metadata": {},
   "source": [
    "Once you have added the endpoint name to the Lambda function, click on **Save**. Your Lambda function is now up and running. Next we need to create a way for our web app to execute the Lambda function.\n",
    "\n",
    "### Setting up API Gateway\n",
    "\n",
    "Now that our Lambda function is set up, it is time to create a new API using API Gateway that will trigger the Lambda function we have just created.\n",
    "\n",
    "Using AWS Console, navigate to **Amazon API Gateway** and then click on **Get started**.\n",
    "\n",
    "On the next page, make sure that **New API** is selected and give the new api a name, for example, `sentiment_analysis_api`. Then, click on **Create API**.\n",
    "\n",
    "Now we have created an API, however it doesn't currently do anything. What we want it to do is to trigger the Lambda function that we created earlier.\n",
    "\n",
    "Select the **Actions** dropdown menu and click **Create Method**. A new blank method will be created, select its dropdown menu and select **POST**, then click on the check mark beside it.\n",
    "\n",
    "For the integration point, make sure that **Lambda Function** is selected and click on the **Use Lambda Proxy integration**. This option makes sure that the data that is sent to the API is then sent directly to the Lambda function with no processing. It also means that the return value must be a proper response object as it will also not be processed by API Gateway.\n",
    "\n",
    "Type the name of the Lambda function you created earlier into the **Lambda Function** text entry box and then click on **Save**. Click on **OK** in the pop-up box that then appears, giving permission to API Gateway to invoke the Lambda function you created.\n",
    "\n",
    "The last step in creating the API Gateway is to select the **Actions** dropdown and click on **Deploy API**. You will need to create a new Deployment stage and name it anything you like, for example `prod`.\n",
    "\n",
    "You have now successfully set up a public API to access your SageMaker model. Make sure to copy or write down the URL provided to invoke your newly created public API as this will be needed in the next step. This URL can be found at the top of the page, highlighted in blue next to the text **Invoke URL**."
   ]
  },
  {
   "cell_type": "markdown",
   "metadata": {},
   "source": [
    "## Step 4: Deploying our web app\n",
    "\n",
    "Now that we have a publicly available API, we can start using it in a web app. For our purposes, we have provided a simple static html file which can make use of the public api you created earlier.\n",
    "\n",
    "In the `website` folder there should be a file called `index.html`. Download the file to your computer and open that file up in a text editor of your choice. There should be a line which contains **\\*\\*REPLACE WITH PUBLIC API URL\\*\\***. Replace this string with the url that you wrote down in the last step and then save the file.\n",
    "\n",
    "Now, if you open `index.html` on your local computer, your browser will behave as a local web server and you can use the provided site to interact with your SageMaker model.\n",
    "\n",
    "If you'd like to go further, you can host this html file anywhere you'd like, for example using github or hosting a static site on Amazon's S3. Once you have done this you can share the link with anyone you'd like and have them play with it too!\n",
    "\n",
    "> **Important Note** In order for the web app to communicate with the SageMaker endpoint, the endpoint has to actually be deployed and running. This means that you are paying for it. Make sure that the endpoint is running when you want to use the web app but that you shut it down when you don't need it, otherwise you will end up with a surprisingly large AWS bill.\n",
    "\n",
    "**TODO:** Make sure that you include the edited `index.html` file in your project submission."
   ]
  },
  {
   "cell_type": "markdown",
   "metadata": {},
   "source": [
    "Now that your web app is working, trying playing around with it and see how well it works.\n",
    "\n",
    "**Question**: Give an example of a review that you entered into your web app. What was the predicted sentiment of your example review?"
   ]
  },
  {
   "cell_type": "markdown",
   "metadata": {},
   "source": [
    "**Answer:**\n",
    "\n",
    "The input review was: \"This did not fill out the expectation\"\n",
    "\n",
    "and the result was: \"Your review was NEGATIVE!\""
   ]
  },
  {
   "cell_type": "markdown",
   "metadata": {},
   "source": [
    "### Delete the endpoint\n",
    "\n",
    "Remember to always shut down your endpoint if you are no longer using it. You are charged for the length of time that the endpoint is running so if you forget and leave it on you could end up with an unexpectedly large bill."
   ]
  },
  {
   "cell_type": "code",
   "execution_count": 49,
   "metadata": {},
   "outputs": [],
   "source": [
    "predictor.delete_endpoint()"
   ]
  }
 ],
 "metadata": {
  "kernelspec": {
   "display_name": "Python 3",
   "language": "python",
   "name": "python3"
  },
  "language_info": {
   "codemirror_mode": {
    "name": "ipython",
    "version": 3
   },
   "file_extension": ".py",
   "mimetype": "text/x-python",
   "name": "python",
   "nbconvert_exporter": "python",
   "pygments_lexer": "ipython3",
   "version": "3.7.0"
  }
 },
 "nbformat": 4,
 "nbformat_minor": 2
}
